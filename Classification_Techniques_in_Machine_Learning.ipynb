{
  "nbformat": 4,
  "nbformat_minor": 0,
  "metadata": {
    "colab": {
      "name": "Classification Techniques in Machine Learning ",
      "provenance": [],
      "authorship_tag": "ABX9TyOSNdumKMmWSZtv4/6jVrND"
    },
    "kernelspec": {
      "name": "python3",
      "display_name": "Python 3"
    }
  },
  "cells": [
    {
      "cell_type": "markdown",
      "metadata": {
        "id": "3nPhsZ2tady6",
        "colab_type": "text"
      },
      "source": [
        "This chapter introduces classification problems, classification using linear and logistic regression, K-nearest neighbors, and decision trees. You will also be briefly introduced to artificial neural networks as a type of classification technique."
      ]
    },
    {
      "cell_type": "markdown",
      "metadata": {
        "id": "J-P6SODUa-JC",
        "colab_type": "text"
      },
      "source": [
        "**Ordinary Least Squares as a Classifier**"
      ]
    },
    {
      "cell_type": "markdown",
      "metadata": {
        "id": "8l6MuJlObAel",
        "colab_type": "text"
      },
      "source": [
        "1.**OLS** particularly useful in understanding the process of classification.\n",
        "2. OLS-based classifier is a non-probabilistic, linear binary classifier. \n",
        "3. It is a linear classifier as it has a linear relationship with respect to its parameters/coefficient.\n",
        "4. Model may have a linear or non-linear decision boundary.linear models include OLS, SVM, and logistic regression,non-linear models include KNN, random forest, decision tree, and ANN.the decision boundary is defined as the hyperplane separating the data."
      ]
    },
    {
      "cell_type": "code",
      "metadata": {
        "id": "PHeettuEaSrj",
        "colab_type": "code",
        "colab": {}
      },
      "source": [
        "import matplotlib.pyplot as plt\n",
        "import matplotlib.lines as mlines\n",
        "import pandas as pd\n",
        "import numpy as np\n",
        "from sklearn.linear_model import LinearRegression\n",
        "from sklearn.model_selection import train_test_split"
      ],
      "execution_count": 0,
      "outputs": []
    },
    {
      "cell_type": "code",
      "metadata": {
        "id": "3U8pf-NseWB_",
        "colab_type": "code",
        "colab": {}
      },
      "source": [
        "filepath = 'https://raw.githubusercontent.com/nileshgode/The-Supervised-Learning-Workshop/master/Chapter05/Datasets/linear_classifier.csv'"
      ],
      "execution_count": 0,
      "outputs": []
    },
    {
      "cell_type": "code",
      "metadata": {
        "id": "ssP0o6n7ed_7",
        "colab_type": "code",
        "colab": {
          "base_uri": "https://localhost:8080/",
          "height": 197
        },
        "outputId": "3f1f13c6-2e94-4983-9362-21974af17e89"
      },
      "source": [
        "df = pd.read_csv(filepath,sep= \",\")\n",
        "df.head()"
      ],
      "execution_count": 45,
      "outputs": [
        {
          "output_type": "execute_result",
          "data": {
            "text/html": [
              "<div>\n",
              "<style scoped>\n",
              "    .dataframe tbody tr th:only-of-type {\n",
              "        vertical-align: middle;\n",
              "    }\n",
              "\n",
              "    .dataframe tbody tr th {\n",
              "        vertical-align: top;\n",
              "    }\n",
              "\n",
              "    .dataframe thead th {\n",
              "        text-align: right;\n",
              "    }\n",
              "</style>\n",
              "<table border=\"1\" class=\"dataframe\">\n",
              "  <thead>\n",
              "    <tr style=\"text-align: right;\">\n",
              "      <th></th>\n",
              "      <th>x</th>\n",
              "      <th>y</th>\n",
              "      <th>labels</th>\n",
              "    </tr>\n",
              "  </thead>\n",
              "  <tbody>\n",
              "    <tr>\n",
              "      <th>0</th>\n",
              "      <td>1</td>\n",
              "      <td>13</td>\n",
              "      <td>x</td>\n",
              "    </tr>\n",
              "    <tr>\n",
              "      <th>1</th>\n",
              "      <td>8</td>\n",
              "      <td>18</td>\n",
              "      <td>o</td>\n",
              "    </tr>\n",
              "    <tr>\n",
              "      <th>2</th>\n",
              "      <td>9</td>\n",
              "      <td>25</td>\n",
              "      <td>x</td>\n",
              "    </tr>\n",
              "    <tr>\n",
              "      <th>3</th>\n",
              "      <td>5</td>\n",
              "      <td>25</td>\n",
              "      <td>x</td>\n",
              "    </tr>\n",
              "    <tr>\n",
              "      <th>4</th>\n",
              "      <td>4</td>\n",
              "      <td>17</td>\n",
              "      <td>x</td>\n",
              "    </tr>\n",
              "  </tbody>\n",
              "</table>\n",
              "</div>"
            ],
            "text/plain": [
              "   x   y labels\n",
              "0  1  13      x\n",
              "1  8  18      o\n",
              "2  9  25      x\n",
              "3  5  25      x\n",
              "4  4  17      x"
            ]
          },
          "metadata": {
            "tags": []
          },
          "execution_count": 45
        }
      ]
    },
    {
      "cell_type": "code",
      "metadata": {
        "id": "XHz-tRWYev7o",
        "colab_type": "code",
        "colab": {
          "base_uri": "https://localhost:8080/",
          "height": 444
        },
        "outputId": "6b2f1a48-08dc-409f-85d3-3d40471c586a"
      },
      "source": [
        "plt.figure(figsize=(10, 7))\n",
        "for label, label_class in df.groupby('labels'):\n",
        "    plt.scatter(label_class.values[:,0], label_class.values[:,1],\n",
        "                label=f'Class {label}', marker=label, c='k')\n",
        "plt.legend()\n",
        "plt.title(\"Linear Classifier\");"
      ],
      "execution_count": 47,
      "outputs": [
        {
          "output_type": "display_data",
          "data": {
            "image/png": "[encoded data removed]",
            "text/plain": [
              "<Figure size 720x504 with 1 Axes>"
            ]
          },
          "metadata": {
            "tags": [],
            "needs_background": "light"
          }
        }
      ]
    },
    {
      "cell_type": "code",
      "metadata": {
        "id": "ta2nVsZ7hLcs",
        "colab_type": "code",
        "colab": {}
      },
      "source": [
        "df_train, df_test = train_test_split(df.copy(), test_size=0.3, random_state=12)"
      ],
      "execution_count": 0,
      "outputs": []
    },
    {
      "cell_type": "code",
      "metadata": {
        "id": "A-4uqT4mhgXp",
        "colab_type": "code",
        "colab": {
          "base_uri": "https://localhost:8080/",
          "height": 34
        },
        "outputId": "d7b07828-2ef9-4e95-a85b-3af995192441"
      },
      "source": [
        "# Fit a linear regression model\n",
        "model = LinearRegression()\n",
        "model.fit(df_train.x.values.reshape((-1, 1)), df_train.y.values.reshape((-1, 1)))\n",
        "# Print out the parameters\n",
        "print(f'y = {model.coef_[0][0]}x + {model.intercept_[0]}')"
      ],
      "execution_count": 48,
      "outputs": [
        {
          "output_type": "stream",
          "text": [
            "y = 1.5221402214022144x + 6.504920049200491\n"
          ],
          "name": "stdout"
        }
      ]
    },
    {
      "cell_type": "code",
      "metadata": {
        "id": "EU5z-vDiiQTs",
        "colab_type": "code",
        "colab": {
          "base_uri": "https://localhost:8080/",
          "height": 444
        },
        "outputId": "16ada870-470b-46c0-e452-2825f9db2013"
      },
      "source": [
        "# Plot the trendline\n",
        "trend = model.predict(np.linspace(0, 10).reshape((-1, 1)))\n",
        "plt.figure(figsize=(10, 7))\n",
        "for label, label_class in df_test.groupby('labels'):\n",
        "    plt.scatter(label_class.values[:,0], label_class.values[:,1],\n",
        "                label=f'Class {label}', marker=label, c='k')\n",
        "plt.plot(np.linspace(0, 10), trend, c='k', label='Trendline')\n",
        "plt.legend()\n",
        "plt.title(\"Linear Classifier\");"
      ],
      "execution_count": 49,
      "outputs": [
        {
          "output_type": "display_data",
          "data": {
            "image/png": "[encoded data removed]",
            "text/plain": [
              "<Figure size 720x504 with 1 Axes>"
            ]
          },
          "metadata": {
            "tags": [],
            "needs_background": "light"
          }
        }
      ]
    },
    {
      "cell_type": "code",
      "metadata": {
        "id": "umWfGo_MilVu",
        "colab_type": "code",
        "colab": {
          "base_uri": "https://localhost:8080/",
          "height": 197
        },
        "outputId": "3f9fb462-7dc0-44b7-a32a-14b60c4f513e"
      },
      "source": [
        "# Make predictions\n",
        "y_pred = model.predict(df_test.x.values.reshape((-1, 1)))\n",
        "pred_labels = []\n",
        "for _y, _y_pred in zip(df_test.y, y_pred):\n",
        "    if _y < _y_pred:\n",
        "        pred_labels.append('o')\n",
        "    else:\n",
        "        pred_labels.append('x')\n",
        "df_test['Pred Labels'] = pred_labels\n",
        "df_test.head()"
      ],
      "execution_count": 50,
      "outputs": [
        {
          "output_type": "execute_result",
          "data": {
            "text/html": [
              "<div>\n",
              "<style scoped>\n",
              "    .dataframe tbody tr th:only-of-type {\n",
              "        vertical-align: middle;\n",
              "    }\n",
              "\n",
              "    .dataframe tbody tr th {\n",
              "        vertical-align: top;\n",
              "    }\n",
              "\n",
              "    .dataframe thead th {\n",
              "        text-align: right;\n",
              "    }\n",
              "</style>\n",
              "<table border=\"1\" class=\"dataframe\">\n",
              "  <thead>\n",
              "    <tr style=\"text-align: right;\">\n",
              "      <th></th>\n",
              "      <th>x</th>\n",
              "      <th>y</th>\n",
              "      <th>labels</th>\n",
              "      <th>Pred Labels</th>\n",
              "    </tr>\n",
              "  </thead>\n",
              "  <tbody>\n",
              "    <tr>\n",
              "      <th>7</th>\n",
              "      <td>4</td>\n",
              "      <td>8</td>\n",
              "      <td>o</td>\n",
              "      <td>o</td>\n",
              "    </tr>\n",
              "    <tr>\n",
              "      <th>10</th>\n",
              "      <td>5</td>\n",
              "      <td>17</td>\n",
              "      <td>x</td>\n",
              "      <td>x</td>\n",
              "    </tr>\n",
              "    <tr>\n",
              "      <th>21</th>\n",
              "      <td>3</td>\n",
              "      <td>8</td>\n",
              "      <td>x</td>\n",
              "      <td>o</td>\n",
              "    </tr>\n",
              "    <tr>\n",
              "      <th>15</th>\n",
              "      <td>1</td>\n",
              "      <td>5</td>\n",
              "      <td>x</td>\n",
              "      <td>o</td>\n",
              "    </tr>\n",
              "    <tr>\n",
              "      <th>14</th>\n",
              "      <td>9</td>\n",
              "      <td>14</td>\n",
              "      <td>o</td>\n",
              "      <td>o</td>\n",
              "    </tr>\n",
              "  </tbody>\n",
              "</table>\n",
              "</div>"
            ],
            "text/plain": [
              "    x   y labels Pred Labels\n",
              "7   4   8      o           o\n",
              "10  5  17      x           x\n",
              "21  3   8      x           o\n",
              "15  1   5      x           o\n",
              "14  9  14      o           o"
            ]
          },
          "metadata": {
            "tags": []
          },
          "execution_count": 50
        }
      ]
    },
    {
      "cell_type": "markdown",
      "metadata": {
        "id": "s03LTDdzjcGK",
        "colab_type": "text"
      },
      "source": [
        "Plot the points with the corresponding ground truth labels. For those points where the labels were correctly predicted, plot the corresponding class. For those incorrect predictions"
      ]
    },
    {
      "cell_type": "code",
      "metadata": {
        "id": "RpDy_-5di9JG",
        "colab_type": "code",
        "colab": {
          "base_uri": "https://localhost:8080/",
          "height": 444
        },
        "outputId": "0cf723bf-0231-43ac-fefc-9878a1458e13"
      },
      "source": [
        "plt.figure(figsize=(10, 7))\n",
        "for idx, label_class in df_test.iterrows():\n",
        "    if label_class.labels != label_class['Pred Labels']:\n",
        "        label = 'D'\n",
        "        s=70\n",
        "    else:\n",
        "        label = label_class.labels\n",
        "        s=50\n",
        "    plt.scatter(label_class.values[0], label_class.values[1],\n",
        "                label=f'Class {label}', marker=label, c='k', s=s)\n",
        "      \n",
        "plt.plot(np.linspace(0, 10), trend, c='k', label='Trendline')\n",
        "plt.title(\"Linear Classifier\");\n",
        "incorrect_class = mlines.Line2D([], [], color='k', marker='D',\n",
        "                          markersize=10, label='Incorrect Classification');\n",
        "plt.legend(handles=[incorrect_class]);"
      ],
      "execution_count": 51,
      "outputs": [
        {
          "output_type": "display_data",
          "data": {
            "image/png": "[encoded data removed]",
            "text/plain": [
              "<Figure size 720x504 with 1 Axes>"
            ]
          },
          "metadata": {
            "tags": [],
            "needs_background": "light"
          }
        }
      ]
    },
    {
      "cell_type": "markdown",
      "metadata": {
        "id": "XJVjOyjfjduf",
        "colab_type": "text"
      },
      "source": [
        "But what if our dataset is not linearly separable and we cannot classify the data using a straight-line model"
      ]
    },
    {
      "cell_type": "markdown",
      "metadata": {
        "id": "AkU_x0v-n4T5",
        "colab_type": "text"
      },
      "source": [
        "**Logistic Regression**"
      ]
    },
    {
      "cell_type": "markdown",
      "metadata": {
        "id": "FjWgQ5K-n51L",
        "colab_type": "text"
      },
      "source": [
        " Use the probability value for is selecting the predicted class by the classifier.the model outputting the probability and us deciding the predicted class lies the probability threshold value. We need to decide a threshold value, τ, between 0 and 1, such that the two classes (say, A and B) can then be defined as:\n",
        " 1. Data samples with a model output probability between 0 and τ belong to class A.  \n",
        " 2. Data samples with a model output probability between τ and 1 belong to class B.\n",
        "\n",
        " We need to import some more libraries\n"
      ]
    },
    {
      "cell_type": "code",
      "metadata": {
        "id": "XEprtp8ypVK3",
        "colab_type": "code",
        "colab": {}
      },
      "source": [
        "import pandas as pd\n",
        "import matplotlib.pyplot as plt\n",
        "from sklearn.linear_model import LogisticRegression\n",
        "from sklearn.feature_selection import SelectKBest\n",
        "from sklearn.model_selection import train_test_split"
      ],
      "execution_count": 0,
      "outputs": []
    },
    {
      "cell_type": "code",
      "metadata": {
        "id": "f3g668e_ybDr",
        "colab_type": "code",
        "colab": {}
      },
      "source": [
        "filepath1 = 'https://raw.githubusercontent.com/nileshgode/The-Supervised-Learning-Workshop/master/Chapter05/Datasets/breast-cancer-data.csv'"
      ],
      "execution_count": 0,
      "outputs": []
    },
    {
      "cell_type": "markdown",
      "metadata": {
        "id": "ucsseUf6qZp5",
        "colab_type": "text"
      },
      "source": [
        "download the MNIST datasets"
      ]
    },
    {
      "cell_type": "code",
      "metadata": {
        "id": "0a3dHEk5qaYd",
        "colab_type": "code",
        "colab": {
          "base_uri": "https://localhost:8080/",
          "height": 251
        },
        "outputId": "2f9c40f5-941c-4ecb-f32f-5f29247af606"
      },
      "source": [
        "df = pd.read_csv(filepath1,sep= \",\")\n",
        "df.head()"
      ],
      "execution_count": 77,
      "outputs": [
        {
          "output_type": "execute_result",
          "data": {
            "text/html": [
              "<div>\n",
              "<style scoped>\n",
              "    .dataframe tbody tr th:only-of-type {\n",
              "        vertical-align: middle;\n",
              "    }\n",
              "\n",
              "    .dataframe tbody tr th {\n",
              "        vertical-align: top;\n",
              "    }\n",
              "\n",
              "    .dataframe thead th {\n",
              "        text-align: right;\n",
              "    }\n",
              "</style>\n",
              "<table border=\"1\" class=\"dataframe\">\n",
              "  <thead>\n",
              "    <tr style=\"text-align: right;\">\n",
              "      <th></th>\n",
              "      <th>mean radius</th>\n",
              "      <th>mean texture</th>\n",
              "      <th>mean perimeter</th>\n",
              "      <th>mean area</th>\n",
              "      <th>mean smoothness</th>\n",
              "      <th>mean compactness</th>\n",
              "      <th>mean concavity</th>\n",
              "      <th>mean concave points</th>\n",
              "      <th>mean symmetry</th>\n",
              "      <th>mean fractal dimension</th>\n",
              "      <th>radius error</th>\n",
              "      <th>texture error</th>\n",
              "      <th>perimeter error</th>\n",
              "      <th>area error</th>\n",
              "      <th>smoothness error</th>\n",
              "      <th>compactness error</th>\n",
              "      <th>concavity error</th>\n",
              "      <th>concave points error</th>\n",
              "      <th>symmetry error</th>\n",
              "      <th>fractal dimension error</th>\n",
              "      <th>worst radius</th>\n",
              "      <th>worst texture</th>\n",
              "      <th>worst perimeter</th>\n",
              "      <th>worst area</th>\n",
              "      <th>worst smoothness</th>\n",
              "      <th>worst compactness</th>\n",
              "      <th>worst concavity</th>\n",
              "      <th>worst concave points</th>\n",
              "      <th>worst symmetry</th>\n",
              "      <th>worst fractal dimension</th>\n",
              "      <th>diagnosis</th>\n",
              "    </tr>\n",
              "  </thead>\n",
              "  <tbody>\n",
              "    <tr>\n",
              "      <th>0</th>\n",
              "      <td>17.99</td>\n",
              "      <td>10.38</td>\n",
              "      <td>122.80</td>\n",
              "      <td>1001.0</td>\n",
              "      <td>0.11840</td>\n",
              "      <td>0.27760</td>\n",
              "      <td>0.3001</td>\n",
              "      <td>0.14710</td>\n",
              "      <td>0.2419</td>\n",
              "      <td>0.07871</td>\n",
              "      <td>1.0950</td>\n",
              "      <td>0.9053</td>\n",
              "      <td>8.589</td>\n",
              "      <td>153.40</td>\n",
              "      <td>0.006399</td>\n",
              "      <td>0.04904</td>\n",
              "      <td>0.05373</td>\n",
              "      <td>0.01587</td>\n",
              "      <td>0.03003</td>\n",
              "      <td>0.006193</td>\n",
              "      <td>25.38</td>\n",
              "      <td>17.33</td>\n",
              "      <td>184.60</td>\n",
              "      <td>2019.0</td>\n",
              "      <td>0.1622</td>\n",
              "      <td>0.6656</td>\n",
              "      <td>0.7119</td>\n",
              "      <td>0.2654</td>\n",
              "      <td>0.4601</td>\n",
              "      <td>0.11890</td>\n",
              "      <td>malignant</td>\n",
              "    </tr>\n",
              "    <tr>\n",
              "      <th>1</th>\n",
              "      <td>20.57</td>\n",
              "      <td>17.77</td>\n",
              "      <td>132.90</td>\n",
              "      <td>1326.0</td>\n",
              "      <td>0.08474</td>\n",
              "      <td>0.07864</td>\n",
              "      <td>0.0869</td>\n",
              "      <td>0.07017</td>\n",
              "      <td>0.1812</td>\n",
              "      <td>0.05667</td>\n",
              "      <td>0.5435</td>\n",
              "      <td>0.7339</td>\n",
              "      <td>3.398</td>\n",
              "      <td>74.08</td>\n",
              "      <td>0.005225</td>\n",
              "      <td>0.01308</td>\n",
              "      <td>0.01860</td>\n",
              "      <td>0.01340</td>\n",
              "      <td>0.01389</td>\n",
              "      <td>0.003532</td>\n",
              "      <td>24.99</td>\n",
              "      <td>23.41</td>\n",
              "      <td>158.80</td>\n",
              "      <td>1956.0</td>\n",
              "      <td>0.1238</td>\n",
              "      <td>0.1866</td>\n",
              "      <td>0.2416</td>\n",
              "      <td>0.1860</td>\n",
              "      <td>0.2750</td>\n",
              "      <td>0.08902</td>\n",
              "      <td>malignant</td>\n",
              "    </tr>\n",
              "    <tr>\n",
              "      <th>2</th>\n",
              "      <td>19.69</td>\n",
              "      <td>21.25</td>\n",
              "      <td>130.00</td>\n",
              "      <td>1203.0</td>\n",
              "      <td>0.10960</td>\n",
              "      <td>0.15990</td>\n",
              "      <td>0.1974</td>\n",
              "      <td>0.12790</td>\n",
              "      <td>0.2069</td>\n",
              "      <td>0.05999</td>\n",
              "      <td>0.7456</td>\n",
              "      <td>0.7869</td>\n",
              "      <td>4.585</td>\n",
              "      <td>94.03</td>\n",
              "      <td>0.006150</td>\n",
              "      <td>0.04006</td>\n",
              "      <td>0.03832</td>\n",
              "      <td>0.02058</td>\n",
              "      <td>0.02250</td>\n",
              "      <td>0.004571</td>\n",
              "      <td>23.57</td>\n",
              "      <td>25.53</td>\n",
              "      <td>152.50</td>\n",
              "      <td>1709.0</td>\n",
              "      <td>0.1444</td>\n",
              "      <td>0.4245</td>\n",
              "      <td>0.4504</td>\n",
              "      <td>0.2430</td>\n",
              "      <td>0.3613</td>\n",
              "      <td>0.08758</td>\n",
              "      <td>malignant</td>\n",
              "    </tr>\n",
              "    <tr>\n",
              "      <th>3</th>\n",
              "      <td>11.42</td>\n",
              "      <td>20.38</td>\n",
              "      <td>77.58</td>\n",
              "      <td>386.1</td>\n",
              "      <td>0.14250</td>\n",
              "      <td>0.28390</td>\n",
              "      <td>0.2414</td>\n",
              "      <td>0.10520</td>\n",
              "      <td>0.2597</td>\n",
              "      <td>0.09744</td>\n",
              "      <td>0.4956</td>\n",
              "      <td>1.1560</td>\n",
              "      <td>3.445</td>\n",
              "      <td>27.23</td>\n",
              "      <td>0.009110</td>\n",
              "      <td>0.07458</td>\n",
              "      <td>0.05661</td>\n",
              "      <td>0.01867</td>\n",
              "      <td>0.05963</td>\n",
              "      <td>0.009208</td>\n",
              "      <td>14.91</td>\n",
              "      <td>26.50</td>\n",
              "      <td>98.87</td>\n",
              "      <td>567.7</td>\n",
              "      <td>0.2098</td>\n",
              "      <td>0.8663</td>\n",
              "      <td>0.6869</td>\n",
              "      <td>0.2575</td>\n",
              "      <td>0.6638</td>\n",
              "      <td>0.17300</td>\n",
              "      <td>malignant</td>\n",
              "    </tr>\n",
              "    <tr>\n",
              "      <th>4</th>\n",
              "      <td>20.29</td>\n",
              "      <td>14.34</td>\n",
              "      <td>135.10</td>\n",
              "      <td>1297.0</td>\n",
              "      <td>0.10030</td>\n",
              "      <td>0.13280</td>\n",
              "      <td>0.1980</td>\n",
              "      <td>0.10430</td>\n",
              "      <td>0.1809</td>\n",
              "      <td>0.05883</td>\n",
              "      <td>0.7572</td>\n",
              "      <td>0.7813</td>\n",
              "      <td>5.438</td>\n",
              "      <td>94.44</td>\n",
              "      <td>0.011490</td>\n",
              "      <td>0.02461</td>\n",
              "      <td>0.05688</td>\n",
              "      <td>0.01885</td>\n",
              "      <td>0.01756</td>\n",
              "      <td>0.005115</td>\n",
              "      <td>22.54</td>\n",
              "      <td>16.67</td>\n",
              "      <td>152.20</td>\n",
              "      <td>1575.0</td>\n",
              "      <td>0.1374</td>\n",
              "      <td>0.2050</td>\n",
              "      <td>0.4000</td>\n",
              "      <td>0.1625</td>\n",
              "      <td>0.2364</td>\n",
              "      <td>0.07678</td>\n",
              "      <td>malignant</td>\n",
              "    </tr>\n",
              "  </tbody>\n",
              "</table>\n",
              "</div>"
            ],
            "text/plain": [
              "   mean radius  mean texture  ...  worst fractal dimension  diagnosis\n",
              "0        17.99         10.38  ...                  0.11890  malignant\n",
              "1        20.57         17.77  ...                  0.08902  malignant\n",
              "2        19.69         21.25  ...                  0.08758  malignant\n",
              "3        11.42         20.38  ...                  0.17300  malignant\n",
              "4        20.29         14.34  ...                  0.07678  malignant\n",
              "\n",
              "[5 rows x 31 columns]"
            ]
          },
          "metadata": {
            "tags": []
          },
          "execution_count": 77
        }
      ]
    },
    {
      "cell_type": "markdown",
      "metadata": {
        "id": "sJO2hAOA0ikk",
        "colab_type": "text"
      },
      "source": [
        "dissect the dataset into input (X) and output (y) variables:"
      ]
    },
    {
      "cell_type": "code",
      "metadata": {
        "id": "XARCj9TPr-uI",
        "colab_type": "code",
        "colab": {}
      },
      "source": [
        "X, y = df[[c for c in df.columns if c != 'diagnosis']], df.diagnosis"
      ],
      "execution_count": 0,
      "outputs": []
    },
    {
      "cell_type": "markdown",
      "metadata": {
        "id": "wGqRPuph0keN",
        "colab_type": "text"
      },
      "source": [
        "The next step is feature engineering. We use scikit-learn's select k best features sub-module under its feature selection module. Basically, this examines the power of each feature against the target output based on a scoring function."
      ]
    },
    {
      "cell_type": "code",
      "metadata": {
        "id": "3cGBsh2Jr7oE",
        "colab_type": "code",
        "colab": {
          "base_uri": "https://localhost:8080/",
          "height": 34
        },
        "outputId": "4b459f13-0ad9-477f-e874-f5a7e2198693"
      },
      "source": [
        "# restricting to 3 best features so that we can visualize them on a plot, We can select different features values and build the model \n",
        "skb_model = SelectKBest(k=3)\n",
        "X_new = skb_model.fit_transform(X, y)\n",
        "\n",
        "# get the k - best column names\n",
        "mask = skb_model.get_support()                 #list of booleans\n",
        "selected_features = []                         # The list of your K best features\n",
        "for bool, feature in zip(mask, df.columns):\n",
        "    if bool:\n",
        "        selected_features.append(feature)\n",
        "print(selected_features)"
      ],
      "execution_count": 80,
      "outputs": [
        {
          "output_type": "stream",
          "text": [
            "['mean concave points', 'worst perimeter', 'worst concave points']\n"
          ],
          "name": "stdout"
        }
      ]
    },
    {
      "cell_type": "markdown",
      "metadata": {
        "id": "23aJJhzE1BbX",
        "colab_type": "text"
      },
      "source": [
        "let's visualize how these two most important features correlate with the target (diagnosis) and how well they separate the two classes of diagnosis"
      ]
    },
    {
      "cell_type": "code",
      "metadata": {
        "id": "k-tKNnIZ1B-v",
        "colab_type": "code",
        "colab": {
          "base_uri": "https://localhost:8080/",
          "height": 457
        },
        "outputId": "1751fe63-b6d7-4daa-e093-165c7621f4ae"
      },
      "source": [
        "markers = {\n",
        "    'benign': {'marker': 'o'},\n",
        "    'malignant': {'marker': 'x'},\n",
        "}\n",
        "plt.figure(figsize=(10, 7))\n",
        "for name, group in df.groupby('diagnosis'):\n",
        "    plt.scatter(group[selected_features[0]], group[selected_features[1]], \n",
        "                label=name,\n",
        "                marker=markers[name]['marker'],\n",
        "               )\n",
        "    \n",
        "plt.title(f'Diagnosis Classification {selected_features[0]} vs {selected_features[1]}');\n",
        "plt.xlabel(selected_features[0]);\n",
        "plt.ylabel(selected_features[1]);\n",
        "plt.legend();"
      ],
      "execution_count": 81,
      "outputs": [
        {
          "output_type": "display_data",
          "data": {
            "image/png": "[encoded data removed]",
            "text/plain": [
              "<Figure size 720x504 with 1 Axes>"
            ]
          },
          "metadata": {
            "tags": [],
            "needs_background": "light"
          }
        }
      ]
    },
    {
      "cell_type": "code",
      "metadata": {
        "id": "zsUHR-1D1Vws",
        "colab_type": "code",
        "colab": {
          "base_uri": "https://localhost:8080/",
          "height": 457
        },
        "outputId": "3e2a1b35-ee0b-4a97-9d04-628bd39bc163"
      },
      "source": [
        "markers = {\n",
        "    'benign': {'marker': 'o'},\n",
        "    'malignant': {'marker': 'x'},\n",
        "}\n",
        "plt.figure(figsize=(10, 7))\n",
        "for name, group in df.groupby('diagnosis'):\n",
        "    plt.scatter(group[selected_features[0]], group[selected_features[2]], \n",
        "                label=name,\n",
        "                marker=markers[name]['marker'],\n",
        "               )\n",
        "    \n",
        "plt.title(f'Diagnosis Classification {selected_features[0]} vs {selected_features[2]}');\n",
        "plt.xlabel(selected_features[0]);\n",
        "plt.ylabel(selected_features[1]);\n",
        "plt.legend();"
      ],
      "execution_count": 82,
      "outputs": [
        {
          "output_type": "display_data",
          "data": {
            "image/png": "[encoded data removed]",
            "text/plain": [
              "<Figure size 720x504 with 1 Axes>"
            ]
          },
          "metadata": {
            "tags": [],
            "needs_background": "light"
          }
        }
      ]
    },
    {
      "cell_type": "markdown",
      "metadata": {
        "id": "EB6y1EG01mN-",
        "colab_type": "text"
      },
      "source": [
        "Before we can construct the model, we must first convert the diagnosis values into labels that can be used within the model"
      ]
    },
    {
      "cell_type": "code",
      "metadata": {
        "id": "pj0zYzVN1m8l",
        "colab_type": "code",
        "colab": {}
      },
      "source": [
        "diagnoses = [\n",
        "    'benign', # 0\n",
        "    'malignant' # 1\n",
        "]\n",
        "output = [diagnoses.index(diag) for diag in df.diagnosis]"
      ],
      "execution_count": 0,
      "outputs": []
    },
    {
      "cell_type": "code",
      "metadata": {
        "id": "nHx0BhWK2Hgb",
        "colab_type": "code",
        "colab": {}
      },
      "source": [
        "train_X, valid_X, train_y, valid_y = train_test_split(df[selected_features], output, test_size=0.2, random_state=123)"
      ],
      "execution_count": 0,
      "outputs": []
    },
    {
      "cell_type": "code",
      "metadata": {
        "id": "hxWF1kti2I9-",
        "colab_type": "code",
        "colab": {
          "base_uri": "https://localhost:8080/",
          "height": 105
        },
        "outputId": "f68fc268-8c6d-401f-f98d-7c8afae93be6"
      },
      "source": [
        "model = LogisticRegression(solver='liblinear')\n",
        "model.fit(df[selected_features], output)"
      ],
      "execution_count": 86,
      "outputs": [
        {
          "output_type": "execute_result",
          "data": {
            "text/plain": [
              "LogisticRegression(C=1.0, class_weight=None, dual=False, fit_intercept=True,\n",
              "                   intercept_scaling=1, l1_ratio=None, max_iter=100,\n",
              "                   multi_class='auto', n_jobs=None, penalty='l2',\n",
              "                   random_state=None, solver='liblinear', tol=0.0001, verbose=0,\n",
              "                   warm_start=False)"
            ]
          },
          "metadata": {
            "tags": []
          },
          "execution_count": 86
        }
      ]
    },
    {
      "cell_type": "code",
      "metadata": {
        "id": "2QkRPQwn2LlE",
        "colab_type": "code",
        "colab": {
          "base_uri": "https://localhost:8080/",
          "height": 34
        },
        "outputId": "b6fafb00-5b90-4438-fc1d-6bfcf330f567"
      },
      "source": [
        "model.score(valid_X, valid_y)"
      ],
      "execution_count": 87,
      "outputs": [
        {
          "output_type": "execute_result",
          "data": {
            "text/plain": [
              "0.956140350877193"
            ]
          },
          "metadata": {
            "tags": []
          },
          "execution_count": 87
        }
      ]
    },
    {
      "cell_type": "code",
      "metadata": {
        "id": "9x2dkFO42U48",
        "colab_type": "code",
        "colab": {
          "base_uri": "https://localhost:8080/",
          "height": 34
        },
        "outputId": "8a361e8d-b6ea-47f9-b05b-47806fe25a7a"
      },
      "source": [
        "selected_features = [\n",
        "    'mean radius', # List features here\n",
        "    'mean texture',\n",
        "    'compactness error'\n",
        "]\n",
        "train_X, valid_X, train_y, valid_y = train_test_split(df[selected_features], output, \n",
        "                                                      test_size=0.2, random_state=123)\n",
        "model = LogisticRegression(solver='liblinear')\n",
        "model.fit(train_X, train_y)\n",
        "model.score(valid_X, valid_y)"
      ],
      "execution_count": 88,
      "outputs": [
        {
          "output_type": "execute_result",
          "data": {
            "text/plain": [
              "0.8859649122807017"
            ]
          },
          "metadata": {
            "tags": []
          },
          "execution_count": 88
        }
      ]
    },
    {
      "cell_type": "markdown",
      "metadata": {
        "id": "jlA6PkKx2ace",
        "colab_type": "text"
      },
      "source": [
        "This reduced accuracy shows that indeed, using the two most important features renders a more powerful model than using three randomly chosen features."
      ]
    },
    {
      "cell_type": "markdown",
      "metadata": {
        "id": "J27UWnKX2f-7",
        "colab_type": "text"
      },
      "source": [
        "Construct another model using all the available information and compare performance"
      ]
    },
    {
      "cell_type": "code",
      "metadata": {
        "id": "MhSDTj2U2bGF",
        "colab_type": "code",
        "colab": {
          "base_uri": "https://localhost:8080/",
          "height": 34
        },
        "outputId": "ec953314-984a-451b-e216-412d4029e15e"
      },
      "source": [
        "selected_features = [\n",
        "    feat for feat in df.columns if feat != 'diagnosis'                   # List features here\n",
        "]\n",
        "train_X, valid_X, train_y, valid_y = train_test_split(df[selected_features], output, test_size=0.3, random_state=123)\n",
        "model = LogisticRegression(solver='liblinear')\n",
        "model.fit(train_X, train_y)\n",
        "model.score(valid_X, valid_y)"
      ],
      "execution_count": 96,
      "outputs": [
        {
          "output_type": "execute_result",
          "data": {
            "text/plain": [
              "0.9824561403508771"
            ]
          },
          "metadata": {
            "tags": []
          },
          "execution_count": 96
        }
      ]
    },
    {
      "cell_type": "markdown",
      "metadata": {
        "id": "qc2PuPFq2oju",
        "colab_type": "text"
      },
      "source": [
        "This improvement in performance by using all the features shows that even those features that are not among the most important ones do still play a role in improving model performance."
      ]
    },
    {
      "cell_type": "markdown",
      "metadata": {
        "id": "dBCPR9-V2qO7",
        "colab_type": "text"
      },
      "source": [
        "**Classification Using K-Nearest Neighbors**"
      ]
    },
    {
      "cell_type": "markdown",
      "metadata": {
        "id": "QKHmLTOp3jVF",
        "colab_type": "text"
      },
      "source": [
        "The K-nearest neighbors (KNN) classifier. KNN is a non-probabilistic, non-linear classifier. It does not predict the probability of a class. Also, as it does not learn any parameters, there is no linear combination of parameters and, thus, it is a non-linear model:\n",
        "\n",
        "1. KNN is one of the simplest \"learning\" algorithms available for data classification.\n",
        "2. KNN doesn't really learn from the data and encode these learnings in parameters or weights like other methods\n",
        "3. KNN uses instance-based or lazy learning in that it simply stores or memorizes all the training samples and the corresponding classes.\n",
        "4. when a test sample is provided to the algorithm for class prediction, it uses a majority vote of the k-nearest points to determine the corresponding class. \n",
        "5. Selecting the class on the basis of the smallest Euclidean distance to the nearest pointApplying a weighting function to bias the test point toward those neighbors that are closer\n",
        "6. KNN models have the ability to form extremely complex non-linear boundaries, which can be advantageous in classifying images or datasets with highly non-linear boundaries.\n",
        "7. KNN models can be highly sensitive to local features in the data, given that the classification process is only really dependent on the nearby points.\n",
        "8. As KNN models memorize all the training information to make predictions, they can struggle with generalizing to new, unseen data.\n",
        "9. There is another variant of KNN, which, rather than specifying the number of nearest neighbors, specifies the size of the radius around the test point at which to look. This method, known as the radius neighbors classification"
      ]
    },
    {
      "cell_type": "markdown",
      "metadata": {
        "id": "SLsBwqIR-TDW",
        "colab_type": "text"
      },
      "source": [
        "we will be using the KNN classification algorithm to build a model on the Breast Cancer Diagnosis dataset and evaluate its performance by calculating its accuracy:"
      ]
    },
    {
      "cell_type": "code",
      "metadata": {
        "id": "209LZGTQ3tdH",
        "colab_type": "code",
        "colab": {}
      },
      "source": [
        "import pandas as pd\n",
        "import matplotlib.pyplot as plt\n",
        "from sklearn.neighbors import KNeighborsClassifier as KNN\n",
        "from sklearn.model_selection import train_test_split"
      ],
      "execution_count": 0,
      "outputs": []
    },
    {
      "cell_type": "code",
      "metadata": {
        "id": "no0sHZyp-Zyk",
        "colab_type": "code",
        "colab": {
          "base_uri": "https://localhost:8080/",
          "height": 251
        },
        "outputId": "0dd412dd-55ee-4e01-8e5c-bbb5b663b312"
      },
      "source": [
        "df.head()"
      ],
      "execution_count": 98,
      "outputs": [
        {
          "output_type": "execute_result",
          "data": {
            "text/html": [
              "<div>\n",
              "<style scoped>\n",
              "    .dataframe tbody tr th:only-of-type {\n",
              "        vertical-align: middle;\n",
              "    }\n",
              "\n",
              "    .dataframe tbody tr th {\n",
              "        vertical-align: top;\n",
              "    }\n",
              "\n",
              "    .dataframe thead th {\n",
              "        text-align: right;\n",
              "    }\n",
              "</style>\n",
              "<table border=\"1\" class=\"dataframe\">\n",
              "  <thead>\n",
              "    <tr style=\"text-align: right;\">\n",
              "      <th></th>\n",
              "      <th>mean radius</th>\n",
              "      <th>mean texture</th>\n",
              "      <th>mean perimeter</th>\n",
              "      <th>mean area</th>\n",
              "      <th>mean smoothness</th>\n",
              "      <th>mean compactness</th>\n",
              "      <th>mean concavity</th>\n",
              "      <th>mean concave points</th>\n",
              "      <th>mean symmetry</th>\n",
              "      <th>mean fractal dimension</th>\n",
              "      <th>radius error</th>\n",
              "      <th>texture error</th>\n",
              "      <th>perimeter error</th>\n",
              "      <th>area error</th>\n",
              "      <th>smoothness error</th>\n",
              "      <th>compactness error</th>\n",
              "      <th>concavity error</th>\n",
              "      <th>concave points error</th>\n",
              "      <th>symmetry error</th>\n",
              "      <th>fractal dimension error</th>\n",
              "      <th>worst radius</th>\n",
              "      <th>worst texture</th>\n",
              "      <th>worst perimeter</th>\n",
              "      <th>worst area</th>\n",
              "      <th>worst smoothness</th>\n",
              "      <th>worst compactness</th>\n",
              "      <th>worst concavity</th>\n",
              "      <th>worst concave points</th>\n",
              "      <th>worst symmetry</th>\n",
              "      <th>worst fractal dimension</th>\n",
              "      <th>diagnosis</th>\n",
              "    </tr>\n",
              "  </thead>\n",
              "  <tbody>\n",
              "    <tr>\n",
              "      <th>0</th>\n",
              "      <td>17.99</td>\n",
              "      <td>10.38</td>\n",
              "      <td>122.80</td>\n",
              "      <td>1001.0</td>\n",
              "      <td>0.11840</td>\n",
              "      <td>0.27760</td>\n",
              "      <td>0.3001</td>\n",
              "      <td>0.14710</td>\n",
              "      <td>0.2419</td>\n",
              "      <td>0.07871</td>\n",
              "      <td>1.0950</td>\n",
              "      <td>0.9053</td>\n",
              "      <td>8.589</td>\n",
              "      <td>153.40</td>\n",
              "      <td>0.006399</td>\n",
              "      <td>0.04904</td>\n",
              "      <td>0.05373</td>\n",
              "      <td>0.01587</td>\n",
              "      <td>0.03003</td>\n",
              "      <td>0.006193</td>\n",
              "      <td>25.38</td>\n",
              "      <td>17.33</td>\n",
              "      <td>184.60</td>\n",
              "      <td>2019.0</td>\n",
              "      <td>0.1622</td>\n",
              "      <td>0.6656</td>\n",
              "      <td>0.7119</td>\n",
              "      <td>0.2654</td>\n",
              "      <td>0.4601</td>\n",
              "      <td>0.11890</td>\n",
              "      <td>malignant</td>\n",
              "    </tr>\n",
              "    <tr>\n",
              "      <th>1</th>\n",
              "      <td>20.57</td>\n",
              "      <td>17.77</td>\n",
              "      <td>132.90</td>\n",
              "      <td>1326.0</td>\n",
              "      <td>0.08474</td>\n",
              "      <td>0.07864</td>\n",
              "      <td>0.0869</td>\n",
              "      <td>0.07017</td>\n",
              "      <td>0.1812</td>\n",
              "      <td>0.05667</td>\n",
              "      <td>0.5435</td>\n",
              "      <td>0.7339</td>\n",
              "      <td>3.398</td>\n",
              "      <td>74.08</td>\n",
              "      <td>0.005225</td>\n",
              "      <td>0.01308</td>\n",
              "      <td>0.01860</td>\n",
              "      <td>0.01340</td>\n",
              "      <td>0.01389</td>\n",
              "      <td>0.003532</td>\n",
              "      <td>24.99</td>\n",
              "      <td>23.41</td>\n",
              "      <td>158.80</td>\n",
              "      <td>1956.0</td>\n",
              "      <td>0.1238</td>\n",
              "      <td>0.1866</td>\n",
              "      <td>0.2416</td>\n",
              "      <td>0.1860</td>\n",
              "      <td>0.2750</td>\n",
              "      <td>0.08902</td>\n",
              "      <td>malignant</td>\n",
              "    </tr>\n",
              "    <tr>\n",
              "      <th>2</th>\n",
              "      <td>19.69</td>\n",
              "      <td>21.25</td>\n",
              "      <td>130.00</td>\n",
              "      <td>1203.0</td>\n",
              "      <td>0.10960</td>\n",
              "      <td>0.15990</td>\n",
              "      <td>0.1974</td>\n",
              "      <td>0.12790</td>\n",
              "      <td>0.2069</td>\n",
              "      <td>0.05999</td>\n",
              "      <td>0.7456</td>\n",
              "      <td>0.7869</td>\n",
              "      <td>4.585</td>\n",
              "      <td>94.03</td>\n",
              "      <td>0.006150</td>\n",
              "      <td>0.04006</td>\n",
              "      <td>0.03832</td>\n",
              "      <td>0.02058</td>\n",
              "      <td>0.02250</td>\n",
              "      <td>0.004571</td>\n",
              "      <td>23.57</td>\n",
              "      <td>25.53</td>\n",
              "      <td>152.50</td>\n",
              "      <td>1709.0</td>\n",
              "      <td>0.1444</td>\n",
              "      <td>0.4245</td>\n",
              "      <td>0.4504</td>\n",
              "      <td>0.2430</td>\n",
              "      <td>0.3613</td>\n",
              "      <td>0.08758</td>\n",
              "      <td>malignant</td>\n",
              "    </tr>\n",
              "    <tr>\n",
              "      <th>3</th>\n",
              "      <td>11.42</td>\n",
              "      <td>20.38</td>\n",
              "      <td>77.58</td>\n",
              "      <td>386.1</td>\n",
              "      <td>0.14250</td>\n",
              "      <td>0.28390</td>\n",
              "      <td>0.2414</td>\n",
              "      <td>0.10520</td>\n",
              "      <td>0.2597</td>\n",
              "      <td>0.09744</td>\n",
              "      <td>0.4956</td>\n",
              "      <td>1.1560</td>\n",
              "      <td>3.445</td>\n",
              "      <td>27.23</td>\n",
              "      <td>0.009110</td>\n",
              "      <td>0.07458</td>\n",
              "      <td>0.05661</td>\n",
              "      <td>0.01867</td>\n",
              "      <td>0.05963</td>\n",
              "      <td>0.009208</td>\n",
              "      <td>14.91</td>\n",
              "      <td>26.50</td>\n",
              "      <td>98.87</td>\n",
              "      <td>567.7</td>\n",
              "      <td>0.2098</td>\n",
              "      <td>0.8663</td>\n",
              "      <td>0.6869</td>\n",
              "      <td>0.2575</td>\n",
              "      <td>0.6638</td>\n",
              "      <td>0.17300</td>\n",
              "      <td>malignant</td>\n",
              "    </tr>\n",
              "    <tr>\n",
              "      <th>4</th>\n",
              "      <td>20.29</td>\n",
              "      <td>14.34</td>\n",
              "      <td>135.10</td>\n",
              "      <td>1297.0</td>\n",
              "      <td>0.10030</td>\n",
              "      <td>0.13280</td>\n",
              "      <td>0.1980</td>\n",
              "      <td>0.10430</td>\n",
              "      <td>0.1809</td>\n",
              "      <td>0.05883</td>\n",
              "      <td>0.7572</td>\n",
              "      <td>0.7813</td>\n",
              "      <td>5.438</td>\n",
              "      <td>94.44</td>\n",
              "      <td>0.011490</td>\n",
              "      <td>0.02461</td>\n",
              "      <td>0.05688</td>\n",
              "      <td>0.01885</td>\n",
              "      <td>0.01756</td>\n",
              "      <td>0.005115</td>\n",
              "      <td>22.54</td>\n",
              "      <td>16.67</td>\n",
              "      <td>152.20</td>\n",
              "      <td>1575.0</td>\n",
              "      <td>0.1374</td>\n",
              "      <td>0.2050</td>\n",
              "      <td>0.4000</td>\n",
              "      <td>0.1625</td>\n",
              "      <td>0.2364</td>\n",
              "      <td>0.07678</td>\n",
              "      <td>malignant</td>\n",
              "    </tr>\n",
              "  </tbody>\n",
              "</table>\n",
              "</div>"
            ],
            "text/plain": [
              "   mean radius  mean texture  ...  worst fractal dimension  diagnosis\n",
              "0        17.99         10.38  ...                  0.11890  malignant\n",
              "1        20.57         17.77  ...                  0.08902  malignant\n",
              "2        19.69         21.25  ...                  0.08758  malignant\n",
              "3        11.42         20.38  ...                  0.17300  malignant\n",
              "4        20.29         14.34  ...                  0.07678  malignant\n",
              "\n",
              "[5 rows x 31 columns]"
            ]
          },
          "metadata": {
            "tags": []
          },
          "execution_count": 98
        }
      ]
    },
    {
      "cell_type": "markdown",
      "metadata": {
        "id": "jyw6vWgY-nDs",
        "colab_type": "text"
      },
      "source": [
        "we need to choose the most appropriate features from the dataset for use with the classifier. We could simply select all 30 features. However, as this exercise is designed to allow visualization of the KNN process, we will arbitrarily only select the mean radius and worst radius. Construct a scatterplot for mean radius versus worst radius for each of the classes in the dataset with the corresponding diagnosis type:"
      ]
    },
    {
      "cell_type": "code",
      "metadata": {
        "id": "UPrbEyf1-cEz",
        "colab_type": "code",
        "colab": {
          "base_uri": "https://localhost:8080/",
          "height": 457
        },
        "outputId": "c7e34d72-78bf-442e-ec78-eb9d6b8de1ec"
      },
      "source": [
        "markers = {\n",
        "    'benign': {'marker': 'o', 'facecolor': 'g', 'edgecolor': 'g'},\n",
        "    'malignant': {'marker': 'x', 'facecolor': 'r', 'edgecolor': 'r'},\n",
        "}\n",
        "plt.figure(figsize=(10, 7))\n",
        "for name, group in df.groupby('diagnosis'):\n",
        "    plt.scatter(group['mean radius'], group['worst radius'], \n",
        "                label=name,\n",
        "                marker=markers[name]['marker'],\n",
        "                facecolors=markers[name]['facecolor'],\n",
        "                edgecolor=markers[name]['edgecolor'])\n",
        "    \n",
        "plt.title('Breast Cancer Diagnosis Classification Mean Radius vs Worst Radius');\n",
        "plt.xlabel('Mean Radius');\n",
        "plt.ylabel('Worst Radius');\n",
        "plt.legend();"
      ],
      "execution_count": 99,
      "outputs": [
        {
          "output_type": "display_data",
          "data": {
            "image/png": "[encoded data removed]",
            "text/plain": [
              "<Figure size 720x504 with 1 Axes>"
            ]
          },
          "metadata": {
            "tags": [],
            "needs_background": "light"
          }
        }
      ]
    },
    {
      "cell_type": "code",
      "metadata": {
        "id": "lSxmGH7NCBt-",
        "colab_type": "code",
        "colab": {}
      },
      "source": [
        "train_X, valid_X, train_y, valid_y = train_test_split(df[['mean radius', 'worst radius']], df.diagnosis, test_size=0.3, random_state=121)"
      ],
      "execution_count": 0,
      "outputs": []
    },
    {
      "cell_type": "code",
      "metadata": {
        "id": "JLF4RuaTCDQr",
        "colab_type": "code",
        "colab": {
          "base_uri": "https://localhost:8080/",
          "height": 70
        },
        "outputId": "26bb1b30-dd7d-4fb0-daf4-37a663797eb5"
      },
      "source": [
        "model = KNN(n_neighbors=3)\n",
        "model.fit(X=train_X, y=train_y)"
      ],
      "execution_count": 104,
      "outputs": [
        {
          "output_type": "execute_result",
          "data": {
            "text/plain": [
              "KNeighborsClassifier(algorithm='auto', leaf_size=30, metric='minkowski',\n",
              "                     metric_params=None, n_jobs=None, n_neighbors=3, p=2,\n",
              "                     weights='uniform')"
            ]
          },
          "metadata": {
            "tags": []
          },
          "execution_count": 104
        }
      ]
    },
    {
      "cell_type": "code",
      "metadata": {
        "id": "IjKSpvnJCHgz",
        "colab_type": "code",
        "colab": {
          "base_uri": "https://localhost:8080/",
          "height": 34
        },
        "outputId": "57d350f5-9092-4131-d59a-dd4e82a24098"
      },
      "source": [
        "model.score(X=valid_X, y=valid_y)"
      ],
      "execution_count": 105,
      "outputs": [
        {
          "output_type": "execute_result",
          "data": {
            "text/plain": [
              "0.935672514619883"
            ]
          },
          "metadata": {
            "tags": []
          },
          "execution_count": 105
        }
      ]
    },
    {
      "cell_type": "markdown",
      "metadata": {
        "id": "FMSTePIfCmPl",
        "colab_type": "text"
      },
      "source": [
        "**Visualizing KNN Boundaries**"
      ]
    },
    {
      "cell_type": "code",
      "metadata": {
        "id": "LkxfmNFjCxLF",
        "colab_type": "code",
        "colab": {}
      },
      "source": [
        "from matplotlib.colors import ListedColormap"
      ],
      "execution_count": 0,
      "outputs": []
    },
    {
      "cell_type": "code",
      "metadata": {
        "id": "3EtcDuMdCz-f",
        "colab_type": "code",
        "colab": {
          "base_uri": "https://localhost:8080/",
          "height": 251
        },
        "outputId": "37ee305a-e9af-4af0-8bd0-5bbe140ff586"
      },
      "source": [
        "df.head()"
      ],
      "execution_count": 107,
      "outputs": [
        {
          "output_type": "execute_result",
          "data": {
            "text/html": [
              "<div>\n",
              "<style scoped>\n",
              "    .dataframe tbody tr th:only-of-type {\n",
              "        vertical-align: middle;\n",
              "    }\n",
              "\n",
              "    .dataframe tbody tr th {\n",
              "        vertical-align: top;\n",
              "    }\n",
              "\n",
              "    .dataframe thead th {\n",
              "        text-align: right;\n",
              "    }\n",
              "</style>\n",
              "<table border=\"1\" class=\"dataframe\">\n",
              "  <thead>\n",
              "    <tr style=\"text-align: right;\">\n",
              "      <th></th>\n",
              "      <th>mean radius</th>\n",
              "      <th>mean texture</th>\n",
              "      <th>mean perimeter</th>\n",
              "      <th>mean area</th>\n",
              "      <th>mean smoothness</th>\n",
              "      <th>mean compactness</th>\n",
              "      <th>mean concavity</th>\n",
              "      <th>mean concave points</th>\n",
              "      <th>mean symmetry</th>\n",
              "      <th>mean fractal dimension</th>\n",
              "      <th>radius error</th>\n",
              "      <th>texture error</th>\n",
              "      <th>perimeter error</th>\n",
              "      <th>area error</th>\n",
              "      <th>smoothness error</th>\n",
              "      <th>compactness error</th>\n",
              "      <th>concavity error</th>\n",
              "      <th>concave points error</th>\n",
              "      <th>symmetry error</th>\n",
              "      <th>fractal dimension error</th>\n",
              "      <th>worst radius</th>\n",
              "      <th>worst texture</th>\n",
              "      <th>worst perimeter</th>\n",
              "      <th>worst area</th>\n",
              "      <th>worst smoothness</th>\n",
              "      <th>worst compactness</th>\n",
              "      <th>worst concavity</th>\n",
              "      <th>worst concave points</th>\n",
              "      <th>worst symmetry</th>\n",
              "      <th>worst fractal dimension</th>\n",
              "      <th>diagnosis</th>\n",
              "    </tr>\n",
              "  </thead>\n",
              "  <tbody>\n",
              "    <tr>\n",
              "      <th>0</th>\n",
              "      <td>17.99</td>\n",
              "      <td>10.38</td>\n",
              "      <td>122.80</td>\n",
              "      <td>1001.0</td>\n",
              "      <td>0.11840</td>\n",
              "      <td>0.27760</td>\n",
              "      <td>0.3001</td>\n",
              "      <td>0.14710</td>\n",
              "      <td>0.2419</td>\n",
              "      <td>0.07871</td>\n",
              "      <td>1.0950</td>\n",
              "      <td>0.9053</td>\n",
              "      <td>8.589</td>\n",
              "      <td>153.40</td>\n",
              "      <td>0.006399</td>\n",
              "      <td>0.04904</td>\n",
              "      <td>0.05373</td>\n",
              "      <td>0.01587</td>\n",
              "      <td>0.03003</td>\n",
              "      <td>0.006193</td>\n",
              "      <td>25.38</td>\n",
              "      <td>17.33</td>\n",
              "      <td>184.60</td>\n",
              "      <td>2019.0</td>\n",
              "      <td>0.1622</td>\n",
              "      <td>0.6656</td>\n",
              "      <td>0.7119</td>\n",
              "      <td>0.2654</td>\n",
              "      <td>0.4601</td>\n",
              "      <td>0.11890</td>\n",
              "      <td>malignant</td>\n",
              "    </tr>\n",
              "    <tr>\n",
              "      <th>1</th>\n",
              "      <td>20.57</td>\n",
              "      <td>17.77</td>\n",
              "      <td>132.90</td>\n",
              "      <td>1326.0</td>\n",
              "      <td>0.08474</td>\n",
              "      <td>0.07864</td>\n",
              "      <td>0.0869</td>\n",
              "      <td>0.07017</td>\n",
              "      <td>0.1812</td>\n",
              "      <td>0.05667</td>\n",
              "      <td>0.5435</td>\n",
              "      <td>0.7339</td>\n",
              "      <td>3.398</td>\n",
              "      <td>74.08</td>\n",
              "      <td>0.005225</td>\n",
              "      <td>0.01308</td>\n",
              "      <td>0.01860</td>\n",
              "      <td>0.01340</td>\n",
              "      <td>0.01389</td>\n",
              "      <td>0.003532</td>\n",
              "      <td>24.99</td>\n",
              "      <td>23.41</td>\n",
              "      <td>158.80</td>\n",
              "      <td>1956.0</td>\n",
              "      <td>0.1238</td>\n",
              "      <td>0.1866</td>\n",
              "      <td>0.2416</td>\n",
              "      <td>0.1860</td>\n",
              "      <td>0.2750</td>\n",
              "      <td>0.08902</td>\n",
              "      <td>malignant</td>\n",
              "    </tr>\n",
              "    <tr>\n",
              "      <th>2</th>\n",
              "      <td>19.69</td>\n",
              "      <td>21.25</td>\n",
              "      <td>130.00</td>\n",
              "      <td>1203.0</td>\n",
              "      <td>0.10960</td>\n",
              "      <td>0.15990</td>\n",
              "      <td>0.1974</td>\n",
              "      <td>0.12790</td>\n",
              "      <td>0.2069</td>\n",
              "      <td>0.05999</td>\n",
              "      <td>0.7456</td>\n",
              "      <td>0.7869</td>\n",
              "      <td>4.585</td>\n",
              "      <td>94.03</td>\n",
              "      <td>0.006150</td>\n",
              "      <td>0.04006</td>\n",
              "      <td>0.03832</td>\n",
              "      <td>0.02058</td>\n",
              "      <td>0.02250</td>\n",
              "      <td>0.004571</td>\n",
              "      <td>23.57</td>\n",
              "      <td>25.53</td>\n",
              "      <td>152.50</td>\n",
              "      <td>1709.0</td>\n",
              "      <td>0.1444</td>\n",
              "      <td>0.4245</td>\n",
              "      <td>0.4504</td>\n",
              "      <td>0.2430</td>\n",
              "      <td>0.3613</td>\n",
              "      <td>0.08758</td>\n",
              "      <td>malignant</td>\n",
              "    </tr>\n",
              "    <tr>\n",
              "      <th>3</th>\n",
              "      <td>11.42</td>\n",
              "      <td>20.38</td>\n",
              "      <td>77.58</td>\n",
              "      <td>386.1</td>\n",
              "      <td>0.14250</td>\n",
              "      <td>0.28390</td>\n",
              "      <td>0.2414</td>\n",
              "      <td>0.10520</td>\n",
              "      <td>0.2597</td>\n",
              "      <td>0.09744</td>\n",
              "      <td>0.4956</td>\n",
              "      <td>1.1560</td>\n",
              "      <td>3.445</td>\n",
              "      <td>27.23</td>\n",
              "      <td>0.009110</td>\n",
              "      <td>0.07458</td>\n",
              "      <td>0.05661</td>\n",
              "      <td>0.01867</td>\n",
              "      <td>0.05963</td>\n",
              "      <td>0.009208</td>\n",
              "      <td>14.91</td>\n",
              "      <td>26.50</td>\n",
              "      <td>98.87</td>\n",
              "      <td>567.7</td>\n",
              "      <td>0.2098</td>\n",
              "      <td>0.8663</td>\n",
              "      <td>0.6869</td>\n",
              "      <td>0.2575</td>\n",
              "      <td>0.6638</td>\n",
              "      <td>0.17300</td>\n",
              "      <td>malignant</td>\n",
              "    </tr>\n",
              "    <tr>\n",
              "      <th>4</th>\n",
              "      <td>20.29</td>\n",
              "      <td>14.34</td>\n",
              "      <td>135.10</td>\n",
              "      <td>1297.0</td>\n",
              "      <td>0.10030</td>\n",
              "      <td>0.13280</td>\n",
              "      <td>0.1980</td>\n",
              "      <td>0.10430</td>\n",
              "      <td>0.1809</td>\n",
              "      <td>0.05883</td>\n",
              "      <td>0.7572</td>\n",
              "      <td>0.7813</td>\n",
              "      <td>5.438</td>\n",
              "      <td>94.44</td>\n",
              "      <td>0.011490</td>\n",
              "      <td>0.02461</td>\n",
              "      <td>0.05688</td>\n",
              "      <td>0.01885</td>\n",
              "      <td>0.01756</td>\n",
              "      <td>0.005115</td>\n",
              "      <td>22.54</td>\n",
              "      <td>16.67</td>\n",
              "      <td>152.20</td>\n",
              "      <td>1575.0</td>\n",
              "      <td>0.1374</td>\n",
              "      <td>0.2050</td>\n",
              "      <td>0.4000</td>\n",
              "      <td>0.1625</td>\n",
              "      <td>0.2364</td>\n",
              "      <td>0.07678</td>\n",
              "      <td>malignant</td>\n",
              "    </tr>\n",
              "  </tbody>\n",
              "</table>\n",
              "</div>"
            ],
            "text/plain": [
              "   mean radius  mean texture  ...  worst fractal dimension  diagnosis\n",
              "0        17.99         10.38  ...                  0.11890  malignant\n",
              "1        20.57         17.77  ...                  0.08902  malignant\n",
              "2        19.69         21.25  ...                  0.08758  malignant\n",
              "3        11.42         20.38  ...                  0.17300  malignant\n",
              "4        20.29         14.34  ...                  0.07678  malignant\n",
              "\n",
              "[5 rows x 31 columns]"
            ]
          },
          "metadata": {
            "tags": []
          },
          "execution_count": 107
        }
      ]
    },
    {
      "cell_type": "code",
      "metadata": {
        "id": "cSQEENRAC2AW",
        "colab_type": "code",
        "colab": {}
      },
      "source": [
        "spacing = 0.1\n",
        "mean_radius_range = np.arange(df['mean radius'].min() - 1, df['mean radius'].max() + 1, spacing)\n",
        "worst_radius_range = np.arange(df['worst radius'].min() - 1, df['worst radius'].max() + 1, spacing)"
      ],
      "execution_count": 0,
      "outputs": []
    },
    {
      "cell_type": "code",
      "metadata": {
        "id": "7CZ5ScVFC_95",
        "colab_type": "code",
        "colab": {}
      },
      "source": [
        "xx, yy = np.meshgrid(mean_radius_range, worst_radius_range) # Create the mesh"
      ],
      "execution_count": 0,
      "outputs": []
    },
    {
      "cell_type": "code",
      "metadata": {
        "id": "m-TWGu9uDBKu",
        "colab_type": "code",
        "colab": {
          "base_uri": "https://localhost:8080/",
          "height": 141
        },
        "outputId": "32faa614-0627-42c3-8e69-eefc835144aa"
      },
      "source": [
        "xx"
      ],
      "execution_count": 110,
      "outputs": [
        {
          "output_type": "execute_result",
          "data": {
            "text/plain": [
              "array([[ 5.981,  6.081,  6.181, ..., 28.881, 28.981, 29.081],\n",
              "       [ 5.981,  6.081,  6.181, ..., 28.881, 28.981, 29.081],\n",
              "       [ 5.981,  6.081,  6.181, ..., 28.881, 28.981, 29.081],\n",
              "       ...,\n",
              "       [ 5.981,  6.081,  6.181, ..., 28.881, 28.981, 29.081],\n",
              "       [ 5.981,  6.081,  6.181, ..., 28.881, 28.981, 29.081],\n",
              "       [ 5.981,  6.081,  6.181, ..., 28.881, 28.981, 29.081]])"
            ]
          },
          "metadata": {
            "tags": []
          },
          "execution_count": 110
        }
      ]
    },
    {
      "cell_type": "code",
      "metadata": {
        "id": "qWZs2iOZDDit",
        "colab_type": "code",
        "colab": {
          "base_uri": "https://localhost:8080/",
          "height": 141
        },
        "outputId": "d48dbeac-3a88-445c-bfac-5bc46cb45549"
      },
      "source": [
        "yy"
      ],
      "execution_count": 111,
      "outputs": [
        {
          "output_type": "execute_result",
          "data": {
            "text/plain": [
              "array([[ 6.93,  6.93,  6.93, ...,  6.93,  6.93,  6.93],\n",
              "       [ 7.03,  7.03,  7.03, ...,  7.03,  7.03,  7.03],\n",
              "       [ 7.13,  7.13,  7.13, ...,  7.13,  7.13,  7.13],\n",
              "       ...,\n",
              "       [36.83, 36.83, 36.83, ..., 36.83, 36.83, 36.83],\n",
              "       [36.93, 36.93, 36.93, ..., 36.93, 36.93, 36.93],\n",
              "       [37.03, 37.03, 37.03, ..., 37.03, 37.03, 37.03]])"
            ]
          },
          "metadata": {
            "tags": []
          },
          "execution_count": 111
        }
      ]
    },
    {
      "cell_type": "code",
      "metadata": {
        "id": "tcG8XArlDIIw",
        "colab_type": "code",
        "colab": {
          "base_uri": "https://localhost:8080/",
          "height": 141
        },
        "outputId": "06f4583e-05db-401f-ee1d-0cf55b99b3da"
      },
      "source": [
        "pred_x = np.c_[xx.ravel(), yy.ravel()] # Concatenate the results\n",
        "pred_x"
      ],
      "execution_count": 112,
      "outputs": [
        {
          "output_type": "execute_result",
          "data": {
            "text/plain": [
              "array([[ 5.981,  6.93 ],\n",
              "       [ 6.081,  6.93 ],\n",
              "       [ 6.181,  6.93 ],\n",
              "       ...,\n",
              "       [28.881, 37.03 ],\n",
              "       [28.981, 37.03 ],\n",
              "       [29.081, 37.03 ]])"
            ]
          },
          "metadata": {
            "tags": []
          },
          "execution_count": 112
        }
      ]
    },
    {
      "cell_type": "code",
      "metadata": {
        "id": "5gdLve08DdcF",
        "colab_type": "code",
        "colab": {
          "base_uri": "https://localhost:8080/",
          "height": 251
        },
        "outputId": "c19c12c1-7888-4fb9-f70d-4cc6138df709"
      },
      "source": [
        "labelled_diagnoses = [\n",
        "    'benign',\n",
        "    'malignant',\n",
        "]\n",
        "for idx, label in enumerate(labelled_diagnoses):\n",
        "    df.diagnosis = df.diagnosis.replace(label, idx)\n",
        "df.head()"
      ],
      "execution_count": 121,
      "outputs": [
        {
          "output_type": "execute_result",
          "data": {
            "text/html": [
              "<div>\n",
              "<style scoped>\n",
              "    .dataframe tbody tr th:only-of-type {\n",
              "        vertical-align: middle;\n",
              "    }\n",
              "\n",
              "    .dataframe tbody tr th {\n",
              "        vertical-align: top;\n",
              "    }\n",
              "\n",
              "    .dataframe thead th {\n",
              "        text-align: right;\n",
              "    }\n",
              "</style>\n",
              "<table border=\"1\" class=\"dataframe\">\n",
              "  <thead>\n",
              "    <tr style=\"text-align: right;\">\n",
              "      <th></th>\n",
              "      <th>mean radius</th>\n",
              "      <th>mean texture</th>\n",
              "      <th>mean perimeter</th>\n",
              "      <th>mean area</th>\n",
              "      <th>mean smoothness</th>\n",
              "      <th>mean compactness</th>\n",
              "      <th>mean concavity</th>\n",
              "      <th>mean concave points</th>\n",
              "      <th>mean symmetry</th>\n",
              "      <th>mean fractal dimension</th>\n",
              "      <th>radius error</th>\n",
              "      <th>texture error</th>\n",
              "      <th>perimeter error</th>\n",
              "      <th>area error</th>\n",
              "      <th>smoothness error</th>\n",
              "      <th>compactness error</th>\n",
              "      <th>concavity error</th>\n",
              "      <th>concave points error</th>\n",
              "      <th>symmetry error</th>\n",
              "      <th>fractal dimension error</th>\n",
              "      <th>worst radius</th>\n",
              "      <th>worst texture</th>\n",
              "      <th>worst perimeter</th>\n",
              "      <th>worst area</th>\n",
              "      <th>worst smoothness</th>\n",
              "      <th>worst compactness</th>\n",
              "      <th>worst concavity</th>\n",
              "      <th>worst concave points</th>\n",
              "      <th>worst symmetry</th>\n",
              "      <th>worst fractal dimension</th>\n",
              "      <th>diagnosis</th>\n",
              "    </tr>\n",
              "  </thead>\n",
              "  <tbody>\n",
              "    <tr>\n",
              "      <th>0</th>\n",
              "      <td>17.99</td>\n",
              "      <td>10.38</td>\n",
              "      <td>122.80</td>\n",
              "      <td>1001.0</td>\n",
              "      <td>0.11840</td>\n",
              "      <td>0.27760</td>\n",
              "      <td>0.3001</td>\n",
              "      <td>0.14710</td>\n",
              "      <td>0.2419</td>\n",
              "      <td>0.07871</td>\n",
              "      <td>1.0950</td>\n",
              "      <td>0.9053</td>\n",
              "      <td>8.589</td>\n",
              "      <td>153.40</td>\n",
              "      <td>0.006399</td>\n",
              "      <td>0.04904</td>\n",
              "      <td>0.05373</td>\n",
              "      <td>0.01587</td>\n",
              "      <td>0.03003</td>\n",
              "      <td>0.006193</td>\n",
              "      <td>25.38</td>\n",
              "      <td>17.33</td>\n",
              "      <td>184.60</td>\n",
              "      <td>2019.0</td>\n",
              "      <td>0.1622</td>\n",
              "      <td>0.6656</td>\n",
              "      <td>0.7119</td>\n",
              "      <td>0.2654</td>\n",
              "      <td>0.4601</td>\n",
              "      <td>0.11890</td>\n",
              "      <td>1</td>\n",
              "    </tr>\n",
              "    <tr>\n",
              "      <th>1</th>\n",
              "      <td>20.57</td>\n",
              "      <td>17.77</td>\n",
              "      <td>132.90</td>\n",
              "      <td>1326.0</td>\n",
              "      <td>0.08474</td>\n",
              "      <td>0.07864</td>\n",
              "      <td>0.0869</td>\n",
              "      <td>0.07017</td>\n",
              "      <td>0.1812</td>\n",
              "      <td>0.05667</td>\n",
              "      <td>0.5435</td>\n",
              "      <td>0.7339</td>\n",
              "      <td>3.398</td>\n",
              "      <td>74.08</td>\n",
              "      <td>0.005225</td>\n",
              "      <td>0.01308</td>\n",
              "      <td>0.01860</td>\n",
              "      <td>0.01340</td>\n",
              "      <td>0.01389</td>\n",
              "      <td>0.003532</td>\n",
              "      <td>24.99</td>\n",
              "      <td>23.41</td>\n",
              "      <td>158.80</td>\n",
              "      <td>1956.0</td>\n",
              "      <td>0.1238</td>\n",
              "      <td>0.1866</td>\n",
              "      <td>0.2416</td>\n",
              "      <td>0.1860</td>\n",
              "      <td>0.2750</td>\n",
              "      <td>0.08902</td>\n",
              "      <td>1</td>\n",
              "    </tr>\n",
              "    <tr>\n",
              "      <th>2</th>\n",
              "      <td>19.69</td>\n",
              "      <td>21.25</td>\n",
              "      <td>130.00</td>\n",
              "      <td>1203.0</td>\n",
              "      <td>0.10960</td>\n",
              "      <td>0.15990</td>\n",
              "      <td>0.1974</td>\n",
              "      <td>0.12790</td>\n",
              "      <td>0.2069</td>\n",
              "      <td>0.05999</td>\n",
              "      <td>0.7456</td>\n",
              "      <td>0.7869</td>\n",
              "      <td>4.585</td>\n",
              "      <td>94.03</td>\n",
              "      <td>0.006150</td>\n",
              "      <td>0.04006</td>\n",
              "      <td>0.03832</td>\n",
              "      <td>0.02058</td>\n",
              "      <td>0.02250</td>\n",
              "      <td>0.004571</td>\n",
              "      <td>23.57</td>\n",
              "      <td>25.53</td>\n",
              "      <td>152.50</td>\n",
              "      <td>1709.0</td>\n",
              "      <td>0.1444</td>\n",
              "      <td>0.4245</td>\n",
              "      <td>0.4504</td>\n",
              "      <td>0.2430</td>\n",
              "      <td>0.3613</td>\n",
              "      <td>0.08758</td>\n",
              "      <td>1</td>\n",
              "    </tr>\n",
              "    <tr>\n",
              "      <th>3</th>\n",
              "      <td>11.42</td>\n",
              "      <td>20.38</td>\n",
              "      <td>77.58</td>\n",
              "      <td>386.1</td>\n",
              "      <td>0.14250</td>\n",
              "      <td>0.28390</td>\n",
              "      <td>0.2414</td>\n",
              "      <td>0.10520</td>\n",
              "      <td>0.2597</td>\n",
              "      <td>0.09744</td>\n",
              "      <td>0.4956</td>\n",
              "      <td>1.1560</td>\n",
              "      <td>3.445</td>\n",
              "      <td>27.23</td>\n",
              "      <td>0.009110</td>\n",
              "      <td>0.07458</td>\n",
              "      <td>0.05661</td>\n",
              "      <td>0.01867</td>\n",
              "      <td>0.05963</td>\n",
              "      <td>0.009208</td>\n",
              "      <td>14.91</td>\n",
              "      <td>26.50</td>\n",
              "      <td>98.87</td>\n",
              "      <td>567.7</td>\n",
              "      <td>0.2098</td>\n",
              "      <td>0.8663</td>\n",
              "      <td>0.6869</td>\n",
              "      <td>0.2575</td>\n",
              "      <td>0.6638</td>\n",
              "      <td>0.17300</td>\n",
              "      <td>1</td>\n",
              "    </tr>\n",
              "    <tr>\n",
              "      <th>4</th>\n",
              "      <td>20.29</td>\n",
              "      <td>14.34</td>\n",
              "      <td>135.10</td>\n",
              "      <td>1297.0</td>\n",
              "      <td>0.10030</td>\n",
              "      <td>0.13280</td>\n",
              "      <td>0.1980</td>\n",
              "      <td>0.10430</td>\n",
              "      <td>0.1809</td>\n",
              "      <td>0.05883</td>\n",
              "      <td>0.7572</td>\n",
              "      <td>0.7813</td>\n",
              "      <td>5.438</td>\n",
              "      <td>94.44</td>\n",
              "      <td>0.011490</td>\n",
              "      <td>0.02461</td>\n",
              "      <td>0.05688</td>\n",
              "      <td>0.01885</td>\n",
              "      <td>0.01756</td>\n",
              "      <td>0.005115</td>\n",
              "      <td>22.54</td>\n",
              "      <td>16.67</td>\n",
              "      <td>152.20</td>\n",
              "      <td>1575.0</td>\n",
              "      <td>0.1374</td>\n",
              "      <td>0.2050</td>\n",
              "      <td>0.4000</td>\n",
              "      <td>0.1625</td>\n",
              "      <td>0.2364</td>\n",
              "      <td>0.07678</td>\n",
              "      <td>1</td>\n",
              "    </tr>\n",
              "  </tbody>\n",
              "</table>\n",
              "</div>"
            ],
            "text/plain": [
              "   mean radius  mean texture  ...  worst fractal dimension  diagnosis\n",
              "0        17.99         10.38  ...                  0.11890          1\n",
              "1        20.57         17.77  ...                  0.08902          1\n",
              "2        19.69         21.25  ...                  0.08758          1\n",
              "3        11.42         20.38  ...                  0.17300          1\n",
              "4        20.29         14.34  ...                  0.07678          1\n",
              "\n",
              "[5 rows x 31 columns]"
            ]
          },
          "metadata": {
            "tags": []
          },
          "execution_count": 121
        }
      ]
    },
    {
      "cell_type": "code",
      "metadata": {
        "id": "fTaHfk2pDLCg",
        "colab_type": "code",
        "colab": {
          "base_uri": "https://localhost:8080/",
          "height": 247
        },
        "outputId": "3dcdc28a-a2d8-4045-804b-ee5ae8de98be"
      },
      "source": [
        "pred_y = model.predict(pred_x).reshape(xx.shape)\n",
        "pred_y"
      ],
      "execution_count": 122,
      "outputs": [
        {
          "output_type": "execute_result",
          "data": {
            "text/plain": [
              "array([['benign', 'benign', 'benign', ..., 'malignant', 'malignant',\n",
              "        'malignant'],\n",
              "       ['benign', 'benign', 'benign', ..., 'malignant', 'malignant',\n",
              "        'malignant'],\n",
              "       ['benign', 'benign', 'benign', ..., 'malignant', 'malignant',\n",
              "        'malignant'],\n",
              "       ...,\n",
              "       ['malignant', 'malignant', 'malignant', ..., 'malignant',\n",
              "        'malignant', 'malignant'],\n",
              "       ['malignant', 'malignant', 'malignant', ..., 'malignant',\n",
              "        'malignant', 'malignant'],\n",
              "       ['malignant', 'malignant', 'malignant', ..., 'malignant',\n",
              "        'malignant', 'malignant']], dtype=object)"
            ]
          },
          "metadata": {
            "tags": []
          },
          "execution_count": 122
        }
      ]
    },
    {
      "cell_type": "code",
      "metadata": {
        "id": "rE8KVbIsDM0d",
        "colab_type": "code",
        "colab": {}
      },
      "source": [
        "# Create color maps\n",
        "cmap_light = ListedColormap(['#6FF6A5', '#F6A56F',])\n",
        "cmap_bold = ListedColormap(['#0EE664', '#E6640E',])"
      ],
      "execution_count": 0,
      "outputs": []
    },
    {
      "cell_type": "code",
      "metadata": {
        "id": "hY9VNcsGDT4q",
        "colab_type": "code",
        "colab": {
          "base_uri": "https://localhost:8080/",
          "height": 457
        },
        "outputId": "70eb8335-a9ec-43e6-be78-526baa0f8aac"
      },
      "source": [
        "markers = {\n",
        "    'benign': {'marker': 'o', 'facecolor': 'g', 'edgecolor': 'g'},\n",
        "    'malignant': {'marker': 'x', 'facecolor': 'r', 'edgecolor': 'r'},\n",
        "}\n",
        "plt.figure(figsize=(10, 7))\n",
        "for name, group in df.groupby('diagnosis'):\n",
        "    diagnoses = labelled_diagnoses[name]\n",
        "    plt.scatter(group['mean radius'], group['worst radius'],\n",
        "                c=cmap_bold.colors[name],\n",
        "                label=labelled_diagnoses[name],\n",
        "                marker=markers[diagnoses]['marker']\n",
        "               )\n",
        "    \n",
        "plt.title('Breast Cancer Diagnosis Classification Mean Radius vs Worst Radius');\n",
        "plt.xlabel('Mean Radius');\n",
        "plt.ylabel('Worst Radius');\n",
        "plt.legend();"
      ],
      "execution_count": 118,
      "outputs": [
        {
          "output_type": "display_data",
          "data": {
            "image/png": "[encoded data removed]",
            "text/plain": [
              "<Figure size 720x504 with 1 Axes>"
            ]
          },
          "metadata": {
            "tags": [],
            "needs_background": "light"
          }
        }
      ]
    },
    {
      "cell_type": "markdown",
      "metadata": {
        "id": "SngDo7nJFF0Y",
        "colab_type": "text"
      },
      "source": [
        "**Classification Using Decision Trees**"
      ]
    },
    {
      "cell_type": "markdown",
      "metadata": {
        "id": "phxq8qECFI4_",
        "colab_type": "text"
      },
      "source": [
        "There are a number of different machine learning algorithms that fall within the overall umbrella of decision trees, such as **Iterative Dichotomiser 3 (ID3) **and **Classification and Regression Tree (CART).**\n",
        "\n",
        "The ID3 algorithm aims to classify the data on the basis of each decision providing the largest information gain. To further understand this design, we also need to understand two additional concepts: entropy and information gain.\n",
        "\n",
        "Entropy: In simple terms, entropy shows the degree of uncertainty of the signal.\n",
        "\n",
        "Information gain: This quantifies the amount of uncertainty reduced if we have prior information about a variable a (the variable will be a feature in the case of machine learning models). In other words, how much information can variable a provide regarding an event. \n",
        "\n",
        "**ID3 Classification**"
      ]
    },
    {
      "cell_type": "code",
      "metadata": {
        "id": "PaYZhmH3IPCr",
        "colab_type": "code",
        "colab": {
          "base_uri": "https://localhost:8080/",
          "height": 467
        },
        "outputId": "50f3ffa7-c061-42d0-dd1f-0856110967b4"
      },
      "source": [
        "df = pd.DataFrame()\n",
        "df['Outlook'] = [\n",
        "    'sunny', 'sunny', 'overcast', 'rain', 'rain', 'rain',\n",
        "    'overcast', 'sunny', 'sunny', 'rain', 'sunny',\n",
        "    'overcast', 'overcast', 'rain'\n",
        "]\n",
        "df['Temperature'] = [\n",
        "    'hot', 'hot', 'hot', 'mild', 'cool', 'cool', 'cool',\n",
        "    'mild', 'cool', 'mild', 'mild', 'mild', 'hot', 'mild',\n",
        "]\n",
        "df['Humidity'] = [\n",
        "    'high', 'high', 'high', 'high', 'normal', 'normal', 'normal', \n",
        "    'high', 'normal', 'normal', 'normal', 'high', 'normal', 'high'\n",
        "]\n",
        "df['Windy'] = [\n",
        "    'Weak', 'Strong', 'Weak', 'Weak', 'Weak', 'Strong', 'Strong', 'Weak', 'Weak', 'Weak',\n",
        "    'Strong', 'Strong', 'Weak', 'Strong'\n",
        "]\n",
        "df['Decision'] = [\n",
        "    'N', 'N', 'P', 'P', 'P', 'N', 'P', 'N', 'P', 'P',\n",
        "    'P', 'P', 'P', 'N'\n",
        "]\n",
        "df"
      ],
      "execution_count": 123,
      "outputs": [
        {
          "output_type": "execute_result",
          "data": {
            "text/html": [
              "<div>\n",
              "<style scoped>\n",
              "    .dataframe tbody tr th:only-of-type {\n",
              "        vertical-align: middle;\n",
              "    }\n",
              "\n",
              "    .dataframe tbody tr th {\n",
              "        vertical-align: top;\n",
              "    }\n",
              "\n",
              "    .dataframe thead th {\n",
              "        text-align: right;\n",
              "    }\n",
              "</style>\n",
              "<table border=\"1\" class=\"dataframe\">\n",
              "  <thead>\n",
              "    <tr style=\"text-align: right;\">\n",
              "      <th></th>\n",
              "      <th>Outlook</th>\n",
              "      <th>Temperature</th>\n",
              "      <th>Humidity</th>\n",
              "      <th>Windy</th>\n",
              "      <th>Decision</th>\n",
              "    </tr>\n",
              "  </thead>\n",
              "  <tbody>\n",
              "    <tr>\n",
              "      <th>0</th>\n",
              "      <td>sunny</td>\n",
              "      <td>hot</td>\n",
              "      <td>high</td>\n",
              "      <td>Weak</td>\n",
              "      <td>N</td>\n",
              "    </tr>\n",
              "    <tr>\n",
              "      <th>1</th>\n",
              "      <td>sunny</td>\n",
              "      <td>hot</td>\n",
              "      <td>high</td>\n",
              "      <td>Strong</td>\n",
              "      <td>N</td>\n",
              "    </tr>\n",
              "    <tr>\n",
              "      <th>2</th>\n",
              "      <td>overcast</td>\n",
              "      <td>hot</td>\n",
              "      <td>high</td>\n",
              "      <td>Weak</td>\n",
              "      <td>P</td>\n",
              "    </tr>\n",
              "    <tr>\n",
              "      <th>3</th>\n",
              "      <td>rain</td>\n",
              "      <td>mild</td>\n",
              "      <td>high</td>\n",
              "      <td>Weak</td>\n",
              "      <td>P</td>\n",
              "    </tr>\n",
              "    <tr>\n",
              "      <th>4</th>\n",
              "      <td>rain</td>\n",
              "      <td>cool</td>\n",
              "      <td>normal</td>\n",
              "      <td>Weak</td>\n",
              "      <td>P</td>\n",
              "    </tr>\n",
              "    <tr>\n",
              "      <th>5</th>\n",
              "      <td>rain</td>\n",
              "      <td>cool</td>\n",
              "      <td>normal</td>\n",
              "      <td>Strong</td>\n",
              "      <td>N</td>\n",
              "    </tr>\n",
              "    <tr>\n",
              "      <th>6</th>\n",
              "      <td>overcast</td>\n",
              "      <td>cool</td>\n",
              "      <td>normal</td>\n",
              "      <td>Strong</td>\n",
              "      <td>P</td>\n",
              "    </tr>\n",
              "    <tr>\n",
              "      <th>7</th>\n",
              "      <td>sunny</td>\n",
              "      <td>mild</td>\n",
              "      <td>high</td>\n",
              "      <td>Weak</td>\n",
              "      <td>N</td>\n",
              "    </tr>\n",
              "    <tr>\n",
              "      <th>8</th>\n",
              "      <td>sunny</td>\n",
              "      <td>cool</td>\n",
              "      <td>normal</td>\n",
              "      <td>Weak</td>\n",
              "      <td>P</td>\n",
              "    </tr>\n",
              "    <tr>\n",
              "      <th>9</th>\n",
              "      <td>rain</td>\n",
              "      <td>mild</td>\n",
              "      <td>normal</td>\n",
              "      <td>Weak</td>\n",
              "      <td>P</td>\n",
              "    </tr>\n",
              "    <tr>\n",
              "      <th>10</th>\n",
              "      <td>sunny</td>\n",
              "      <td>mild</td>\n",
              "      <td>normal</td>\n",
              "      <td>Strong</td>\n",
              "      <td>P</td>\n",
              "    </tr>\n",
              "    <tr>\n",
              "      <th>11</th>\n",
              "      <td>overcast</td>\n",
              "      <td>mild</td>\n",
              "      <td>high</td>\n",
              "      <td>Strong</td>\n",
              "      <td>P</td>\n",
              "    </tr>\n",
              "    <tr>\n",
              "      <th>12</th>\n",
              "      <td>overcast</td>\n",
              "      <td>hot</td>\n",
              "      <td>normal</td>\n",
              "      <td>Weak</td>\n",
              "      <td>P</td>\n",
              "    </tr>\n",
              "    <tr>\n",
              "      <th>13</th>\n",
              "      <td>rain</td>\n",
              "      <td>mild</td>\n",
              "      <td>high</td>\n",
              "      <td>Strong</td>\n",
              "      <td>N</td>\n",
              "    </tr>\n",
              "  </tbody>\n",
              "</table>\n",
              "</div>"
            ],
            "text/plain": [
              "     Outlook Temperature Humidity   Windy Decision\n",
              "0      sunny         hot     high    Weak        N\n",
              "1      sunny         hot     high  Strong        N\n",
              "2   overcast         hot     high    Weak        P\n",
              "3       rain        mild     high    Weak        P\n",
              "4       rain        cool   normal    Weak        P\n",
              "5       rain        cool   normal  Strong        N\n",
              "6   overcast        cool   normal  Strong        P\n",
              "7      sunny        mild     high    Weak        N\n",
              "8      sunny        cool   normal    Weak        P\n",
              "9       rain        mild   normal    Weak        P\n",
              "10     sunny        mild   normal  Strong        P\n",
              "11  overcast        mild     high  Strong        P\n",
              "12  overcast         hot   normal    Weak        P\n",
              "13      rain        mild     high  Strong        N"
            ]
          },
          "metadata": {
            "tags": []
          },
          "execution_count": 123
        }
      ]
    },
    {
      "cell_type": "markdown",
      "metadata": {
        "id": "fc6m1h_oIjAb",
        "colab_type": "text"
      },
      "source": [
        " The ID3 algorithm starts by taking a small sample of the training set at random and fitting the tree to this window. This can be a useful method for large datasets, but given that ours is quite small, we will simply start with the entire training set. The first step is to calculate the entropy for the Decision column, where there are two possible values, or classes, P and N:"
      ]
    },
    {
      "cell_type": "code",
      "metadata": {
        "id": "WnSZClU5IlNf",
        "colab_type": "code",
        "colab": {
          "base_uri": "https://localhost:8080/",
          "height": 34
        },
        "outputId": "47ec32f8-b4e7-462e-b988-69a32cb2fa6e"
      },
      "source": [
        "# Probability of P\n",
        "p_p = len(df.loc[df.Decision == 'P']) / len(df)\n",
        "# Probability of N\n",
        "p_n = len(df.loc[df.Decision == 'N']) / len(df)\n",
        "entropy_decision = -p_n * np.log2(p_n) - p_p * np.log2(p_p)\n",
        "print(f'H(S) = {entropy_decision:0.4f}')"
      ],
      "execution_count": 124,
      "outputs": [
        {
          "output_type": "stream",
          "text": [
            "H(S) = 0.9403\n"
          ],
          "name": "stdout"
        }
      ]
    },
    {
      "cell_type": "code",
      "metadata": {
        "id": "8_L_4zTYIv1h",
        "colab_type": "code",
        "colab": {}
      },
      "source": [
        "def f_entropy_decision(data):\n",
        "    p_p = len(data.loc[data.Decision == 'P']) / len(data)\n",
        "    p_n = len(data.loc[data.Decision == 'N']) / len(data)\n",
        "    return -p_n * np.log2(p_n) - p_p * np.log2(p_p)"
      ],
      "execution_count": 0,
      "outputs": []
    },
    {
      "cell_type": "code",
      "metadata": {
        "id": "fBlxqndII3y8",
        "colab_type": "code",
        "colab": {
          "base_uri": "https://localhost:8080/",
          "height": 338
        },
        "outputId": "c1bf4d69-f4a5-4688-c6cc-d71ccf1c3c8e"
      },
      "source": [
        "IG_decision_Outlook = entropy_decision # H(S)\n",
        "# Create a string to print out the overall equation\n",
        "overall_eqn = 'Gain(Decision, Outlook) = Entropy(Decision)' \n",
        "# Iterate through the values for outlook and compute the probabilities\n",
        "# and entropy values\n",
        "for name, Outlook in df.groupby('Outlook'):\n",
        "    num_p = len(Outlook.loc[Outlook.Decision == 'P'])\n",
        "    num_n = len(Outlook.loc[Outlook.Decision != 'P'])\n",
        "    num_Outlook = len(Outlook)\n",
        "    print(f'p(Decision=P|Outlook={name}) = {num_p}/{num_Outlook}')\n",
        "    print(f'p(Decision=N|Outlook={name}) = {num_n}/{num_Outlook}')    \n",
        "    print(f'p(Outlook={name}) = {num_Outlook}/{len(df)}')\n",
        "    print(f'Entropy(Decision|Outlook={name}) = '\\\n",
        "         f'-{num_p}/{num_Outlook}.log2({num_p}/{num_Outlook}) - '\\\n",
        "         f'{num_n}/{num_Outlook}.log2({num_n}/{num_Outlook})')\n",
        "    \n",
        "    entropy_decision_outlook = 0\n",
        "    \n",
        "    # Cannot compute log of 0 so add checks\n",
        "    if num_p != 0:\n",
        "        entropy_decision_outlook -= (num_p / num_Outlook) \\\n",
        "            * np.log2(num_p / num_Outlook)\n",
        "     \n",
        "    # Cannot compute log of 0 so add checks\n",
        "    if num_n != 0:\n",
        "        entropy_decision_outlook -= (num_n / num_Outlook) \\\n",
        "            * np.log2(num_n / num_Outlook)\n",
        "    \n",
        "    IG_decision_Outlook -= (num_Outlook / len(df)) * entropy_decision_outlook\n",
        "    print()\n",
        "    overall_eqn += f' - p(Outlook={name}).'\n",
        "    overall_eqn += f'Entropy(Decision|Outlook={name})'\n",
        "print(overall_eqn)\n",
        "print(f'Gain(Decision, Outlook) = {IG_decision_Outlook:0.4f}')"
      ],
      "execution_count": 127,
      "outputs": [
        {
          "output_type": "stream",
          "text": [
            "p(Decision=P|Outlook=overcast) = 4/4\n",
            "p(Decision=N|Outlook=overcast) = 0/4\n",
            "p(Outlook=overcast) = 4/14\n",
            "Entropy(Decision|Outlook=overcast) = -4/4.log2(4/4) - 0/4.log2(0/4)\n",
            "\n",
            "p(Decision=P|Outlook=rain) = 3/5\n",
            "p(Decision=N|Outlook=rain) = 2/5\n",
            "p(Outlook=rain) = 5/14\n",
            "Entropy(Decision|Outlook=rain) = -3/5.log2(3/5) - 2/5.log2(2/5)\n",
            "\n",
            "p(Decision=P|Outlook=sunny) = 2/5\n",
            "p(Decision=N|Outlook=sunny) = 3/5\n",
            "p(Outlook=sunny) = 5/14\n",
            "Entropy(Decision|Outlook=sunny) = -2/5.log2(2/5) - 3/5.log2(3/5)\n",
            "\n",
            "Gain(Decision, Outlook) = Entropy(Decision) - p(Outlook=overcast).Entropy(Decision|Outlook=overcast) - p(Outlook=rain).Entropy(Decision|Outlook=rain) - p(Outlook=sunny).Entropy(Decision|Outlook=sunny)\n",
            "Gain(Decision, Outlook) = 0.2467\n"
          ],
          "name": "stdout"
        }
      ]
    },
    {
      "cell_type": "markdown",
      "metadata": {
        "id": "wMKSk9scJGae",
        "colab_type": "text"
      },
      "source": [
        "We need to repeat this process quite a few times, so wrap it in a function for ease of use later:"
      ]
    },
    {
      "cell_type": "code",
      "metadata": {
        "id": "kEYdG_yeJHHc",
        "colab_type": "code",
        "colab": {}
      },
      "source": [
        "def IG(data, column, ent_decision=entropy_decision):\n",
        "    IG_decision = ent_decision\n",
        "    for name, temp in data.groupby(column):\n",
        "        p_p = len(temp.loc[temp.Decision == 'P']) / len(temp)\n",
        "        p_n = len(temp.loc[temp.Decision != 'P']) / len(temp)\n",
        "        entropy_decision = 0\n",
        "        if p_p != 0:\n",
        "            entropy_decision -= (p_p) * np.log2(p_p)\n",
        "        if p_n != 0:\n",
        "            entropy_decision -= (p_n) * np.log2(p_n)\n",
        "        IG_decision -= (len(temp) / len(df)) * entropy_decision\n",
        "    return IG_decision"
      ],
      "execution_count": 0,
      "outputs": []
    },
    {
      "cell_type": "markdown",
      "metadata": {
        "id": "BnGAFAAFJOll",
        "colab_type": "text"
      },
      "source": [
        "Repeat this process for each of the other columns to compute the corresponding information gain:"
      ]
    },
    {
      "cell_type": "code",
      "metadata": {
        "id": "SdgT6xVlJPbY",
        "colab_type": "code",
        "colab": {
          "base_uri": "https://localhost:8080/",
          "height": 87
        },
        "outputId": "12318a6d-0c9f-4b3b-805c-4a98b46cf77d"
      },
      "source": [
        "for col in df.columns[:-1]:\n",
        "    print(f'Gain(Decision, {col}) = {IG(df, col):0.4f}')"
      ],
      "execution_count": 129,
      "outputs": [
        {
          "output_type": "stream",
          "text": [
            "Gain(Decision, Outlook) = 0.2467\n",
            "Gain(Decision, Temperature) = 0.0292\n",
            "Gain(Decision, Humidity) = 0.1518\n",
            "Gain(Decision, Windy) = 0.0481\n"
          ],
          "name": "stdout"
        }
      ]
    },
    {
      "cell_type": "markdown",
      "metadata": {
        "id": "apZ-inJuJTto",
        "colab_type": "text"
      },
      "source": [
        "This information provides the first decision of the tree. We want to split on the maximum information gain, so we split on Outlook. Look at the data splitting on Outlook:"
      ]
    },
    {
      "cell_type": "code",
      "metadata": {
        "id": "QJlx8z-uJTPR",
        "colab_type": "code",
        "colab": {
          "base_uri": "https://localhost:8080/",
          "height": 532
        },
        "outputId": "32f6184e-a07d-4cc5-89fb-f1ee6af73ef4"
      },
      "source": [
        "for name, temp in df.groupby('Outlook'):\n",
        "    print('-' * 15)\n",
        "    print(name)\n",
        "    print('-' * 15)\n",
        "    print(temp)\n",
        "    print('-' * 15)"
      ],
      "execution_count": 130,
      "outputs": [
        {
          "output_type": "stream",
          "text": [
            "---------------\n",
            "overcast\n",
            "---------------\n",
            "     Outlook Temperature Humidity   Windy Decision\n",
            "2   overcast         hot     high    Weak        P\n",
            "6   overcast        cool   normal  Strong        P\n",
            "11  overcast        mild     high  Strong        P\n",
            "12  overcast         hot   normal    Weak        P\n",
            "---------------\n",
            "---------------\n",
            "rain\n",
            "---------------\n",
            "   Outlook Temperature Humidity   Windy Decision\n",
            "3     rain        mild     high    Weak        P\n",
            "4     rain        cool   normal    Weak        P\n",
            "5     rain        cool   normal  Strong        N\n",
            "9     rain        mild   normal    Weak        P\n",
            "13    rain        mild     high  Strong        N\n",
            "---------------\n",
            "---------------\n",
            "sunny\n",
            "---------------\n",
            "   Outlook Temperature Humidity   Windy Decision\n",
            "0    sunny         hot     high    Weak        N\n",
            "1    sunny         hot     high  Strong        N\n",
            "7    sunny        mild     high    Weak        N\n",
            "8    sunny        cool   normal    Weak        P\n",
            "10   sunny        mild   normal  Strong        P\n",
            "---------------\n"
          ],
          "name": "stdout"
        }
      ]
    },
    {
      "cell_type": "markdown",
      "metadata": {
        "id": "yHJFtVVvJp5Z",
        "colab_type": "text"
      },
      "source": [
        "We now repeat this process, splitting by information gain until all the data is allocated and all branches of the tree terminate. First, remove the overcast samples, as they no longer provide any additional information:"
      ]
    },
    {
      "cell_type": "code",
      "metadata": {
        "id": "GPqIOqHFJquo",
        "colab_type": "code",
        "colab": {
          "base_uri": "https://localhost:8080/",
          "height": 347
        },
        "outputId": "5ec246a2-eb83-4bc1-b40b-550b431e6faf"
      },
      "source": [
        "df_next = df.loc[df.Outlook != 'overcast']\n",
        "df_next"
      ],
      "execution_count": 131,
      "outputs": [
        {
          "output_type": "execute_result",
          "data": {
            "text/html": [
              "<div>\n",
              "<style scoped>\n",
              "    .dataframe tbody tr th:only-of-type {\n",
              "        vertical-align: middle;\n",
              "    }\n",
              "\n",
              "    .dataframe tbody tr th {\n",
              "        vertical-align: top;\n",
              "    }\n",
              "\n",
              "    .dataframe thead th {\n",
              "        text-align: right;\n",
              "    }\n",
              "</style>\n",
              "<table border=\"1\" class=\"dataframe\">\n",
              "  <thead>\n",
              "    <tr style=\"text-align: right;\">\n",
              "      <th></th>\n",
              "      <th>Outlook</th>\n",
              "      <th>Temperature</th>\n",
              "      <th>Humidity</th>\n",
              "      <th>Windy</th>\n",
              "      <th>Decision</th>\n",
              "    </tr>\n",
              "  </thead>\n",
              "  <tbody>\n",
              "    <tr>\n",
              "      <th>0</th>\n",
              "      <td>sunny</td>\n",
              "      <td>hot</td>\n",
              "      <td>high</td>\n",
              "      <td>Weak</td>\n",
              "      <td>N</td>\n",
              "    </tr>\n",
              "    <tr>\n",
              "      <th>1</th>\n",
              "      <td>sunny</td>\n",
              "      <td>hot</td>\n",
              "      <td>high</td>\n",
              "      <td>Strong</td>\n",
              "      <td>N</td>\n",
              "    </tr>\n",
              "    <tr>\n",
              "      <th>3</th>\n",
              "      <td>rain</td>\n",
              "      <td>mild</td>\n",
              "      <td>high</td>\n",
              "      <td>Weak</td>\n",
              "      <td>P</td>\n",
              "    </tr>\n",
              "    <tr>\n",
              "      <th>4</th>\n",
              "      <td>rain</td>\n",
              "      <td>cool</td>\n",
              "      <td>normal</td>\n",
              "      <td>Weak</td>\n",
              "      <td>P</td>\n",
              "    </tr>\n",
              "    <tr>\n",
              "      <th>5</th>\n",
              "      <td>rain</td>\n",
              "      <td>cool</td>\n",
              "      <td>normal</td>\n",
              "      <td>Strong</td>\n",
              "      <td>N</td>\n",
              "    </tr>\n",
              "    <tr>\n",
              "      <th>7</th>\n",
              "      <td>sunny</td>\n",
              "      <td>mild</td>\n",
              "      <td>high</td>\n",
              "      <td>Weak</td>\n",
              "      <td>N</td>\n",
              "    </tr>\n",
              "    <tr>\n",
              "      <th>8</th>\n",
              "      <td>sunny</td>\n",
              "      <td>cool</td>\n",
              "      <td>normal</td>\n",
              "      <td>Weak</td>\n",
              "      <td>P</td>\n",
              "    </tr>\n",
              "    <tr>\n",
              "      <th>9</th>\n",
              "      <td>rain</td>\n",
              "      <td>mild</td>\n",
              "      <td>normal</td>\n",
              "      <td>Weak</td>\n",
              "      <td>P</td>\n",
              "    </tr>\n",
              "    <tr>\n",
              "      <th>10</th>\n",
              "      <td>sunny</td>\n",
              "      <td>mild</td>\n",
              "      <td>normal</td>\n",
              "      <td>Strong</td>\n",
              "      <td>P</td>\n",
              "    </tr>\n",
              "    <tr>\n",
              "      <th>13</th>\n",
              "      <td>rain</td>\n",
              "      <td>mild</td>\n",
              "      <td>high</td>\n",
              "      <td>Strong</td>\n",
              "      <td>N</td>\n",
              "    </tr>\n",
              "  </tbody>\n",
              "</table>\n",
              "</div>"
            ],
            "text/plain": [
              "   Outlook Temperature Humidity   Windy Decision\n",
              "0    sunny         hot     high    Weak        N\n",
              "1    sunny         hot     high  Strong        N\n",
              "3     rain        mild     high    Weak        P\n",
              "4     rain        cool   normal    Weak        P\n",
              "5     rain        cool   normal  Strong        N\n",
              "7    sunny        mild     high    Weak        N\n",
              "8    sunny        cool   normal    Weak        P\n",
              "9     rain        mild   normal    Weak        P\n",
              "10   sunny        mild   normal  Strong        P\n",
              "13    rain        mild     high  Strong        N"
            ]
          },
          "metadata": {
            "tags": []
          },
          "execution_count": 131
        }
      ]
    },
    {
      "cell_type": "markdown",
      "metadata": {
        "id": "bA5iF-t6J2uq",
        "colab_type": "text"
      },
      "source": [
        "So, the last set of data that requires classification is the rainy outlook data. Extract only the rain data and rerun the entropy calculation:"
      ]
    },
    {
      "cell_type": "code",
      "metadata": {
        "id": "sqhxiM_mJ3qP",
        "colab_type": "code",
        "colab": {
          "base_uri": "https://localhost:8080/",
          "height": 34
        },
        "outputId": "b4e62bb5-ca54-4114-f095-ede8fd6b1247"
      },
      "source": [
        "df_rain = df_next.loc[df_next.Outlook == 'rain']\n",
        "entropy_decision = f_entropy_decision(df_rain)\n",
        "entropy_decision"
      ],
      "execution_count": 132,
      "outputs": [
        {
          "output_type": "execute_result",
          "data": {
            "text/plain": [
              "0.9709505944546686"
            ]
          },
          "metadata": {
            "tags": []
          },
          "execution_count": 132
        }
      ]
    },
    {
      "cell_type": "markdown",
      "metadata": {
        "id": "i4SQ9Fl6J9Lc",
        "colab_type": "text"
      },
      "source": [
        "Repeat the gain calculation with the rain subset:"
      ]
    },
    {
      "cell_type": "code",
      "metadata": {
        "id": "2ZupcTSkJ95T",
        "colab_type": "code",
        "colab": {
          "base_uri": "https://localhost:8080/",
          "height": 70
        },
        "outputId": "a23b350b-cb5c-4c3b-c909-77da9aa54c0a"
      },
      "source": [
        "for col in df_rain.columns[1:-1]:\n",
        "    print(f'Gain(Decision, {col}) = {IG(df_rain, col, entropy_decision):0.4f}')"
      ],
      "execution_count": 133,
      "outputs": [
        {
          "output_type": "stream",
          "text": [
            "Gain(Decision, Temperature) = 0.6313\n",
            "Gain(Decision, Humidity) = 0.6313\n",
            "Gain(Decision, Windy) = 0.9710\n"
          ],
          "name": "stdout"
        }
      ]
    },
    {
      "cell_type": "markdown",
      "metadata": {
        "id": "OXIquwReKD1w",
        "colab_type": "text"
      },
      "source": [
        "Again, splitting on the attribute with the largest gain value requires splitting on the Windy values. So, group the remaining information by Windy:"
      ]
    },
    {
      "cell_type": "code",
      "metadata": {
        "id": "y1UfcUcdKEZQ",
        "colab_type": "code",
        "colab": {
          "base_uri": "https://localhost:8080/",
          "height": 283
        },
        "outputId": "04298ae1-bc2e-48c5-89f5-2ffac07702b8"
      },
      "source": [
        "for name, temp in df_rain.groupby('Windy'):\n",
        "    print('-' * 15)\n",
        "    print(name)\n",
        "    print('-' * 15)\n",
        "    print(temp)\n",
        "    print('-' * 15)"
      ],
      "execution_count": 134,
      "outputs": [
        {
          "output_type": "stream",
          "text": [
            "---------------\n",
            "Strong\n",
            "---------------\n",
            "   Outlook Temperature Humidity   Windy Decision\n",
            "5     rain        cool   normal  Strong        N\n",
            "13    rain        mild     high  Strong        N\n",
            "---------------\n",
            "---------------\n",
            "Weak\n",
            "---------------\n",
            "  Outlook Temperature Humidity Windy Decision\n",
            "3    rain        mild     high  Weak        P\n",
            "4    rain        cool   normal  Weak        P\n",
            "9    rain        mild   normal  Weak        P\n",
            "---------------\n"
          ],
          "name": "stdout"
        }
      ]
    },
    {
      "cell_type": "markdown",
      "metadata": {
        "id": "eqQVlvjnKRj1",
        "colab_type": "text"
      },
      "source": [
        "1. Decision trees, very much like KNN models, are discriminative models.\n",
        "2. Discriminative models are the models that aim to maximize the conditional probability of the class of data given the features. \n",
        "3. The opposite of discriminative models is generative models, which learn the joint probability of data classes and features and, hence, learn the distribution of data to generate artificial samples.\n",
        "\n",
        "hopefully, you have a reasonable understanding of the underlying concept of decision trees and the process of making sequential decisions. With the principles of decision trees in our toolkit, we will now look at applying a more complicated model using the functionality provided in scikit-learn.\n"
      ]
    },
    {
      "cell_type": "markdown",
      "metadata": {
        "id": "AmdRCT1UKtwJ",
        "colab_type": "text"
      },
      "source": [
        "**Classification and Regression Tree (CART)**\n",
        "\n",
        "1. provides the ability to use decision trees in both classification and regression problems. \n",
        "2. CART differs from ID3 in that the decisions are made by comparing the values of features against a calculated value. ID3 serves the purpose well when data is categorical\n",
        "3. Once data becomes continuous, CART is used, which calculates the threshold value for comparison with a feature value. And because, in such comparisons, there can only be two possible outcomes – (a) the feature value is greater than (or equal to) the threshold value or, (b) the feature value is less than (or equal to) the threshold value – hence, CART results in binary trees.whereas ID3 creates multiway trees.\n",
        "4. CART uses measure called the **gini impurity** measure. \n",
        "5. Conceptually, this is a measure of the following: if we randomly pick a data point in our dataset and if we randomly classify (label) it according to the class distribution in the dataset, then what is the probability of classifying the data point incorrectly?\n"
      ]
    },
    {
      "cell_type": "code",
      "metadata": {
        "id": "tBgEN9uOOaPJ",
        "colab_type": "code",
        "colab": {}
      },
      "source": [
        "from sklearn.tree import DecisionTreeClassifier"
      ],
      "execution_count": 0,
      "outputs": []
    },
    {
      "cell_type": "code",
      "metadata": {
        "id": "y8yAXm7nOhqb",
        "colab_type": "code",
        "colab": {
          "base_uri": "https://localhost:8080/",
          "height": 251
        },
        "outputId": "2dc1c938-5c8b-4679-97fd-d849e975e320"
      },
      "source": [
        "df = pd.read_csv(filepath1,sep= \",\")\n",
        "df.head()"
      ],
      "execution_count": 137,
      "outputs": [
        {
          "output_type": "execute_result",
          "data": {
            "text/html": [
              "<div>\n",
              "<style scoped>\n",
              "    .dataframe tbody tr th:only-of-type {\n",
              "        vertical-align: middle;\n",
              "    }\n",
              "\n",
              "    .dataframe tbody tr th {\n",
              "        vertical-align: top;\n",
              "    }\n",
              "\n",
              "    .dataframe thead th {\n",
              "        text-align: right;\n",
              "    }\n",
              "</style>\n",
              "<table border=\"1\" class=\"dataframe\">\n",
              "  <thead>\n",
              "    <tr style=\"text-align: right;\">\n",
              "      <th></th>\n",
              "      <th>mean radius</th>\n",
              "      <th>mean texture</th>\n",
              "      <th>mean perimeter</th>\n",
              "      <th>mean area</th>\n",
              "      <th>mean smoothness</th>\n",
              "      <th>mean compactness</th>\n",
              "      <th>mean concavity</th>\n",
              "      <th>mean concave points</th>\n",
              "      <th>mean symmetry</th>\n",
              "      <th>mean fractal dimension</th>\n",
              "      <th>radius error</th>\n",
              "      <th>texture error</th>\n",
              "      <th>perimeter error</th>\n",
              "      <th>area error</th>\n",
              "      <th>smoothness error</th>\n",
              "      <th>compactness error</th>\n",
              "      <th>concavity error</th>\n",
              "      <th>concave points error</th>\n",
              "      <th>symmetry error</th>\n",
              "      <th>fractal dimension error</th>\n",
              "      <th>worst radius</th>\n",
              "      <th>worst texture</th>\n",
              "      <th>worst perimeter</th>\n",
              "      <th>worst area</th>\n",
              "      <th>worst smoothness</th>\n",
              "      <th>worst compactness</th>\n",
              "      <th>worst concavity</th>\n",
              "      <th>worst concave points</th>\n",
              "      <th>worst symmetry</th>\n",
              "      <th>worst fractal dimension</th>\n",
              "      <th>diagnosis</th>\n",
              "    </tr>\n",
              "  </thead>\n",
              "  <tbody>\n",
              "    <tr>\n",
              "      <th>0</th>\n",
              "      <td>17.99</td>\n",
              "      <td>10.38</td>\n",
              "      <td>122.80</td>\n",
              "      <td>1001.0</td>\n",
              "      <td>0.11840</td>\n",
              "      <td>0.27760</td>\n",
              "      <td>0.3001</td>\n",
              "      <td>0.14710</td>\n",
              "      <td>0.2419</td>\n",
              "      <td>0.07871</td>\n",
              "      <td>1.0950</td>\n",
              "      <td>0.9053</td>\n",
              "      <td>8.589</td>\n",
              "      <td>153.40</td>\n",
              "      <td>0.006399</td>\n",
              "      <td>0.04904</td>\n",
              "      <td>0.05373</td>\n",
              "      <td>0.01587</td>\n",
              "      <td>0.03003</td>\n",
              "      <td>0.006193</td>\n",
              "      <td>25.38</td>\n",
              "      <td>17.33</td>\n",
              "      <td>184.60</td>\n",
              "      <td>2019.0</td>\n",
              "      <td>0.1622</td>\n",
              "      <td>0.6656</td>\n",
              "      <td>0.7119</td>\n",
              "      <td>0.2654</td>\n",
              "      <td>0.4601</td>\n",
              "      <td>0.11890</td>\n",
              "      <td>malignant</td>\n",
              "    </tr>\n",
              "    <tr>\n",
              "      <th>1</th>\n",
              "      <td>20.57</td>\n",
              "      <td>17.77</td>\n",
              "      <td>132.90</td>\n",
              "      <td>1326.0</td>\n",
              "      <td>0.08474</td>\n",
              "      <td>0.07864</td>\n",
              "      <td>0.0869</td>\n",
              "      <td>0.07017</td>\n",
              "      <td>0.1812</td>\n",
              "      <td>0.05667</td>\n",
              "      <td>0.5435</td>\n",
              "      <td>0.7339</td>\n",
              "      <td>3.398</td>\n",
              "      <td>74.08</td>\n",
              "      <td>0.005225</td>\n",
              "      <td>0.01308</td>\n",
              "      <td>0.01860</td>\n",
              "      <td>0.01340</td>\n",
              "      <td>0.01389</td>\n",
              "      <td>0.003532</td>\n",
              "      <td>24.99</td>\n",
              "      <td>23.41</td>\n",
              "      <td>158.80</td>\n",
              "      <td>1956.0</td>\n",
              "      <td>0.1238</td>\n",
              "      <td>0.1866</td>\n",
              "      <td>0.2416</td>\n",
              "      <td>0.1860</td>\n",
              "      <td>0.2750</td>\n",
              "      <td>0.08902</td>\n",
              "      <td>malignant</td>\n",
              "    </tr>\n",
              "    <tr>\n",
              "      <th>2</th>\n",
              "      <td>19.69</td>\n",
              "      <td>21.25</td>\n",
              "      <td>130.00</td>\n",
              "      <td>1203.0</td>\n",
              "      <td>0.10960</td>\n",
              "      <td>0.15990</td>\n",
              "      <td>0.1974</td>\n",
              "      <td>0.12790</td>\n",
              "      <td>0.2069</td>\n",
              "      <td>0.05999</td>\n",
              "      <td>0.7456</td>\n",
              "      <td>0.7869</td>\n",
              "      <td>4.585</td>\n",
              "      <td>94.03</td>\n",
              "      <td>0.006150</td>\n",
              "      <td>0.04006</td>\n",
              "      <td>0.03832</td>\n",
              "      <td>0.02058</td>\n",
              "      <td>0.02250</td>\n",
              "      <td>0.004571</td>\n",
              "      <td>23.57</td>\n",
              "      <td>25.53</td>\n",
              "      <td>152.50</td>\n",
              "      <td>1709.0</td>\n",
              "      <td>0.1444</td>\n",
              "      <td>0.4245</td>\n",
              "      <td>0.4504</td>\n",
              "      <td>0.2430</td>\n",
              "      <td>0.3613</td>\n",
              "      <td>0.08758</td>\n",
              "      <td>malignant</td>\n",
              "    </tr>\n",
              "    <tr>\n",
              "      <th>3</th>\n",
              "      <td>11.42</td>\n",
              "      <td>20.38</td>\n",
              "      <td>77.58</td>\n",
              "      <td>386.1</td>\n",
              "      <td>0.14250</td>\n",
              "      <td>0.28390</td>\n",
              "      <td>0.2414</td>\n",
              "      <td>0.10520</td>\n",
              "      <td>0.2597</td>\n",
              "      <td>0.09744</td>\n",
              "      <td>0.4956</td>\n",
              "      <td>1.1560</td>\n",
              "      <td>3.445</td>\n",
              "      <td>27.23</td>\n",
              "      <td>0.009110</td>\n",
              "      <td>0.07458</td>\n",
              "      <td>0.05661</td>\n",
              "      <td>0.01867</td>\n",
              "      <td>0.05963</td>\n",
              "      <td>0.009208</td>\n",
              "      <td>14.91</td>\n",
              "      <td>26.50</td>\n",
              "      <td>98.87</td>\n",
              "      <td>567.7</td>\n",
              "      <td>0.2098</td>\n",
              "      <td>0.8663</td>\n",
              "      <td>0.6869</td>\n",
              "      <td>0.2575</td>\n",
              "      <td>0.6638</td>\n",
              "      <td>0.17300</td>\n",
              "      <td>malignant</td>\n",
              "    </tr>\n",
              "    <tr>\n",
              "      <th>4</th>\n",
              "      <td>20.29</td>\n",
              "      <td>14.34</td>\n",
              "      <td>135.10</td>\n",
              "      <td>1297.0</td>\n",
              "      <td>0.10030</td>\n",
              "      <td>0.13280</td>\n",
              "      <td>0.1980</td>\n",
              "      <td>0.10430</td>\n",
              "      <td>0.1809</td>\n",
              "      <td>0.05883</td>\n",
              "      <td>0.7572</td>\n",
              "      <td>0.7813</td>\n",
              "      <td>5.438</td>\n",
              "      <td>94.44</td>\n",
              "      <td>0.011490</td>\n",
              "      <td>0.02461</td>\n",
              "      <td>0.05688</td>\n",
              "      <td>0.01885</td>\n",
              "      <td>0.01756</td>\n",
              "      <td>0.005115</td>\n",
              "      <td>22.54</td>\n",
              "      <td>16.67</td>\n",
              "      <td>152.20</td>\n",
              "      <td>1575.0</td>\n",
              "      <td>0.1374</td>\n",
              "      <td>0.2050</td>\n",
              "      <td>0.4000</td>\n",
              "      <td>0.1625</td>\n",
              "      <td>0.2364</td>\n",
              "      <td>0.07678</td>\n",
              "      <td>malignant</td>\n",
              "    </tr>\n",
              "  </tbody>\n",
              "</table>\n",
              "</div>"
            ],
            "text/plain": [
              "   mean radius  mean texture  ...  worst fractal dimension  diagnosis\n",
              "0        17.99         10.38  ...                  0.11890  malignant\n",
              "1        20.57         17.77  ...                  0.08902  malignant\n",
              "2        19.69         21.25  ...                  0.08758  malignant\n",
              "3        11.42         20.38  ...                  0.17300  malignant\n",
              "4        20.29         14.34  ...                  0.07678  malignant\n",
              "\n",
              "[5 rows x 31 columns]"
            ]
          },
          "metadata": {
            "tags": []
          },
          "execution_count": 137
        }
      ]
    },
    {
      "cell_type": "code",
      "metadata": {
        "id": "FqwlrzAZOvI2",
        "colab_type": "code",
        "colab": {}
      },
      "source": [
        "train_X, valid_X, train_y, valid_y = train_test_split(df[set(df.columns)-{'diagnosis'}], df.diagnosis, test_size=0.3, random_state=123)"
      ],
      "execution_count": 0,
      "outputs": []
    },
    {
      "cell_type": "code",
      "metadata": {
        "id": "SrNyBJ9wOzJA",
        "colab_type": "code",
        "colab": {
          "base_uri": "https://localhost:8080/",
          "height": 34
        },
        "outputId": "6045b808-bb7b-4e2c-9afb-be804f359077"
      },
      "source": [
        "model = DecisionTreeClassifier()\n",
        "model = model.fit(train_X, train_y)\n",
        "model.score(train_X, train_y)"
      ],
      "execution_count": 139,
      "outputs": [
        {
          "output_type": "execute_result",
          "data": {
            "text/plain": [
              "1.0"
            ]
          },
          "metadata": {
            "tags": []
          },
          "execution_count": 139
        }
      ]
    },
    {
      "cell_type": "code",
      "metadata": {
        "id": "X42mgsaHO3MC",
        "colab_type": "code",
        "colab": {
          "base_uri": "https://localhost:8080/",
          "height": 34
        },
        "outputId": "56d5b5ca-464e-4472-bf70-5e5a939fd25c"
      },
      "source": [
        "model.score(valid_X, valid_y)"
      ],
      "execution_count": 140,
      "outputs": [
        {
          "output_type": "execute_result",
          "data": {
            "text/plain": [
              "0.9239766081871345"
            ]
          },
          "metadata": {
            "tags": []
          },
          "execution_count": 140
        }
      ]
    },
    {
      "cell_type": "code",
      "metadata": {
        "id": "aOvrdWO_O7aq",
        "colab_type": "code",
        "colab": {
          "base_uri": "https://localhost:8080/",
          "height": 34
        },
        "outputId": "a5f5ec4e-ed26-4fbe-cc65-4f03472466f6"
      },
      "source": [
        "!conda install python-graphviz"
      ],
      "execution_count": 141,
      "outputs": [
        {
          "output_type": "stream",
          "text": [
            "/bin/bash: conda: command not found\n"
          ],
          "name": "stdout"
        }
      ]
    },
    {
      "cell_type": "code",
      "metadata": {
        "id": "MiBMr4J_PAAT",
        "colab_type": "code",
        "colab": {}
      },
      "source": [
        "import graphviz\n",
        "from sklearn.tree import export_graphviz"
      ],
      "execution_count": 0,
      "outputs": []
    },
    {
      "cell_type": "code",
      "metadata": {
        "id": "ja9IesOOPCtV",
        "colab_type": "code",
        "colab": {
          "base_uri": "https://localhost:8080/",
          "height": 1000
        },
        "outputId": "1914aa58-7169-48fc-ac94-d6b03a5078f2"
      },
      "source": [
        "dot_data = export_graphviz(model, out_file=None)\n",
        "graph = graphviz.Source(dot_data)\n",
        "graph"
      ],
      "execution_count": 143,
      "outputs": [
        {
          "output_type": "execute_result",
          "data": {
            "text/plain": [
              "<graphviz.files.Source at 0x7f0bdfb5b400>"
            ],
            "image/svg+xml": "<?xml version=\"1.0\" encoding=\"UTF-8\" standalone=\"no\"?>\n<!DOCTYPE svg PUBLIC \"-//W3C//DTD SVG 1.1//EN\"\n \"http://www.w3.org/Graphics/SVG/1.1/DTD/svg11.dtd\">\n<!-- Generated by graphviz version 2.40.1 (20161225.0304)\n -->\n<!-- Title: Tree Pages: 1 -->\n<svg width=\"1123pt\" height=\"893pt\"\n viewBox=\"0.00 0.00 1123.00 893.00\" xmlns=\"http://www.w3.org/2000/svg\" xmlns:xlink=\"http://www.w3.org/1999/xlink\">\n<g id=\"graph0\" class=\"graph\" transform=\"scale(1 1) rotate(0) translate(4 889)\">\n<title>Tree</title>\n<polygon fill=\"#ffffff\" stroke=\"transparent\" points=\"-4,4 -4,-889 1119,-889 1119,4 -4,4\"/>\n<!-- 0 -->\n<g id=\"node1\" class=\"node\">\n<title>0</title>\n<polygon fill=\"none\" stroke=\"#000000\" points=\"696,-885 571,-885 571,-817 696,-817 696,-885\"/>\n<text text-anchor=\"middle\" x=\"633.5\" y=\"-869.8\" font-family=\"Times,serif\" font-size=\"14.00\" fill=\"#000000\">X[13] &lt;= 16.795</text>\n<text text-anchor=\"middle\" x=\"633.5\" y=\"-854.8\" font-family=\"Times,serif\" font-size=\"14.00\" fill=\"#000000\">gini = 0.462</text>\n<text text-anchor=\"middle\" x=\"633.5\" y=\"-839.8\" font-family=\"Times,serif\" font-size=\"14.00\" fill=\"#000000\">samples = 398</text>\n<text text-anchor=\"middle\" x=\"633.5\" y=\"-824.8\" font-family=\"Times,serif\" font-size=\"14.00\" fill=\"#000000\">value = [254, 144]</text>\n</g>\n<!-- 1 -->\n<g id=\"node2\" class=\"node\">\n<title>1</title>\n<polygon fill=\"none\" stroke=\"#000000\" points=\"579,-781 462,-781 462,-713 579,-713 579,-781\"/>\n<text text-anchor=\"middle\" x=\"520.5\" y=\"-765.8\" font-family=\"Times,serif\" font-size=\"14.00\" fill=\"#000000\">X[4] &lt;= 0.136</text>\n<text text-anchor=\"middle\" x=\"520.5\" y=\"-750.8\" font-family=\"Times,serif\" font-size=\"14.00\" fill=\"#000000\">gini = 0.15</text>\n<text text-anchor=\"middle\" x=\"520.5\" y=\"-735.8\" font-family=\"Times,serif\" font-size=\"14.00\" fill=\"#000000\">samples = 269</text>\n<text text-anchor=\"middle\" x=\"520.5\" y=\"-720.8\" font-family=\"Times,serif\" font-size=\"14.00\" fill=\"#000000\">value = [247, 22]</text>\n</g>\n<!-- 0&#45;&gt;1 -->\n<g id=\"edge1\" class=\"edge\">\n<title>0&#45;&gt;1</title>\n<path fill=\"none\" stroke=\"#000000\" d=\"M596.4996,-816.9465C586.4514,-807.6986 575.4653,-797.5876 565.0474,-787.9994\"/>\n<polygon fill=\"#000000\" stroke=\"#000000\" points=\"567.3118,-785.3267 557.5836,-781.13 562.5714,-790.4773 567.3118,-785.3267\"/>\n<text text-anchor=\"middle\" x=\"558.6195\" y=\"-802.4085\" font-family=\"Times,serif\" font-size=\"14.00\" fill=\"#000000\">True</text>\n</g>\n<!-- 26 -->\n<g id=\"node27\" class=\"node\">\n<title>26</title>\n<polygon fill=\"none\" stroke=\"#000000\" points=\"806.5,-781 696.5,-781 696.5,-713 806.5,-713 806.5,-781\"/>\n<text text-anchor=\"middle\" x=\"751.5\" y=\"-765.8\" font-family=\"Times,serif\" font-size=\"14.00\" fill=\"#000000\">X[24] &lt;= 20.45</text>\n<text text-anchor=\"middle\" x=\"751.5\" y=\"-750.8\" font-family=\"Times,serif\" font-size=\"14.00\" fill=\"#000000\">gini = 0.103</text>\n<text text-anchor=\"middle\" x=\"751.5\" y=\"-735.8\" font-family=\"Times,serif\" font-size=\"14.00\" fill=\"#000000\">samples = 129</text>\n<text text-anchor=\"middle\" x=\"751.5\" y=\"-720.8\" font-family=\"Times,serif\" font-size=\"14.00\" fill=\"#000000\">value = [7, 122]</text>\n</g>\n<!-- 0&#45;&gt;26 -->\n<g id=\"edge26\" class=\"edge\">\n<title>0&#45;&gt;26</title>\n<path fill=\"none\" stroke=\"#000000\" d=\"M672.1376,-816.9465C682.6304,-807.6986 694.1026,-797.5876 704.9814,-787.9994\"/>\n<polygon fill=\"#000000\" stroke=\"#000000\" points=\"707.5877,-790.3678 712.7756,-781.13 702.9593,-785.1163 707.5877,-790.3678\"/>\n<text text-anchor=\"middle\" x=\"711.2021\" y=\"-802.3804\" font-family=\"Times,serif\" font-size=\"14.00\" fill=\"#000000\">False</text>\n</g>\n<!-- 2 -->\n<g id=\"node3\" class=\"node\">\n<title>2</title>\n<polygon fill=\"none\" stroke=\"#000000\" points=\"400.5,-677 290.5,-677 290.5,-609 400.5,-609 400.5,-677\"/>\n<text text-anchor=\"middle\" x=\"345.5\" y=\"-661.8\" font-family=\"Times,serif\" font-size=\"14.00\" fill=\"#000000\">X[6] &lt;= 1.048</text>\n<text text-anchor=\"middle\" x=\"345.5\" y=\"-646.8\" font-family=\"Times,serif\" font-size=\"14.00\" fill=\"#000000\">gini = 0.033</text>\n<text text-anchor=\"middle\" x=\"345.5\" y=\"-631.8\" font-family=\"Times,serif\" font-size=\"14.00\" fill=\"#000000\">samples = 236</text>\n<text text-anchor=\"middle\" x=\"345.5\" y=\"-616.8\" font-family=\"Times,serif\" font-size=\"14.00\" fill=\"#000000\">value = [232, 4]</text>\n</g>\n<!-- 1&#45;&gt;2 -->\n<g id=\"edge2\" class=\"edge\">\n<title>1&#45;&gt;2</title>\n<path fill=\"none\" stroke=\"#000000\" d=\"M463.1985,-712.9465C446.0515,-702.7563 427.1411,-691.5181 409.5875,-681.0863\"/>\n<polygon fill=\"#000000\" stroke=\"#000000\" points=\"410.933,-677.8145 400.5484,-675.7145 407.3568,-683.8321 410.933,-677.8145\"/>\n</g>\n<!-- 15 -->\n<g id=\"node16\" class=\"node\">\n<title>15</title>\n<polygon fill=\"none\" stroke=\"#000000\" points=\"575.5,-677 465.5,-677 465.5,-609 575.5,-609 575.5,-677\"/>\n<text text-anchor=\"middle\" x=\"520.5\" y=\"-661.8\" font-family=\"Times,serif\" font-size=\"14.00\" fill=\"#000000\">X[24] &lt;= 25.67</text>\n<text text-anchor=\"middle\" x=\"520.5\" y=\"-646.8\" font-family=\"Times,serif\" font-size=\"14.00\" fill=\"#000000\">gini = 0.496</text>\n<text text-anchor=\"middle\" x=\"520.5\" y=\"-631.8\" font-family=\"Times,serif\" font-size=\"14.00\" fill=\"#000000\">samples = 33</text>\n<text text-anchor=\"middle\" x=\"520.5\" y=\"-616.8\" font-family=\"Times,serif\" font-size=\"14.00\" fill=\"#000000\">value = [15, 18]</text>\n</g>\n<!-- 1&#45;&gt;15 -->\n<g id=\"edge15\" class=\"edge\">\n<title>1&#45;&gt;15</title>\n<path fill=\"none\" stroke=\"#000000\" d=\"M520.5,-712.9465C520.5,-704.776 520.5,-695.9318 520.5,-687.3697\"/>\n<polygon fill=\"#000000\" stroke=\"#000000\" points=\"524.0001,-687.13 520.5,-677.13 517.0001,-687.13 524.0001,-687.13\"/>\n</g>\n<!-- 3 -->\n<g id=\"node4\" class=\"node\">\n<title>3</title>\n<polygon fill=\"none\" stroke=\"#000000\" points=\"279.5,-573 163.5,-573 163.5,-505 279.5,-505 279.5,-573\"/>\n<text text-anchor=\"middle\" x=\"221.5\" y=\"-557.8\" font-family=\"Times,serif\" font-size=\"14.00\" fill=\"#000000\">X[24] &lt;= 29.225</text>\n<text text-anchor=\"middle\" x=\"221.5\" y=\"-542.8\" font-family=\"Times,serif\" font-size=\"14.00\" fill=\"#000000\">gini = 0.025</text>\n<text text-anchor=\"middle\" x=\"221.5\" y=\"-527.8\" font-family=\"Times,serif\" font-size=\"14.00\" fill=\"#000000\">samples = 235</text>\n<text text-anchor=\"middle\" x=\"221.5\" y=\"-512.8\" font-family=\"Times,serif\" font-size=\"14.00\" fill=\"#000000\">value = [232, 3]</text>\n</g>\n<!-- 2&#45;&gt;3 -->\n<g id=\"edge3\" class=\"edge\">\n<title>2&#45;&gt;3</title>\n<path fill=\"none\" stroke=\"#000000\" d=\"M304.8978,-608.9465C293.7644,-599.6088 281.5817,-589.3911 270.0511,-579.7203\"/>\n<polygon fill=\"#000000\" stroke=\"#000000\" points=\"272.1046,-576.8745 262.1935,-573.13 267.6062,-582.2378 272.1046,-576.8745\"/>\n</g>\n<!-- 14 -->\n<g id=\"node15\" class=\"node\">\n<title>14</title>\n<polygon fill=\"none\" stroke=\"#000000\" points=\"393,-565.5 298,-565.5 298,-512.5 393,-512.5 393,-565.5\"/>\n<text text-anchor=\"middle\" x=\"345.5\" y=\"-550.3\" font-family=\"Times,serif\" font-size=\"14.00\" fill=\"#000000\">gini = 0.0</text>\n<text text-anchor=\"middle\" x=\"345.5\" y=\"-535.3\" font-family=\"Times,serif\" font-size=\"14.00\" fill=\"#000000\">samples = 1</text>\n<text text-anchor=\"middle\" x=\"345.5\" y=\"-520.3\" font-family=\"Times,serif\" font-size=\"14.00\" fill=\"#000000\">value = [0, 1]</text>\n</g>\n<!-- 2&#45;&gt;14 -->\n<g id=\"edge14\" class=\"edge\">\n<title>2&#45;&gt;14</title>\n<path fill=\"none\" stroke=\"#000000\" d=\"M345.5,-608.9465C345.5,-598.2621 345.5,-586.4254 345.5,-575.5742\"/>\n<polygon fill=\"#000000\" stroke=\"#000000\" points=\"349.0001,-575.5421 345.5,-565.5422 342.0001,-575.5422 349.0001,-575.5421\"/>\n</g>\n<!-- 4 -->\n<g id=\"node5\" class=\"node\">\n<title>4</title>\n<polygon fill=\"none\" stroke=\"#000000\" points=\"152.5,-461.5 42.5,-461.5 42.5,-408.5 152.5,-408.5 152.5,-461.5\"/>\n<text text-anchor=\"middle\" x=\"97.5\" y=\"-446.3\" font-family=\"Times,serif\" font-size=\"14.00\" fill=\"#000000\">gini = 0.0</text>\n<text text-anchor=\"middle\" x=\"97.5\" y=\"-431.3\" font-family=\"Times,serif\" font-size=\"14.00\" fill=\"#000000\">samples = 199</text>\n<text text-anchor=\"middle\" x=\"97.5\" y=\"-416.3\" font-family=\"Times,serif\" font-size=\"14.00\" fill=\"#000000\">value = [199, 0]</text>\n</g>\n<!-- 3&#45;&gt;4 -->\n<g id=\"edge4\" class=\"edge\">\n<title>3&#45;&gt;4</title>\n<path fill=\"none\" stroke=\"#000000\" d=\"M180.8978,-504.9465C166.8453,-493.1606 151.1212,-479.9726 137.1465,-468.2519\"/>\n<polygon fill=\"#000000\" stroke=\"#000000\" points=\"139.0575,-465.2866 129.1464,-461.5422 134.5592,-470.65 139.0575,-465.2866\"/>\n</g>\n<!-- 5 -->\n<g id=\"node6\" class=\"node\">\n<title>5</title>\n<polygon fill=\"none\" stroke=\"#000000\" points=\"272.5,-469 170.5,-469 170.5,-401 272.5,-401 272.5,-469\"/>\n<text text-anchor=\"middle\" x=\"221.5\" y=\"-453.8\" font-family=\"Times,serif\" font-size=\"14.00\" fill=\"#000000\">X[9] &lt;= 0.206</text>\n<text text-anchor=\"middle\" x=\"221.5\" y=\"-438.8\" font-family=\"Times,serif\" font-size=\"14.00\" fill=\"#000000\">gini = 0.153</text>\n<text text-anchor=\"middle\" x=\"221.5\" y=\"-423.8\" font-family=\"Times,serif\" font-size=\"14.00\" fill=\"#000000\">samples = 36</text>\n<text text-anchor=\"middle\" x=\"221.5\" y=\"-408.8\" font-family=\"Times,serif\" font-size=\"14.00\" fill=\"#000000\">value = [33, 3]</text>\n</g>\n<!-- 3&#45;&gt;5 -->\n<g id=\"edge5\" class=\"edge\">\n<title>3&#45;&gt;5</title>\n<path fill=\"none\" stroke=\"#000000\" d=\"M221.5,-504.9465C221.5,-496.776 221.5,-487.9318 221.5,-479.3697\"/>\n<polygon fill=\"#000000\" stroke=\"#000000\" points=\"225.0001,-479.13 221.5,-469.13 218.0001,-479.13 225.0001,-479.13\"/>\n</g>\n<!-- 6 -->\n<g id=\"node7\" class=\"node\">\n<title>6</title>\n<polygon fill=\"none\" stroke=\"#000000\" points=\"162,-365 53,-365 53,-297 162,-297 162,-365\"/>\n<text text-anchor=\"middle\" x=\"107.5\" y=\"-349.8\" font-family=\"Times,serif\" font-size=\"14.00\" fill=\"#000000\">X[23] &lt;= 0.004</text>\n<text text-anchor=\"middle\" x=\"107.5\" y=\"-334.8\" font-family=\"Times,serif\" font-size=\"14.00\" fill=\"#000000\">gini = 0.108</text>\n<text text-anchor=\"middle\" x=\"107.5\" y=\"-319.8\" font-family=\"Times,serif\" font-size=\"14.00\" fill=\"#000000\">samples = 35</text>\n<text text-anchor=\"middle\" x=\"107.5\" y=\"-304.8\" font-family=\"Times,serif\" font-size=\"14.00\" fill=\"#000000\">value = [33, 2]</text>\n</g>\n<!-- 5&#45;&gt;6 -->\n<g id=\"edge6\" class=\"edge\">\n<title>5&#45;&gt;6</title>\n<path fill=\"none\" stroke=\"#000000\" d=\"M184.1721,-400.9465C174.035,-391.6986 162.9517,-381.5876 152.4417,-371.9994\"/>\n<polygon fill=\"#000000\" stroke=\"#000000\" points=\"154.6583,-369.284 144.9117,-365.13 149.9405,-374.4553 154.6583,-369.284\"/>\n</g>\n<!-- 13 -->\n<g id=\"node14\" class=\"node\">\n<title>13</title>\n<polygon fill=\"none\" stroke=\"#000000\" points=\"275,-357.5 180,-357.5 180,-304.5 275,-304.5 275,-357.5\"/>\n<text text-anchor=\"middle\" x=\"227.5\" y=\"-342.3\" font-family=\"Times,serif\" font-size=\"14.00\" fill=\"#000000\">gini = 0.0</text>\n<text text-anchor=\"middle\" x=\"227.5\" y=\"-327.3\" font-family=\"Times,serif\" font-size=\"14.00\" fill=\"#000000\">samples = 1</text>\n<text text-anchor=\"middle\" x=\"227.5\" y=\"-312.3\" font-family=\"Times,serif\" font-size=\"14.00\" fill=\"#000000\">value = [0, 1]</text>\n</g>\n<!-- 5&#45;&gt;13 -->\n<g id=\"edge13\" class=\"edge\">\n<title>5&#45;&gt;13</title>\n<path fill=\"none\" stroke=\"#000000\" d=\"M223.4646,-400.9465C224.081,-390.2621 224.7639,-378.4254 225.3899,-367.5742\"/>\n<polygon fill=\"#000000\" stroke=\"#000000\" points=\"228.8869,-367.7272 225.9687,-357.5422 221.8985,-367.3239 228.8869,-367.7272\"/>\n</g>\n<!-- 7 -->\n<g id=\"node8\" class=\"node\">\n<title>7</title>\n<polygon fill=\"none\" stroke=\"#000000\" points=\"95,-253.5 0,-253.5 0,-200.5 95,-200.5 95,-253.5\"/>\n<text text-anchor=\"middle\" x=\"47.5\" y=\"-238.3\" font-family=\"Times,serif\" font-size=\"14.00\" fill=\"#000000\">gini = 0.0</text>\n<text text-anchor=\"middle\" x=\"47.5\" y=\"-223.3\" font-family=\"Times,serif\" font-size=\"14.00\" fill=\"#000000\">samples = 1</text>\n<text text-anchor=\"middle\" x=\"47.5\" y=\"-208.3\" font-family=\"Times,serif\" font-size=\"14.00\" fill=\"#000000\">value = [0, 1]</text>\n</g>\n<!-- 6&#45;&gt;7 -->\n<g id=\"edge7\" class=\"edge\">\n<title>6&#45;&gt;7</title>\n<path fill=\"none\" stroke=\"#000000\" d=\"M87.8538,-296.9465C81.4355,-285.8215 74.2965,-273.4473 67.829,-262.237\"/>\n<polygon fill=\"#000000\" stroke=\"#000000\" points=\"70.8417,-260.455 62.8128,-253.5422 64.7784,-263.9531 70.8417,-260.455\"/>\n</g>\n<!-- 8 -->\n<g id=\"node9\" class=\"node\">\n<title>8</title>\n<polygon fill=\"none\" stroke=\"#000000\" points=\"222,-261 113,-261 113,-193 222,-193 222,-261\"/>\n<text text-anchor=\"middle\" x=\"167.5\" y=\"-245.8\" font-family=\"Times,serif\" font-size=\"14.00\" fill=\"#000000\">X[14] &lt;= 1.467</text>\n<text text-anchor=\"middle\" x=\"167.5\" y=\"-230.8\" font-family=\"Times,serif\" font-size=\"14.00\" fill=\"#000000\">gini = 0.057</text>\n<text text-anchor=\"middle\" x=\"167.5\" y=\"-215.8\" font-family=\"Times,serif\" font-size=\"14.00\" fill=\"#000000\">samples = 34</text>\n<text text-anchor=\"middle\" x=\"167.5\" y=\"-200.8\" font-family=\"Times,serif\" font-size=\"14.00\" fill=\"#000000\">value = [33, 1]</text>\n</g>\n<!-- 6&#45;&gt;8 -->\n<g id=\"edge8\" class=\"edge\">\n<title>6&#45;&gt;8</title>\n<path fill=\"none\" stroke=\"#000000\" d=\"M127.1462,-296.9465C132.119,-288.3271 137.5243,-278.9579 142.7148,-269.9611\"/>\n<polygon fill=\"#000000\" stroke=\"#000000\" points=\"145.844,-271.5409 147.8096,-261.13 139.7807,-268.0428 145.844,-271.5409\"/>\n</g>\n<!-- 9 -->\n<g id=\"node10\" class=\"node\">\n<title>9</title>\n<polygon fill=\"none\" stroke=\"#000000\" points=\"158,-157 57,-157 57,-89 158,-89 158,-157\"/>\n<text text-anchor=\"middle\" x=\"107.5\" y=\"-141.8\" font-family=\"Times,serif\" font-size=\"14.00\" fill=\"#000000\">X[5] &lt;= 0.012</text>\n<text text-anchor=\"middle\" x=\"107.5\" y=\"-126.8\" font-family=\"Times,serif\" font-size=\"14.00\" fill=\"#000000\">gini = 0.32</text>\n<text text-anchor=\"middle\" x=\"107.5\" y=\"-111.8\" font-family=\"Times,serif\" font-size=\"14.00\" fill=\"#000000\">samples = 5</text>\n<text text-anchor=\"middle\" x=\"107.5\" y=\"-96.8\" font-family=\"Times,serif\" font-size=\"14.00\" fill=\"#000000\">value = [4, 1]</text>\n</g>\n<!-- 8&#45;&gt;9 -->\n<g id=\"edge9\" class=\"edge\">\n<title>8&#45;&gt;9</title>\n<path fill=\"none\" stroke=\"#000000\" d=\"M147.8538,-192.9465C142.881,-184.3271 137.4757,-174.9579 132.2852,-165.9611\"/>\n<polygon fill=\"#000000\" stroke=\"#000000\" points=\"135.2193,-164.0428 127.1904,-157.13 129.156,-167.5409 135.2193,-164.0428\"/>\n</g>\n<!-- 12 -->\n<g id=\"node13\" class=\"node\">\n<title>12</title>\n<polygon fill=\"none\" stroke=\"#000000\" points=\"278.5,-149.5 176.5,-149.5 176.5,-96.5 278.5,-96.5 278.5,-149.5\"/>\n<text text-anchor=\"middle\" x=\"227.5\" y=\"-134.3\" font-family=\"Times,serif\" font-size=\"14.00\" fill=\"#000000\">gini = 0.0</text>\n<text text-anchor=\"middle\" x=\"227.5\" y=\"-119.3\" font-family=\"Times,serif\" font-size=\"14.00\" fill=\"#000000\">samples = 29</text>\n<text text-anchor=\"middle\" x=\"227.5\" y=\"-104.3\" font-family=\"Times,serif\" font-size=\"14.00\" fill=\"#000000\">value = [29, 0]</text>\n</g>\n<!-- 8&#45;&gt;12 -->\n<g id=\"edge12\" class=\"edge\">\n<title>8&#45;&gt;12</title>\n<path fill=\"none\" stroke=\"#000000\" d=\"M187.1462,-192.9465C193.5645,-181.8215 200.7035,-169.4473 207.171,-158.237\"/>\n<polygon fill=\"#000000\" stroke=\"#000000\" points=\"210.2216,-159.9531 212.1872,-149.5422 204.1583,-156.455 210.2216,-159.9531\"/>\n</g>\n<!-- 10 -->\n<g id=\"node11\" class=\"node\">\n<title>10</title>\n<polygon fill=\"none\" stroke=\"#000000\" points=\"99,-53 4,-53 4,0 99,0 99,-53\"/>\n<text text-anchor=\"middle\" x=\"51.5\" y=\"-37.8\" font-family=\"Times,serif\" font-size=\"14.00\" fill=\"#000000\">gini = 0.0</text>\n<text text-anchor=\"middle\" x=\"51.5\" y=\"-22.8\" font-family=\"Times,serif\" font-size=\"14.00\" fill=\"#000000\">samples = 1</text>\n<text text-anchor=\"middle\" x=\"51.5\" y=\"-7.8\" font-family=\"Times,serif\" font-size=\"14.00\" fill=\"#000000\">value = [0, 1]</text>\n</g>\n<!-- 9&#45;&gt;10 -->\n<g id=\"edge10\" class=\"edge\">\n<title>9&#45;&gt;10</title>\n<path fill=\"none\" stroke=\"#000000\" d=\"M87.7565,-88.9777C82.7083,-80.2786 77.2669,-70.9018 72.1734,-62.1247\"/>\n<polygon fill=\"#000000\" stroke=\"#000000\" points=\"75.0689,-60.1409 67.0224,-53.2485 69.0145,-63.6544 75.0689,-60.1409\"/>\n</g>\n<!-- 11 -->\n<g id=\"node12\" class=\"node\">\n<title>11</title>\n<polygon fill=\"none\" stroke=\"#000000\" points=\"212,-53 117,-53 117,0 212,0 212,-53\"/>\n<text text-anchor=\"middle\" x=\"164.5\" y=\"-37.8\" font-family=\"Times,serif\" font-size=\"14.00\" fill=\"#000000\">gini = 0.0</text>\n<text text-anchor=\"middle\" x=\"164.5\" y=\"-22.8\" font-family=\"Times,serif\" font-size=\"14.00\" fill=\"#000000\">samples = 4</text>\n<text text-anchor=\"middle\" x=\"164.5\" y=\"-7.8\" font-family=\"Times,serif\" font-size=\"14.00\" fill=\"#000000\">value = [4, 0]</text>\n</g>\n<!-- 9&#45;&gt;11 -->\n<g id=\"edge11\" class=\"edge\">\n<title>9&#45;&gt;11</title>\n<path fill=\"none\" stroke=\"#000000\" d=\"M127.5961,-88.9777C132.7344,-80.2786 138.273,-70.9018 143.4575,-62.1247\"/>\n<polygon fill=\"#000000\" stroke=\"#000000\" points=\"146.6281,-63.6387 148.7004,-53.2485 140.601,-60.0786 146.6281,-63.6387\"/>\n</g>\n<!-- 16 -->\n<g id=\"node17\" class=\"node\">\n<title>16</title>\n<polygon fill=\"none\" stroke=\"#000000\" points=\"513.5,-573 411.5,-573 411.5,-505 513.5,-505 513.5,-573\"/>\n<text text-anchor=\"middle\" x=\"462.5\" y=\"-557.8\" font-family=\"Times,serif\" font-size=\"14.00\" fill=\"#000000\">X[3] &lt;= 810.3</text>\n<text text-anchor=\"middle\" x=\"462.5\" y=\"-542.8\" font-family=\"Times,serif\" font-size=\"14.00\" fill=\"#000000\">gini = 0.231</text>\n<text text-anchor=\"middle\" x=\"462.5\" y=\"-527.8\" font-family=\"Times,serif\" font-size=\"14.00\" fill=\"#000000\">samples = 15</text>\n<text text-anchor=\"middle\" x=\"462.5\" y=\"-512.8\" font-family=\"Times,serif\" font-size=\"14.00\" fill=\"#000000\">value = [13, 2]</text>\n</g>\n<!-- 15&#45;&gt;16 -->\n<g id=\"edge16\" class=\"edge\">\n<title>15&#45;&gt;16</title>\n<path fill=\"none\" stroke=\"#000000\" d=\"M501.5086,-608.9465C496.7017,-600.3271 491.4765,-590.9579 486.4591,-581.9611\"/>\n<polygon fill=\"#000000\" stroke=\"#000000\" points=\"489.4615,-580.1589 481.534,-573.13 483.348,-583.5684 489.4615,-580.1589\"/>\n</g>\n<!-- 21 -->\n<g id=\"node22\" class=\"node\">\n<title>21</title>\n<polygon fill=\"none\" stroke=\"#000000\" points=\"634.5,-573 532.5,-573 532.5,-505 634.5,-505 634.5,-573\"/>\n<text text-anchor=\"middle\" x=\"583.5\" y=\"-557.8\" font-family=\"Times,serif\" font-size=\"14.00\" fill=\"#000000\">X[0] &lt;= 0.05</text>\n<text text-anchor=\"middle\" x=\"583.5\" y=\"-542.8\" font-family=\"Times,serif\" font-size=\"14.00\" fill=\"#000000\">gini = 0.198</text>\n<text text-anchor=\"middle\" x=\"583.5\" y=\"-527.8\" font-family=\"Times,serif\" font-size=\"14.00\" fill=\"#000000\">samples = 18</text>\n<text text-anchor=\"middle\" x=\"583.5\" y=\"-512.8\" font-family=\"Times,serif\" font-size=\"14.00\" fill=\"#000000\">value = [2, 16]</text>\n</g>\n<!-- 15&#45;&gt;21 -->\n<g id=\"edge21\" class=\"edge\">\n<title>15&#45;&gt;21</title>\n<path fill=\"none\" stroke=\"#000000\" d=\"M541.1286,-608.9465C546.3499,-600.3271 552.0255,-590.9579 557.4755,-581.9611\"/>\n<polygon fill=\"#000000\" stroke=\"#000000\" points=\"560.6374,-583.4965 562.8251,-573.13 554.6503,-579.8697 560.6374,-583.4965\"/>\n</g>\n<!-- 17 -->\n<g id=\"node18\" class=\"node\">\n<title>17</title>\n<polygon fill=\"none\" stroke=\"#000000\" points=\"393.5,-461.5 291.5,-461.5 291.5,-408.5 393.5,-408.5 393.5,-461.5\"/>\n<text text-anchor=\"middle\" x=\"342.5\" y=\"-446.3\" font-family=\"Times,serif\" font-size=\"14.00\" fill=\"#000000\">gini = 0.0</text>\n<text text-anchor=\"middle\" x=\"342.5\" y=\"-431.3\" font-family=\"Times,serif\" font-size=\"14.00\" fill=\"#000000\">samples = 12</text>\n<text text-anchor=\"middle\" x=\"342.5\" y=\"-416.3\" font-family=\"Times,serif\" font-size=\"14.00\" fill=\"#000000\">value = [12, 0]</text>\n</g>\n<!-- 16&#45;&gt;17 -->\n<g id=\"edge17\" class=\"edge\">\n<title>16&#45;&gt;17</title>\n<path fill=\"none\" stroke=\"#000000\" d=\"M423.2075,-504.9465C409.6083,-493.1606 394.3915,-479.9726 380.8676,-468.2519\"/>\n<polygon fill=\"#000000\" stroke=\"#000000\" points=\"382.9748,-465.4466 373.1256,-461.5422 378.3902,-470.7364 382.9748,-465.4466\"/>\n</g>\n<!-- 18 -->\n<g id=\"node19\" class=\"node\">\n<title>18</title>\n<polygon fill=\"none\" stroke=\"#000000\" points=\"513,-469 412,-469 412,-401 513,-401 513,-469\"/>\n<text text-anchor=\"middle\" x=\"462.5\" y=\"-453.8\" font-family=\"Times,serif\" font-size=\"14.00\" fill=\"#000000\">X[0] &lt;= 0.046</text>\n<text text-anchor=\"middle\" x=\"462.5\" y=\"-438.8\" font-family=\"Times,serif\" font-size=\"14.00\" fill=\"#000000\">gini = 0.444</text>\n<text text-anchor=\"middle\" x=\"462.5\" y=\"-423.8\" font-family=\"Times,serif\" font-size=\"14.00\" fill=\"#000000\">samples = 3</text>\n<text text-anchor=\"middle\" x=\"462.5\" y=\"-408.8\" font-family=\"Times,serif\" font-size=\"14.00\" fill=\"#000000\">value = [1, 2]</text>\n</g>\n<!-- 16&#45;&gt;18 -->\n<g id=\"edge18\" class=\"edge\">\n<title>16&#45;&gt;18</title>\n<path fill=\"none\" stroke=\"#000000\" d=\"M462.5,-504.9465C462.5,-496.776 462.5,-487.9318 462.5,-479.3697\"/>\n<polygon fill=\"#000000\" stroke=\"#000000\" points=\"466.0001,-479.13 462.5,-469.13 459.0001,-479.13 466.0001,-479.13\"/>\n</g>\n<!-- 19 -->\n<g id=\"node20\" class=\"node\">\n<title>19</title>\n<polygon fill=\"none\" stroke=\"#000000\" points=\"400,-357.5 305,-357.5 305,-304.5 400,-304.5 400,-357.5\"/>\n<text text-anchor=\"middle\" x=\"352.5\" y=\"-342.3\" font-family=\"Times,serif\" font-size=\"14.00\" fill=\"#000000\">gini = 0.0</text>\n<text text-anchor=\"middle\" x=\"352.5\" y=\"-327.3\" font-family=\"Times,serif\" font-size=\"14.00\" fill=\"#000000\">samples = 1</text>\n<text text-anchor=\"middle\" x=\"352.5\" y=\"-312.3\" font-family=\"Times,serif\" font-size=\"14.00\" fill=\"#000000\">value = [1, 0]</text>\n</g>\n<!-- 18&#45;&gt;19 -->\n<g id=\"edge19\" class=\"edge\">\n<title>18&#45;&gt;19</title>\n<path fill=\"none\" stroke=\"#000000\" d=\"M426.4819,-400.9465C414.1325,-389.2707 400.3278,-376.219 388.0183,-364.5809\"/>\n<polygon fill=\"#000000\" stroke=\"#000000\" points=\"390.2445,-361.869 380.5734,-357.5422 385.4354,-366.9556 390.2445,-361.869\"/>\n</g>\n<!-- 20 -->\n<g id=\"node21\" class=\"node\">\n<title>20</title>\n<polygon fill=\"none\" stroke=\"#000000\" points=\"513,-357.5 418,-357.5 418,-304.5 513,-304.5 513,-357.5\"/>\n<text text-anchor=\"middle\" x=\"465.5\" y=\"-342.3\" font-family=\"Times,serif\" font-size=\"14.00\" fill=\"#000000\">gini = 0.0</text>\n<text text-anchor=\"middle\" x=\"465.5\" y=\"-327.3\" font-family=\"Times,serif\" font-size=\"14.00\" fill=\"#000000\">samples = 2</text>\n<text text-anchor=\"middle\" x=\"465.5\" y=\"-312.3\" font-family=\"Times,serif\" font-size=\"14.00\" fill=\"#000000\">value = [0, 2]</text>\n</g>\n<!-- 18&#45;&gt;20 -->\n<g id=\"edge20\" class=\"edge\">\n<title>18&#45;&gt;20</title>\n<path fill=\"none\" stroke=\"#000000\" d=\"M463.4823,-400.9465C463.7905,-390.2621 464.132,-378.4254 464.445,-367.5742\"/>\n<polygon fill=\"#000000\" stroke=\"#000000\" points=\"467.9445,-367.639 464.7344,-357.5422 460.9474,-367.4371 467.9445,-367.639\"/>\n</g>\n<!-- 22 -->\n<g id=\"node23\" class=\"node\">\n<title>22</title>\n<polygon fill=\"none\" stroke=\"#000000\" points=\"640,-469 531,-469 531,-401 640,-401 640,-469\"/>\n<text text-anchor=\"middle\" x=\"585.5\" y=\"-453.8\" font-family=\"Times,serif\" font-size=\"14.00\" fill=\"#000000\">X[10] &lt;= 1.593</text>\n<text text-anchor=\"middle\" x=\"585.5\" y=\"-438.8\" font-family=\"Times,serif\" font-size=\"14.00\" fill=\"#000000\">gini = 0.444</text>\n<text text-anchor=\"middle\" x=\"585.5\" y=\"-423.8\" font-family=\"Times,serif\" font-size=\"14.00\" fill=\"#000000\">samples = 3</text>\n<text text-anchor=\"middle\" x=\"585.5\" y=\"-408.8\" font-family=\"Times,serif\" font-size=\"14.00\" fill=\"#000000\">value = [2, 1]</text>\n</g>\n<!-- 21&#45;&gt;22 -->\n<g id=\"edge22\" class=\"edge\">\n<title>21&#45;&gt;22</title>\n<path fill=\"none\" stroke=\"#000000\" d=\"M584.1549,-504.9465C584.312,-496.776 584.4821,-487.9318 584.6467,-479.3697\"/>\n<polygon fill=\"#000000\" stroke=\"#000000\" points=\"588.1506,-479.1955 584.8437,-469.13 581.1519,-479.0608 588.1506,-479.1955\"/>\n</g>\n<!-- 25 -->\n<g id=\"node26\" class=\"node\">\n<title>25</title>\n<polygon fill=\"none\" stroke=\"#000000\" points=\"760.5,-461.5 658.5,-461.5 658.5,-408.5 760.5,-408.5 760.5,-461.5\"/>\n<text text-anchor=\"middle\" x=\"709.5\" y=\"-446.3\" font-family=\"Times,serif\" font-size=\"14.00\" fill=\"#000000\">gini = 0.0</text>\n<text text-anchor=\"middle\" x=\"709.5\" y=\"-431.3\" font-family=\"Times,serif\" font-size=\"14.00\" fill=\"#000000\">samples = 15</text>\n<text text-anchor=\"middle\" x=\"709.5\" y=\"-416.3\" font-family=\"Times,serif\" font-size=\"14.00\" fill=\"#000000\">value = [0, 15]</text>\n</g>\n<!-- 21&#45;&gt;25 -->\n<g id=\"edge25\" class=\"edge\">\n<title>21&#45;&gt;25</title>\n<path fill=\"none\" stroke=\"#000000\" d=\"M624.7571,-504.9465C639.1697,-493.0504 655.3127,-479.726 669.6117,-467.9237\"/>\n<polygon fill=\"#000000\" stroke=\"#000000\" points=\"671.8589,-470.6071 677.3431,-461.5422 667.4029,-465.2086 671.8589,-470.6071\"/>\n</g>\n<!-- 23 -->\n<g id=\"node24\" class=\"node\">\n<title>23</title>\n<polygon fill=\"none\" stroke=\"#000000\" points=\"631,-357.5 536,-357.5 536,-304.5 631,-304.5 631,-357.5\"/>\n<text text-anchor=\"middle\" x=\"583.5\" y=\"-342.3\" font-family=\"Times,serif\" font-size=\"14.00\" fill=\"#000000\">gini = 0.0</text>\n<text text-anchor=\"middle\" x=\"583.5\" y=\"-327.3\" font-family=\"Times,serif\" font-size=\"14.00\" fill=\"#000000\">samples = 2</text>\n<text text-anchor=\"middle\" x=\"583.5\" y=\"-312.3\" font-family=\"Times,serif\" font-size=\"14.00\" fill=\"#000000\">value = [2, 0]</text>\n</g>\n<!-- 22&#45;&gt;23 -->\n<g id=\"edge23\" class=\"edge\">\n<title>22&#45;&gt;23</title>\n<path fill=\"none\" stroke=\"#000000\" d=\"M584.8451,-400.9465C584.6397,-390.2621 584.412,-378.4254 584.2034,-367.5742\"/>\n<polygon fill=\"#000000\" stroke=\"#000000\" points=\"587.7021,-367.473 584.0104,-357.5422 580.7034,-367.6076 587.7021,-367.473\"/>\n</g>\n<!-- 24 -->\n<g id=\"node25\" class=\"node\">\n<title>24</title>\n<polygon fill=\"none\" stroke=\"#000000\" points=\"744,-357.5 649,-357.5 649,-304.5 744,-304.5 744,-357.5\"/>\n<text text-anchor=\"middle\" x=\"696.5\" y=\"-342.3\" font-family=\"Times,serif\" font-size=\"14.00\" fill=\"#000000\">gini = 0.0</text>\n<text text-anchor=\"middle\" x=\"696.5\" y=\"-327.3\" font-family=\"Times,serif\" font-size=\"14.00\" fill=\"#000000\">samples = 1</text>\n<text text-anchor=\"middle\" x=\"696.5\" y=\"-312.3\" font-family=\"Times,serif\" font-size=\"14.00\" fill=\"#000000\">value = [0, 1]</text>\n</g>\n<!-- 22&#45;&gt;24 -->\n<g id=\"edge24\" class=\"edge\">\n<title>22&#45;&gt;24</title>\n<path fill=\"none\" stroke=\"#000000\" d=\"M621.8456,-400.9465C634.3072,-389.2707 648.2374,-376.219 660.6588,-364.5809\"/>\n<polygon fill=\"#000000\" stroke=\"#000000\" points=\"663.2669,-366.9335 668.1713,-357.5422 658.4809,-361.8253 663.2669,-366.9335\"/>\n</g>\n<!-- 27 -->\n<g id=\"node28\" class=\"node\">\n<title>27</title>\n<polygon fill=\"none\" stroke=\"#000000\" points=\"809.5,-677 693.5,-677 693.5,-609 809.5,-609 809.5,-677\"/>\n<text text-anchor=\"middle\" x=\"751.5\" y=\"-661.8\" font-family=\"Times,serif\" font-size=\"14.00\" fill=\"#000000\">X[13] &lt;= 19.915</text>\n<text text-anchor=\"middle\" x=\"751.5\" y=\"-646.8\" font-family=\"Times,serif\" font-size=\"14.00\" fill=\"#000000\">gini = 0.496</text>\n<text text-anchor=\"middle\" x=\"751.5\" y=\"-631.8\" font-family=\"Times,serif\" font-size=\"14.00\" fill=\"#000000\">samples = 11</text>\n<text text-anchor=\"middle\" x=\"751.5\" y=\"-616.8\" font-family=\"Times,serif\" font-size=\"14.00\" fill=\"#000000\">value = [6, 5]</text>\n</g>\n<!-- 26&#45;&gt;27 -->\n<g id=\"edge27\" class=\"edge\">\n<title>26&#45;&gt;27</title>\n<path fill=\"none\" stroke=\"#000000\" d=\"M751.5,-712.9465C751.5,-704.776 751.5,-695.9318 751.5,-687.3697\"/>\n<polygon fill=\"#000000\" stroke=\"#000000\" points=\"755.0001,-687.13 751.5,-677.13 748.0001,-687.13 755.0001,-687.13\"/>\n</g>\n<!-- 30 -->\n<g id=\"node31\" class=\"node\">\n<title>30</title>\n<polygon fill=\"none\" stroke=\"#000000\" points=\"988,-677 879,-677 879,-609 988,-609 988,-677\"/>\n<text text-anchor=\"middle\" x=\"933.5\" y=\"-661.8\" font-family=\"Times,serif\" font-size=\"14.00\" fill=\"#000000\">X[16] &lt;= 0.18</text>\n<text text-anchor=\"middle\" x=\"933.5\" y=\"-646.8\" font-family=\"Times,serif\" font-size=\"14.00\" fill=\"#000000\">gini = 0.017</text>\n<text text-anchor=\"middle\" x=\"933.5\" y=\"-631.8\" font-family=\"Times,serif\" font-size=\"14.00\" fill=\"#000000\">samples = 118</text>\n<text text-anchor=\"middle\" x=\"933.5\" y=\"-616.8\" font-family=\"Times,serif\" font-size=\"14.00\" fill=\"#000000\">value = [1, 117]</text>\n</g>\n<!-- 26&#45;&gt;30 -->\n<g id=\"edge30\" class=\"edge\">\n<title>26&#45;&gt;30</title>\n<path fill=\"none\" stroke=\"#000000\" d=\"M806.5999,-715.5143C826.6484,-704.0581 849.4656,-691.0197 870.1707,-679.1882\"/>\n<polygon fill=\"#000000\" stroke=\"#000000\" points=\"871.9548,-682.1999 878.9007,-674.1996 868.4818,-676.1222 871.9548,-682.1999\"/>\n</g>\n<!-- 28 -->\n<g id=\"node29\" class=\"node\">\n<title>28</title>\n<polygon fill=\"none\" stroke=\"#000000\" points=\"748,-565.5 653,-565.5 653,-512.5 748,-512.5 748,-565.5\"/>\n<text text-anchor=\"middle\" x=\"700.5\" y=\"-550.3\" font-family=\"Times,serif\" font-size=\"14.00\" fill=\"#000000\">gini = 0.0</text>\n<text text-anchor=\"middle\" x=\"700.5\" y=\"-535.3\" font-family=\"Times,serif\" font-size=\"14.00\" fill=\"#000000\">samples = 6</text>\n<text text-anchor=\"middle\" x=\"700.5\" y=\"-520.3\" font-family=\"Times,serif\" font-size=\"14.00\" fill=\"#000000\">value = [6, 0]</text>\n</g>\n<!-- 27&#45;&gt;28 -->\n<g id=\"edge28\" class=\"edge\">\n<title>27&#45;&gt;28</title>\n<path fill=\"none\" stroke=\"#000000\" d=\"M734.8007,-608.9465C729.3992,-597.9316 723.3971,-585.6922 717.9431,-574.5703\"/>\n<polygon fill=\"#000000\" stroke=\"#000000\" points=\"721.0614,-572.9797 713.5159,-565.5422 714.7764,-576.0618 721.0614,-572.9797\"/>\n</g>\n<!-- 29 -->\n<g id=\"node30\" class=\"node\">\n<title>29</title>\n<polygon fill=\"none\" stroke=\"#000000\" points=\"861,-565.5 766,-565.5 766,-512.5 861,-512.5 861,-565.5\"/>\n<text text-anchor=\"middle\" x=\"813.5\" y=\"-550.3\" font-family=\"Times,serif\" font-size=\"14.00\" fill=\"#000000\">gini = 0.0</text>\n<text text-anchor=\"middle\" x=\"813.5\" y=\"-535.3\" font-family=\"Times,serif\" font-size=\"14.00\" fill=\"#000000\">samples = 5</text>\n<text text-anchor=\"middle\" x=\"813.5\" y=\"-520.3\" font-family=\"Times,serif\" font-size=\"14.00\" fill=\"#000000\">value = [0, 5]</text>\n</g>\n<!-- 27&#45;&gt;29 -->\n<g id=\"edge29\" class=\"edge\">\n<title>27&#45;&gt;29</title>\n<path fill=\"none\" stroke=\"#000000\" d=\"M771.8011,-608.9465C778.4334,-597.8215 785.8103,-585.4473 792.4933,-574.237\"/>\n<polygon fill=\"#000000\" stroke=\"#000000\" points=\"795.5624,-575.9239 797.6768,-565.5422 789.5498,-572.3394 795.5624,-575.9239\"/>\n</g>\n<!-- 31 -->\n<g id=\"node32\" class=\"node\">\n<title>31</title>\n<polygon fill=\"none\" stroke=\"#000000\" points=\"988,-573 879,-573 879,-505 988,-505 988,-573\"/>\n<text text-anchor=\"middle\" x=\"933.5\" y=\"-557.8\" font-family=\"Times,serif\" font-size=\"14.00\" fill=\"#000000\">X[23] &lt;= 0.007</text>\n<text text-anchor=\"middle\" x=\"933.5\" y=\"-542.8\" font-family=\"Times,serif\" font-size=\"14.00\" fill=\"#000000\">gini = 0.375</text>\n<text text-anchor=\"middle\" x=\"933.5\" y=\"-527.8\" font-family=\"Times,serif\" font-size=\"14.00\" fill=\"#000000\">samples = 4</text>\n<text text-anchor=\"middle\" x=\"933.5\" y=\"-512.8\" font-family=\"Times,serif\" font-size=\"14.00\" fill=\"#000000\">value = [1, 3]</text>\n</g>\n<!-- 30&#45;&gt;31 -->\n<g id=\"edge31\" class=\"edge\">\n<title>30&#45;&gt;31</title>\n<path fill=\"none\" stroke=\"#000000\" d=\"M933.5,-608.9465C933.5,-600.776 933.5,-591.9318 933.5,-583.3697\"/>\n<polygon fill=\"#000000\" stroke=\"#000000\" points=\"937.0001,-583.13 933.5,-573.13 930.0001,-583.13 937.0001,-583.13\"/>\n</g>\n<!-- 34 -->\n<g id=\"node35\" class=\"node\">\n<title>34</title>\n<polygon fill=\"none\" stroke=\"#000000\" points=\"1115,-565.5 1006,-565.5 1006,-512.5 1115,-512.5 1115,-565.5\"/>\n<text text-anchor=\"middle\" x=\"1060.5\" y=\"-550.3\" font-family=\"Times,serif\" font-size=\"14.00\" fill=\"#000000\">gini = 0.0</text>\n<text text-anchor=\"middle\" x=\"1060.5\" y=\"-535.3\" font-family=\"Times,serif\" font-size=\"14.00\" fill=\"#000000\">samples = 114</text>\n<text text-anchor=\"middle\" x=\"1060.5\" y=\"-520.3\" font-family=\"Times,serif\" font-size=\"14.00\" fill=\"#000000\">value = [0, 114]</text>\n</g>\n<!-- 30&#45;&gt;34 -->\n<g id=\"edge34\" class=\"edge\">\n<title>30&#45;&gt;34</title>\n<path fill=\"none\" stroke=\"#000000\" d=\"M975.0845,-608.9465C989.6115,-597.0504 1005.8827,-583.726 1020.2951,-571.9237\"/>\n<polygon fill=\"#000000\" stroke=\"#000000\" points=\"1022.5686,-574.5858 1028.0879,-565.5422 1018.1335,-569.17 1022.5686,-574.5858\"/>\n</g>\n<!-- 32 -->\n<g id=\"node33\" class=\"node\">\n<title>32</title>\n<polygon fill=\"none\" stroke=\"#000000\" points=\"928,-461.5 833,-461.5 833,-408.5 928,-408.5 928,-461.5\"/>\n<text text-anchor=\"middle\" x=\"880.5\" y=\"-446.3\" font-family=\"Times,serif\" font-size=\"14.00\" fill=\"#000000\">gini = 0.0</text>\n<text text-anchor=\"middle\" x=\"880.5\" y=\"-431.3\" font-family=\"Times,serif\" font-size=\"14.00\" fill=\"#000000\">samples = 3</text>\n<text text-anchor=\"middle\" x=\"880.5\" y=\"-416.3\" font-family=\"Times,serif\" font-size=\"14.00\" fill=\"#000000\">value = [0, 3]</text>\n</g>\n<!-- 31&#45;&gt;32 -->\n<g id=\"edge32\" class=\"edge\">\n<title>31&#45;&gt;32</title>\n<path fill=\"none\" stroke=\"#000000\" d=\"M916.1458,-504.9465C910.5325,-493.9316 904.295,-481.6922 898.6272,-470.5703\"/>\n<polygon fill=\"#000000\" stroke=\"#000000\" points=\"901.6853,-468.8627 894.0263,-461.5422 895.4485,-472.0411 901.6853,-468.8627\"/>\n</g>\n<!-- 33 -->\n<g id=\"node34\" class=\"node\">\n<title>33</title>\n<polygon fill=\"none\" stroke=\"#000000\" points=\"1041,-461.5 946,-461.5 946,-408.5 1041,-408.5 1041,-461.5\"/>\n<text text-anchor=\"middle\" x=\"993.5\" y=\"-446.3\" font-family=\"Times,serif\" font-size=\"14.00\" fill=\"#000000\">gini = 0.0</text>\n<text text-anchor=\"middle\" x=\"993.5\" y=\"-431.3\" font-family=\"Times,serif\" font-size=\"14.00\" fill=\"#000000\">samples = 1</text>\n<text text-anchor=\"middle\" x=\"993.5\" y=\"-416.3\" font-family=\"Times,serif\" font-size=\"14.00\" fill=\"#000000\">value = [1, 0]</text>\n</g>\n<!-- 31&#45;&gt;33 -->\n<g id=\"edge33\" class=\"edge\">\n<title>31&#45;&gt;33</title>\n<path fill=\"none\" stroke=\"#000000\" d=\"M953.1462,-504.9465C959.5645,-493.8215 966.7035,-481.4473 973.171,-470.237\"/>\n<polygon fill=\"#000000\" stroke=\"#000000\" points=\"976.2216,-471.9531 978.1872,-461.5422 970.1583,-468.455 976.2216,-471.9531\"/>\n</g>\n</g>\n</svg>\n"
          },
          "metadata": {
            "tags": []
          },
          "execution_count": 143
        }
      ]
    },
    {
      "cell_type": "markdown",
      "metadata": {
        "id": "K8NLS9x7PKOd",
        "colab_type": "text"
      },
      "source": [
        "This figure illustrates the decisions of the CART decision tree in the scikit-learn model."
      ]
    },
    {
      "cell_type": "markdown",
      "metadata": {
        "id": "v2VJe9bQPLMG",
        "colab_type": "text"
      },
      "source": [
        "The terminating condition can be defined in several ways. Some of them are as follows:\n",
        "1. The tree has been exhausted and all terminating leaves have been constructed/found.\n",
        "2. Impurity (the measure of the different number of classes that the elements in a node belong to) at a particular node is below a given threshold.\n",
        "3. The number of elements at a particular node is lower than a threshold number of elements."
      ]
    },
    {
      "cell_type": "markdown",
      "metadata": {
        "id": "IT7hnwI3P9If",
        "colab_type": "text"
      },
      "source": [
        "**Breast Cancer Diagnosis Classification Using Artificial Neural Networks**"
      ]
    },
    {
      "cell_type": "code",
      "metadata": {
        "id": "twUSpl-MQEzw",
        "colab_type": "code",
        "colab": {}
      },
      "source": [
        "from sklearn.neural_network import MLPClassifier"
      ],
      "execution_count": 0,
      "outputs": []
    },
    {
      "cell_type": "code",
      "metadata": {
        "id": "Fs-seAPtQOww",
        "colab_type": "code",
        "colab": {
          "base_uri": "https://localhost:8080/",
          "height": 251
        },
        "outputId": "14f5bebc-69e7-46d2-f47a-91bd33d9a34a"
      },
      "source": [
        "df.head()"
      ],
      "execution_count": 145,
      "outputs": [
        {
          "output_type": "execute_result",
          "data": {
            "text/html": [
              "<div>\n",
              "<style scoped>\n",
              "    .dataframe tbody tr th:only-of-type {\n",
              "        vertical-align: middle;\n",
              "    }\n",
              "\n",
              "    .dataframe tbody tr th {\n",
              "        vertical-align: top;\n",
              "    }\n",
              "\n",
              "    .dataframe thead th {\n",
              "        text-align: right;\n",
              "    }\n",
              "</style>\n",
              "<table border=\"1\" class=\"dataframe\">\n",
              "  <thead>\n",
              "    <tr style=\"text-align: right;\">\n",
              "      <th></th>\n",
              "      <th>mean radius</th>\n",
              "      <th>mean texture</th>\n",
              "      <th>mean perimeter</th>\n",
              "      <th>mean area</th>\n",
              "      <th>mean smoothness</th>\n",
              "      <th>mean compactness</th>\n",
              "      <th>mean concavity</th>\n",
              "      <th>mean concave points</th>\n",
              "      <th>mean symmetry</th>\n",
              "      <th>mean fractal dimension</th>\n",
              "      <th>radius error</th>\n",
              "      <th>texture error</th>\n",
              "      <th>perimeter error</th>\n",
              "      <th>area error</th>\n",
              "      <th>smoothness error</th>\n",
              "      <th>compactness error</th>\n",
              "      <th>concavity error</th>\n",
              "      <th>concave points error</th>\n",
              "      <th>symmetry error</th>\n",
              "      <th>fractal dimension error</th>\n",
              "      <th>worst radius</th>\n",
              "      <th>worst texture</th>\n",
              "      <th>worst perimeter</th>\n",
              "      <th>worst area</th>\n",
              "      <th>worst smoothness</th>\n",
              "      <th>worst compactness</th>\n",
              "      <th>worst concavity</th>\n",
              "      <th>worst concave points</th>\n",
              "      <th>worst symmetry</th>\n",
              "      <th>worst fractal dimension</th>\n",
              "      <th>diagnosis</th>\n",
              "    </tr>\n",
              "  </thead>\n",
              "  <tbody>\n",
              "    <tr>\n",
              "      <th>0</th>\n",
              "      <td>17.99</td>\n",
              "      <td>10.38</td>\n",
              "      <td>122.80</td>\n",
              "      <td>1001.0</td>\n",
              "      <td>0.11840</td>\n",
              "      <td>0.27760</td>\n",
              "      <td>0.3001</td>\n",
              "      <td>0.14710</td>\n",
              "      <td>0.2419</td>\n",
              "      <td>0.07871</td>\n",
              "      <td>1.0950</td>\n",
              "      <td>0.9053</td>\n",
              "      <td>8.589</td>\n",
              "      <td>153.40</td>\n",
              "      <td>0.006399</td>\n",
              "      <td>0.04904</td>\n",
              "      <td>0.05373</td>\n",
              "      <td>0.01587</td>\n",
              "      <td>0.03003</td>\n",
              "      <td>0.006193</td>\n",
              "      <td>25.38</td>\n",
              "      <td>17.33</td>\n",
              "      <td>184.60</td>\n",
              "      <td>2019.0</td>\n",
              "      <td>0.1622</td>\n",
              "      <td>0.6656</td>\n",
              "      <td>0.7119</td>\n",
              "      <td>0.2654</td>\n",
              "      <td>0.4601</td>\n",
              "      <td>0.11890</td>\n",
              "      <td>malignant</td>\n",
              "    </tr>\n",
              "    <tr>\n",
              "      <th>1</th>\n",
              "      <td>20.57</td>\n",
              "      <td>17.77</td>\n",
              "      <td>132.90</td>\n",
              "      <td>1326.0</td>\n",
              "      <td>0.08474</td>\n",
              "      <td>0.07864</td>\n",
              "      <td>0.0869</td>\n",
              "      <td>0.07017</td>\n",
              "      <td>0.1812</td>\n",
              "      <td>0.05667</td>\n",
              "      <td>0.5435</td>\n",
              "      <td>0.7339</td>\n",
              "      <td>3.398</td>\n",
              "      <td>74.08</td>\n",
              "      <td>0.005225</td>\n",
              "      <td>0.01308</td>\n",
              "      <td>0.01860</td>\n",
              "      <td>0.01340</td>\n",
              "      <td>0.01389</td>\n",
              "      <td>0.003532</td>\n",
              "      <td>24.99</td>\n",
              "      <td>23.41</td>\n",
              "      <td>158.80</td>\n",
              "      <td>1956.0</td>\n",
              "      <td>0.1238</td>\n",
              "      <td>0.1866</td>\n",
              "      <td>0.2416</td>\n",
              "      <td>0.1860</td>\n",
              "      <td>0.2750</td>\n",
              "      <td>0.08902</td>\n",
              "      <td>malignant</td>\n",
              "    </tr>\n",
              "    <tr>\n",
              "      <th>2</th>\n",
              "      <td>19.69</td>\n",
              "      <td>21.25</td>\n",
              "      <td>130.00</td>\n",
              "      <td>1203.0</td>\n",
              "      <td>0.10960</td>\n",
              "      <td>0.15990</td>\n",
              "      <td>0.1974</td>\n",
              "      <td>0.12790</td>\n",
              "      <td>0.2069</td>\n",
              "      <td>0.05999</td>\n",
              "      <td>0.7456</td>\n",
              "      <td>0.7869</td>\n",
              "      <td>4.585</td>\n",
              "      <td>94.03</td>\n",
              "      <td>0.006150</td>\n",
              "      <td>0.04006</td>\n",
              "      <td>0.03832</td>\n",
              "      <td>0.02058</td>\n",
              "      <td>0.02250</td>\n",
              "      <td>0.004571</td>\n",
              "      <td>23.57</td>\n",
              "      <td>25.53</td>\n",
              "      <td>152.50</td>\n",
              "      <td>1709.0</td>\n",
              "      <td>0.1444</td>\n",
              "      <td>0.4245</td>\n",
              "      <td>0.4504</td>\n",
              "      <td>0.2430</td>\n",
              "      <td>0.3613</td>\n",
              "      <td>0.08758</td>\n",
              "      <td>malignant</td>\n",
              "    </tr>\n",
              "    <tr>\n",
              "      <th>3</th>\n",
              "      <td>11.42</td>\n",
              "      <td>20.38</td>\n",
              "      <td>77.58</td>\n",
              "      <td>386.1</td>\n",
              "      <td>0.14250</td>\n",
              "      <td>0.28390</td>\n",
              "      <td>0.2414</td>\n",
              "      <td>0.10520</td>\n",
              "      <td>0.2597</td>\n",
              "      <td>0.09744</td>\n",
              "      <td>0.4956</td>\n",
              "      <td>1.1560</td>\n",
              "      <td>3.445</td>\n",
              "      <td>27.23</td>\n",
              "      <td>0.009110</td>\n",
              "      <td>0.07458</td>\n",
              "      <td>0.05661</td>\n",
              "      <td>0.01867</td>\n",
              "      <td>0.05963</td>\n",
              "      <td>0.009208</td>\n",
              "      <td>14.91</td>\n",
              "      <td>26.50</td>\n",
              "      <td>98.87</td>\n",
              "      <td>567.7</td>\n",
              "      <td>0.2098</td>\n",
              "      <td>0.8663</td>\n",
              "      <td>0.6869</td>\n",
              "      <td>0.2575</td>\n",
              "      <td>0.6638</td>\n",
              "      <td>0.17300</td>\n",
              "      <td>malignant</td>\n",
              "    </tr>\n",
              "    <tr>\n",
              "      <th>4</th>\n",
              "      <td>20.29</td>\n",
              "      <td>14.34</td>\n",
              "      <td>135.10</td>\n",
              "      <td>1297.0</td>\n",
              "      <td>0.10030</td>\n",
              "      <td>0.13280</td>\n",
              "      <td>0.1980</td>\n",
              "      <td>0.10430</td>\n",
              "      <td>0.1809</td>\n",
              "      <td>0.05883</td>\n",
              "      <td>0.7572</td>\n",
              "      <td>0.7813</td>\n",
              "      <td>5.438</td>\n",
              "      <td>94.44</td>\n",
              "      <td>0.011490</td>\n",
              "      <td>0.02461</td>\n",
              "      <td>0.05688</td>\n",
              "      <td>0.01885</td>\n",
              "      <td>0.01756</td>\n",
              "      <td>0.005115</td>\n",
              "      <td>22.54</td>\n",
              "      <td>16.67</td>\n",
              "      <td>152.20</td>\n",
              "      <td>1575.0</td>\n",
              "      <td>0.1374</td>\n",
              "      <td>0.2050</td>\n",
              "      <td>0.4000</td>\n",
              "      <td>0.1625</td>\n",
              "      <td>0.2364</td>\n",
              "      <td>0.07678</td>\n",
              "      <td>malignant</td>\n",
              "    </tr>\n",
              "  </tbody>\n",
              "</table>\n",
              "</div>"
            ],
            "text/plain": [
              "   mean radius  mean texture  ...  worst fractal dimension  diagnosis\n",
              "0        17.99         10.38  ...                  0.11890  malignant\n",
              "1        20.57         17.77  ...                  0.08902  malignant\n",
              "2        19.69         21.25  ...                  0.08758  malignant\n",
              "3        11.42         20.38  ...                  0.17300  malignant\n",
              "4        20.29         14.34  ...                  0.07678  malignant\n",
              "\n",
              "[5 rows x 31 columns]"
            ]
          },
          "metadata": {
            "tags": []
          },
          "execution_count": 145
        }
      ]
    },
    {
      "cell_type": "code",
      "metadata": {
        "id": "kPUoCbASQRE6",
        "colab_type": "code",
        "colab": {}
      },
      "source": [
        "X, y = df[[c for c in df.columns if c != 'diagnosis']], df.diagnosis"
      ],
      "execution_count": 0,
      "outputs": []
    },
    {
      "cell_type": "markdown",
      "metadata": {
        "id": "2RZ1QF-jQaO0",
        "colab_type": "text"
      },
      "source": [
        "The next step is feature engineering. Different columns of this dataset have different scales of magnitude; hence, before constructing and training a neural network model, we normalize the dataset. For this, we use the MinMaxScaler API from sklearn, which normalizes each column's values between 0 and 1"
      ]
    },
    {
      "cell_type": "code",
      "metadata": {
        "id": "ycHDeIWLQiIA",
        "colab_type": "code",
        "colab": {}
      },
      "source": [
        "from sklearn import preprocessing"
      ],
      "execution_count": 0,
      "outputs": []
    },
    {
      "cell_type": "code",
      "metadata": {
        "id": "lbTOFCxoQTV6",
        "colab_type": "code",
        "colab": {}
      },
      "source": [
        "X_array = X.values #returns a numpy array\n",
        "min_max_scaler = preprocessing.MinMaxScaler()\n",
        "X_array_scaled = min_max_scaler.fit_transform(X_array)\n",
        "X = pd.DataFrame(X_array_scaled, columns=X.columns)"
      ],
      "execution_count": 0,
      "outputs": []
    },
    {
      "cell_type": "code",
      "metadata": {
        "id": "6hF6u6bOQkwl",
        "colab_type": "code",
        "colab": {
          "base_uri": "https://localhost:8080/",
          "height": 251
        },
        "outputId": "10fde092-c0df-4f5e-a529-217c3a508276"
      },
      "source": [
        "X = pd.DataFrame(X_array_scaled, columns=X.columns)\n",
        "X.head()"
      ],
      "execution_count": 150,
      "outputs": [
        {
          "output_type": "execute_result",
          "data": {
            "text/html": [
              "<div>\n",
              "<style scoped>\n",
              "    .dataframe tbody tr th:only-of-type {\n",
              "        vertical-align: middle;\n",
              "    }\n",
              "\n",
              "    .dataframe tbody tr th {\n",
              "        vertical-align: top;\n",
              "    }\n",
              "\n",
              "    .dataframe thead th {\n",
              "        text-align: right;\n",
              "    }\n",
              "</style>\n",
              "<table border=\"1\" class=\"dataframe\">\n",
              "  <thead>\n",
              "    <tr style=\"text-align: right;\">\n",
              "      <th></th>\n",
              "      <th>mean radius</th>\n",
              "      <th>mean texture</th>\n",
              "      <th>mean perimeter</th>\n",
              "      <th>mean area</th>\n",
              "      <th>mean smoothness</th>\n",
              "      <th>mean compactness</th>\n",
              "      <th>mean concavity</th>\n",
              "      <th>mean concave points</th>\n",
              "      <th>mean symmetry</th>\n",
              "      <th>mean fractal dimension</th>\n",
              "      <th>radius error</th>\n",
              "      <th>texture error</th>\n",
              "      <th>perimeter error</th>\n",
              "      <th>area error</th>\n",
              "      <th>smoothness error</th>\n",
              "      <th>compactness error</th>\n",
              "      <th>concavity error</th>\n",
              "      <th>concave points error</th>\n",
              "      <th>symmetry error</th>\n",
              "      <th>fractal dimension error</th>\n",
              "      <th>worst radius</th>\n",
              "      <th>worst texture</th>\n",
              "      <th>worst perimeter</th>\n",
              "      <th>worst area</th>\n",
              "      <th>worst smoothness</th>\n",
              "      <th>worst compactness</th>\n",
              "      <th>worst concavity</th>\n",
              "      <th>worst concave points</th>\n",
              "      <th>worst symmetry</th>\n",
              "      <th>worst fractal dimension</th>\n",
              "    </tr>\n",
              "  </thead>\n",
              "  <tbody>\n",
              "    <tr>\n",
              "      <th>0</th>\n",
              "      <td>0.521037</td>\n",
              "      <td>0.022658</td>\n",
              "      <td>0.545989</td>\n",
              "      <td>0.363733</td>\n",
              "      <td>0.593753</td>\n",
              "      <td>0.792037</td>\n",
              "      <td>0.703140</td>\n",
              "      <td>0.731113</td>\n",
              "      <td>0.686364</td>\n",
              "      <td>0.605518</td>\n",
              "      <td>0.356147</td>\n",
              "      <td>0.120469</td>\n",
              "      <td>0.369034</td>\n",
              "      <td>0.273811</td>\n",
              "      <td>0.159296</td>\n",
              "      <td>0.351398</td>\n",
              "      <td>0.135682</td>\n",
              "      <td>0.300625</td>\n",
              "      <td>0.311645</td>\n",
              "      <td>0.183042</td>\n",
              "      <td>0.620776</td>\n",
              "      <td>0.141525</td>\n",
              "      <td>0.668310</td>\n",
              "      <td>0.450698</td>\n",
              "      <td>0.601136</td>\n",
              "      <td>0.619292</td>\n",
              "      <td>0.568610</td>\n",
              "      <td>0.912027</td>\n",
              "      <td>0.598462</td>\n",
              "      <td>0.418864</td>\n",
              "    </tr>\n",
              "    <tr>\n",
              "      <th>1</th>\n",
              "      <td>0.643144</td>\n",
              "      <td>0.272574</td>\n",
              "      <td>0.615783</td>\n",
              "      <td>0.501591</td>\n",
              "      <td>0.289880</td>\n",
              "      <td>0.181768</td>\n",
              "      <td>0.203608</td>\n",
              "      <td>0.348757</td>\n",
              "      <td>0.379798</td>\n",
              "      <td>0.141323</td>\n",
              "      <td>0.156437</td>\n",
              "      <td>0.082589</td>\n",
              "      <td>0.124440</td>\n",
              "      <td>0.125660</td>\n",
              "      <td>0.119387</td>\n",
              "      <td>0.081323</td>\n",
              "      <td>0.046970</td>\n",
              "      <td>0.253836</td>\n",
              "      <td>0.084539</td>\n",
              "      <td>0.091110</td>\n",
              "      <td>0.606901</td>\n",
              "      <td>0.303571</td>\n",
              "      <td>0.539818</td>\n",
              "      <td>0.435214</td>\n",
              "      <td>0.347553</td>\n",
              "      <td>0.154563</td>\n",
              "      <td>0.192971</td>\n",
              "      <td>0.639175</td>\n",
              "      <td>0.233590</td>\n",
              "      <td>0.222878</td>\n",
              "    </tr>\n",
              "    <tr>\n",
              "      <th>2</th>\n",
              "      <td>0.601496</td>\n",
              "      <td>0.390260</td>\n",
              "      <td>0.595743</td>\n",
              "      <td>0.449417</td>\n",
              "      <td>0.514309</td>\n",
              "      <td>0.431017</td>\n",
              "      <td>0.462512</td>\n",
              "      <td>0.635686</td>\n",
              "      <td>0.509596</td>\n",
              "      <td>0.211247</td>\n",
              "      <td>0.229622</td>\n",
              "      <td>0.094303</td>\n",
              "      <td>0.180370</td>\n",
              "      <td>0.162922</td>\n",
              "      <td>0.150831</td>\n",
              "      <td>0.283955</td>\n",
              "      <td>0.096768</td>\n",
              "      <td>0.389847</td>\n",
              "      <td>0.205690</td>\n",
              "      <td>0.127006</td>\n",
              "      <td>0.556386</td>\n",
              "      <td>0.360075</td>\n",
              "      <td>0.508442</td>\n",
              "      <td>0.374508</td>\n",
              "      <td>0.483590</td>\n",
              "      <td>0.385375</td>\n",
              "      <td>0.359744</td>\n",
              "      <td>0.835052</td>\n",
              "      <td>0.403706</td>\n",
              "      <td>0.213433</td>\n",
              "    </tr>\n",
              "    <tr>\n",
              "      <th>3</th>\n",
              "      <td>0.210090</td>\n",
              "      <td>0.360839</td>\n",
              "      <td>0.233501</td>\n",
              "      <td>0.102906</td>\n",
              "      <td>0.811321</td>\n",
              "      <td>0.811361</td>\n",
              "      <td>0.565604</td>\n",
              "      <td>0.522863</td>\n",
              "      <td>0.776263</td>\n",
              "      <td>1.000000</td>\n",
              "      <td>0.139091</td>\n",
              "      <td>0.175875</td>\n",
              "      <td>0.126655</td>\n",
              "      <td>0.038155</td>\n",
              "      <td>0.251453</td>\n",
              "      <td>0.543215</td>\n",
              "      <td>0.142955</td>\n",
              "      <td>0.353665</td>\n",
              "      <td>0.728148</td>\n",
              "      <td>0.287205</td>\n",
              "      <td>0.248310</td>\n",
              "      <td>0.385928</td>\n",
              "      <td>0.241347</td>\n",
              "      <td>0.094008</td>\n",
              "      <td>0.915472</td>\n",
              "      <td>0.814012</td>\n",
              "      <td>0.548642</td>\n",
              "      <td>0.884880</td>\n",
              "      <td>1.000000</td>\n",
              "      <td>0.773711</td>\n",
              "    </tr>\n",
              "    <tr>\n",
              "      <th>4</th>\n",
              "      <td>0.629893</td>\n",
              "      <td>0.156578</td>\n",
              "      <td>0.630986</td>\n",
              "      <td>0.489290</td>\n",
              "      <td>0.430351</td>\n",
              "      <td>0.347893</td>\n",
              "      <td>0.463918</td>\n",
              "      <td>0.518390</td>\n",
              "      <td>0.378283</td>\n",
              "      <td>0.186816</td>\n",
              "      <td>0.233822</td>\n",
              "      <td>0.093065</td>\n",
              "      <td>0.220563</td>\n",
              "      <td>0.163688</td>\n",
              "      <td>0.332359</td>\n",
              "      <td>0.167918</td>\n",
              "      <td>0.143636</td>\n",
              "      <td>0.357075</td>\n",
              "      <td>0.136179</td>\n",
              "      <td>0.145800</td>\n",
              "      <td>0.519744</td>\n",
              "      <td>0.123934</td>\n",
              "      <td>0.506948</td>\n",
              "      <td>0.341575</td>\n",
              "      <td>0.437364</td>\n",
              "      <td>0.172415</td>\n",
              "      <td>0.319489</td>\n",
              "      <td>0.558419</td>\n",
              "      <td>0.157500</td>\n",
              "      <td>0.142595</td>\n",
              "    </tr>\n",
              "  </tbody>\n",
              "</table>\n",
              "</div>"
            ],
            "text/plain": [
              "   mean radius  mean texture  ...  worst symmetry  worst fractal dimension\n",
              "0     0.521037      0.022658  ...        0.598462                 0.418864\n",
              "1     0.643144      0.272574  ...        0.233590                 0.222878\n",
              "2     0.601496      0.390260  ...        0.403706                 0.213433\n",
              "3     0.210090      0.360839  ...        1.000000                 0.773711\n",
              "4     0.629893      0.156578  ...        0.157500                 0.142595\n",
              "\n",
              "[5 rows x 30 columns]"
            ]
          },
          "metadata": {
            "tags": []
          },
          "execution_count": 150
        }
      ]
    },
    {
      "cell_type": "code",
      "metadata": {
        "id": "O39vmZjhQp8e",
        "colab_type": "code",
        "colab": {}
      },
      "source": [
        "diagnoses = [\n",
        "    'benign', # 0\n",
        "    'malignant', # 1\n",
        "]\n",
        "output = [diagnoses.index(diag) for diag in y]"
      ],
      "execution_count": 0,
      "outputs": []
    },
    {
      "cell_type": "code",
      "metadata": {
        "id": "O8YKD3VWQtOu",
        "colab_type": "code",
        "colab": {}
      },
      "source": [
        "train_X, valid_X, train_y, valid_y = train_test_split(X, output, test_size=0.2, random_state=123)"
      ],
      "execution_count": 0,
      "outputs": []
    },
    {
      "cell_type": "code",
      "metadata": {
        "id": "DRONkvevQyQF",
        "colab_type": "code",
        "colab": {
          "base_uri": "https://localhost:8080/",
          "height": 158
        },
        "outputId": "1ef73b49-6f27-426b-8952-56dd36d74b77"
      },
      "source": [
        "model = MLPClassifier(solver='sgd', hidden_layer_sizes=(100,), max_iter=1000, random_state=1, \n",
        "                      learning_rate_init=.01)\n",
        "model.fit(X=train_X, y=train_y)"
      ],
      "execution_count": 154,
      "outputs": [
        {
          "output_type": "execute_result",
          "data": {
            "text/plain": [
              "MLPClassifier(activation='relu', alpha=0.0001, batch_size='auto', beta_1=0.9,\n",
              "              beta_2=0.999, early_stopping=False, epsilon=1e-08,\n",
              "              hidden_layer_sizes=(100,), learning_rate='constant',\n",
              "              learning_rate_init=0.01, max_fun=15000, max_iter=1000,\n",
              "              momentum=0.9, n_iter_no_change=10, nesterovs_momentum=True,\n",
              "              power_t=0.5, random_state=1, shuffle=True, solver='sgd',\n",
              "              tol=0.0001, validation_fraction=0.1, verbose=False,\n",
              "              warm_start=False)"
            ]
          },
          "metadata": {
            "tags": []
          },
          "execution_count": 154
        }
      ]
    },
    {
      "cell_type": "code",
      "metadata": {
        "id": "tcBoTiAAQ1TW",
        "colab_type": "code",
        "colab": {
          "base_uri": "https://localhost:8080/",
          "height": 34
        },
        "outputId": "8d66d9eb-5651-4394-dcbd-e03b8d11edc1"
      },
      "source": [
        "model.score(valid_X, valid_y)"
      ],
      "execution_count": 155,
      "outputs": [
        {
          "output_type": "execute_result",
          "data": {
            "text/plain": [
              "0.9824561403508771"
            ]
          },
          "metadata": {
            "tags": []
          },
          "execution_count": 155
        }
      ]
    }
  ]
}