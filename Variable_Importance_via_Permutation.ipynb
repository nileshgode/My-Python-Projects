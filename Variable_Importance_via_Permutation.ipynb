{
  "nbformat": 4,
  "nbformat_minor": 0,
  "metadata": {
    "colab": {
      "name": "Variable Importance via Permutation",
      "provenance": [],
      "authorship_tag": "ABX9TyP+Geyps/8qWXT4wpcU9aTB"
    },
    "kernelspec": {
      "name": "python3",
      "display_name": "Python 3"
    }
  },
  "cells": [
    {
      "cell_type": "markdown",
      "metadata": {
        "id": "KgREFCZN4hkA",
        "colab_type": "text"
      },
      "source": [
        "The ***mlxtend*** package provides a function to perform variable permutation and calculate variable importance values: feature_importance_permutation. Let's see how to use it with the Breast Cancer dataset from sklearn."
      ]
    },
    {
      "cell_type": "code",
      "metadata": {
        "id": "9pO_3wGp4UrS",
        "colab_type": "code",
        "colab": {}
      },
      "source": [
        "from sklearn.datasets import load_breast_cancer\n",
        "from sklearn.ensemble import RandomForestClassifier"
      ],
      "execution_count": 0,
      "outputs": []
    },
    {
      "cell_type": "code",
      "metadata": {
        "id": "qDye_AwR4nAh",
        "colab_type": "code",
        "colab": {}
      },
      "source": [
        "data = load_breast_cancer()\n",
        "X, y = data.data, data.target"
      ],
      "execution_count": 0,
      "outputs": []
    },
    {
      "cell_type": "code",
      "metadata": {
        "id": "nyVc2XfB407t",
        "colab_type": "code",
        "colab": {
          "base_uri": "https://localhost:8080/",
          "height": 153
        },
        "outputId": "457f794c-3e66-45d2-d650-f2fbddce88d2"
      },
      "source": [
        "rf_model = RandomForestClassifier(random_state=168)\n",
        "rf_model.fit(X, y)"
      ],
      "execution_count": 3,
      "outputs": [
        {
          "output_type": "execute_result",
          "data": {
            "text/plain": [
              "RandomForestClassifier(bootstrap=True, ccp_alpha=0.0, class_weight=None,\n",
              "                       criterion='gini', max_depth=None, max_features='auto',\n",
              "                       max_leaf_nodes=None, max_samples=None,\n",
              "                       min_impurity_decrease=0.0, min_impurity_split=None,\n",
              "                       min_samples_leaf=1, min_samples_split=2,\n",
              "                       min_weight_fraction_leaf=0.0, n_estimators=100,\n",
              "                       n_jobs=None, oob_score=False, random_state=168,\n",
              "                       verbose=0, warm_start=False)"
            ]
          },
          "metadata": {
            "tags": []
          },
          "execution_count": 3
        }
      ]
    },
    {
      "cell_type": "markdown",
      "metadata": {
        "id": "4H7FkbRo47th",
        "colab_type": "text"
      },
      "source": [
        "Then, we will call the feature_importance_permutation function from mlxtend.evaluate. This function takes the following parameters:\n",
        "\n",
        "predict_method: A function that will be called for model prediction. Here, we will provide the predict method from our trained rf_model model.\n",
        "\n",
        "X: The features from the dataset. It needs to be in NumPy array form.\n",
        "\n",
        "y: The target variable from the dataset. It needs to be in Numpy array form.\n",
        "\n",
        "metric: The metric used for comparing the performance of the model. For the classification task, we will use accuracy.\n",
        "\n",
        "num_round: The number of rounds mlxtend will perform permutation on the data and assess the performance change.\n",
        "\n",
        "seed: The seed set for getting reproducible results."
      ]
    },
    {
      "cell_type": "markdown",
      "metadata": {
        "id": "SAdL12-f5TGi",
        "colab_type": "text"
      },
      "source": [
        "Consider the following code snippet:"
      ]
    },
    {
      "cell_type": "code",
      "metadata": {
        "id": "yiDtSfHe42wB",
        "colab_type": "code",
        "colab": {
          "base_uri": "https://localhost:8080/",
          "height": 102
        },
        "outputId": "c7780a92-bd7a-4bfc-f4a6-72a85d0412fa"
      },
      "source": [
        "from mlxtend.evaluate import feature_importance_permutation\n",
        "\n",
        "imp_vals, _ = feature_importance_permutation(predict_method=rf_model.predict, X=X, y=y, metric='r2', num_rounds=1, seed=2)\n",
        "imp_vals"
      ],
      "execution_count": 4,
      "outputs": [
        {
          "output_type": "execute_result",
          "data": {
            "text/plain": [
              "array([0.       , 0.       , 0.       , 0.       , 0.       , 0.       ,\n",
              "       0.       , 0.       , 0.       , 0.       , 0.0075181, 0.       ,\n",
              "       0.       , 0.0075181, 0.       , 0.       , 0.       , 0.       ,\n",
              "       0.       , 0.       , 0.       , 0.0075181, 0.0075181, 0.       ,\n",
              "       0.       , 0.       , 0.0075181, 0.       , 0.       , 0.       ])"
            ]
          },
          "metadata": {
            "tags": []
          },
          "execution_count": 4
        }
      ]
    },
    {
      "cell_type": "markdown",
      "metadata": {
        "id": "xgaVj5bH5dz2",
        "colab_type": "text"
      },
      "source": [
        "Let's create a DataFrame containing these values and the names of the features and plot them on a graph with altair:"
      ]
    },
    {
      "cell_type": "code",
      "metadata": {
        "id": "CSCZI25m5XUs",
        "colab_type": "code",
        "colab": {
          "base_uri": "https://localhost:8080/",
          "height": 204
        },
        "outputId": "b4d1c652-5016-4cb3-c303-09e84e4f52fd"
      },
      "source": [
        "import pandas as pd\n",
        "varimp_df = pd.DataFrame()\n",
        "varimp_df['feature'] = data.feature_names\n",
        "varimp_df['importance'] = imp_vals\n",
        "varimp_df.head()"
      ],
      "execution_count": 5,
      "outputs": [
        {
          "output_type": "execute_result",
          "data": {
            "text/html": [
              "<div>\n",
              "<style scoped>\n",
              "    .dataframe tbody tr th:only-of-type {\n",
              "        vertical-align: middle;\n",
              "    }\n",
              "\n",
              "    .dataframe tbody tr th {\n",
              "        vertical-align: top;\n",
              "    }\n",
              "\n",
              "    .dataframe thead th {\n",
              "        text-align: right;\n",
              "    }\n",
              "</style>\n",
              "<table border=\"1\" class=\"dataframe\">\n",
              "  <thead>\n",
              "    <tr style=\"text-align: right;\">\n",
              "      <th></th>\n",
              "      <th>feature</th>\n",
              "      <th>importance</th>\n",
              "    </tr>\n",
              "  </thead>\n",
              "  <tbody>\n",
              "    <tr>\n",
              "      <th>0</th>\n",
              "      <td>mean radius</td>\n",
              "      <td>0.0</td>\n",
              "    </tr>\n",
              "    <tr>\n",
              "      <th>1</th>\n",
              "      <td>mean texture</td>\n",
              "      <td>0.0</td>\n",
              "    </tr>\n",
              "    <tr>\n",
              "      <th>2</th>\n",
              "      <td>mean perimeter</td>\n",
              "      <td>0.0</td>\n",
              "    </tr>\n",
              "    <tr>\n",
              "      <th>3</th>\n",
              "      <td>mean area</td>\n",
              "      <td>0.0</td>\n",
              "    </tr>\n",
              "    <tr>\n",
              "      <th>4</th>\n",
              "      <td>mean smoothness</td>\n",
              "      <td>0.0</td>\n",
              "    </tr>\n",
              "  </tbody>\n",
              "</table>\n",
              "</div>"
            ],
            "text/plain": [
              "           feature  importance\n",
              "0      mean radius         0.0\n",
              "1     mean texture         0.0\n",
              "2   mean perimeter         0.0\n",
              "3        mean area         0.0\n",
              "4  mean smoothness         0.0"
            ]
          },
          "metadata": {
            "tags": []
          },
          "execution_count": 5
        }
      ]
    },
    {
      "cell_type": "code",
      "metadata": {
        "id": "dRq1_KA35iXg",
        "colab_type": "code",
        "colab": {
          "base_uri": "https://localhost:8080/",
          "height": 663
        },
        "outputId": "d5b722a1-6b87-4ed7-c2fe-35f5011ffde4"
      },
      "source": [
        "import altair as alt\n",
        "alt.Chart(varimp_df).mark_bar().encode(\n",
        "    x='importance',\n",
        "    y=\"feature\"\n",
        ")"
      ],
      "execution_count": 6,
      "outputs": [
        {
          "output_type": "execute_result",
          "data": {
            "text/plain": [
              "alt.Chart(...)"
            ],
            "text/html": [
              "\n",
              "<div id=\"altair-viz-616dd4a45ed548a1b1f189eab2cb5226\"></div>\n",
              "<script type=\"text/javascript\">\n",
              "  (function(spec, embedOpt){\n",
              "    let outputDiv = document.currentScript.previousElementSibling;\n",
              "    if (outputDiv.id !== \"altair-viz-616dd4a45ed548a1b1f189eab2cb5226\") {\n",
              "      outputDiv = document.getElementById(\"altair-viz-616dd4a45ed548a1b1f189eab2cb5226\");\n",
              "    }\n",
              "    const paths = {\n",
              "      \"vega\": \"https://cdn.jsdelivr.net/npm//vega@5?noext\",\n",
              "      \"vega-lib\": \"https://cdn.jsdelivr.net/npm//vega-lib?noext\",\n",
              "      \"vega-lite\": \"https://cdn.jsdelivr.net/npm//vega-lite@4.8.1?noext\",\n",
              "      \"vega-embed\": \"https://cdn.jsdelivr.net/npm//vega-embed@6?noext\",\n",
              "    };\n",
              "\n",
              "    function loadScript(lib) {\n",
              "      return new Promise(function(resolve, reject) {\n",
              "        var s = document.createElement('script');\n",
              "        s.src = paths[lib];\n",
              "        s.async = true;\n",
              "        s.onload = () => resolve(paths[lib]);\n",
              "        s.onerror = () => reject(`Error loading script: ${paths[lib]}`);\n",
              "        document.getElementsByTagName(\"head\")[0].appendChild(s);\n",
              "      });\n",
              "    }\n",
              "\n",
              "    function showError(err) {\n",
              "      outputDiv.innerHTML = `<div class=\"error\" style=\"color:red;\">${err}</div>`;\n",
              "      throw err;\n",
              "    }\n",
              "\n",
              "    function displayChart(vegaEmbed) {\n",
              "      vegaEmbed(outputDiv, spec, embedOpt)\n",
              "        .catch(err => showError(`Javascript Error: ${err.message}<br>This usually means there's a typo in your chart specification. See the javascript console for the full traceback.`));\n",
              "    }\n",
              "\n",
              "    if(typeof define === \"function\" && define.amd) {\n",
              "      requirejs.config({paths});\n",
              "      require([\"vega-embed\"], displayChart, err => showError(`Error loading script: ${err.message}`));\n",
              "    } else if (typeof vegaEmbed === \"function\") {\n",
              "      displayChart(vegaEmbed);\n",
              "    } else {\n",
              "      loadScript(\"vega\")\n",
              "        .then(() => loadScript(\"vega-lite\"))\n",
              "        .then(() => loadScript(\"vega-embed\"))\n",
              "        .catch(showError)\n",
              "        .then(() => displayChart(vegaEmbed));\n",
              "    }\n",
              "  })({\"config\": {\"view\": {\"continuousWidth\": 400, \"continuousHeight\": 300}}, \"data\": {\"name\": \"data-51d12049c5fb699813eb94b64e116a9c\"}, \"mark\": \"bar\", \"encoding\": {\"x\": {\"type\": \"quantitative\", \"field\": \"importance\"}, \"y\": {\"type\": \"nominal\", \"field\": \"feature\"}}, \"$schema\": \"https://vega.github.io/schema/vega-lite/v4.8.1.json\", \"datasets\": {\"data-51d12049c5fb699813eb94b64e116a9c\": [{\"feature\": \"mean radius\", \"importance\": 0.0}, {\"feature\": \"mean texture\", \"importance\": 0.0}, {\"feature\": \"mean perimeter\", \"importance\": 0.0}, {\"feature\": \"mean area\", \"importance\": 0.0}, {\"feature\": \"mean smoothness\", \"importance\": 0.0}, {\"feature\": \"mean compactness\", \"importance\": 0.0}, {\"feature\": \"mean concavity\", \"importance\": 0.0}, {\"feature\": \"mean concave points\", \"importance\": 0.0}, {\"feature\": \"mean symmetry\", \"importance\": 0.0}, {\"feature\": \"mean fractal dimension\", \"importance\": 0.0}, {\"feature\": \"radius error\", \"importance\": 0.007518101580254788}, {\"feature\": \"texture error\", \"importance\": 0.0}, {\"feature\": \"perimeter error\", \"importance\": 0.0}, {\"feature\": \"area error\", \"importance\": 0.007518101580254788}, {\"feature\": \"smoothness error\", \"importance\": 0.0}, {\"feature\": \"compactness error\", \"importance\": 0.0}, {\"feature\": \"concavity error\", \"importance\": 0.0}, {\"feature\": \"concave points error\", \"importance\": 0.0}, {\"feature\": \"symmetry error\", \"importance\": 0.0}, {\"feature\": \"fractal dimension error\", \"importance\": 0.0}, {\"feature\": \"worst radius\", \"importance\": 0.0}, {\"feature\": \"worst texture\", \"importance\": 0.007518101580254788}, {\"feature\": \"worst perimeter\", \"importance\": 0.007518101580254788}, {\"feature\": \"worst area\", \"importance\": 0.0}, {\"feature\": \"worst smoothness\", \"importance\": 0.0}, {\"feature\": \"worst compactness\", \"importance\": 0.0}, {\"feature\": \"worst concavity\", \"importance\": 0.007518101580254788}, {\"feature\": \"worst concave points\", \"importance\": 0.0}, {\"feature\": \"worst symmetry\", \"importance\": 0.0}, {\"feature\": \"worst fractal dimension\", \"importance\": 0.0}]}}, {\"mode\": \"vega-lite\"});\n",
              "</script>"
            ]
          },
          "metadata": {
            "tags": []
          },
          "execution_count": 6
        }
      ]
    },
    {
      "cell_type": "markdown",
      "metadata": {
        "id": "edLIqNhy6Bhx",
        "colab_type": "text"
      },
      "source": [
        "**These results are different from the ones we got from RandomForest in the previous section. Here, worst concave points is the most important, followed by worst area, and worst perimeter has a higher value than mean radius. So, we got the same list of the most important variables but in a different order. This confirms these three features are indeed the most important in predicting whether a tumor is malignant or not. The variable importance from RandomForest and the permutation have different logic, therefore, their results can be different.**"
      ]
    }
  ]
}