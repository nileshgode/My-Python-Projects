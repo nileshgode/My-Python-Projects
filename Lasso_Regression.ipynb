{
  "nbformat": 4,
  "nbformat_minor": 0,
  "metadata": {
    "colab": {
      "name": " Lasso Regression",
      "provenance": [],
      "authorship_tag": "ABX9TyPfo2/NJK5UA8i1eJ65A0vy"
    },
    "kernelspec": {
      "name": "python3",
      "display_name": "Python 3"
    }
  },
  "cells": [
    {
      "cell_type": "code",
      "metadata": {
        "id": "2N7Sd1CZN2mp",
        "colab_type": "code",
        "colab": {}
      },
      "source": [
        "import pandas as pd\n",
        "from sklearn.model_selection import train_test_split\n",
        "from sklearn.linear_model import LinearRegression, Lasso\n",
        "from sklearn.metrics import mean_squared_error\n",
        "from sklearn.pipeline import Pipeline\n",
        "from sklearn.preprocessing import MinMaxScaler, PolynomialFeatures"
      ],
      "execution_count": 0,
      "outputs": []
    },
    {
      "cell_type": "code",
      "metadata": {
        "id": "0qZTS_pSN9Pf",
        "colab_type": "code",
        "colab": {}
      },
      "source": [
        "_df = pd.read_csv('https://raw.githubusercontent.com/PacktWorkshops/The-Data-Science-Workshop/master/Chapter07/Dataset/ccpp.csv')"
      ],
      "execution_count": 0,
      "outputs": []
    },
    {
      "cell_type": "code",
      "metadata": {
        "id": "kWrYQpVjOBIH",
        "colab_type": "code",
        "colab": {
          "base_uri": "https://localhost:8080/",
          "height": 221
        },
        "outputId": "32b4ca4c-8e4d-46e0-b739-144e48612b24"
      },
      "source": [
        "_df.info()"
      ],
      "execution_count": 3,
      "outputs": [
        {
          "output_type": "stream",
          "text": [
            "<class 'pandas.core.frame.DataFrame'>\n",
            "RangeIndex: 9568 entries, 0 to 9567\n",
            "Data columns (total 5 columns):\n",
            " #   Column  Non-Null Count  Dtype  \n",
            "---  ------  --------------  -----  \n",
            " 0   AT      9568 non-null   float64\n",
            " 1   V       9568 non-null   float64\n",
            " 2   AP      9568 non-null   float64\n",
            " 3   RH      9568 non-null   float64\n",
            " 4   PE      9568 non-null   float64\n",
            "dtypes: float64(5)\n",
            "memory usage: 373.9 KB\n"
          ],
          "name": "stdout"
        }
      ]
    },
    {
      "cell_type": "code",
      "metadata": {
        "id": "ZEQJMBYKODC2",
        "colab_type": "code",
        "colab": {}
      },
      "source": [
        "X = _df.drop(['PE'], axis=1).values"
      ],
      "execution_count": 0,
      "outputs": []
    },
    {
      "cell_type": "code",
      "metadata": {
        "id": "oR1prKp8OJ2e",
        "colab_type": "code",
        "colab": {}
      },
      "source": [
        "y = _df['PE'].values"
      ],
      "execution_count": 0,
      "outputs": []
    },
    {
      "cell_type": "code",
      "metadata": {
        "id": "ju3_8T0pORYb",
        "colab_type": "code",
        "colab": {}
      },
      "source": [
        "train_X, eval_X, train_y, eval_y = train_test_split(X, y, train_size=0.8, random_state=0)"
      ],
      "execution_count": 0,
      "outputs": []
    },
    {
      "cell_type": "code",
      "metadata": {
        "id": "y0I1j2GfOTbU",
        "colab_type": "code",
        "colab": {}
      },
      "source": [
        "lr_model_1 = LinearRegression()"
      ],
      "execution_count": 0,
      "outputs": []
    },
    {
      "cell_type": "code",
      "metadata": {
        "id": "b7p5k4PuOWQm",
        "colab_type": "code",
        "colab": {
          "base_uri": "https://localhost:8080/",
          "height": 34
        },
        "outputId": "f83de277-d3ad-4469-c66b-4f3fb795f51b"
      },
      "source": [
        "lr_model_1.fit(train_X, train_y)"
      ],
      "execution_count": 8,
      "outputs": [
        {
          "output_type": "execute_result",
          "data": {
            "text/plain": [
              "LinearRegression(copy_X=True, fit_intercept=True, n_jobs=None, normalize=False)"
            ]
          },
          "metadata": {
            "tags": []
          },
          "execution_count": 8
        }
      ]
    },
    {
      "cell_type": "code",
      "metadata": {
        "id": "6EIUdWuGOaeb",
        "colab_type": "code",
        "colab": {}
      },
      "source": [
        "lr_model_1_preds = lr_model_1.predict(eval_X)"
      ],
      "execution_count": 0,
      "outputs": []
    },
    {
      "cell_type": "code",
      "metadata": {
        "id": "tdbC6xRUOc_2",
        "colab_type": "code",
        "colab": {
          "base_uri": "https://localhost:8080/",
          "height": 34
        },
        "outputId": "733a4827-347a-4bbf-bd7e-e3d522b7b968"
      },
      "source": [
        "print('lr_model_1 R2 Score: {}'.format(lr_model_1.score(eval_X, eval_y)))"
      ],
      "execution_count": 10,
      "outputs": [
        {
          "output_type": "stream",
          "text": [
            "lr_model_1 R2 Score: 0.9325315554761302\n"
          ],
          "name": "stdout"
        }
      ]
    },
    {
      "cell_type": "code",
      "metadata": {
        "id": "s3pSbCmcOfya",
        "colab_type": "code",
        "colab": {
          "base_uri": "https://localhost:8080/",
          "height": 34
        },
        "outputId": "2d4cf26e-765f-4de0-d6c6-e19f2875b0fe"
      },
      "source": [
        "print('lr_model_1 MSE: {}'.format(mean_squared_error(eval_y, lr_model_1_preds)))"
      ],
      "execution_count": 11,
      "outputs": [
        {
          "output_type": "stream",
          "text": [
            "lr_model_1 MSE: 19.733699303497648\n"
          ],
          "name": "stdout"
        }
      ]
    },
    {
      "cell_type": "code",
      "metadata": {
        "id": "BoBN9WTgOkT8",
        "colab_type": "code",
        "colab": {}
      },
      "source": [
        "steps = [\n",
        "    ('scaler', MinMaxScaler()),\n",
        "    ('poly', PolynomialFeatures(degree=3)),\n",
        "    ('lr', LinearRegression())\n",
        "]"
      ],
      "execution_count": 0,
      "outputs": []
    },
    {
      "cell_type": "code",
      "metadata": {
        "id": "tzN1IlDnOmod",
        "colab_type": "code",
        "colab": {}
      },
      "source": [
        "lr_model_2 = Pipeline(steps)"
      ],
      "execution_count": 0,
      "outputs": []
    },
    {
      "cell_type": "code",
      "metadata": {
        "id": "lurIEyoOOpZ-",
        "colab_type": "code",
        "colab": {
          "base_uri": "https://localhost:8080/",
          "height": 170
        },
        "outputId": "09138141-6c33-45f7-bb2e-0bc00d5f69c4"
      },
      "source": [
        "lr_model_2.fit(train_X, train_y)"
      ],
      "execution_count": 14,
      "outputs": [
        {
          "output_type": "execute_result",
          "data": {
            "text/plain": [
              "Pipeline(memory=None,\n",
              "         steps=[('scaler', MinMaxScaler(copy=True, feature_range=(0, 1))),\n",
              "                ('poly',\n",
              "                 PolynomialFeatures(degree=3, include_bias=True,\n",
              "                                    interaction_only=False, order='C')),\n",
              "                ('lr',\n",
              "                 LinearRegression(copy_X=True, fit_intercept=True, n_jobs=None,\n",
              "                                  normalize=False))],\n",
              "         verbose=False)"
            ]
          },
          "metadata": {
            "tags": []
          },
          "execution_count": 14
        }
      ]
    },
    {
      "cell_type": "code",
      "metadata": {
        "id": "S1i9kGmtOraE",
        "colab_type": "code",
        "colab": {
          "base_uri": "https://localhost:8080/",
          "height": 34
        },
        "outputId": "fa614850-0f9e-443d-bb50-d0683954ed47"
      },
      "source": [
        "print('lr_model_2 R2 Score: {}'.format(lr_model_2.score(eval_X, eval_y)))"
      ],
      "execution_count": 15,
      "outputs": [
        {
          "output_type": "stream",
          "text": [
            "lr_model_2 R2 Score: 0.9443678654045208\n"
          ],
          "name": "stdout"
        }
      ]
    },
    {
      "cell_type": "code",
      "metadata": {
        "id": "lIi6-cCaOvNE",
        "colab_type": "code",
        "colab": {}
      },
      "source": [
        "lr_model_2_preds = lr_model_2.predict(eval_X)"
      ],
      "execution_count": 0,
      "outputs": []
    },
    {
      "cell_type": "code",
      "metadata": {
        "id": "NtNsVCUbOxwo",
        "colab_type": "code",
        "colab": {
          "base_uri": "https://localhost:8080/",
          "height": 34
        },
        "outputId": "fab7ed5e-55d9-48b9-d54e-6d80b6d2485c"
      },
      "source": [
        "print('lr_model_2 MSE: {}'.format(mean_squared_error(eval_y, lr_model_2_preds)))"
      ],
      "execution_count": 17,
      "outputs": [
        {
          "output_type": "stream",
          "text": [
            "lr_model_2 MSE: 16.271722632207666\n"
          ],
          "name": "stdout"
        }
      ]
    },
    {
      "cell_type": "markdown",
      "metadata": {
        "id": "8psGSQAEO4tn",
        "colab_type": "text"
      },
      "source": [
        "You can see from the output that the MSE of the second model is 18.503. This is less than the MSE of the first model, which is 21.675. You can safely conclude that the second model is better than the first."
      ]
    },
    {
      "cell_type": "code",
      "metadata": {
        "id": "Hu8rDdlhO0zV",
        "colab_type": "code",
        "colab": {
          "base_uri": "https://localhost:8080/",
          "height": 170
        },
        "outputId": "a45a5a7a-d640-4f00-d9de-4d8b34ef495a"
      },
      "source": [
        "print(lr_model_2[-1].coef_)"
      ],
      "execution_count": 18,
      "outputs": [
        {
          "output_type": "stream",
          "text": [
            "[ 7.72661789e-14 -1.77278028e+02 -4.60337188e+01 -1.60520675e+02\n",
            " -1.23076123e+02  6.23358210e+00  8.19655844e+00  1.45478576e+02\n",
            "  1.88658651e+02  2.43740192e+01  1.80553150e+02 -1.08058561e+02\n",
            "  1.09713294e+02  1.79121906e+02  1.06460596e+02  2.67290613e+01\n",
            "  7.79833654e+01  3.69241324e+01 -1.13863997e+02 -1.42673215e+02\n",
            " -9.69606773e+01  1.90706809e+02 -5.56429546e+01 -1.32595225e+02\n",
            " -9.41682917e+01  9.40112729e+01 -1.18732510e+02 -7.64871610e+01\n",
            " -4.18714081e+01  6.36772260e+01  4.42340977e+01 -3.81114691e+01\n",
            " -4.71547759e+01 -9.16797074e+01 -2.52346805e+01]\n"
          ],
          "name": "stdout"
        }
      ]
    },
    {
      "cell_type": "code",
      "metadata": {
        "id": "JdeekzjKO8bn",
        "colab_type": "code",
        "colab": {
          "base_uri": "https://localhost:8080/",
          "height": 34
        },
        "outputId": "b04544b1-470a-48aa-d5a2-3d5a4771b113"
      },
      "source": [
        "print(len(lr_model_2[-1].coef_))"
      ],
      "execution_count": 19,
      "outputs": [
        {
          "output_type": "stream",
          "text": [
            "35\n"
          ],
          "name": "stdout"
        }
      ]
    },
    {
      "cell_type": "code",
      "metadata": {
        "id": "SVA3qVDLPAYC",
        "colab_type": "code",
        "colab": {}
      },
      "source": [
        "steps = [\n",
        "    ('scaler', MinMaxScaler()),\n",
        "    ('poly', PolynomialFeatures(degree=10)),\n",
        "    ('lr', LinearRegression())\n",
        "]"
      ],
      "execution_count": 0,
      "outputs": []
    },
    {
      "cell_type": "code",
      "metadata": {
        "id": "oSoMFgr-PCvy",
        "colab_type": "code",
        "colab": {}
      },
      "source": [
        "lr_model_3 = Pipeline(steps)"
      ],
      "execution_count": 0,
      "outputs": []
    },
    {
      "cell_type": "code",
      "metadata": {
        "id": "WVFar_bHPEyg",
        "colab_type": "code",
        "colab": {
          "base_uri": "https://localhost:8080/",
          "height": 170
        },
        "outputId": "b1ce5814-d371-417b-f017-47f41f5461a2"
      },
      "source": [
        "lr_model_3.fit(train_X, train_y)"
      ],
      "execution_count": 22,
      "outputs": [
        {
          "output_type": "execute_result",
          "data": {
            "text/plain": [
              "Pipeline(memory=None,\n",
              "         steps=[('scaler', MinMaxScaler(copy=True, feature_range=(0, 1))),\n",
              "                ('poly',\n",
              "                 PolynomialFeatures(degree=10, include_bias=True,\n",
              "                                    interaction_only=False, order='C')),\n",
              "                ('lr',\n",
              "                 LinearRegression(copy_X=True, fit_intercept=True, n_jobs=None,\n",
              "                                  normalize=False))],\n",
              "         verbose=False)"
            ]
          },
          "metadata": {
            "tags": []
          },
          "execution_count": 22
        }
      ]
    },
    {
      "cell_type": "code",
      "metadata": {
        "id": "bAWG7IOgPGd3",
        "colab_type": "code",
        "colab": {
          "base_uri": "https://localhost:8080/",
          "height": 34
        },
        "outputId": "bfeb42cb-c233-4d9c-966d-c347e175e271"
      },
      "source": [
        "print('lr_model_3 R2 Score: {}'.format(lr_model_3.score(eval_X, eval_y)))"
      ],
      "execution_count": 23,
      "outputs": [
        {
          "output_type": "stream",
          "text": [
            "lr_model_3 R2 Score: 0.5683459493202576\n"
          ],
          "name": "stdout"
        }
      ]
    },
    {
      "cell_type": "code",
      "metadata": {
        "id": "eklBeXyePJLZ",
        "colab_type": "code",
        "colab": {}
      },
      "source": [
        "lr_model_3_preds = lr_model_3.predict(eval_X)"
      ],
      "execution_count": 0,
      "outputs": []
    },
    {
      "cell_type": "code",
      "metadata": {
        "id": "qswdycSFPPUz",
        "colab_type": "code",
        "colab": {
          "base_uri": "https://localhost:8080/",
          "height": 34
        },
        "outputId": "12a64710-73e2-4d86-c065-d28ac8ae977e"
      },
      "source": [
        "print('lr_model_3 MSE: {}'.format(mean_squared_error(eval_y, lr_model_3_preds)))"
      ],
      "execution_count": 25,
      "outputs": [
        {
          "output_type": "stream",
          "text": [
            "lr_model_3 MSE: 126.25355896914343\n"
          ],
          "name": "stdout"
        }
      ]
    },
    {
      "cell_type": "code",
      "metadata": {
        "id": "ODF-gccCPRx7",
        "colab_type": "code",
        "colab": {
          "base_uri": "https://localhost:8080/",
          "height": 34
        },
        "outputId": "1c2bf4c5-6c61-42d9-a643-d12b90b596fd"
      },
      "source": [
        "print(len(lr_model_3[-1].coef_))"
      ],
      "execution_count": 26,
      "outputs": [
        {
          "output_type": "stream",
          "text": [
            "1001\n"
          ],
          "name": "stdout"
        }
      ]
    },
    {
      "cell_type": "code",
      "metadata": {
        "id": "y7jNtZKmPV0k",
        "colab_type": "code",
        "colab": {
          "base_uri": "https://localhost:8080/",
          "height": 170
        },
        "outputId": "bb0e9b1b-b34c-40fc-e8f5-a0f096e29cb3"
      },
      "source": [
        "print(lr_model_3[-1].coef_[:35])"
      ],
      "execution_count": 27,
      "outputs": [
        {
          "output_type": "stream",
          "text": [
            "[ 3.92417572e+05 -6.90884957e+07 -4.12728037e+07  2.27928559e+07\n",
            " -4.76788092e+07  2.96663457e+08  2.73267484e+08  1.07844757e+08\n",
            "  3.73718995e+08  8.79698968e+07 -2.35367959e+07  2.46251982e+08\n",
            " -2.61104947e+08  1.86087661e+07  1.41131196e+08 -6.53886924e+08\n",
            " -8.90633353e+08 -1.06074814e+09 -1.29264510e+09 -4.28435046e+08\n",
            "  5.31626843e+07 -1.30408977e+09  4.41024830e+08 -8.86228713e+08\n",
            " -8.78160515e+08 -1.97377311e+06 -5.39375259e+08 -3.68352714e+08\n",
            "  9.82113559e+08 -2.76718687e+08 -6.28824872e+08  8.14257203e+08\n",
            "  5.43205856e+08 -2.03045074e+08 -2.42929048e+08]\n"
          ],
          "name": "stdout"
        }
      ]
    },
    {
      "cell_type": "code",
      "metadata": {
        "id": "frri1SUrPYHX",
        "colab_type": "code",
        "colab": {}
      },
      "source": [
        "steps = [\n",
        "    ('scaler', MinMaxScaler()),\n",
        "    ('poly', PolynomialFeatures(degree=10)),\n",
        "    ('lr', Lasso(alpha=0.01))\n",
        "]"
      ],
      "execution_count": 0,
      "outputs": []
    },
    {
      "cell_type": "code",
      "metadata": {
        "id": "bewme2fcPaYZ",
        "colab_type": "code",
        "colab": {}
      },
      "source": [
        "lasso_model = Pipeline(steps)"
      ],
      "execution_count": 0,
      "outputs": []
    },
    {
      "cell_type": "code",
      "metadata": {
        "id": "3VCLrA62Pcgj",
        "colab_type": "code",
        "colab": {
          "base_uri": "https://localhost:8080/",
          "height": 204
        },
        "outputId": "545c09e7-d62c-4990-a392-1e283a57b2fa"
      },
      "source": [
        "lasso_model.fit(train_X, train_y)"
      ],
      "execution_count": 30,
      "outputs": [
        {
          "output_type": "execute_result",
          "data": {
            "text/plain": [
              "Pipeline(memory=None,\n",
              "         steps=[('scaler', MinMaxScaler(copy=True, feature_range=(0, 1))),\n",
              "                ('poly',\n",
              "                 PolynomialFeatures(degree=10, include_bias=True,\n",
              "                                    interaction_only=False, order='C')),\n",
              "                ('lr',\n",
              "                 Lasso(alpha=0.01, copy_X=True, fit_intercept=True,\n",
              "                       max_iter=1000, normalize=False, positive=False,\n",
              "                       precompute=False, random_state=None, selection='cyclic',\n",
              "                       tol=0.0001, warm_start=False))],\n",
              "         verbose=False)"
            ]
          },
          "metadata": {
            "tags": []
          },
          "execution_count": 30
        }
      ]
    },
    {
      "cell_type": "code",
      "metadata": {
        "id": "VZfW2yaVPfGF",
        "colab_type": "code",
        "colab": {
          "base_uri": "https://localhost:8080/",
          "height": 34
        },
        "outputId": "b3e81ce7-e807-4bbc-aab6-c515ba6111ab"
      },
      "source": [
        "print('lasso_model R2 Score: {}'.format(lasso_model.score(eval_X, eval_y)))"
      ],
      "execution_count": 31,
      "outputs": [
        {
          "output_type": "stream",
          "text": [
            "lasso_model R2 Score: 0.9418109161488483\n"
          ],
          "name": "stdout"
        }
      ]
    },
    {
      "cell_type": "code",
      "metadata": {
        "id": "U0mocWRmPiYa",
        "colab_type": "code",
        "colab": {}
      },
      "source": [
        "lasso_preds = lasso_model.predict(eval_X)"
      ],
      "execution_count": 0,
      "outputs": []
    },
    {
      "cell_type": "code",
      "metadata": {
        "id": "BIGfr3CXPlVu",
        "colab_type": "code",
        "colab": {
          "base_uri": "https://localhost:8080/",
          "height": 34
        },
        "outputId": "47ed3987-baec-48fe-e637-c44b426af6af"
      },
      "source": [
        "print('lasso_model MSE: {}'.format(mean_squared_error(eval_y, lasso_preds)))"
      ],
      "execution_count": 33,
      "outputs": [
        {
          "output_type": "stream",
          "text": [
            "lasso_model MSE: 17.019599185488644\n"
          ],
          "name": "stdout"
        }
      ]
    },
    {
      "cell_type": "code",
      "metadata": {
        "id": "q92EmZQ_Pn8r",
        "colab_type": "code",
        "colab": {
          "base_uri": "https://localhost:8080/",
          "height": 34
        },
        "outputId": "0bd12c98-e56f-464b-fc51-687ad55e7178"
      },
      "source": [
        "print(len(lasso_model[-1].coef_))"
      ],
      "execution_count": 34,
      "outputs": [
        {
          "output_type": "stream",
          "text": [
            "1001\n"
          ],
          "name": "stdout"
        }
      ]
    },
    {
      "cell_type": "code",
      "metadata": {
        "id": "lNppSeNqPr6z",
        "colab_type": "code",
        "colab": {
          "base_uri": "https://localhost:8080/",
          "height": 136
        },
        "outputId": "dc92fa5a-a7fe-4010-c452-c397b87b7815"
      },
      "source": [
        "print(lasso_model[-1].coef_[:35])"
      ],
      "execution_count": 35,
      "outputs": [
        {
          "output_type": "stream",
          "text": [
            "[  0.         -69.23283545 -12.97913161   5.59999369  -0.\n",
            "   0.          -0.           0.          -0.71670158  -0.53479946\n",
            "   0.          -1.25577296   0.          -0.          -0.\n",
            "   0.           0.           0.          -0.           0.\n",
            "   0.          -0.           0.          -0.          -9.10662876\n",
            "  -0.           0.          -0.           0.          -0.\n",
            "  -3.04193695  -0.          -0.          -0.          -0.        ]\n"
          ],
          "name": "stdout"
        }
      ]
    },
    {
      "cell_type": "markdown",
      "metadata": {
        "id": "_yAz7QmiP0Vk",
        "colab_type": "text"
      },
      "source": [
        "You can see from the preceding output that some of the coefficients are set to 0. This has the effect of ignoring the corresponding column of data in the input. You can also see that the remaining coefficients have magnitudes of less than 100. This goes to show that the model is no longer overfitting.\n",
        "\n",
        "This exercise taught you how to fix overfitting by using LassoRegression to train a new model."
      ]
    }
  ]
}