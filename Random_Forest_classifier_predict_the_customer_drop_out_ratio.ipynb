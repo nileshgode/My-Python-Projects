{
  "nbformat": 4,
  "nbformat_minor": 0,
  "metadata": {
    "colab": {
      "name": "Random Forest classifier-predict the customer drop-out ratio",
      "provenance": [],
      "authorship_tag": "ABX9TyO8toCBm0PHQmc8tu2phPM9"
    },
    "kernelspec": {
      "name": "python3",
      "display_name": "Python 3"
    }
  },
  "cells": [
    {
      "cell_type": "code",
      "metadata": {
        "id": "B8uQQzYO0aZ9",
        "colab_type": "code",
        "colab": {}
      },
      "source": [
        "import pandas as pd\n",
        "from sklearn.model_selection import train_test_split\n",
        "from sklearn.ensemble import RandomForestRegressor\n",
        "from sklearn.metrics import mean_squared_error\n",
        "import altair as alt"
      ],
      "execution_count": 0,
      "outputs": []
    },
    {
      "cell_type": "code",
      "metadata": {
        "id": "m7XLnsIa0nr6",
        "colab_type": "code",
        "colab": {}
      },
      "source": [
        "file_url = 'https://raw.githubusercontent.com/PacktWorkshops/The-Data-Science-Workshop/master/Chapter09/Dataset/phpYYZ4Qc.csv'"
      ],
      "execution_count": 0,
      "outputs": []
    },
    {
      "cell_type": "code",
      "metadata": {
        "id": "xSINQUbY0sbD",
        "colab_type": "code",
        "colab": {}
      },
      "source": [
        "df = pd.read_csv(file_url)"
      ],
      "execution_count": 0,
      "outputs": []
    },
    {
      "cell_type": "code",
      "metadata": {
        "id": "-Rip6GAa0uql",
        "colab_type": "code",
        "colab": {}
      },
      "source": [
        "y = df.pop('rej')\n",
        "X_train, X_test, y_train, y_test = train_test_split(df, y, test_size=0.3, random_state=1)"
      ],
      "execution_count": 0,
      "outputs": []
    },
    {
      "cell_type": "code",
      "metadata": {
        "id": "_ev6EJ8u1PUC",
        "colab_type": "code",
        "colab": {}
      },
      "source": [
        "rf_model = RandomForestRegressor(random_state=1, n_estimators=50, max_depth=6, min_samples_leaf=60)"
      ],
      "execution_count": 0,
      "outputs": []
    },
    {
      "cell_type": "code",
      "metadata": {
        "id": "hjR-JaGn1X25",
        "colab_type": "code",
        "colab": {
          "base_uri": "https://localhost:8080/",
          "height": 136
        },
        "outputId": "cbe4ab66-48bc-4edf-cedf-77a36fe6c64e"
      },
      "source": [
        "rf_model.fit(X_train, y_train)"
      ],
      "execution_count": 7,
      "outputs": [
        {
          "output_type": "execute_result",
          "data": {
            "text/plain": [
              "RandomForestRegressor(bootstrap=True, ccp_alpha=0.0, criterion='mse',\n",
              "                      max_depth=6, max_features='auto', max_leaf_nodes=None,\n",
              "                      max_samples=None, min_impurity_decrease=0.0,\n",
              "                      min_impurity_split=None, min_samples_leaf=60,\n",
              "                      min_samples_split=2, min_weight_fraction_leaf=0.0,\n",
              "                      n_estimators=50, n_jobs=None, oob_score=False,\n",
              "                      random_state=1, verbose=0, warm_start=False)"
            ]
          },
          "metadata": {
            "tags": []
          },
          "execution_count": 7
        }
      ]
    },
    {
      "cell_type": "code",
      "metadata": {
        "id": "jwtoRk-R1aLO",
        "colab_type": "code",
        "colab": {}
      },
      "source": [
        "preds_train = rf_model.predict(X_train)\n",
        "preds_test = rf_model.predict(X_test)"
      ],
      "execution_count": 0,
      "outputs": []
    },
    {
      "cell_type": "code",
      "metadata": {
        "id": "UI6FoTFP1drf",
        "colab_type": "code",
        "colab": {
          "base_uri": "https://localhost:8080/",
          "height": 34
        },
        "outputId": "48fafc9b-1db4-49f4-f58d-4bab56a6ddea"
      },
      "source": [
        "train_mse = mean_squared_error(y_train, preds_train)\n",
        "train_mse"
      ],
      "execution_count": 9,
      "outputs": [
        {
          "output_type": "execute_result",
          "data": {
            "text/plain": [
              "0.007315982781336234"
            ]
          },
          "metadata": {
            "tags": []
          },
          "execution_count": 9
        }
      ]
    },
    {
      "cell_type": "markdown",
      "metadata": {
        "id": "XWAKXDa01jEr",
        "colab_type": "text"
      },
      "source": [
        "We achieved quite a low MSE score on the training set."
      ]
    },
    {
      "cell_type": "code",
      "metadata": {
        "id": "a3dOF8NN1gqf",
        "colab_type": "code",
        "colab": {
          "base_uri": "https://localhost:8080/",
          "height": 34
        },
        "outputId": "5ab5d733-99ae-482d-f099-f605ffdb996b"
      },
      "source": [
        "test_mse = mean_squared_error(y_test, preds_test)\n",
        "test_mse"
      ],
      "execution_count": 10,
      "outputs": [
        {
          "output_type": "execute_result",
          "data": {
            "text/plain": [
              "0.007489642004973965"
            ]
          },
          "metadata": {
            "tags": []
          },
          "execution_count": 10
        }
      ]
    },
    {
      "cell_type": "markdown",
      "metadata": {
        "id": "ovNDA50p1mof",
        "colab_type": "text"
      },
      "source": [
        "We also have a low MSE score on the testing set that is very similar to the training one. So, our model is not overfitting."
      ]
    },
    {
      "cell_type": "code",
      "metadata": {
        "id": "QZZEE5fm1mLj",
        "colab_type": "code",
        "colab": {
          "base_uri": "https://localhost:8080/",
          "height": 153
        },
        "outputId": "6c821ff8-6c61-4aef-c848-b5bdec83ca2b"
      },
      "source": [
        "rf_model.feature_importances_"
      ],
      "execution_count": 11,
      "outputs": [
        {
          "output_type": "execute_result",
          "data": {
            "text/plain": [
              "array([0.00000000e+00, 7.56405224e-04, 8.89442010e-05, 9.46275333e-04,\n",
              "       4.08153931e-05, 1.97210546e-01, 5.03587073e-04, 2.31999967e-04,\n",
              "       6.15222081e-03, 3.52461267e-03, 0.00000000e+00, 5.69504288e-01,\n",
              "       1.13616416e-04, 4.90638284e-04, 1.87909452e-04, 3.20591202e-04,\n",
              "       2.12958787e-04, 1.90764978e-01, 5.75581836e-03, 4.67864791e-04,\n",
              "       0.00000000e+00, 0.00000000e+00, 1.75187909e-02, 3.51906210e-04,\n",
              "       4.85916389e-04, 2.89740583e-05, 1.27170564e-03, 1.12059338e-03,\n",
              "       1.97954549e-04, 3.01220348e-04, 0.00000000e+00, 1.44886927e-03])"
            ]
          },
          "metadata": {
            "tags": []
          },
          "execution_count": 11
        }
      ]
    },
    {
      "cell_type": "code",
      "metadata": {
        "id": "U03CqFj_1sZh",
        "colab_type": "code",
        "colab": {}
      },
      "source": [
        "varimp_df = pd.DataFrame()"
      ],
      "execution_count": 0,
      "outputs": []
    },
    {
      "cell_type": "code",
      "metadata": {
        "id": "VJ4gFF_f1v9_",
        "colab_type": "code",
        "colab": {}
      },
      "source": [
        "varimp_df['feature'] = df.columns\n",
        "varimp_df['importance'] = rf_model.feature_importances_"
      ],
      "execution_count": 0,
      "outputs": []
    },
    {
      "cell_type": "code",
      "metadata": {
        "id": "jtwkCdcc1zF4",
        "colab_type": "code",
        "colab": {
          "base_uri": "https://localhost:8080/",
          "height": 204
        },
        "outputId": "658c4fff-15e7-4a24-e5ad-289af4c738ca"
      },
      "source": [
        "varimp_df.head()"
      ],
      "execution_count": 16,
      "outputs": [
        {
          "output_type": "execute_result",
          "data": {
            "text/html": [
              "<div>\n",
              "<style scoped>\n",
              "    .dataframe tbody tr th:only-of-type {\n",
              "        vertical-align: middle;\n",
              "    }\n",
              "\n",
              "    .dataframe tbody tr th {\n",
              "        vertical-align: top;\n",
              "    }\n",
              "\n",
              "    .dataframe thead th {\n",
              "        text-align: right;\n",
              "    }\n",
              "</style>\n",
              "<table border=\"1\" class=\"dataframe\">\n",
              "  <thead>\n",
              "    <tr style=\"text-align: right;\">\n",
              "      <th></th>\n",
              "      <th>feature</th>\n",
              "      <th>importance</th>\n",
              "    </tr>\n",
              "  </thead>\n",
              "  <tbody>\n",
              "    <tr>\n",
              "      <th>0</th>\n",
              "      <td>a1cx</td>\n",
              "      <td>0.000000</td>\n",
              "    </tr>\n",
              "    <tr>\n",
              "      <th>1</th>\n",
              "      <td>a1cy</td>\n",
              "      <td>0.000756</td>\n",
              "    </tr>\n",
              "    <tr>\n",
              "      <th>2</th>\n",
              "      <td>a1sx</td>\n",
              "      <td>0.000089</td>\n",
              "    </tr>\n",
              "    <tr>\n",
              "      <th>3</th>\n",
              "      <td>a1sy</td>\n",
              "      <td>0.000946</td>\n",
              "    </tr>\n",
              "    <tr>\n",
              "      <th>4</th>\n",
              "      <td>a1rho</td>\n",
              "      <td>0.000041</td>\n",
              "    </tr>\n",
              "  </tbody>\n",
              "</table>\n",
              "</div>"
            ],
            "text/plain": [
              "  feature  importance\n",
              "0    a1cx    0.000000\n",
              "1    a1cy    0.000756\n",
              "2    a1sx    0.000089\n",
              "3    a1sy    0.000946\n",
              "4   a1rho    0.000041"
            ]
          },
          "metadata": {
            "tags": []
          },
          "execution_count": 16
        }
      ]
    },
    {
      "cell_type": "code",
      "metadata": {
        "id": "DtWcjy8r2gLf",
        "colab_type": "code",
        "colab": {
          "base_uri": "https://localhost:8080/",
          "height": 703
        },
        "outputId": "7b071cc3-12b6-4cf8-828b-4c86c75e0e25"
      },
      "source": [
        "alt.Chart(varimp_df).mark_bar().encode(\n",
        "    x='importance',\n",
        "    y=\"feature\"\n",
        ")"
      ],
      "execution_count": 17,
      "outputs": [
        {
          "output_type": "execute_result",
          "data": {
            "text/plain": [
              "alt.Chart(...)"
            ],
            "text/html": [
              "\n",
              "<div id=\"altair-viz-761f3a34e0d949e6857086f52bdb8adf\"></div>\n",
              "<script type=\"text/javascript\">\n",
              "  (function(spec, embedOpt){\n",
              "    let outputDiv = document.currentScript.previousElementSibling;\n",
              "    if (outputDiv.id !== \"altair-viz-761f3a34e0d949e6857086f52bdb8adf\") {\n",
              "      outputDiv = document.getElementById(\"altair-viz-761f3a34e0d949e6857086f52bdb8adf\");\n",
              "    }\n",
              "    const paths = {\n",
              "      \"vega\": \"https://cdn.jsdelivr.net/npm//vega@5?noext\",\n",
              "      \"vega-lib\": \"https://cdn.jsdelivr.net/npm//vega-lib?noext\",\n",
              "      \"vega-lite\": \"https://cdn.jsdelivr.net/npm//vega-lite@4.8.1?noext\",\n",
              "      \"vega-embed\": \"https://cdn.jsdelivr.net/npm//vega-embed@6?noext\",\n",
              "    };\n",
              "\n",
              "    function loadScript(lib) {\n",
              "      return new Promise(function(resolve, reject) {\n",
              "        var s = document.createElement('script');\n",
              "        s.src = paths[lib];\n",
              "        s.async = true;\n",
              "        s.onload = () => resolve(paths[lib]);\n",
              "        s.onerror = () => reject(`Error loading script: ${paths[lib]}`);\n",
              "        document.getElementsByTagName(\"head\")[0].appendChild(s);\n",
              "      });\n",
              "    }\n",
              "\n",
              "    function showError(err) {\n",
              "      outputDiv.innerHTML = `<div class=\"error\" style=\"color:red;\">${err}</div>`;\n",
              "      throw err;\n",
              "    }\n",
              "\n",
              "    function displayChart(vegaEmbed) {\n",
              "      vegaEmbed(outputDiv, spec, embedOpt)\n",
              "        .catch(err => showError(`Javascript Error: ${err.message}<br>This usually means there's a typo in your chart specification. See the javascript console for the full traceback.`));\n",
              "    }\n",
              "\n",
              "    if(typeof define === \"function\" && define.amd) {\n",
              "      requirejs.config({paths});\n",
              "      require([\"vega-embed\"], displayChart, err => showError(`Error loading script: ${err.message}`));\n",
              "    } else if (typeof vegaEmbed === \"function\") {\n",
              "      displayChart(vegaEmbed);\n",
              "    } else {\n",
              "      loadScript(\"vega\")\n",
              "        .then(() => loadScript(\"vega-lite\"))\n",
              "        .then(() => loadScript(\"vega-embed\"))\n",
              "        .catch(showError)\n",
              "        .then(() => displayChart(vegaEmbed));\n",
              "    }\n",
              "  })({\"config\": {\"view\": {\"continuousWidth\": 400, \"continuousHeight\": 300}}, \"data\": {\"name\": \"data-d4126d15da680c111321c7ff4a64f18e\"}, \"mark\": \"bar\", \"encoding\": {\"x\": {\"type\": \"quantitative\", \"field\": \"importance\"}, \"y\": {\"type\": \"nominal\", \"field\": \"feature\"}}, \"$schema\": \"https://vega.github.io/schema/vega-lite/v4.8.1.json\", \"datasets\": {\"data-d4126d15da680c111321c7ff4a64f18e\": [{\"feature\": \"a1cx\", \"importance\": 0.0}, {\"feature\": \"a1cy\", \"importance\": 0.0007564052241573511}, {\"feature\": \"a1sx\", \"importance\": 8.894420096625837e-05}, {\"feature\": \"a1sy\", \"importance\": 0.0009462753334456257}, {\"feature\": \"a1rho\", \"importance\": 4.08153930761718e-05}, {\"feature\": \"a1pop\", \"importance\": 0.19721054551154402}, {\"feature\": \"a2cx\", \"importance\": 0.000503587072705345}, {\"feature\": \"a2cy\", \"importance\": 0.0002319999670387911}, {\"feature\": \"a2sx\", \"importance\": 0.006152220814060049}, {\"feature\": \"a2sy\", \"importance\": 0.0035246126659989685}, {\"feature\": \"a2rho\", \"importance\": 0.0}, {\"feature\": \"a2pop\", \"importance\": 0.569504287927844}, {\"feature\": \"a3cx\", \"importance\": 0.00011361641631930248}, {\"feature\": \"a3cy\", \"importance\": 0.0004906382843375957}, {\"feature\": \"a3sx\", \"importance\": 0.00018790945231091075}, {\"feature\": \"a3sy\", \"importance\": 0.00032059120191548385}, {\"feature\": \"a3rho\", \"importance\": 0.00021295878713505428}, {\"feature\": \"a3pop\", \"importance\": 0.19076497781296203}, {\"feature\": \"temp\", \"importance\": 0.005755818360771725}, {\"feature\": \"b1x\", \"importance\": 0.0004678647911192705}, {\"feature\": \"b1y\", \"importance\": 0.0}, {\"feature\": \"b1call\", \"importance\": 0.0}, {\"feature\": \"b1eff\", \"importance\": 0.01751879093190768}, {\"feature\": \"b2x\", \"importance\": 0.00035190621049656346}, {\"feature\": \"b2y\", \"importance\": 0.000485916389194531}, {\"feature\": \"b2call\", \"importance\": 2.8974058342280785e-05}, {\"feature\": \"b2eff\", \"importance\": 0.001271705640560893}, {\"feature\": \"b3x\", \"importance\": 0.0011205933834715627}, {\"feature\": \"b3y\", \"importance\": 0.00019795454912549952}, {\"feature\": \"b3call\", \"importance\": 0.0003012203478116383}, {\"feature\": \"b3eff\", \"importance\": 0.0}, {\"feature\": \"mxql\", \"importance\": 0.001448869271381517}]}}, {\"mode\": \"vega-lite\"});\n",
              "</script>"
            ]
          },
          "metadata": {
            "tags": []
          },
          "execution_count": 17
        }
      ]
    },
    {
      "cell_type": "markdown",
      "metadata": {
        "id": "pIED34fz2kgr",
        "colab_type": "text"
      },
      "source": [
        "**From this output, we can see the variables that impact the prediction the most for this Random Forest model are a2pop, a1pop, a3pop, b1eff, and temp, by decreasing order of importance.**"
      ]
    }
  ]
}