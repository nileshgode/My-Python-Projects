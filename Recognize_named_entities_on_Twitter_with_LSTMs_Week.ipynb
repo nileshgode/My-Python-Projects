{
  "nbformat": 4,
  "nbformat_minor": 0,
  "metadata": {
    "kernelspec": {
      "display_name": "Python 3",
      "language": "python",
      "name": "python3"
    },
    "language_info": {
      "codemirror_mode": {
        "name": "ipython",
        "version": 3
      },
      "file_extension": ".py",
      "mimetype": "text/x-python",
      "name": "python",
      "nbconvert_exporter": "python",
      "pygments_lexer": "ipython3",
      "version": "3.4.3"
    },
    "colab": {
      "name": "Recognize named entities on Twitter with LSTMs-Week",
      "provenance": [],
      "include_colab_link": true
    }
  },
  "cells": [
    {
      "cell_type": "markdown",
      "metadata": {
        "id": "view-in-github",
        "colab_type": "text"
      },
      "source": [
        "<a href=\"https://colab.research.google.com/github/nileshgode/My-Python-Projects/blob/master/Recognize_named_entities_on_Twitter_with_LSTMs_Week.ipynb\" target=\"_parent\"><img src=\"https://colab.research.google.com/assets/colab-badge.svg\" alt=\"Open In Colab\"/></a>"
      ]
    },
    {
      "cell_type": "markdown",
      "metadata": {
        "collapsed": true,
        "id": "pVid-d3CqaNt",
        "colab_type": "text"
      },
      "source": [
        "# Recognize named entities on Twitter with LSTMs\n",
        "\n",
        "In this assignment, you will use a recurrent neural network to solve Named Entity Recognition (NER) problem. NER is a common task in natural language processing systems. It serves for extraction such entities from the text as persons, organizations, locations, etc. In this task you will experiment to recognize named entities from Twitter.\n",
        "\n",
        "For example, we want to extract persons' and organizations' names from the text. Than for the input text:\n",
        "\n",
        "    Ian Goodfellow works for Google Brain\n",
        "\n",
        "a NER model needs to provide the following sequence of tags:\n",
        "\n",
        "    B-PER I-PER    O     O   B-ORG  I-ORG\n",
        "\n",
        "Where *B-* and *I-* prefixes stand for the beginning and inside of the entity, while *O* stands for out of tag or no tag. Markup with the prefix scheme is called *BIO markup*. This markup is introduced for distinguishing of consequent entities with similar types.\n",
        "\n",
        "A solution of the task will be based on neural networks, particularly, on Bi-Directional Long Short-Term Memory Networks (Bi-LSTMs).\n",
        "\n",
        "### Libraries\n",
        "\n",
        "For this task you will need the following libraries:\n",
        " - [Tensorflow](https://www.tensorflow.org) — an open-source software library for Machine Intelligence.\n",
        " \n",
        "In this assignment, we use Tensorflow 1.15.0. You can install it with pip:\n",
        "\n",
        "    !pip install tensorflow==1.15.0\n",
        "     \n",
        " - [Numpy](http://www.numpy.org) — a package for scientific computing.\n",
        " \n",
        "If you have never worked with Tensorflow, you would probably need to read some tutorials during your work on this assignment, e.g. [this one](https://www.tensorflow.org/tutorials/recurrent) could be a good starting point. "
      ]
    },
    {
      "cell_type": "code",
      "metadata": {
        "id": "zyYR-7VF3s8d",
        "colab_type": "code",
        "colab": {}
      },
      "source": [
        "import tensorflow.compat.v1 as tf\n",
        "tf.disable_v2_behavior()"
      ],
      "execution_count": 0,
      "outputs": []
    },
    {
      "cell_type": "markdown",
      "metadata": {
        "id": "GvHy4tRbqaNv",
        "colab_type": "text"
      },
      "source": [
        "### Data\n",
        "\n",
        "The following cell will download all data required for this assignment into the folder `week2/data`."
      ]
    },
    {
      "cell_type": "code",
      "metadata": {
        "id": "ZYr1RDjZqaNw",
        "colab_type": "code",
        "colab": {
          "base_uri": "https://localhost:8080/",
          "height": 255
        },
        "outputId": "99ed2401-62c1-48cc-f2ca-4593a673366d"
      },
      "source": [
        "try:\n",
        "    import google.colab\n",
        "    IN_COLAB = True\n",
        "except:\n",
        "    IN_COLAB = False\n",
        "\n",
        "if IN_COLAB:\n",
        "    ! wget https://raw.githubusercontent.com/hse-aml/natural-language-processing/master/setup_google_colab.py -O setup_google_colab.py\n",
        "    import setup_google_colab\n",
        "    setup_google_colab.setup_week2()\n",
        "\n",
        "import sys\n",
        "sys.path.append(\"..\")\n",
        "from common.download_utils import download_week2_resources\n",
        "\n",
        "download_week2_resources()"
      ],
      "execution_count": 65,
      "outputs": [
        {
          "output_type": "stream",
          "text": [
            "--2020-05-28 15:20:50--  https://raw.githubusercontent.com/hse-aml/natural-language-processing/master/setup_google_colab.py\n",
            "Resolving raw.githubusercontent.com (raw.githubusercontent.com)... 151.101.0.133, 151.101.64.133, 151.101.128.133, ...\n",
            "Connecting to raw.githubusercontent.com (raw.githubusercontent.com)|151.101.0.133|:443... connected.\n",
            "HTTP request sent, awaiting response... 200 OK\n",
            "Length: 1991 (1.9K) [text/plain]\n",
            "Saving to: ‘setup_google_colab.py’\n",
            "\n",
            "\rsetup_google_colab.   0%[                    ]       0  --.-KB/s               \rsetup_google_colab. 100%[===================>]   1.94K  --.-KB/s    in 0s      \n",
            "\n",
            "2020-05-28 15:20:51 (26.6 MB/s) - ‘setup_google_colab.py’ saved [1991/1991]\n",
            "\n",
            "File data/train.txt is already downloaded.\n",
            "File data/validation.txt is already downloaded.\n",
            "File data/test.txt is already downloaded.\n"
          ],
          "name": "stdout"
        }
      ]
    },
    {
      "cell_type": "markdown",
      "metadata": {
        "id": "WeI9-KUNqaN4",
        "colab_type": "text"
      },
      "source": [
        "### Load the Twitter Named Entity Recognition corpus\n",
        "\n",
        "We will work with a corpus, which contains tweets with NE tags. Every line of a file contains a pair of a token (word/punctuation symbol) and a tag, separated by a whitespace. Different tweets are separated by an empty line.\n",
        "\n",
        "The function *read_data* reads a corpus from the *file_path* and returns two lists: one with tokens and one with the corresponding tags. You need to complete this function by adding a code, which will replace a user's nickname to `<USR>` token and any URL to `<URL>` token. You could think that a URL and a nickname are just strings which start with *http://* or *https://* in case of URLs and a *@* symbol for nicknames."
      ]
    },
    {
      "cell_type": "code",
      "metadata": {
        "id": "l_Y7FK-uqaN5",
        "colab_type": "code",
        "colab": {}
      },
      "source": [
        "def read_data(file_path):\n",
        "    tokens = []\n",
        "    tags = []\n",
        "    \n",
        "    tweet_tokens = []\n",
        "    tweet_tags = []\n",
        "    for line in open(file_path, encoding='utf-8'):\n",
        "        line = line.strip()\n",
        "        if not line:\n",
        "            if tweet_tokens:\n",
        "                tokens.append(tweet_tokens)\n",
        "                tags.append(tweet_tags)\n",
        "            tweet_tokens = []\n",
        "            tweet_tags = []\n",
        "        else:\n",
        "            token, tag = line.split()\n",
        "            # Replace all urls with <URL> token\n",
        "            # Replace all users with <USR> token\n",
        "\n",
        "            \n",
        "            if(token.startswith('@')):\n",
        "                token = '<USR>'\n",
        "            elif(token.startswith('http://') or token.startswith('https://')):\n",
        "                token = '<URL>'\n",
        "            tweet_tokens.append(token)\n",
        "            tweet_tags.append(tag)\n",
        "            \n",
        "    return tokens, tags"
      ],
      "execution_count": 0,
      "outputs": []
    },
    {
      "cell_type": "markdown",
      "metadata": {
        "id": "9vKbR9bMqaN_",
        "colab_type": "text"
      },
      "source": [
        "And now we can load three separate parts of the dataset:\n",
        " - *train* data for training the model;\n",
        " - *validation* data for evaluation and hyperparameters tuning;\n",
        " - *test* data for final evaluation of the model."
      ]
    },
    {
      "cell_type": "code",
      "metadata": {
        "id": "5UFHn3hEqaOA",
        "colab_type": "code",
        "colab": {}
      },
      "source": [
        "train_tokens, train_tags = read_data('data/train.txt')\n",
        "validation_tokens, validation_tags = read_data('data/validation.txt')\n",
        "test_tokens, test_tags = read_data('data/test.txt')"
      ],
      "execution_count": 0,
      "outputs": []
    },
    {
      "cell_type": "markdown",
      "metadata": {
        "id": "fxMi6MwnqaOF",
        "colab_type": "text"
      },
      "source": [
        "You should always understand what kind of data you deal with. For this purpose, you can print the data running the following cell:"
      ]
    },
    {
      "cell_type": "code",
      "metadata": {
        "id": "pvTz7ec-qaOG",
        "colab_type": "code",
        "colab": {
          "base_uri": "https://localhost:8080/",
          "height": 1000
        },
        "outputId": "507bba11-8aa3-450a-9af4-5cd9bfd50657"
      },
      "source": [
        "for i in range(3):\n",
        "    for token, tag in zip(train_tokens[i], train_tags[i]):\n",
        "        print('%s\\t%s' % (token, tag))\n",
        "    print()"
      ],
      "execution_count": 69,
      "outputs": [
        {
          "output_type": "stream",
          "text": [
            "RT\tO\n",
            "<USR>\tO\n",
            ":\tO\n",
            "Online\tO\n",
            "ticket\tO\n",
            "sales\tO\n",
            "for\tO\n",
            "Ghostland\tB-musicartist\n",
            "Observatory\tI-musicartist\n",
            "extended\tO\n",
            "until\tO\n",
            "6\tO\n",
            "PM\tO\n",
            "EST\tO\n",
            "due\tO\n",
            "to\tO\n",
            "high\tO\n",
            "demand\tO\n",
            ".\tO\n",
            "Get\tO\n",
            "them\tO\n",
            "before\tO\n",
            "they\tO\n",
            "sell\tO\n",
            "out\tO\n",
            "...\tO\n",
            "\n",
            "Apple\tB-product\n",
            "MacBook\tI-product\n",
            "Pro\tI-product\n",
            "A1278\tI-product\n",
            "13.3\tI-product\n",
            "\"\tI-product\n",
            "Laptop\tI-product\n",
            "-\tI-product\n",
            "MD101LL/A\tI-product\n",
            "(\tO\n",
            "June\tO\n",
            ",\tO\n",
            "2012\tO\n",
            ")\tO\n",
            "-\tO\n",
            "Full\tO\n",
            "read\tO\n",
            "by\tO\n",
            "eBay\tB-company\n",
            "<URL>\tO\n",
            "<URL>\tO\n",
            "\n",
            "Happy\tO\n",
            "Birthday\tO\n",
            "<USR>\tO\n",
            "!\tO\n",
            "May\tO\n",
            "Allah\tB-person\n",
            "s.w.t\tO\n",
            "bless\tO\n",
            "you\tO\n",
            "with\tO\n",
            "goodness\tO\n",
            "and\tO\n",
            "happiness\tO\n",
            ".\tO\n",
            "\n"
          ],
          "name": "stdout"
        }
      ]
    },
    {
      "cell_type": "markdown",
      "metadata": {
        "id": "07a55y-8qaOM",
        "colab_type": "text"
      },
      "source": [
        "### Prepare dictionaries\n",
        "\n",
        "To train a neural network, we will use two mappings: \n",
        "- {token}$\\to${token id}: address the row in embeddings matrix for the current token;\n",
        "- {tag}$\\to${tag id}: one-hot ground truth probability distribution vectors for computing the loss at the output of the network.\n",
        "\n",
        "Now you need to implement the function *build_dict* which will return {token or tag}$\\to${index} and vice versa. "
      ]
    },
    {
      "cell_type": "code",
      "metadata": {
        "id": "ZPcJYzo2qaON",
        "colab_type": "code",
        "colab": {}
      },
      "source": [
        "from collections import defaultdict"
      ],
      "execution_count": 0,
      "outputs": []
    },
    {
      "cell_type": "code",
      "metadata": {
        "id": "jObpxR_CqaOS",
        "colab_type": "code",
        "colab": {}
      },
      "source": [
        "def build_dict(tokens_or_tags, special_tokens):\n",
        "    \"\"\"\n",
        "        tokens_or_tags: a list of lists of tokens or tags\n",
        "        special_tokens: some special tokens\n",
        "    \"\"\"\n",
        "    # Create a dictionary with default value 0\n",
        "    tok2idx = defaultdict(lambda: 0)\n",
        "    idx2tok = []\n",
        "    \n",
        "    # Create mappings from tokens to indices and vice versa\n",
        "    # Add special tokens to dictionaries\n",
        "    # The first special token must have index 0\n",
        "    \n",
        "    \n",
        "    idx = 0\n",
        "    for token in special_tokens:\n",
        "        idx2tok.append(token)\n",
        "        tok2idx[token] = idx\n",
        "        idx += 1\n",
        "\n",
        "    for token_list in tokens_or_tags:\n",
        "        for token in token_list:\n",
        "            if token not in tok2idx:\n",
        "                idx2tok.append(token)\n",
        "                tok2idx[token] = idx\n",
        "                idx += 1\n",
        "    \n",
        "    return tok2idx, idx2tok"
      ],
      "execution_count": 0,
      "outputs": []
    },
    {
      "cell_type": "markdown",
      "metadata": {
        "id": "37-HwDBYqaOa",
        "colab_type": "text"
      },
      "source": [
        "After implementing the function *build_dict* you can make dictionaries for tokens and tags. Special tokens in our case will be:\n",
        " - `<UNK>` token for out of vocabulary tokens;\n",
        " - `<PAD>` token for padding sentence to the same length when we create batches of sentences."
      ]
    },
    {
      "cell_type": "code",
      "metadata": {
        "id": "iGZ5Uf0dqaOb",
        "colab_type": "code",
        "colab": {}
      },
      "source": [
        "special_tokens = ['<UNK>', '<PAD>']\n",
        "special_tags = ['O']\n",
        "\n",
        "# Create dictionaries for tokenId's and tagId's\n",
        "token2idx, idx2token = build_dict(train_tokens + validation_tokens, special_tokens)\n",
        "tag2idx, idx2tag = build_dict(train_tags, special_tags)"
      ],
      "execution_count": 0,
      "outputs": []
    },
    {
      "cell_type": "code",
      "metadata": {
        "id": "qj7zCZ3KtOI2",
        "colab_type": "code",
        "colab": {
          "base_uri": "https://localhost:8080/",
          "height": 54
        },
        "outputId": "1343de9c-ec06-48f9-88c5-66d32a4daa39"
      },
      "source": [
        "print(tag2idx)"
      ],
      "execution_count": 73,
      "outputs": [
        {
          "output_type": "stream",
          "text": [
            "defaultdict(<function build_dict.<locals>.<lambda> at 0x7f53b67ef488>, {'O': 0, 'B-musicartist': 1, 'I-musicartist': 2, 'B-product': 3, 'I-product': 4, 'B-company': 5, 'B-person': 6, 'B-other': 7, 'I-other': 8, 'B-facility': 9, 'I-facility': 10, 'B-sportsteam': 11, 'B-geo-loc': 12, 'I-geo-loc': 13, 'I-company': 14, 'I-person': 15, 'B-movie': 16, 'I-movie': 17, 'B-tvshow': 18, 'I-tvshow': 19, 'I-sportsteam': 20})\n"
          ],
          "name": "stdout"
        }
      ]
    },
    {
      "cell_type": "code",
      "metadata": {
        "id": "2QF0OBwPtP9o",
        "colab_type": "code",
        "colab": {
          "base_uri": "https://localhost:8080/",
          "height": 54
        },
        "outputId": "6a7f5cdd-d04e-4c29-a6df-93934717e0b6"
      },
      "source": [
        "print(idx2token)"
      ],
      "execution_count": 74,
      "outputs": [
        {
          "output_type": "stream",
          "text": [
            "['<UNK>', '<PAD>', 'RT', '<USR>', ':', 'Online', 'ticket', 'sales', 'for', 'Ghostland', 'Observatory', 'extended', 'until', '6', 'PM', 'EST', 'due', 'to', 'high', 'demand', '.', 'Get', 'them', 'before', 'they', 'sell', 'out', '...', 'Apple', 'MacBook', 'Pro', 'A1278', '13.3', '\"', 'Laptop', '-', 'MD101LL/A', '(', 'June', ',', '2012', ')', 'Full', 'read', 'by', 'eBay', '<URL>', 'Happy', 'Birthday', '!', 'May', 'Allah', 's.w.t', 'bless', 'you', 'with', 'goodness', 'and', 'happiness', 'the', 'quest', 'line', 'im', 'assuming', 'it', 'will', 'be', 'same', 'way', 'awe', 'thur', 'still', 'perception', 'what', 'key', 'off', 'may', 'differ', 'from', 'me', 'Back', 'Selma', 'example', 'iow', 'Amazon', 'Kindle', 'Fire', '1st', 'Generation', '8GB', 'Wi-Fi', '7in', 'Black', \"I'll\", 'call', 'u', 'after', 'class', 'pooky', ';D', 'TL_jp', 'August', '29', '2015', 'at', '01:25', 'AM', 'Wie', 'staat', 'daar', 'nou', 'met', 'de', 'microfoon', 'links', ';-)', 'Why', 'do', 'I', 'have', 'an', 'exam', 'tomorrow', 'morning', '?', 'Big', 'Day', 'Thanks', 'all', 'of', 'Team', 'Pioneers', 'who', 'been', 'busy', 'unwrapping', 'tables', 'unpacking', 'boxes', 'ensure', 'school', 'is', 'ready', 'Ive', 'heard', 'that', \"Hadn't\", 'called', 'considered', 'but', 'my', 'hair', 'so', 'oily', 'think', 'would', 'look', 'dirty', ':)', 'Life', 'feel', 'somewhat', 'unstable', 'today', 'as', 'your', 'self-esteem', 'soar', 'More', 'Aquarius', '#BREAKING', 'NEW', '1', 'dead', 'many', '15', 'injured', 'in', 'Fort', 'Hood', 'shooting', 'SWAT', '21', 'ambulances', 'now', 'on', 'scene', 'KWTX', 'CBS-TV', '#FortHood', '#4GElite2', 'A', 'Premium', 'Budget', 'Phone', 'Promising', 'Future', 'Updates', 'ELITE', '2', 'Better', 'than', 'Anything', 'Before', 'Launch', '8', 'Nov', 'On', 'PSA', 'roll', 'up', 'rim', 'starts', 'Monday', '!!', 'The', 'bank', 'teller', 'always', 'go', 'wants', 'Lol', 'No', 'shit', 'She', 'left', 'wide', 'open', 'Too', 'bad', 'already', 'fucking', 'plans', '#LASD', 'Arson/Explosives', 'Detail', 'Bomb', 'Squad', 'assisting', 'Santa', 'Monica', 'College', 're', 'incident', 'group', 'Maunalua', 'playing', 'Noon', '#Retweet', '#siguemeytesigo', '#autofollowback', '#teamfollowback', '#MGWV', '#tfbjp', '#f4f', '#followtrain', '#followtrick', '20', '10:16', 'What', 'Does', 'Snapchat', 'Data', 'Breach', 'Mean', 'Global', 'Market', 'Retail', 'Sec', '#socialmedia', '#happening', 'AKO', 'HAHAHA', 'MAY', 'EXAM', 'PA', 'NGA', 'KAMI', 'MAGKASUNOD', 'NA', 'SUBJECT', 'FIRST', 'AND', 'SECOND', 'PERIOD', '#ALDUBSaveMaine', 'Somerset', '7-1', 'games', 'played', 'a', 'Friday', '#GetPatriotic', '#NEWS', '#MASHABLE', '|', 'Responds', 'New', 'Year', \"'s\", 'Eve', 'Security', '#TECH', 'week', 'til', 'birthday', 'hate', 'mornings', 'One', 'these', 'days', 'i', 'watch', 'Apollo', 'burn', 'Ironic', 'he', 'just', 'like', 'how', 'sun', 'gonna', 'set', 'someday', '.\"', 'pitching', 'Saturday', 'He', 'had', 'really', 'good', 'year', 'AAA-', 'lefty', 'can', 'last', 'forever', 'Human', 'Problem', 'Heart', 'Snapchat’s', 'Employee', 'pic.twitter.com/H0nul1eQLq', '#TheIncredibleTrueStory', 'available', 'everywhere', 'November', '13th', 'when', 'parents', 'want', 'come', 'home', 'early', 'party', 'wanna', 'stay', 'late', '#ATeenageThought', '#TBRList', 'signing', 'along', 'Remembering', 'Sunday', 'Anyone', 'some', 'night', 'trivia', 'tonight', '10pm', 'Summits', 'Let', 'know', 'TIKET', 'PROMO', 'Ambon', 'Jakarta', '1-10', 'Feb', 'Info', 'klik', 'Man', 'Hospitalized', 'After', 'Shooting', 'Bishop', 'Ford', 'Freeway', 'Police', '…', '800,000', 'Customers', \"'\", 'detail', 'stolen', 'French', 'Telecom', 'Orange', '#Security', 'joy_redona', '#PushAwardsLizQuens', 'Hahaha', 'wala', 'mare', 'tweet', 'lng', 'n', 'nkaka', 'hb', 'hahaha', 'Every', '&amp;', 'every', 'day', '$LEG', 'SELL', 'Signal', '43.34', 'Oct', 'By', 'Trading', 'Signals', 'Robot', '#stock', '#trading', '#trade', '#investing', 'All', 'worldly', 'cuisines', 'are', 'Insipid', 'front', '#MSG2in447', 's', 'Elixir', 'Thats', 'why', 'choice', 'millions', 'Its', 'crazy', 'one', 'energy', 'laundry', 'mop', 'floors', 'scrub', 'everything', 'down', 'next', \"don't\", 'even', 'doing', 'anything', 'UGH', 'AS', 'IF', 'pag', 'maganda', 'si', 'Jan', 'agad', 'pwede', 'ako', 'muna', 'Today', 'mall', 'was', 'full', 'moms', 'love', 'scrapbooking', 'kill', 'Heyy', ';)', 'follow', '4', 'Will', 'wearing', '#lotsofsocks', 'World', 'Down', 'Syndrome', 'Natty', 'So', 'much', 'violence', 'live', 'stream', 'cuts', 'now-finished', 'presser', 'Cleveland', 'back', 'funeral', 'Akron', 'officer', 'killed', 'gunman', 'merci', 'mon', 'prince', 'Come', 'get', 'blood', 'flowing', 'Heartbeat', 'or', 'we', 'Hide-and-Go', 'Sikh', 'Just', 'puffed', 'sour', 'd', 'unintentionally', \"I'm\", 'Idk', 'earth', 'B1A4', 'releases', 'sweet', 'teasers', '6th', 'mini', 'album', 'Sweet', \"Girl'!\", 'February', '02', '05:03', 'post5', 'Colorado', 'Springs', 'Officers', 'encountering', 'gunfire', 'site', '#stocks', 'prefer', 'GA', 'announcement', 'recording', 'soon', '.....', 'time', 'fans', 'moment', '....', 'not', '..', '11', 'feb', 'promote', 'his', 'film', 'jackie', 'chan', 'dragon', 'blade', 'years', '9', 'months', 'counting', 'October', '24th', '2017', \"can't\", 'enough', 'Ashton', 'fan', 'London', 'April', '24', 'if', 'watcing', 'this', 'dont', 'accomplish', 'dream', 'idk', 'yo', 'Find', 'us', 'Tipitina', 'mention', \"you're\", 'following', 'Twitter', 'FREE', 'Fried', 'Mac', 'N', 'Cheese', 'ball', 'any', 'order', 'Tomorrow', 'another', 'Going', 'into', '#KCA', '#Vote1DUK', 'Spurs', 'hit', '+3', 'Card', 'final', 'Tuesday', 'Mavs/Rockets', 'Under', '222', 'Spurs/Clippers', '205', 'birfday', 'only', 'p-i-m-p', 'We', \"'re\", 'getting', 'white', 'boy', 'wasted', \"Don't\", 'should', 'actually', 'It', 'hurts', 'there', 'no', ':(', '#umaARAGALANG', 'My', 'mama', 'surprised', 'ring', 'Ahh', 'got', 'better', 'were', 'too', 'MJ', '50', 'old', 'AEG', 'wanted', 'more', 'money', 'name', 'everyone', 'else', '2DA', 'DEVAL', 'YUAN', 'ACTIVA', 'TSUNAMI', 'SUDESTE', 'ASIATICO', 'CONSOLIDA', 'MI', 'ANTICIPO', 'CLIMAX', 'CRASH', 'EMERG', 'AGO-OCT', 'Headed', 'Davidson', 'vs', 'Blount', 'Bennett-', 'spending', 'son', 'Si', 'ate', 'pang', 'ibash', 'ipon', 'ka', 'na', 'lang', 'pangpa', 'BS', 'ng', 'LT', 'mo', 'hehe', 'OKC', 'outscoring', 'Texas', '16-2', 'start', '3rd', 'Blue', '41-9', 'run', 'since', '7:54', 'mark', '2nd', '11:11', 'wish', '16', 'b', '17', '#news', 'thursday', 'right', 'lol', 'Final', 'grades', 'workin', 'ol', 'Sunset', 'Bistro', 'grub', '7', 'people', 'Indianapolis', 'photographing', 'midway', 'fun', 'lots', 'lights', 'makes', 'great', 'photos', 'Praying', 'families/students', 'Marysville', 'School', 'its', 'okay', 'then', 'make', 'works', ':D', 'Raiders', 'trailing', '41-33', 'head', '4th', 'qtr', 'first', 'new', 'job', 'bruh', 'OH', 'Severe', 'Thunderstorm', 'Warning', 'issued', '7:53', 'EDT', '8:00', 'NWS', '#ohwx', 'Greatest', 'place', 'Earth', 'football', 'game', 'ahh', 'nervous', 'about', 'our', 'dance', 'Dr', 'Dre', 'featuring', 'Kendrick', 'Eminem', 'Snoop', 'Dogg', 'drops', '3', \"o'clock\", 'Vegas', 'am', 'drunk', 'sang', 'meatloaf', 'karoke', 'mixcloud', '#EDM', 'kingpin', 'TomParker', 'December', 'mix', 'Crab', 'Fest', 'finna', 'swole', 'Sat', 'gotta', 'work', '10', 'devil', 'deal', 'Save', '30%', 'select', 'arrivals', 'Check', 'Sorry', 'try', '#ICO', 'complain', '#talktalk', 'complete', 'data', 'breach', 'online', 'form', 'because', 'could', 'responded', 'quicker', 'using', 'phone', '#fail', 'Breaking', 'News', 'Washington', 'Navy', 'Yard', 'Apologizes', 'App', 'Fix', 'Friends', 'Feature', 'popular', 'app', 'sharing', 'shor', 'goin', 'slow', \"Can't\", 'wait', 'weekend', 'started', '!!!', 'Good', 'luck', 'finals', 'Practice', 'schedule', 'Monday-Wednesday', 'starting', '12:00', 'pm', 'Spread', 'word', 'Wow', '!..', 'Michael', 'Owen', 'jwus', 'ask', 'finish', 'top', 'four', 'said', 'LFC', 'MUFC', 'smh', 'such', 'bias', 'assole', 'Hell', 'yeh', 'vacation', '!!!!!', 'BREACH', 'CHINA', 'HACKING', 'DESPITE', 'DEAL', 'When', 'trey', 'songz', 'kid', 'mother', 'probably', 'went', 'did', 'homework', 'And', '#YUPPP', \"C'mon\", 'Jeremy', 'Ross', 'Curious', 'see', 'City', 'buy', 'January', 'They', 'need', 'striker', 'desperately', 'Your', '#Cochrane', 'Eagle', '23', 'Wednesday', 'Off', 'record', 'show', '7AM', '#blab', 'NOW', 'Pumpkin', 'Moonshine', 'has', 'arrived', 'Nashville', '--', 'Give', 'stores', 'KY', 'ships', 'bed', 'long', 'cht', 'tumoz', 'If', 'though', 'company', 'having', 'problems', 'generating', 'might', 'bring', 'training', 'speaker', 'sept', '#VoteLauraMarano', 'Put', 'tree', 'wrap', 'gifts', 'decorate', 'tired', 'hey', 'something', 'please', \"i'll\", 'send', 'DM', 'okkk', 'thank', 'Phew', 'least', 'without', 'exams', 'guess', 'Told', 'leave', 'hour', 'half', 'scheduled', 'paycheck', 'going', 'weak', 'Not', 'happy', 'somebody', 'well', 'simply', 'say', 'move', '[Haters', 'yourself', ']', 'cuz', 'ur', 'losers', 'november', 'little', 'Zendesk', 'security', 'eaten', 'large', 'quantity', 'oranges', 'chinese', 'food', 'stayin', 'archery', 'range', 'either', 'sunday', 'haha', 'used', 'freak', 'use', 'chewables', 'tasted', 'chalk', 'kathnielmeoww', '#PushAwardsKathNiels', 'Iran', 'Quds', 'chief', 'visited', 'Russia', 'UN', 'travel', 'ban', 'sources', 'IranTalks', 'IranDeal', 'awww', 'rocky', 'horror', 'which', 'means', 'wear', 'stockings', 'suspenders', ':P', 'Williams', 'running', 'field', 'You', 'take', 'him', 'plays', 'give', 'goal', '?????', 'Paalam', 'alam', 'Forever', 'Walang', 'F_O_R_E_V_E_R', 'Toltec', 'Warriors', '10th-12th', 'century', 'CE', 'Tollan', 'Tula', '#Mexico', '#archaeology', 'Luidger', 'Yahoo', 'Jackie', 'joins', 'JFK', 'campaign', 'Had', 'option', '1960', 'pregnant', 'Jacquelin', 'Pinterest', 'Tumblr', 'Notify', 'Hack', '[', '#social', 'trending', 'boss', '#HBDDearVIJAY', 'Have', 'lovely', 'inappropriate', '*bg*', 'How', 'Super', 'Bowl', 'attempt', 'simplify', 'complex', 'relationship', 'dynamics', 'toda', 'Heading', 'Wildlife', 'Corruption', 'stop', 'CITES', 'corrupt', 'permits', '#China', 'Zimbabwe', 'Gov', 'attacks', 'elephants', '#SaveAfricanAnimals', 'Awesome', 'First', 'episode', 'goes', 'two', 'weeks', 'Hope', 'meets', 'expectations', 'dulu', 'babay', '*', 'H-26', '19TH', 'RIZKIRIDHO', 'Yom', 'Kippur', 'eve', 'apologize', 'anyone', \"I've\", 'wronged', 'Hopefully', 'let', 'till', 'pretend', 'coming', 'grandma', 'house', 'TWITTER', 'SHOUT', 'OUT', 'TIME', 'enter', 'pick', 'winners', 'Contest', 'ends', 'Someone', 'rain', 'parade', 'Cancer', 'Bakit', 'kc', 'di', 'nyo', 'inabutan', 'jea', 'towel', 'o', 'tissue', 'eh', 'sana', 'punasan', 'nangyare', 'Aptos', 'CA', 'Chemistry', 'Tutoring/Teaching', 'daughter', '10th', 'grade', 'she', 'needing', 'help', 'sleep', '4pm', 'Maybe', 'compulsary', 'over', 'age', '30', 'unemployed', 'wrestler', 'act', 'total', 'tool', 'Justin', 'Timberlake', 'ft', 'Beyonce', 'Until', 'End', 'Time', 'via', 'Mere', 'sainyaa', 'superstar', '~', 'Sun', 'wife', 'Lindsay', 'Lohan', 'allegedly', 'failed', 'her', 'drug', 'test', 'fetch', 'Quick', 'put', 'shocked', 'faces', 'rehab', \"didn't\", 'tym', 'hve', 'seen', 'dhoni', 'taking', 'bowler', 'attack', '#cwc2015', '#IndVSire', \"doesn't\", 'vehicle', 'spare', 'tire', 'car', 'equipped', 'run-flat', 'tires', 'Newer', 'BMW', 'MINI', 'tend', 'waiting', 'extra', 'STUPID', 'IDEA', 'super', 'expensive', 'AAAAAHHH', 'x_x', '*freakingoutkhsf*', 'Last', 'season', 'Next', 'hope', 'driving', 'myself', 'Gonna', 'miss', 'everybody', 'tips', 'fizzy', 'stuff', 'Craigs', 'jinxing', 'WELL', 'SORRRY', \"n't\", 'YEARS', 'AGO', 'Shaking', 'Mote', 'Kissaway', 'Trail', 'mp3(unknown', 'Rights', 'Month', '#yconline', 'Hughie', \"O'Donoghue\", 'painting', 'curvy', 'pots', 'intricately', 'illuminated', 'Persian', 'books', 'spent', 'Fitzwilliam', '#Ingress', '#RedFaction', 'cool', 'also', 'sure', \"I'd\", 'renew', 'away', 'Best', 'slapped', 'face', 'other', 'few', 'DT', 'awesome', 'joining', 'A7X', 'worth', 'foREVer', 'Cavs', 'foggy', 'brain', 'cloud', 'thinking', 'ma', 'Gemini', 'Getting', '2014', 'Amy', 'Adams', '#SNL', 'realize', 'schools', \"haven't\", 'hw', 'afternoon', 'Up', '14', 'San', 'Bernardino', 'police', 'Redi', 'Are', 'wolf', 'perfom', 'launching', '#1st', '\\'\"', 'Two', 'EXO', 'members', 'attend', 'KBS', 'KPOP', 'PLANET', 'advanced', 'radio', 'variety', 'program', 'mean', 'harsh', 'God', 'remind', 'true', 'nature', 'came', 'person', 'Jesus', 'Christ', 'SendGrid', 'Email', 'Was', 'Used', 'Attack', 'Coinbase', 'Bitcoin', 'Exchange', 'NICOLE', 'PERLROTH', 'NYT', 'Is', 'cricket', 'room', 'past', 'cocktail', 'friday', 'EU', 'add', 'c19', 'names', 'Ukraine', 'sanctions', 'list', 'Mon', 'proposals', 'yet', 'economic', 'measures', 'Arming', 'Kiev', 'nat', 'capitals', 'Important', 'principles', 'must', 'inflexible', 'Abe', 'Lincoln', 'BANANA', 'hopefully', 'anyway', 'favoryits', 'win', 'Cup', 'mind', 'Thursday', '22', 'Astoria', 'Trending', 'Topic', 'Vancouver', 'hours', '#trndnl', 'x1x_ne_x1x', 'September', '27', '02:04', 'Facial', \"We'll\", 'History', 'cite', 'causes', 'War', 'quantum', 'wavefunction', ';', 'initial', 'conditions', 'Universe', 'null', 'OFFICIAL', 'HASHTAG', 'FRIDAY', '#ALDUBTrust', 'Christmas', \"wouldn't\", \"wasn't\", 'best', 'cus', 'nest', 'rest', 'Hannah', 'Can', 'For', 'BPAN', 'Campaign', 'charged', '5-year-old', 'Authorities', '24-year-old', 'man', '#Chicago', '#News', 'Who', 'pumped', 'JaDineLoveteam', 'Kainis', 'Ngayon', 'nakapag', 'flood', 'tweets', 'Bat', 'kasi', 'limit', 'pa', '#OTWOLStartOver', '#PushAwardsJaDines', 'Developing', 'Implementing', 'Dance', 'Curricula-B', 'register', 'Local', 'reports', 'Drive-by', 'wounds', 'DC', '#guncrisis', '#BattlestarGalactica', '32nd', 'Anniversary', 'tonite', 'premiere', '#StarWars', '#TheCloneWars', '#Sunday', '#Art', 'Dirk', 'Walker', '#Jesus', 'Heals', 'Bleeding', 'Woman', '#Catholic', '#gospel', 'au', 'secours', 'Svp', '!!!!', \"T'as\", 'trop', \"d'espoir\", 'grand', \"c'est\", 'ouf', '58', 'ago', 'tumbled', 'womb', 'cigarette', 'mouth', 'chihuahua', 'puppy', 'under', 'each', 'arm', 'Halloween', 'TOMORROW', 'snag', 'products', 'Hurry', ',...', 'Selling', 'Wireless', 'tickets', 'cost', 'price', 'prices', 'ASAP', '#vibetickets', 'jan', 'lupa', 'makan', 'nde', 'Rabu', '09', 'Jam', '01:28', '#AutoFreeFollowers', '#Offline', 'maybe', 'audition', 'Remember', 'positive', 'thoughts', '27-', 'challenge', 'bored', 'Kitty', '#yoga', 'mat', '#margaret', 'reach', 'whopping', '1,000', 'retweets', 'announce', 'projects', 'debuting', 'cutting', '??', 'PEOPLE', 'NEED', 'TO', 'GET', 'THEIR', 'HAIR', 'CUT', 'BEFORE', 'USE', 'GRASS', 'CUTTER', 'SHAVE', 'IT', 'ALL', 'OFF', \"J'ai\", 'enfin', 'nouveau', 'tel', '#MTVStars', 'Direction', 'clear', '104&amp;#xB0', 'F', 'Humidity', '7&amp;#x25', '25', 'Dew', 'Pnt', '28&amp;#xB0', 'Wind', 'WNW', '9mph', 'Rain', 'far', '0.00', '#wxob', 'Monster', 'Strike', 'Web', 'Anime', 'Trailer', 'Profiles', 'Characters', 'Salut', 'moi', 'sa', 'va', 'beaucoup', 'mieux', 'Comme', 'vous', 'pouvez', 'le', 'contater', 'compte', 'retrouve', 'tout', 'les', 'abonnements', \"qu'il\", 'avait', 'perdu', 'Peace', 'e', 'q', 'vai', 'ser', 'hj', 'cerveja', 'foi', 'ontem', 'que', 'tal', 'um', 'vinho', 'pra', 'variar', 'pouco', 'celebrate', 'yupppppp', 'Lunch', 'Out', '#Grazildas', '#northpark', '#InstaMagAndroid', 'Door', 'Noodles', 'North', 'Park', 'Makati', 'witness', 'strength', 'street', 'knowledge', '#StraightOuttaCompton', '#NWA', 'Avian', 'influenza', 'detected', 'Oxford', 'County', 'farm', '#inocente2014', 'Desde', 'ha', 'empezado', 'la', 'gala', 'llevo', 'viendo', 'tele', 'Y', 'ahora', 'con', 'In', 'Love', 'storm', 'ntlegs11', 'Nath', '#werunasone', '#purplepride', 'bump', 'Son', 'popping', 'anybody', 'shoutout', 'ill', 'provide', 'Economy', 'picking', 'speed', 'latest', 'GDP', 'figures', '0.7', '%', 'growth', 'three', 'end', 'zayn', 'tour', 'world', 'turn', 'finally', 'remembering', 'Great', 'Sue', 'forward', 'seeing', '10.30', 'Toyota', 'Probox', 'introduced', '2002', 'small', 'station', 'wagon', 'designed', 'commercial', 'This', 'prediction', '#S', 'P', '500', '2,000', 'winner', '$SPY', '$FXI', '#GappuKiRani', 'r', 'Mongolian', 'Mules', 'horses', 'ROFL', 'corner', \"they've\", 'turned', 'seed', 'ICYMI', 'preparing', 'comeback', 'perfffff', 'Here', 'story', 'Forensic', 'Science', 'Comm', 'meeting', 'where', 'Willingham', 'probe', 'took', 'remarkable', 'Self', 'Tanner', 'Purchase', 'TOP', 'EVENT', '&gt;', 'Event', 'pros', 'baristas', 'c', 'Our', 'prayers', 'those', 'affected', 'todays', 'Skype', 'hacks', 'offer', 'lessons', 'experts', 'led', 'user', '#13', 'spotted', 'Laguna', 'Beach', 'California', '#MTVHottest', 'Bieber', '#ZodiacFacts', 'As', '#Aries', 'romance', 'chances', 'exploring', 'keeping', 'Annual', 'pancake', 'breakfast', 'fire', 'slated', '#menlopark', 'Stoked', 'date', 'very', 'stoked', 'bro', '08', '12:14', 'iPod', 'touch', '64', 'GB', 'Works', '#Capricorn', 'SUMMER', 'SALE', 'missions', 'iguess', 'Killed', 'Hurt', 'Detroit', 'Barbershop', 'ABC', 'York', 'Daily', 'News2', 'Bar', 'Yes', 'walk', 'shining', 'Stop', 'COLLEGE', 'REPUBLICAN', 'TAILGATE', '9:30', 'Yellow', 'Lot', 'FOOD', '&', 'family', 'marysville', 'Me', 'whole', 'month', 'Madness', 'txt', 'minutes', 'hold', 'reminder', 'Dani', 'Pedrosa', 'won', 'excellent', 'ride', '#MotoGP', '&lt;', 'hurt', 'Sacramento', 'park', 'Personal', 'People', 'keep', 'track', 'instead', 'films', 'production', 'Fuck', 'hear', 'mozzies', 'flying', 'around', 'itchy', 'bitchy', 'taste', 'expect', 'stage', 'Hettinger', 'July', 'Celebration', \"We're...\", 'Conflicts', 'Law', 'Cases', 'Materials', 'R', 'Lea', 'Brilmayer', 'Jack', 'L', 'Goldsmith[May', '01', '2011', 'Dec', 'profound', 'history', 'diff', 'Yoko', 'fallen', 'Moe', 'practically', 'SEC', 'Media', 'Days', '#SECMD15', '#SEC', 'Amazing', 'encouraging', '36,000', '#bluebutton', 'downloads', 'VA', 'health', 'records', 'Epic', 'Games', 'Resets', 'Passwords', 'Following', 'Forum', 'Work', 'fly', 'trying', 'enjoy', 'movie', 'romantic', 'theater', '25%', 'almost', 'Book', 'oh', '*tomorrow*', 'pointless', 'Harvard', 'Faculty', 'Cry', 'Foul', 'Over', 'Rising', 'Obamacare', 'Costs', '#Payback', '#TeaParty', '#tcot', '#ObamacareFail', 'Touch', 'White', 'Bid', 'Now', 'Only', '$', '41.0', 'holy', 'cow', 'sessions', 'Walls', 'painted', 'hung', 'backdrop', 'system', 'working', '18th', 'sick', 'INFO', '#EXID', 'perform', 'K', 'Festival', 'Incheon', 'Asiad', 'Main', 'Stadium', 'Sept', '11th', '1994', 'kak', 't', 'o.I', 'sympathtic', 'frst', 'hrd', 'blmd', 'AA', 'realy', \"pis'd\", 'copied', 'hoax', 'Greek', 'St', 'Johns', 'ASPEN', '#EverydayILoveYouTrailerLaunch', \"You're\", 'rose', 'EILYLizQuen', 'HeartAndSoul', 'p.m.', 'crowd', '{', 'you}', 'blog', 'Creative', 'invitation', 'wording', 'different', 'situations', 'Well', 'losing', 'favourite', 'glasses', 'Melbourne', 'idea', '#Gutted', '#NearlyCried', 'korek', 'sound', 'yun', 'Xbox', 'greatest', 'thing', 'ever', 'others', 'protecting', 'their', 'assets', '#fun', '#Friday', 'Conversations', 'expected', 'Ipod', 'A1238', '160GB', 'Gen', 'battery', '#SanBernardino', 'At', 'suspects', 'loosehttp', ':/', '/', 'www.cnn.com/2015/12/02/us/san-bernardino-shooting/index.html', 'JaDine', 'Wings', 'air', '#OTWOLMediaDay', 'Sale', 'Tassel', 'Necklace', 'Free', 'matching', 'JabberDuck', 'vivid', 'visions', 'future', 'ragged', 'Pisces', 'Alcohol', 'woust', 'enemy', 'xhe', 'bible', 'says', 'FBI', 'sent', 'warning', 'lahat', 'hep', 'hooray', '#ALDUBOneMoreDay', 'MCR', 'wonder', 'team', 'fully', 'shrimp', 'delicious', 'buttery', 'oil', 'spills', '#redlobster', 'amazing', 'followers', 'Growing', 'points', 'Merry', 'Xmas', 'Family', 'B', 'Healthy', 'Safe', 'Joyous', 'Xx', 'Catch', 'social', 'headlines', 'Polar', 'Vortex', 'Clickable', 'Paper', 'Daydreamer', 'David', 'Cassidy', 'sargittarius', 'dat', '10K', 'Gold', 'Mens', 'TheJewelryGirlsPlace', 'changed', 'twitter', 'background', 'check', 'Found', '2010', '2:52', 'WJZ', 'BREAKING', 'Injured', 'Baltimore', 'Of', 'Those', 'CBS', 'takes', 'career', 'huge', 'player', '...\"', 'Part', 'Try', '#vintage', '#asian', '#Handmade', '#sculpture', '#WoodCarving', '#Oddities', 'find', 'local', 'antique', 'store', '#69', 'Germany', 'Reich', 'RARE', 'postcard', 'Richard', 'Wagner', 'Festspielhaus', 'Bayreuth', 'Suffers', 'Lord', 'direct', 'hearts', 'perseverance', 'Thessalonians', '3:5', '#jesus', \"C'MON\", 'GUYSSS', 'HURRY', 'UP', 'PLS', 'DO', 'FOLLOW', 'FOR', '#CamTo4Mill', 'x1047', 'Three', 'rule', 'Pwede', 'magsepanx', 'PARTS', 'normal', 'belieber', 'happens', 'J', 'Holidays', 'poem', 'Poetry', 'Challenge', 'shortlist', 'Stubborn', 'AI', 'DEMAND', 'RELEASE', 'SYRIAN', 'BLOGGER', '17-9-2010Tal', 'al-Mallohi', '19-year-old', 'Syrian', 'woman', 'held', 'incommun', 'showing', 'Still', 'dislike', 'Early', 'Decision', 'most', 'kids', 'Action', 'thoughtfully', '#admissions', '#colleges', 'ye', 'theyr', 'severe', 'consiquences', 'waypeople', 'talk', 'bout', 'theday', 'sum1', 'told', 'adolf', 'wasnt', 'blond', 'enuf', 'S', '#twitter', '538', '13', '38', 'seconds', 'yours', '#twittertime', \"shouldn't\", '#MadeInTheAm', 'Decovich', 'flies', 'Meskipun', 'june', 'keras', 'dia', 'lunak', 'ketika', 'mengajari', 'chanwoo', 'berlatih', 'vokal', '#Market', '#Coastal', '#Lakes', '#Freight', '#Transportation', 'market', 'uncertain', 'ppl', 'interests', 'obsessed', 'ring-tailed', 'lemurs', 'threatpost', 'Tough', 'couple', 'Linode', 'customers', 'whose', 'passwords', 'reset', 'DDoS', 'attac…', 'premier', '#dwts', 'excited', 'Harper', 'toast', 'loop', 'Private', 'Tour', 'France', 'passed', 'thru', 'Jerseyed', 'Homie', 'dreamer/but', '#ObamaRepealTheExecutiveOrder', '#venezuelaishope', 'Ang', 'gra', 'nmn', 'nun', 'ang', 'public', 'jun1', 'pasukan', 'private', 'bat', 'jil', 'jun', '???', 'Nohhhh', 'Finally', 'Says', 'Android', 'iOS', 'TechCrunch', '11Am', 'Week', 'Tech', '2014]', 'Netflix', 'Changes', 'Pag', 'gusto', 'paraan', 'ayaw', 'ilibre', 'sasama', 'yan', 'merek', 'minuman', 'sachet', 'amazing(', 'Jackets', 'sum', 'steak', 'uhun', '-tiro', 'Vesto', 'coloco', 'em', 'cantinho-', 'indo', 'pro', 'mar', 'cntg', 'difficult', 'stronger', '#Collier', 'Watch', 'details', 'growhouse', 'bust', 'county', 'first-ever', 'West', 'Nile', 'Abusadong', 'mga', 'tao', 'din', 'po', 'Di', 'utusan', 'para', 'bumili', 'gamit', 'Doctor', 'Buti', 'nga', 'tumulong', '1-0', 'Miners', '12:30', 'ability', 'hide', 'feelings', 'sta', 'Leo', 'Bears', '6-5', 'save', 'river', 'falls', 'doubt', 'both', 'Gods', 'unto', 'themselves', 'Copa', 'Sudamericana', '#2010', 'Round-Up', 'Lake', 'Butler', 'Gunman', 'Hubert', 'Allen', 'Jr', 'Kills', 'Wounds', 'Takes', 'Own', 'Florida', 'authors', 'spend', 'book', 'chapter', 'telling', '23rd', 'Wright', 'bash', 'Stanford', 'Robert', 'Laughlin', 'Nobel', 'Physics1998', 'explanation', 'rt', '#ClimateChange', 'lead', 'coffee', 'supply', 'chain-', 'shortages', 'increase', 'NOOOOOO', 'S.O.D', 'March', 'O', 'D/Sargent', 'D', '#ThrashMetal', 'prize', 'ironic', 'litigation', 'possibly', 'depending', 'whether', 'guilty', '>', 'Jimmy', 'Kimmel', 'tries', 'same-sex', 'friends', 'Since', 'Supreme', 'fine', 'Thanx', 'Pepsi', 'usually', 'confirm', 'winning', 'Nokia', '5800', 'Instead', 'sitting', 'looking', 'feet', 'ground', 'tim', 'seven', '#shooting', 'near', 'LA-area', 'community', 'college', 'SHANE', 'FILAN', 'announced', 'second', 'RIGHT', 'HERE', 'Releases', 'Orleans', 'PD', 'searching', 'Mother', '19', 'daily', 'investment', 'Empire', 'Avenue', '#EAv', 'tag', 'LadyLOISA', 'AtASAP20', 'Welcome', 'Political', 'Wire', 'Bonus', 'Quote', 'Audi', 'Allroad', 'concept', 'previews', 'TT', 'Brake', 'motor', 'hi', 'Dinner', 'Gnocchi', 'Italian', 'Sausage', 'Swiss', 'Chard', 'Ripe', 'Tomatoes', '07:25', 'Interxion', 'suffers', 'customer', 'contact', 'exposed', 'listening', 'lies', 'truth', 'INSPIRITS', 'U', 'READY', '!!!?', 'INFINITE', 'WORLD', 'TOUR', 'EFFECT', 'IN', 'THAILAND', '#INFINITE_EFFECT', 'Travelling', 'light', 'ftw', 'here', 'half-empty', 'books-based', 'suitcase', 'clothes-based', 'That', 'criticize', 'Keenum', 'considering', \"hasn't\", 'throw', 'pass', 'Rams', 'squad', '#Obama', 'press', 'conference', '#ISIS', '#ChattanoogaShooting', \"he'll\", 'assure', '#Islam', '#ReligionOfPeace', '#TCOT', 'bath', 'shut', 'sam', 'steve', 'tanya', 'round', '10am', 'EverydayILoveYou', 'BlogCon', 'Everyday', '28', 'cinemas', 'nationwide', 'six', 'jones', 'beach', 'Jet', 'Kaya', 'dinidiem', 'ganyan', 'kase', 'akala', 'nila', 'video', 'kaden', '#aberdeen', 'Bear', '10:28', 'Tunnels', 'Carnegies', 'Brae', 'Aberdeen', 'Un', 'Aqa', 'eng', 'lit', 'pls', 'blessing', '#litb3', 'Yeah', 'matter', 'goodbye', 'rewind', 'learned', 'About', 'Jessica', 'Soho', 'cant', 'Laughing', 'Korina', 'Tweet', 'HAHA', '#MaineMendozaOnKMJS', 'Follow', 'Once', 'again', 'suggest', 'tell', 'ME', '200', 'Porn', 'robots', 'welcome', '#ff', 'YOU', \"HAVEN'T\", 'HEARD', 'THERE', 'IS', 'AN', 'AMAZING', 'SHOW', 'GOING', 'ON', 'TONIGHT', 'AT', 'JANNUS', 'LIVE', 'SUENALO', 'FROM', 'MIAMI', 'W/', 'SHAKEMODE', 'INDIGENOUS', '1-bedroom', 'jumped', '7.4', 'quarter', '1.6', 'alone', '#MultiUnitMadness', 'Night', 'Bless', 'Sleep', 'honey', 'See', 'Bye', 'bye', 'dear', 'golly', 'candy', 'lunchroom', 'Sour', 'Patch', 'individual', 'ironed', 'mine', 'wash', 'gets', 'soft', 'safe', 'reverse', 'Milwaukee', 'Wisconsin', 'penis', 'play', 'Shane', \":'\", 'bands', 'Swayzes', 'Venue', 'Please', 'support', \"They're\", 'Mayweather', 'Akan', 'Pensiun', 'Bulan', 'Mengingat', 'usianya', 'yang', 'sudah', 'tidak', 'muda', 'lagi', 'tahun)', 'Mayweathe', 'Donghae', 'Siwon', 'enlist', 'together', 'Auxiliary', 'deserve', 'ilike', 'dnt', 'knw', 'hella', 'sht', 'tha', 'internet', 'imean', 'iadmit', 'ibe', 'qassin', 'hoes', 'datjayycarterkidd', 'asked', 'omg', 'sir', 'color', 'oyu', 'eyes', 'box', 'thought', 'december', '2005', 'dell', 'recalled', 'approximately', '22,000', 'laptop', 'computer', 'batteries', 'yakuza', 'zombies', 'SUNDAY', 'FUNDAY', 'kinda', 'studying', 'french', 'pfff', 'Muhammad', 'Youssef', 'Abdulazeez', '5', 'Fast', 'Facts', 'Need', 'Know', 'spectacular', 'Boat', 'Race', 'part', 'sports', 'festival', 'News5', 'LIST', 'leaders', 'Paris', 'rally', 'sobrang', 'gandang', 'blockbuster', 'To', 'House', 'Speaker', 'Brian', 'bosma', 'productive', 'discussion', 'meet', 'successful', 'conclusion', 'wed', 'red', 'grue', 'Mark', 'Lou', 'Holtz', 'allowed', 'bowl', 'Do', 'Topics', 'Belgium', 'Third', 'arrest', 'made', 'TalkTalk', 'driven', 'bc', 'stunned', 'beautiful', 'drive', '21st', 'bitchessss', 'dig', 'commandment', 'liked', 'Thou', 'shalt', 'F**k', 'Dudleys', '#WWEBattleground', 'Chick-fil-A', 'remain', 'closed', 'Sundays', 'Monday-Saturday', 'Staminus', 'Bad', '#LA', 'Steer', 'west', 'side', 'traffic', 'Obama', 'visit', 'thinks', 'Duhhh', 'Beauty', '#9764', 'Age', 'Control', 'Firming', 'Comforting', 'Radiant', 'Tan', 'Spf', '30-125Ml/', '4.2', 'Oz', '#4615', 'Es', 'posible', 'pueda', 'ir', 'YA', 'Mar', 'del', 'plata', 'able', 'Dispatch', 'Male', 'confronts', 'driver', 'kitchen', 'knife', 'arrested', 'peace', '#oilcity', 'Wear', 'RED', 'perfect', 'timing', 'peak', 'entry', 'applies', 'Wounded', 'Northern', 'Arizona', 'University', 'Flagstaff', 'WAKE', 'ITS', 'SATURDAY', 'problem', 'taxing', 'paying', '5litre', 'classic', 'SocialSponsoring', 'handy', 'case', \"again':\", 'China', 'ship', 'US', 'destroyer', 'guided-missile', 'USS', 'Lassen', 'link', 'removed', '03', '08:13', 'temped', 'android', 'device', 'prob', 'gen', 'desire/desirehd/galaxy', 'critical', 'mass/commercial', 'murderer', '#Chattanooga', 'Taking', 'conservative', 'route', 'Capricorn', 'nails', 'done', 'bit', 'lapse', 'federer', 'nishikori', 'picked', 'things', '44', '41', 'Rihanna', 'low', 'toned', 'Prolly', 'AGES', 'LMFAOOOOO', 'Dozen', 'U.S.', 'Seeing', 'Dodgers', 'triple', 'Excited', '#FutureDodgers', '#EXPconsulting', 'Scammers', 'target', 'Dell', 'apparent', 'Nandiyan', 'siiiiiyaaaa', 'kanila', 'FOREVER', '#ALDubEBTamangPanahon', 'veeba', 'scenes', 'uploaded', '#Pittsburgh', '#Crime', 'Stoppers', 'Offering', 'Reward', '#Knoxville', '#Shooting', 'Jul', '2:37', 'ET', 'Chris', 'Young', '#Royals', 'Pitcher', '3-1', '1.45', 'ERA', 'opponents', 'batted', '179', 'Congrats', 'bought', 'Riley', 'onesie', 'volleybaltraining', 'leuk', 'volgende', '1e', 'wedstrijd', 'heheRT', 'LOL', 'MirLes', 'jamanSD', 'kalo', 'nyabutin', 'uban', 'bokap', 'dpt', '100', 'perak', 'satu', 'tweeted', 'Dejavu', ':-p', 'Girls', 'never', 'mad', 'reason', 'stupid', 'Companies', 'fixing', 'wholly', 'fault', 'calling', 'one-time', 'courtesy', 'insult', 'injury', 'clearly', 'sorry', 'R.K.', 'Nagar', 'by-poll', 'Opposition', 'parties', 'reluctant', 'fray', 'wounded', 'McDonald', 'Rogers', 'pics', 'Beverly', 'Hills', 'ok', 'iPhone', '6S', 'hav', 'big', 'girls', 'soccer', 'Springboro', 'Kick', '7pm', '#HerdUp', 'Lights', 'visible', 'Britain', 'aligns', '#horseandhoof', '$1497-$3497', 'per', 'WWW', 'bigbucksonline', 'info', 'update', 'tan', 'tanning', 'hurry', 'summer', 'shopping', 'human', 'misbehaved', 'Soundtrack', 'Be', 'Released', 'Watching', 'Geng', 'Tanjoubi', 'setlist', 'Dareka', 'Tame', 'ni', 'v', 'wkwk', 'action', 'southern', 'lot', 'mom', 'dad', 'Scooter', 'Braun', 'life', 'turns', 'infamous', 'hat', 'during', 'encore', 'lieu', 'rasta', 'wig)', '3333', 'news', 'recommend', '#bath', '#restaurants', 'Thank', 'ANW', 'Update', 'TMZ', 'Reporting', 'Failed', 'Her', 'Drug', 'Test', 'congratulated', 'h', 'yourselves', 'freaky', 'funky', 'holidays', 'Franny', 'Stein', 'hits', 'GLITTER', 'Daaaaleeeee', 'locoooo', 'GoT', 'te', 'necesito', 'en', 'mi', 'vida', 'Look', 'CUTE', 'forewarning', 'guys', 'spammed', 'pictures', 'Nova', 'honestly', 'care', 'annoyed', 'cute', 'Fools', 'cos', 'entire', 'joke', 'original', 'xx', 'banter', 'hilarious', 'cheeky', 'nandos', 'x', 'Showering', 'real', 'reallll', 'quick', 'text', 'shower', '7+', '#tornado', 'satellite', 'image', 'Via', '26', '03:33', 'deadline', 'required', 'tryout', 'applications', '5pm', 'someone', 'Los', 'Angeles', 'warn', '#PrayforLA', 'interesting', 'Utilizing', 'creativity', 'workplace', 'necessary', 'fo', '#TalkTalk', 'third', 'major', 'poss', 'encrypted', 'defence', 'Gets', 'note', 'biker', 'Waco', 'lush', 'ya', 'download', 'succeeded', 'national', 'television', 'monday', 'tuesday', 'Interview', 'cause', 'wrote', 'against', 'homophobia', 'sleeping', '#nerium', '2.0', 'drafted', 'Hey', 'men', 'sat', 'returned', 'shot', 'staying', 'Gainesville', 'Costa', 'Lounge', 'Say', 'salsa', 'caliente', 'VIDEO', 'Indonesia', 'impose', 'language', 'thats', 'invented', ':o', 'Dies', 'Accident', 'Hours', 'DUI', 'Class', 'drinking', 'court', 'orde', 'Titan', 'Potros', 'Top', '5th', '0', 'balls', 'strikes', '#23', 'Steven', 'Alejandro', '#27', 'Player', 'Sony/Bud', 'Light', '3D', 'tailgate', 'Clemson', 'Auburn', '#KREAM', '#DirtyBirdscartel', '#Amg', '#DontknockTheHustle', '#SupportIt', 'Kung', 'bottom', '\",', 'atin', 'naman', 'boredom', '\".', 'Working', 'harder', 'instinctive', 'answer', 'heightene', '#ChooseBeautiful', 'Mr', 'Van', 'crew', 'wednesday', 'asks', 'lose', 'cry', '12/5)', 'Armour', 'Clutchfit', 'Drive', 'Notre', 'Dame', 'Queen', 'speak', '#cold', 'BASE', '#BlueHens', 'CAA', 'Hofstra', '#BHStateOfMind', 'GOOD', 'LUCK', 'MEETING', 'JAKE', 'IM', 'SO', 'EXCITED', 'OMG', 'bookseller', 'abduction', 'Hong', 'Kong', '#Cemaes', '#carnival', '31st', '1pm', 'fields', '#bankholidayweekend', '#Anglesey', '#YnysMon', '#Carnival2015', '10:33', 'MS', 'Dhoni', 'Untold', 'Story', 'release', '2016', 'Guys', 'vintage', 'grab', 'crop', 'Kahuna', 'snort', 'dedicated', 'Dear', 'fancy', 'stag', 'Brighton', 'mid', 'Hit', 'Appreciate', 'recent', 'Retweets', 'Virtual', 'Bodyswapping', 'Reduce', 'PrejudiceToward', 'Others', 'LOVE', 'being', 'plane', 'flight', 'Soooo', 'Ah', 'Issue', 'boyfriend', 'aunt', 'worked', 'Anna', 'Wintor', 'NY', '!,', 'Japan', 'current', 'account', 'surplus', 'marks', 'biggest', 'gain', 'Reuters', 'Fuckk', 'fuckinn', 'missed', 'concert', '#shizz', \"they're\", 'obituary', 'Alice', 'Rice', 'Tulsa', 'Grammar', 'Boot', 'Camp', '7th', 'graders', 'GO-GO-GO', '8th', 'Graders', 'project', '05:41', 'KEEP', 'CALM', 'guest', 'LC', 'closes', 'NOON', 'Aaj', 'Yeh', 'Kar', 'Meri', 'Maa', 'Kitni', 'Khush', 'Hoti', '..;', 'Want', 'Don', '#PeopleWhoMadeMy2014', 'ange', 'Win', 'iPads', 'adamson', 'salle', 'niyan', 'Artful', 'Pumpkins', 'Ladies', 'Long', 'Sleeve', 'Altered', 'design', 'Backgroun', '#tshirts', \"'On\", 'filming', 'Rainy', 'edit', \".'\", '3pm', 'Fe', '930pm', '8,000', 'free', 'bio', 'retweet', 'post', 'Facebook', 'nail', '12', 'semester', 'found', '$119', 'floor', 'yelling', 'bookstore', 'saying', 'thanks', 'stilll', 'herre', 'deaths', 'Marines', 'Chattanooga', 'leads', 'network', 'evening', 'newscasts', 'across', 'board', '#The1906andPearlsShow', 'THIS', 'MONDAY', '7:06', '08pm', '#MAINBUILDING', 'ROOM', '104', 'SPECIAL', 'PERF', 'Red', 'styling', 'comes', 'Nike', 'Dunk', 'High', 'monochromatic', 'palette', 'materials', '#filthyglaMOUR', 'LOOOK', '39', 'influenced', 'decision', '=P', '#RacingExtinction', 'tm', 'Morning', '!!!!!!', 'Weather', '#Positive', '#SpreadLove', '#StressFree', 'ISI', 'REPEAT', 'PESAWAR', 'INDIA', 'BE', 'BLAMED', 'friend', 'filmed', 'interviewed', 'sex', 'cologne', 'gosh', 'tv', '#RTLextra', 'meant', 'mums', 'aww', 'shame', 'beans', 'ah', 'hmm', 'drink', 'Pretty', 'Always', 'treat', 'JANUARY', '17th', '#Back2The90sTurnUp', '#Arkadelphia', '#CountryClub', 'Mix', '18+', '$5', '11:30', 'SPREAD', 'THE', 'WORD', 'asa', 'kailan', 'kayo', 'uuwi', 'uwi', 'natutunan', 'kana', 'bola', '03:48', 'PMg', '18', '06:31', '#RT', '#TFB', '#TeamFollowBack', '#TFW', '#FF', '#Follow', 'Mariano', 'nice', 'girl', 'discovered', 'macdonalds', 'picture', 'ideas', '#security', '#hacking', 'User', 'Compromised', 'Touchnote', '#90sBabies3', '#ULTRA', '#XFactorENT', 'MEET', '8888', 'marunong', 'magsorry', 'Eh', 'ikaw', '#MidnightHugot', 'yesterday', ':-)', 'table', 'Sneakercon', 'july', 'pairs', 'standing', 'Blair', 'Pope', 'Brown', \"won't\", 'heart', 'silent', 'fer', 'courthouse', 'Delaware', 'WILMINGTON', 'Del', 'AP', '—', 'opened', 'Dela', 'cold', 'leftovers', 'Hm', 'kamukha', 'Daniel', 'Padilla', 'Roadtour', 'Jesse', 'Robredo', 'Coliseum', '#PSYTaguan', 'eatin', 'fastfood', 'everyday', 'glad', 'mommy', 'cookin', 'Salesian', 'Volleyball', 'Cathedral', '16th', '#SalesianVolleyball', 'goooood', '#ShowtimeKiLigContinues', 'Editor', 'recap', 'reported', 'north', 'Portland', 'later', 'shooting…', 'ing', ':O', 'Also', 'Matt', 'Officially', 'Gilmore', 'Brooks', 'Bradham', 'Karlos', '#BUFvsPHI', 'watched', '#BSBTheMovie', 'Syd', 'enjoyed', 'watching', 'alot', '#YR', 'walls', 'closing', 'Sharon', 'Seriously', '!?!', '#NotCool', '#NotHappy', '#NotRight', '02:17', 'tested', 'cocaine', 'PeopleSearchAffiliates', 'com', '#1', 'Years', 'Make', 'Most', 'lucrative', 'search', 'CB', 'Deen-e-Hayat', 'bojh', 'kar', 'kasam', 'khana', 'Sakht', 'mana', 'hain', 'Sticks', 'stones', 'break', 'bones', 'But', 'words', 'plz', 'haters', 'JS', 'Frustration', 'extremely', 'Slocum', 'blocked', 'kick', '#packers', 'snapchat', '#nomakeupmonday', 'Em', 'breve', 'tomar', 'conta', 'tudo', 'roubaram', 'dele', 'Belief', '&quot;', \"gut'-Oh\", 'mental', 'stimulus', 'feeling', 'often', 'yes', 'testing', \"we'll\", 'Awarded', 'Agora', 'Spanish', 'director', 'Alex', 'Amenabar', 'directed', 'Adentro', 'Sea', 'Inside', 'W/Rachel', 'Weisz', 'Ryan', 'Garbutt', 'assists', 'Fiddler', '#GoStars', '#NYIvsDAL', 'Snooth', 'Talk', 'Zinfandel', 'Port', 'released', 'De', 'Niro', 'strong', 'Rock', '#dirtygrandpa', 'whats', 'point', 'mobile', 'exactly', 'arriving', 'studio', 'Hollywood', '#EMABiggestFansJustinBieber', 'Rs', '10,000', '-Cr', 'Projects', 'Being', 'Rolled', 'Railway', 'Minister', 'Suresh', 'Prabhu', 'FantasyPro', 'net', 'offers', '100%', 'Deposit', 'Match', 'credits', 'referral', 'Must', 'deposit', '19th', 'lalala', 'south', 'Go', 'Tickets', 'Ben', '10.15', 'am-', '12.30', 'seem', 'quiet', \"i'm\", 'figuring', 'weakness', 'destroy', 'Raw', 'Illest', 'Storm', '14th', 'Whiskey', 'Classified', 'supposed', 'fast', 'sundown', 'silly', 'KAIBIGAN', 'KA', 'LANG', 'kaya', 'wag', 'kang', 'sensitive', 'kasama', 'siyang', 'iba', 'Whole', 'Hog', 'Wed', 'seatings', 'communal', 'style', '$49', 'Maikes', 'Webinar', 'Changed', 'ti', '.;', 'atheists', 'choose', 'morals', 'Correct', 'frowning', 'child', 'abuse', 'proble', 'Electro', 'Music', 'HEY', 'CABOT', 'Tailgate', '5:00', '6:00', 'Join', 'Panther', 'pride', '#KATV7', '3hunna', 'Twy', 'rad', 'build', 'hype', 'Metal', 'Gear', '!:', 'COMING', '#GETEXCITED', '#MACBABIES', '#ALISHAWORKSHARDFORHERVIEWERS', '#slashdot', '#interesting', '4%', 'Accessed', 'Cyber', 'blessed', 'children', 'pets', 'Bases', 'données', 'des', '55', 'votants', 'aux', 'Philippines', 'hackés', 'avec', 'numéros', 'passeports', 'Rare', 'Larry', 'Sultan', 'Valley', 'evidence', 'mandel', 'hido', 'meyerowitz', 'raiders', '#Predictions', 'duper', 'Season', '#TVD', 'premieres', '#CWFallPremieres', 'Flash', 'Flood', 'Harris', 'TX', '#houwx', 'Im', 'freshmen', 'fluncked', 'once', 'elementry', 'Jupiter', 'Closest', 'Approach', 'Nearly', 'nxt', 'wnt', 'bright', '2022', 'tucson', 'COMPLETE', 'OPPOSITE', 'Arsenal', 'VS', 'Monaco', 'Leg', 'Emirates', 'Second', '#AFC', '#COYG', '#RedArmy', 'Got', 'genuine', 'butterflies', '#AustralianOpen', '#teamandy', 'punt', 'Stakes', '#sadbuttrue', 'Adulting', 'Tomorrows', 'Baseball', 'Tips', 'Hitting', 'Flame', 'Throwers', '#mlb', 'league', '#baseball', 'Theresa', 'rent', 'law', 'Dogs', 'Blacks', 'Irish', 'Yessss', 'UCLA', 'Kentucky', '34', '4:42', '1ST', 'Looney', 'pts', 'Harrison', '#BBN', 'Blaqout', 'while', 'iz', '#Databreach', 'Middlesex', 'Hospital', 'effect', '900', 'patients', '#healthIT', \"Sa'Miyah\", 'daycare', 'sadly', '#killthecheerleader', '#saveaviewer', 'easy', 'dnce', 'skool', 'dau', 'wuz', 'corny', 'evn', 'doe', 'lil', 'ugh', 'lke', 'whn', 'gurl', 'neva', 'nt', 'trin', 'fin', 'sunthn', 'OpenSSL', 'Did', 'Involve', 'Corrupted', 'Hypervisor', 'InformationWeek', '76', 'declared', 'war', '#UkNews', 'begin', 'somewhere', 'Coolum', 'sand', 'surf', 'bikinis', 'Looking', 'phase', 'join', 'Viewing', 'Aside', 'Evan', 'Peters', 'thrilling', 'motion', 'segment', 'Quicksilver', '#DaysofFuturePast', 'dull', '#TheCriticsWereWrong', 'VIXX', '+', 'Performances', '20th', \"Bank'!\", 'baddie', 'number', '#AfterBirthdayBash20', '#MuseumBar', 'saturday', '03:28', 'Castle', 'Murkowski', 'write-in', 'Probably', 'NRSC', 'best-ever', 'DEBUT', 'PIC', '~Spam~', 'Showcase', '#Got1YearWithGOT7', 'Oh', 'lord', 'Paranormal', 'Activity', \"'m\", 'requesting', 'area', 'President', 'fundraiser', 'blocks', 'lyrics', 'w/', 'gorgeous', 'Guild', 'Guitars', 'D55', 'LALALAND', 'Already', 'seems', 'plan', 'Senioritis', 'awful', 'Luck', 'Eastern', 'Bloc', '25th', \"b'day\", 'kicking', '#botweast', '08:24', 'living', 'glass', 'fixed', 'calm', 'piss', 'Aga', 'aga', 'bruhang', 'bruha', '5thflr', 'ba', 'tong', 'subject', 'ko', 'Fellas', 'lick', 'PussyY', 'married', 'preacher', 'kiss', 'bride', 'honorable', 'step', '#Ferguson', 'HOW', 'DID', 'HAVE', 'COLD', 'APRIL', 'Sir', 'SWEAR', 'nothing', 'honest', 'Dee', 'Whit', 'ima', 'slide', 'through', 'Columbus', '#weather', '10/23/2015', 'club', 'penguin', 'decided', 'log', 'loool', 'reminded', 'cp', 'practice', 'LSU', 'Broadcast', '6:45', 'remember', 'own', 'tampon', 'tomorrows', 'wireless', 'channel', 'change', 'Shreveport', 'Charles', '-might', 'shoot', '#BMT', 'slab', 'Warner', 'Cable', 'suspected', '320,000', 'risk', '200K', '#Comcast', 'accounts', 'compromised', 'prevent', '#ComcastBreach', '#cybersecurity', 'chance', 'webcam', 'enters', '7:00', 'kisses', 'chin', 'Financial', 'results', 'Eco', 'Bank', 'Transnational', 'Inc', 'nine', 'period', 'ending', '30th', 'MONSTER', 'BOUNCE', 'COMIN', '$VTCQ', '!!!!!!!', 'LOADING', 'BIDS', 'TWEET', '#BMM', 'article', 'PS4', 'tournament', 'rules', '#greenville', '#southernhospitality', 'fuckin', 'pop-eyes', 'fuc', 'THREE-oh', 'three-ee-ee-oh', '#TokaidoRoad', '#Canterbury', '50%', 'RESERVATION', 'FEE', '31', 'Located', 'Brgy', 'Lantic', 'Carmona', 'Cavite', 'Near', 'Alabang', 'KNOW', 'remote', 'push', 'buttons', 'siang', 'Some', '80+', 'Beautiful', 'weather', 'Goran', 'Dragic', '#shoes', 'ADIDAS', 'WINGS', 'JEREMY', 'SCOTT', 'SUN', 'RAINBOW', 'POPPY', 'G61380', 'Size', '10.5', 'Authentic', 'valley', 'Around', 'Twice', 'written', 'Kathie', 'gone', 'Inbox', 'tw', 'precedente', '#', 'sbagliato', '#ColoradoSpringsShooting', 'Apr', 'DISCOVERY', 'THURSDAY', '9pm', 'CURVE', '#Armon', '#IsaacHo', '#Sick', '#UFCBoston', 'England', 'rmbr', 'spoke', 'Maggi', 'suspicious', 'emptying', 'fr', 'perhaps', '??!', 'Teachers', 'Open', 'Evening', 'MOC', '22nd', '3.30', '5.30', 'Sample', 'learning', 'prog', 'RSVP', 'museumeducation@croydon', 'gov', 'uk', 'Four', 'Arlington', 'bar', 'suspect', 'Philadelphia', 'Quakers', 'Louisville', 'Leopards', 'Boys', 'Tournament', 'Basketball', 'Video', 'Highlights', 'Recap', 'With', 'Chicago', 'theaters', 'Interstellar', 'Inception', '#cutlertribute', 'tune', 'Tues', '#drunkengoat', '#AdelHills', 'broadcast', '#southaust', 'fresh', 'Soo', 'hungry', 'dreaming', 'broken', 'Then', 'waking', 'hardest', 'Nung', 'nakita', 'nanay', 'enrique', 'biglang', 'sumigaw', 'AHHAHAH', '#ForevermoreFinale', 'Teen', 'officer-involved', 'Louis', 'Account', 'Nicole', 'Perlroth/New', 'Times', '?\"', 'calendar', 'Brooklyn', '#nyregion', 'ravens', 'oak', 'bluebells', 'Incident', '#I95', 'SB', 'Rosedale', 'Ramp', 'Exit', 'Haha', 'laugh', 'memory', 'facial', 'expression', 'transforming', 'Ready', 'youtube', 'lmao', 'whom', 'concern', '#FinestSquad', 'supporters', 'pledge', 'level', '#noenemies', 'Tray', 'Baileys', '#Never', '#TGIF', 'msp-mco', 'MON', 'MCN', '9700', 'doudou', 'Elephant', 'Des', 'Peres', 'restaurant', 'warned', 'credit', 'card', 'AppleMagazine', 'True', 'PDF', 'badd', 'biddies', 'gon', 'lingerie', '#obsessions', 'cheetah', 'print', 'thong', 'lmfao', 'resort', 'cursing', 'Plenty', 'intelligent', 'Sad', '#MarysvilleShooting', 'Been', 'copy', 'Nostalgia', 'isnt', 'home-relaxing', 'frees', 'keeep', 'sane', 'Okay', 'doc', 'Keep', 'tamped', 'coupla', 'believe', 'ahhhhh', 'depends', 'revamped', 'Lions', 'ooo', 'unhappy', 'anniversary', '#Green', '#Eco', '#Earth', \"c'mon,\", 'ONE', 'YUP', 'Interesting', 'firm', 'guy', '#askDinahJane', 'E-cigarette', 'ads', 'fuel', 'urge', 'smoke', '#health', '#ads', '#ecigarette', '#fuel', '#may', '#smoke', '#to', '#urge', 'identified', 'Tennessee', 'facility', '#npevent', 'Brentwood', 'Estate', 'Walkabout', 'Holywell', '10:00', 'ahhh', 'Lien', 'MAHIRAP', 'TALAGA', 'UMASA', 'TAONG', 'IBANG', 'GUSTO', 'CNN', 'motive', 'behind', 'unknown', '-cnnphilippines', 'Help', 'Ricky', 'Co', 'pitch', '26th', '#Voom', 'Drop', 'sweat', 'volunteering', 'Army', 'Run', '#Ottawa', 'Pawnee', 'LSA', '5-4', '8-1', 'playoff', 'match', 'less', 'min', 'Prayer', 'declaration', '#Prayer', '#Declaration', '#Pray', '#RoyalBaby2', '#YouKnowHow', \"aren't?\", 'gettin', 'eye', 'pussys', 'SMPD', 'confirmed', 'situation', 'active', 'library', \"dON'T\", 'FORGET', 'HAPPENED', 'NOV', 'SAME', 'DAMN', \"CITY,WHAT'S\", 'SHOOTERS', 'NAME', 'AGAIN', 'toi', 'pour', 'Je', 'invite', 'visiter', 'et', 'partager', 'tes', 'avis', 'study', 'iTake', 'quiz', '=)', 'KSPR', 'Doppler', 'Radar', '10:47', '#Citizenship', '#MiamiGardens', '#DAPA', '#DACA', 'session', 'sonngg', 'richmond', 'Evansville', '11/13/2015', 'Astrology', 'Forecast', 'Maine', 'roundup', 'UMaine', 'beats', 'hockey', 'playoffs', '#beats', '---', 'splurb', 'Old', 'Imma', 'Rockin', \"Baby'...Even\", 'Break', 'Hip', 'Ima', 'tatts', 'self', 'Forward', '#brand', '#entreprenuer', '#selfhelp', '#passion', '#inspiration', '#believe', 'Train', 'HCA', '8K', '7:30', 'showroom', 'epal', 'yung', 'teleserye', 'G2B', 'Forevermore', 'george', 'Hawaii', 'talaga', 'kailangan', 'hintayin', 'magpapatunay', 'sayo', 'meron', 'Badtrip', 'Replay', 'tuloy', '#APECtado', '#ALDUBTheWho', 'Vote', '#VoteJKT48ID', '02:47', '(-1', 'Fifth', 'Harmony', 'fair', 'roughly', 'millionth', 'Tony', 'Change', 'Plans', 'Glover', 'farmers', '9-1', 'favorites', 'flavors', 'proceed', 'paradise', 'forget', 'Princess', 'Lover', 'OVA', 'teaser', 'pic', 'SFW', 'feelin', 'chick', 'straightened', 'purdy', 'junk', 'SHIT', 'HOHO)', 'bet', 'servers', 'zamu', 'sep', 'OKNO', 'Smoking', 'sunroof', 'refuel', 'soul', 'Take', 'breathe', 'Woot', 'Oakland', 'MT', \"We've\", 'posted', '#mycityis', 'definitions', 'Realizing', 'privacy', 'aware', 'An', 'Affiliate', 'Home', 'Business', 'Than', 'Job', 'EzineArticles', 'leaving', 'bffs', 'prolly', 'BC', 'neither', 'Dead', 'knew', 'ROTFLMAO', 'smoothie', 'green', 'tea', 'hot', 'chocolate', 'garnet', 'hill', 'shipping', 'Garnet', 'Hill', 'Coupon', 'Codes', '$10', 'Sitewide', '#illinois', '#car', 'sooooo', 'AUTHENTIC', 'TY', 'PRINCESS', 'DIANA', 'BEANIE', 'BABY', 'EDITION', 'Football', 'partiesss', 'sadness', 'whoa', 'ohh', '2013', 'Feel', 'Moment', '#aha30', 'Anyway', 'confess', 'crimes', 'annual', '#DomesticExtremist', 'Awareness', 'Kapag', 'naging', 'presidente', 'pasok', 'Einstein', 'legacy', 'science', 'art', 'modern', 'culture', 'Pamela', 'Anderson', 'Address', 'Economic', 'Vladivostok', '1975', 'mate', 'legend', 'scary', 'views', 'overdone', ':-(', 'jk', 'paranormal', '#Ghostadventures', 'present', 'TRUE', 'ISLAM', 'CHRISTIANITY', 'JUDAISM', 'WITH', '21ST', 'Marysville-Pilchuck', 'Becomes', 'Latest', 'Range', 'Could', 'Ripped', 'Order', 'SVU', 'Really', 'rocket', 'moon', 'totally', 'louis', 'bday', 'Modi', 'government-may', 'telugu', 'states-2nd', 'Cyclone', 'hudhud', 'hitting', 'vizag-12th', 'october', 'kashmir', 'Whisky', 'Pete', 'preciso', 'BG', 'ou', 'maine', 'hardship', 'underestimate', 'power', 'prayer', 'conviction', 'respected', '#dontsettle', '#EVER', 'Bulldogs', 'cheer', 'pulled', 'stunts', 'Owner', 'Trying', \"they'll\", 'town', 'ELEGANT', 'STYLISH', 'NIGHTWEAR', 'SET', 'REAL', 'DIVAS', '#fashion', '#nightwear', '#sleepwear', '#Plussize', 'APO', 'disaster', 'relief', '10-12', 'Sign', 'website', 'Song', 'Ice', 'Dunc', 'Egg', 'prequels', 'Jan-Aug', 'Korean', 'Girl', 'Group', 'Album', 'Gaon', 'resting', 'foot', 'irish', 'mike', 'lets', 'switch', 'business', 'technology', 'Cyber-Ark', 'Compliance', 'Advantages', 'Privileged', 'Identity', 'Managem', ';O', 'taken', 'Disneyland', 'Marine', 'Office', 'HOAX', '2015)-', 'Expose', 'Zionist', 'Code', 'Game', 'Widener', 'MEAN', 'single', '#TLS', \"tomorrow,I'd\", 'pancakes', 'mashed', 'potatoes', 'wAIT', 'CAMERON', 'LEAVE', 'BAND', 'LIV', 'mariaelena', 'sarah', 'brittany', 'Mood', 'GOO', 'WB', 'WILDCATS', 'Mail', 'not-at-all', 'predictable', 'page', 'headline', 'battle', 'correctly', 'predicted', 'Liverpool', 'kicked', 'delighted', 'BR', 'famous', '100s', 'thousands', '#ONFRITA', 'iPad', '16GB', '7.9', 'Silver', '105.5', 'plenty', 'reasons', 'decline', 'spot', 'NW', '#BFDarlingsDay', 'looks', 'couples', 'Sick', 'fight', '#aldo', '142nd', 'Frank', 'Ocean', 'nowhere', '4m', 'customers’', 'pic.twitter.com/ge7SS1brsV', 'exempted', 'praying', 'involved', 'worst', \"Monday's.\", 'status', 'Fri', '06', '20:10', 'Almost', '27th', 'pourquoi', 'pas', \"J'en\", 'parle', 'amie', 'Favorite', 'YouTube', 'Videos', 'Drama', 'Edition', 'epic', 'meltdowns', 'crying', 'blast', 'Lowcountry', 'Highrollers', '12th', 'Rab', 'ne', 'banaya', 'sabko', 'Par', 'kaun', 'bataey', 'rab', 'ke', 'tumpe', 'Hum', 'saans', 'lete', 'hai', 'se', 'karu', 'jo', 'duayein', '#PRDPWithFamily', 'forty', 'jetzt', 'isr', 'der', 'seit', '08:45', 'weiter', 'uni', 'JUST', 'DEMI', 'LOVATO', 'Manila', '#DemiLovatoWorldTourMNL', \"I'M\", 'DEAD', 'WAHHH', 'Am', 'steal', 'stairwells', 'cache', 'leak/security', 'contains', 'information', 'identity', 'mass', 'Memphis', '#guncontrol', 'pretty', 'exist', 'young', 'Another', 'gun', 'zone', 'Inland', 'Regional', 'Center', '11:13', '#SONNYGANTENG', 'inspiring', 'disability', 'center', 'Prayers', 'Apocalypse', 'Toulouse', 'BM', 'ms', '0815', 'f', '026', '060v', 'Motive', 'mystery', 'Fla', '.,', 'spree', '#NFL', 'picks', 'Que', 'joda', 'el', '#SaroTheMusical2Day5', 'rapping', 'loading', 'heavily', 'muson', '1-6', 'xxx', 'fear', 'beard', 'shave', 'sinhedrim', 'twelve', 'tribes', 'Iar', 'tribe', 'cryin', 'Show', '#OMGwhatateen', '$27', 'pissed', 'NEWS', 'Senator', 'Inhofe', 'tragedy', 'bigger', 'emotional', 'impact', 'Merkel', 'Hollande', 'Tsipras', \"constructive':\", 'BERLIN', 'between', 'score', 'Triple', 'Hundred', '#RanjiTrophyFinal', '#KARvTN', 'cudos', 'boys', 'squader', '#lilnigga', 'Should', 'hmmmm', 'music', '2/2', 'Proud', 'Olympic', 'Champion', 'James', 'Brendan', 'Connolly', '#Southie', 'Boston', 'finest', '#Boston2024', 'Wtf', '3hr', 'shift', 'Jersey', 'Shore', '#BevHills', 'B-Day', 'Jimmie', 'Johnson', 'FLYING', 'LIZARD', 'ages', 'non-Twitter', 'yapping', 'HUrrah', 'Live', 'promised', 'nobody', 'Respond', 'Report', '–', 'yall', 'Hello', 'glorious', 'Sending', 'purest', '166.781', 'Thousands', 'users', '‘', 'breach’', '#UAE', 'report', 'ridiculous', '#chicago', '#cantenjoy', '#ridiculous', '#scary', '#sad', 'Korea', 'official', 'interested', 'Iran-style', '#Breaking', '#sun', 'programme', 'Alabama', 'happened', 'Count', '#friends', '#smiles', 'tears', '#quote', 'John', 'Lennon', '#quotes', 'Saturation', 'Point', 'imma', 'JUTHTIN', 'BEAVERRRR', 'Like', 'badly', 'combine', 'spin', 'barley', 'tad', 'wet', 'VERSEAUUUU', 'Ptn', \"j'ai\", 'jamais', 'autant', 'kiffer', 'signe', 'astro', '#ShesKindaHotVMA', '82', 'suit', 'debate', 'immigration', 'yell', 'Ashley', 'access', 'unable', 'password', 'acct', 'associated', 'email', 'HAPPY', 'BIRTHDAY', 'WISHIN', 'BEST', 'HOPE', 'WONDERFUL', 'DAY', 'march', 'mood', 'yeah', '*^*', 'apply', '#NOLA', '#NOLAjobs', 'Meat', 'Department', 'Assistant', 'Manager', 'Metairie', 'Louisiana', 'Dorignac', 'Food', 'Sep', 'updates', 'hackers', 'Anthem', 'database', 'China…', 'Fuckin', 'NIGHT', 'Tweople', 'RIDE', 'IT)', 'truly', 'wonderful', 'x1x_Ne_x1x', '09:45', '66', 'glasses&amp;i', 'itch', 'eye&amp;i', '-_-', 'Tom', 'Stoppard', 'honoured', 'Pen', 'highest', 'accolade', \"'ve\", 'Trisha', '#deau', 'BBQ', 'Uphuzani', 'gives', 'chest', 'pains', 'MsGuxx', 'guareezy', 'rn', '\"\"', 'respond', 'miami', 'heat', 'Jason', 'Industries', 'Hold', 'Meeting', 'Stockholders', '*purrs', 'inside', 'moving', 'stealthy', 'pard', 'taught', 'ears', 'claws', 'long*', 'accident', 'colors', 'weeding', 'bs', 'Gotta', 'Yli', 'Mom', 'antenna', 'connected', 'Thinking', 'Bowlounge', '-Tu', 'fais', 'quoi', 'dans', 'vie', '-Je', 'Explore', 'Dating', '12/15', 'onFB', 'jus', 'cussin', 'stoop', 'leve', 'bomb', 'ass', 'CAST', 'PARTY', 'INVITATION', '#constantcontact', 'Waking', '4am', 'trip', '#PartyHardy', '#SleepierHardier', 'MILLION', 'WEEKSARY', '#ALDUB19thWeeksary', 'Gravity', 'Rush', 'Remastered', '9th', 'Major', 'Websites', 'Hacked', 'Electronic', 'serious', 'cartoon', '#Greece', 'negotiating', 'postion', '#Tsipras', '#Grexit', 'Selena', 'NYC', '||', '#1-4', 'Rica', 'generates', 'electricity', 'renewables', 'Aims', 'carbon', 'neutral', 'Power', 'nap', 'stressful', 'xmas', 'Goodnight', 'america', 'Mechanical', 'keyboards', 'prohibitively', 'shithole', 'keyboard', 'Thinkpad', \"ain't\", 'Faust', 'DPS', 'il200', 'weapon', '#VoteTrisMTV', 'Hero', 'MTV', 'wins', '89', 'iffy', 'imdb', '#Colocation', 'European', 'centre', 'services', 'provider', 'vulnerability', 'cu', 'MKS', 'Instruments', 'Participate', 'CEO', 'Investor', 'Summit', 'Apne', 'desh', 'Chup', 'boltay', 'ho', 'Videsh', 'khulay', 'aam', 'Jooth', 'bolte', 'Sharam', 'karo', 'Feku', 'ji', 'hasn&apos;', 'realized', 'opener', 'Bradley', 'Soccer', 'artwork', 'sale', 'Beantown', '03:19', 'FYI', '04:21', '43rd', 'former', 'Manchester', 'United', 'Jaap', 'Stam', '1972)', '#mufc', 'TVD', '1.80', 'M', 'viewers', 'YAY', 'From', '20k', '30k', 'leading', 'fantastic', '#VoteKatnissMTV', 'Savour', 'moments', \"we're\", 'guaranteed', 'REMEMBER', 'WHEN', 'KYLIE', 'WERE', 'OBSESSED', 'SONG', '7TH', 'GRADE', 'Casitas', 'presents', 'Luna', 'setting', 'linger', 'moonlight', 'mii', 'twitta', 'wass', 'nerd', 'floww', 'todaii', '......', 'deck', 'church', 'jobs', 'beg', 'PLEASE', '#SBLeurope', '!.', '*puss', 'boots', 'eyes*', 'Movie', 'favor', 'BLOG', '#Aggieland', '8pm', 'Hotel', 'Elegante', 'Steve', 'Stylez', 'A.K.A.', 'Desperado', 'Bash', 'Headrush', 'da', 'building', '#fusillade', '#college', '#californie', '#nouvelles', 'consist', 'x20', 'Sheff', 'Sa', 'parang', '3310', 'palaging', 'snake', 'shop/stall', 'Finchley', 'N3', 'Patreon', '“@HuffingtonPost', '”ummm', 'clean', 'nearly', 'impossible', 'nything', 'w', '#AlDubWeBelongTogether', 'sfitzy93', '=', 'Miley', 'Cyrus', 'Cosmopolitan', 'launch', 'february', 'Syria', 'Assad', 'talks', 'Putin', 'Moscow', 'unannounced', 'Kremlim', 'th', '#movieawards', '05:20', '2015-07-13T', '10:20', '27+', '02:00', 'talkin', 'known', 'druggie/acoholic', 'bi', 'actress', 'testin', 'pos', 'caine', '#bbcaq', 'shines', '#Photoactive', 'cells', 'tide', 'rises', 'waves', 'swell', '#SustainableEnergy', 'SBM', '401SO', 'Battery=48%', 'Status', '=d', 'ischarging', '54', '#tweetbatt', 'WEILAND', 'Announces', 'Memoir', 'Release', 'Net', 'MUSIC', 'Simon', 'Schuster', '06:16', 'Dieci', 'migranti', 'sono', 'annegati', 'nel', 'Egeo', 'Cinque', 'erano', 'bambini', 'tomorow', 'youppppiiieeee', 'Al', 'Barnes', 'Tampa', 'cam', 'Fox', \",'\", 'Dorothy', 'Gilbert', 'Women', 'Voices', '#plan', 'Land', 'Minneapolis', 'Entry', 'Birds', 'SELLIN', 'LoveTrain', 'Yours', 'X', 'Vikings', 'tackle', 'among', 'nightclub', 'Linval', 'Joseph', 'hell', 'wrong', 'sur', 'entre', 'visites', 'par', 'jour', '#Fancyflow', 'salon', 'packed', 'Where', 'claims', 'ISIS', 'pic.twitter.com/jNjO4fiZu2', '02:54', 'manko', 'vol', 'unbreakableh1', '#letsFootball', '#atk', '#1stChampion', '08:49', 'Although', 'turning', 'Aries', 'Recording', 'vocals', 'song', 'Engagement', 'city', 'photo', 'shoots', 'River', 'Walk', 'Write', 'Resume', 'Fired', 'Dealing', 'write', 'resume', 'fired', 'Ehe', 'dude', 'currently', 'y', 'Scorpio', 'BBC', 'Trust', 'committee', 'sits', 'decide', 'complaint', 'presenter', 'GC', \"Could've\", 'sworn', 'close', 'anymore', 'sad', '1:48', 'Century', 'Toys', '916A', 'German', 'Tank', 'PANZER', '38T', 'Soldier', 'WWII', 'Figures', 'making', 'eat', 'aint', \"'RT\", 'Sprezzatura', '#music', '#musicians', \"G'mar\", 'chatima', 'tova', 'Photos', 'custody', 'interest', 'connection', 'replace', 'getn', 'attitude', 'tryna', 'WTF', 'LAX', 'unleashed', 'terror', 'International', 'Air', 'champagneAK', 'est', 'tous', 'seuls', 'je', 'pourrai', 'crier', 'pleurer', 'toute', 'seule', 'coin', 'qund', 'gens', 'viendront', 'leur', 'dirait', 'JE', \"L'AVAIS\", 'PAS', 'CELUI', \"T'ES\", 'DIEU', 'snap', '#blackandyellow', 'wiz', 'aha', 'MISERABLE', 'Maccabees', 'Monday-est', 'Dazed', 'Confused', 'rooftop', 'plaza', '#30thBday', 'Cert', 'Allow', '12-15yr', 'workout', 'largest', 'shows', 'country', 'cmtte', 'approval', 'budget', 'draft', 'likes', 'paul', 'simon', 'o.d.b.', 'Observer', 'Ethical', 'Awards', 'nominate', 'Guardian', 'offered', 'opportunity', 'conquer', 'tough', 'dancer', 'worship', 'growing', 'excitement', 'innovative', 'Virgo', 'Edison', '01/16/2015', '5sos', '#vote5sos', '#kca', '03:36', 'RE*TWEET', 'DRINKING', 'camping', '*sits', 'couch', '05', '02:19', '#nestprotects', 'supporting', '#appsilence', 'Software', 'possible', '08:05', '07:21', 'US/Eastern)', 'dentist', 'appointment', 'brush', 'times', 'floss', 'twice', \"u'll\", '#smile', '*draws', 'cross', 'calender*', 'Ingram', 'UNC', 'lied', 'receiving', 'gang', 'tbh', 'Philly', 'Nothing', 'tty', 'mode', '#MTVEMA', '#NominateNadineLustre', 'landed', 'Awakening', 'rocking', 'listen', 'Nuevas', 'experiencias', 'culinarias', 'rana', 'plancha', 'Roquetas', 'Spain', 'Orillia', 'Leacock', 'Museum', 'fills', 'overnight', 'gheyyyy', 'protractor', 'recreational', 'purposes', 'Boy', 'sues', 'papers', 'Thx', 'wished', 'Dad', 'Legend', '88th', 'inspiration', 'random', 'shine', 'shoe', 'woohoo', '#KamikKids', 'Brandy', 'Leaving', '#Eskorte', '#Massasje', '#Norge', 'coeur', 'amount', 'black', 'cure', 'distance', 'decisions', 'ones', 'reasonable', 'WE', 'ATLEAST', '3RD', 'PLACE', 'ENDS', 'term', 'brew', 'yummy', '#lovecoffee', 'Multiple', 'casualties', 'fatalities', '#Reach', '4v4', 'BIackMaglc', 'GuitarNews', 'RockHouse', 'Weekend', 'Read', 'Guitar', 'Lessons', 'Articles', '07', '03:26', 'Breezy', 'oi', '#MCRchat', 'entails', 'convos', 'UT', 'Chiles', 'Mike', 'Davis', 'receiver', 'ruled', 'wit', 'Text', 'Bills', 'Considered', 'Jun', '29th', \"'@stephaniebriggs\", 'Jumped', 'truck', 'flipped', 'shuffle', \"!'\", '200,000', 'Comcast', '#security+', '#feedly', 'short', 'articles', '#fiverr', '#content', '#100words', '#writing', '06:01', '15th', 'holla', 'wha', 'Wendy', 'Credit', 'Prompts', 'Company', 'Investigation', 'pic.twitter.com/GmsWEIVCkS', 'Photo', 'ki', 'definite', 'ga', 'trust', 'cheskunnadu', 'janaallo', '#JanasenaFoundationDay', 'Health', 'Exposes', '4.5', 'Million', 'Patients’', 'Medical', 'Files', 'via@securityblogger', 'preorder', 'ace', 'attorney', 'zine', 'preorders', 'ive', '30stm', 'concerts', 'during/before', 'kings', 'queens', '((', 'Damn', 'niggas', 'havin', 'babies', 'meh', 'Nope', 'nope', '#allstarlineup', '#free', '#livemusic', '#Denver', 'return', 'Entering', 'Hi', 'Pac', 'L1FN', 'Rocket', 'League', 'showed', 'soc', 'bus', 'gave', 'behavior', 'token', '#pricelesstome', \"couldn't\", 'Photoshopping', 'Kerri', 'russel', 'mutant', 'headed', 'hugger', 'Sittin', 'BABIES', 'Might', 'Rob', 'decorating', 'Derek', 'kissing', 'boo-boo', '#sab', 'cleaning', 'Election', 'Central', 'webpage', 'share', 'employees', 'election', 'likely', 'longer', 'AlDub', 'MaiDen', '#ALDUBMagicLivesOn', 'selena', '#KungSiCoachLeaTeacherKo', 'walang', 'absent', 'Kahit', 'pneumonia', 'papasok', 'kalse', 'niya', 'Punya', 'tmn', 'yg', 'jrg', 'ketawa', 'Ajak', 'dtg', 'acara', 'tgl', 'nanti', 'dijamin', 'bkl', 'ngakak', 'trs', 'liat', 'aksi', '3lelaki', 'ini', '#aslidosti', 'code', 'BC59DA8', '03:23', 'Everything', 'secret', 'interactive', 'documentary', 'hackathon', 'presentation', 'reached', 'Peak', 'Danny', 'Play', 'fantasy', '5,000', 'Several', 'seek', 'ended', 'movies', 'Yep', 'looong', '129', 'PARAWHORES', 'DECK', 'Paramore', 'Lady', 'Gaga', 'Nicki', 'Minaj', 'Ariana', 'Grande', '04', '01:16', 'signs', 'Gluten', 'Intolerant', '!...', 'MHA', 'Statement', '#b4stage4', 'Nalaman', 'niyang', 'sakanaya', 'Umiwas', 'imba', 'Kala', 'pinagsamahan', '64GB', 'Reality', 'dust', 'especially', 'dancing', 'OMNIA', 'Nightclub', 'Denver', 'Quarterfinal', 'advance', '#ncaaLAX', '#Vodafone', 'admitted', 'occurred', 'Supporters', 'die', 'al', 'een', 'thuisshirt', 'hebben', 'gekocht', 'kunnen', 'het', 'om', 'wisselen', 'voor', 'actuele', 'shirt', 'Dit', 'mogelijk', 'tot', 'Summer', 'Vine', 'singing', \"wait....I'm\", 'cut', 'fail', 'shitshow', '#Colts', 'instant', '#MNF', 'celeb', 'Wolves', 'host', 'scores', 'throughout', 'pay', 'alreadyyyy', '#SIUC', 'Whats', 'Plan', 'Whos', 'Goin', 'BLAST', '6,200', 'SDK', 'standard', 'dropdown', 'control', 'Eyewitness', 'recount', ':...', 'Salvatore', 'Mikaelson', 'brothers', 'reunited', '09:46', '“@YourAnonNews', 'Mother’s', '”', 'America', 'agenda', 'hihihihi', '#OTWOLLoveDrunk', '#futbol', 'Newcastle', 'Jets', 'Youth', 'AIS', 'U21', '04:00', 'precios', 'actualizados', '#apuestas', '#Hamburg', '05:50', 'Temperature', '5C', 'showers', 'SW', 'km/h', '85%', 'simone', '2morrow', 'foin', 'fall', 'GAC', '2night', '.!!!!!!!', '#JWST', 'mission', 'Observing', '#aas227', '6:30', 'walking', 'talking', 'como', 'saben', 'danger', 'es', 'nombre', 'disco', 'fixin', 'MAiZE', 'Officials', 'reserve', 'System', 'Patient', 'Suspect', 'Midvale', 'lockdown', 'Shooter', 'multiple', 'injuries', '#SaltLakeCounty', 'argrgrgr', 'hy', 'hard', '#ChasingLife', '#february', '#shot', '08:53', 'A1', 'AMBU', 'LFL02', 'Zuidzijde', '2977AM', 'Goudriaan', 'gou', 'bon', '57105', '#p2000', '#Rijnmond', 'basically', 'BET', 'PRE', 'ORDER', 'WATERPROOF', 'SAMPAI', 'TGL', 'PIN', 'BB', '52AC28C6', 'SMS', '089689681882', '#trycycle2015', '#Twickenham', 'Embankment', 'Twickenham', '12-4pm', 'Fun', 'mugs', 'There', '#win', '#giveaway', 'bringing', 'tthe', '10.000', 'Banks', 'Hilton', 'Properties', 'Krebs', 'whassup', 'posed', 'comin', 'istg', 'luke', 'cri', 'Michele', 'lunches', 'suck', '#Marysville', 'shootings', '#JuniorOrteqa', 'Miami', 'carmen', 'Lmfaoooo', 'texted', 'Surround', 'lift', 'higher', 'Seahawks', '#ylgw15', 'Reminder', 'Jazz', 'ensemble', 'rehearsals', 'JB2', '230-4', 'JB1', '4-530', 'Rehearsals', '9GC', '#Jury', 'selected', '#sex', 'Bradenton', '#Beach', '2:18', 'Jeff', 'Samardzija', 'honor', 'AL', 'Cy', 'Yuk', 'Darien', 'Fetty', 'Wap', 'obviously', 'bah', 'Thought', 'choir', 'teacher', 'DONUTS', 'hes', 'MUHLONGA', 'bumped', '#PinoyExplorerpic', '.twitter.com/yuLCkJWAzX', '*Weather', 'Cliona', 'Inn', '#Steelers', 'PIT', '37', '3:01', 'Aus', '#WorldNews', '#Apple', '#Google', '#iOS', '#iPhone', '#IOS9', '#Maps', '#The', '#Streaming', '#Android', '#TV', 'Avin', 'Lent', 'T4', 'camp', 'Robinhoods', 'bay', 'Jasmin', '#IT', '#WEB2', 'connect', 'Takahashi', 'Car', 'wasz', 'cusz', 'anna', 'Came', 'juss', '3(', 'INFINITY', 'Qube', 'Project', 'Cuts', 'youth', 'Razor', 'llorame', 'un', 'Current', 'Conditions', '35.1', 'Clear', '1:13', 'CST', 'Hart', 'DVD', 'tri', 'cities', 'Chilies', 'TGI', 'Fridays', 'Ruby', 'Hooters', 'Chic', 'fil-a', 'BURGER', 'A-W-E-S-O-M-E', 'btw', 'agree', 'Fall', 'gay', '#reallymeans', 'secretly', 'Pi', 'bizarre', 'dating', 'm/d/y', 'countries', 'page-notes', 'studies', 'became', 'favorite', '.......', '#MoonDay', '#TeenWolfSeason5', '#TeenWolf', 'jen', 'ginny', 'ouat', 'aches', 'hearing', 'Rest', 'innocent', '#PrayforChattanooga', 'Boosie', 'Turnt', 'Mesut', 'Ozil', 'revels', 'strongest', 'Premier', 'assist', 'gago', 'Add', 'interstitial', 'Windows', 'Store', 'apps', 'Microsoft', 'Universal', 'OK', 'coolest', 'hang', 'Rza', 'tks', 'happiest', 'funny', 'facebook', 'receives', 'ransom', 'fears', 'grow', 'felt', 'feels', 'raining', '#HouseofCards', 'trailer', 'Thanksgiving', '#NationalChamps', 'TPCS', 'Stingers', 'dressing', 'loud', 'Hearing', 'brings', '!\"', '-@KimKardashian', '#i', \"...'\", 'mess', 'eternally', 'Ch', 'mmm', 'deffo', 'provoking', 'Never', 'onwards', 'upwards', 'shall', 'Gostava', 'ter', 'quarto', 'vista', 'screenjunkies', 'insight', 'yep', \"we've\", 'mcfly', 'putting', 'trackies', 'pjs', 'office', 'headset', 'chatting', 'cunts', 'Fatalities', 'Reported', 'barricaded', 'shots', 'Sana', \"We're\", 'hoping', 'Wish', '#ALDUBMissingYou', 'Dorky', 'Stuff', 'Review', 'Rundown', 'Easy', 'Devil', 'Gun', 'Noodleshop', 'Listening', 'window', 'dramatically', 'Hari', 'hari', 'Sabtu', 'Tanggal', 'Tahun', '03:52', '51', 'Naku', 'kinakabahan', 'naamoy', 'ahhhh', '!!!!!!!!', '#ALDUBMostAwaitedDate', 'Belfast', 'Botanic', 'Gdns', 'Taste', 'etc', 'organized', 'dept', 'picnic', 'Packer', 'horan', '28th', '#SoulTech', 'Culoe', 'Bussey', 'Building', 'drawn', 'intense', 'Taurus', 'batch', 'Exodus', 'Porter', 'exclusively', 'winter', 'edition', 'does', '8am', 'mon/tues', 'Started', 'finished', '05:45', 'Katie', '6-0', 'Ascension', 'disrespects', 'Oregon', 'WAG', 'KAYONG', 'MAGULO', 'SARILI', 'SILANG', 'MUNDO', '#ALDUBComplicated', 'investigate', 'Parkville', 'pic.twitter.com/Zwk3RRhS4A', 'happen', 'youve', 'EVERYBODY', 'genuinely', 'byza-bedtime', 'fuck', 'ema', '“@BAESIC80s', 'batman', 'Niggas', 'stole', 'BatMobile', 'WAIT”', 'MY', 'CITY', 'SAVAGE', 'Ciroc', 'rotfl', 'lunch', 'xD', 'BFF', 'Jonah', 'Claire', 'cont', 'Os', 'Pussycat', 'Dolls', 'Stickwitu', 'Hurricane', 'Earl', 'stock', 'Dry', 'Brothers', 'sisters', 'pumpkins', 'scarey', 'Ha', 'port', 'java', 'caffeine', 'coworkers', 'pleased', 'emails', 'Turkey', 'warns', 'airspace', '#twimbos', 'Special', '6:47', 'MST', 'recovery', 'planned', 'Wheeler', 'Flores', 'correction', 'marathon', 'Marathon', 'respecting', \"sayin'.\", 'Otherwise', '#notbad', 'Enter', '$500', 'cash', 'Paypal', 'Ultimate', 'Cash', 'Giveaway', '#giveaways', '#Clickbank', 'Social', 'Marketing', '#affiliatemarketing', 'duet', 'mamaya', '#ALDUBmeetsTVJ', 'stressed', 'Atlanta', 'Francisco', 'Chronicle', 'drop', 'hook', 'trial', 'Nine', 'Twin', 'Peaks', '1/', '12,300', 'Playstation', 'sold', '128,000', 'families', 'Cadel', 'Dennis', 'dosnt', '#NickiMinaj', '#Deals', 'Eau', 'Parfum', 'Spray', 'Pink', '#Trend', 'robert', 'sean', 'leonard', 'jeune', 'crush', '100000000000', 'Killarney', '#lovekillarney', '#autumn', '#september', 'Tat', '#2', '#BlackHoliday', 'Marvin', 'Gaye', 'Senior', 'defense', 'Hyde', 'Corner', '1.30', 'cannot', 'supportive', 'ahaha', 'dramatic', 'question', ':p', 'contemplative', 'Mars', 'sparri', 'basic', 'madnesses', 'repeat', 'Star', 'McLaren', '650S', '#CSRRacing', '#RaceYourFriends', 'Download', 'TELL', 'THAT', \"ISN'T\", 'CONNECTED', 'DRUGS', 'apartment', 'dessert', 'wines', 'tried', 'convert', 'wine', 'Yum', 'Latin', 'AMC', 'presented', 'exclusive', 'premeiere', 'Rurouni', 'Kenshin', 'trilogy', 'Branching', 'dark', 'Russian', 'navy', 'glitter', 'GigaOM', 'DRM', 'FAIL', 'Five', 'Broken', 'Copy', 'Protection', 'Schemes', 'HDCP', 'protection', 'scheme', '#Purpose', 'review', 'wrapping', 'budget-busting', 'Denver-area', 'hospital', 'Forgets', 'enforcement', '#falseflag', 'Federal', 'officials', 'accused', 'rampage', 'covering', 'NFL', 'related', 'questions', 'experience', 'goers', 'Logging', '#wkndread', 'Sandman', 'Slim', 'Kadrey', '#wkndreads', 'lo', 'tierno', 'floricienta', 'era', 'hiper', 'sensible', 'capaz', 'greta', 'tiraba', 'pedo', 'hacia', 'lagrimas', \"you'll\", 'catch', 'thread', 'bitching', \"he'd\", 'happier', 'xo', 'Bday', 'Middle', 'East', 'voices', 'Yanni', 'Merci', 'Caroline', 'Cohen', \"d'avoir\", 'repris', 'papier', 'Marie-Claire', 'cet', 'ouvrage', 'collectif', 'Bitan', 'Patriots', 'courageous', 'Heroes', 'unarmed', 'military', 'base', 'HWT', \"Jum'at,\", '10:01', 'Miss', 'Aug', '#GME', '#Atl', '#WeddingParty', 'w/@alcarrogrier', 'Official', '#MediaSponsor', 'PG&lt;E', 'donated', '35G', 'state', 'committe', 'chairman', 'investigating', '1day', 'explosion', '#sanBrunofire', '-Who', 'defendi', 'Veeeeeery', '#staff', 'Ramadan', 'enfance', 'MULAN', 'esh', 'Suspected', 'Claims', 'Responsibility', 'Mio', 'born', 'Height', '160cm', 'Weight', '54kg', 'Hair', 'Grey-blue', 'Blood', 'Type', 'powerful', 'Slider', 'version', 'makapagpost', 'Campus', 'Map', 'UB', 'aming', 'incoming', 'freshman', 'student', 'HAHAHAHAHA', 'TAENA', 'SOBRANG', 'LAKI', 'BA', 'NG', 'apologizes', 'leak', 'protect', 'Beer', 'golf', '(@', 'GREAT', 'Bieksa', 'leaves', '#Canucks', 'all-time', 'PIM', 'Tonight', 'Homemade', 'ice', 'cream', 'flights', 'chef', 'Tim', 'boozy', 'creations', 'ptdr', 'oib', 'espagnol', 'lycee', 'pire', 'forceur', 'ljour', 'dla', 'fete', 'nationale', 'gueulait', 'partout', 'ison', 'ramener', 'drapeau', 'chiant', 'Ugh', '#mothersday', 'Pls', 'bill', 'incomplete', 'asap', 'Very', 'TWO', 'publishing', 'afraid', 'Jup', 'Force', 'PvP', 'event', 'delayed', 'LEXA', 'WILL', 'ROAD', 'TRIP', 'SA', 'Opening', 'National', 'Fertilizers', 'Limited', 'Recruitment', \"'ll\", 'gladly', 'tall', 'Silva', 'sail', '1030', 'depart', '4-2', '#Phillies', 'RBI', 'Cesar', 'Hernandez', 'Tryna', 'Alan', 'Baldwin', 'SOCHI', 'Formula', 'Carlos', 'Sainz', 'race', 'Grand', '#Random', 'D@ck', 'Line', 'suppose', '#LadiesNight', '12-26-14', '#BIackOut', '#at', 'HG', '2617', '314*223*6367', 'breath', 'five', '#Snapchat’s', 'employee', '#databreach', 'Hillary', 'server', 'hack', 'U.S', 'Govt', 'BETCHA', 'Blessed', 'Isindu', '#RIOAfrica', '#AskEv', 'PST', 'responding', '(@ev)', '#Robron', '#aaronlivesy', '#RobertSugden', 'touched', 'ansley', 'guide', 'kind', 'greatly', 'enhanced', 'confidence', 'success', 'attending', 'seminar', 'Fair', 'Dollar', 'steady', 'versus', 'yen', 'wary', 'intervention', 'Money', '...:', 'dollar', 'ipad', '32gb', 'leather', '#premierleague', '#manutd', '#yapper', 'dieu', 'missing', 'uploads', 'recently', 'changes', 'content', 'tomorrow(', 'messed', 'piercings', 'stick', 'sharp', \"it'll\", 'Honeymooners', 'Charlestown', 'Catonsville', 'MD', 'delivery', 'fee', 'pre-order', 'Call', '8-6236', '#MayPac', 'sunny', 'Southern', 'Forget', '#Motor', 'GM', '15V213000', 'Dated', 'APR', 'Trans-Air', 'Manufacturing', 'Corp', 'recalling', 'cert', 'stylist', 'flow', 'constantly', 'drowning', '_9ems', '09:26', 'Saw', 'Sean', 'Seth', 'Meyers', 'Smallpools', 'discuss', 'seamless', 'home/office', '2.40', '#unifedcomms', '“@KSTP', 'according', 'spurs', 'focus', '+or-', '6or7', 'hug', '01:05', 'post5sdf', 'En', 'didi', 'women', 'homage', 'masculinity', 'avoid', 'Men', 'leadership', '#52', 'cpl', 'Wehrmacht', '831-842', 'MLH', 'WW2', 'nazitroops', 'stukas', 'reduce', 'solutions', 'Minggu', '01:20', '#SiKake', 'selections', 'Distance', 'Toby', '#Wax', 'Club', 'Bangkok', '#Bangkok', '#Thailand', '00:00', '#gigs', 'ped', 'egg', 'cheese', 'grater', 'proper', '#LogOutWithHennessey', '18TH', 'insyd', 'TurnUp', 'hub', 'middle', 'knowing', '#teenthings', '#comedownwithlove', 'ICANN', 'Addresses', 'Password', 'Hashes', 'Stolen', 'literally', 'laughed', 'reaction', 'Sheffield', 'takeover', 'ratification', 'worried', 'Mandaric', 'latter', 'Na', 'halong', 'pasaway', 'drinks', 'slowly', 'cup', 'observing', 'actions', 'clearing', 'throat', '}', '-this-', 'Kristen', 'LIFE', 'fucker', 'Memo', 'McDonnell', 'agreement', 'signed', '4yrs', 'praised', 'IRA', 'secure', \"peace'.\", 'Kk', '22:48', 'nyt', 'god', 'bles', 'xxxxx', 'Comment', 'Depths', 'Poverty', 'You]', 'relax', 'recover', 'sickness', 'promising', 'shitloads', 'tax', 'returns', 'Olly', 'Bernards', 'runs', '#cdnpoli', '#topoli', '#cpc', 'Half', 'Way', 'Patty', 'Party', 'Specials', 'tex', '980-333-3923', 'Madonna', 'Grammys', '#GGVLaughtrip', 'WORLDWIDE', '#INTERCEPTION', '#TOUCHDOWN', '#PICKSIX', 'touchdown', 'Jalen', 'Tabor', 'shootout', 'butter', '#letitfly', 'aqwe', 'Playlist', '#Followers', 'Doing', 'chill', 'Any', 'suggestions', 'Xxx', 'Kuwait', 'coastline', '1991', 'Desert', '[#SKE48', 'Unit', 'SKE48', 'Rilis', 'Debut', 'Single', 'jaket', 'MU', 'sampai', 'IDR', '175rb', '32783FC8', '081912233358', 'wishes', \"DUKETERS'S..have\", 'Israeli', 'Hamas', 'Gaza', 'crossed', 'thankk', 'yhuu', '#monsterlove', '#Weather', 'Forecast-', 'Liked', 'Radio', 'Walmart', 'href=', 'Start', 'Strong', 'Savings', 'Pranab', 'Mukherjee', 'Gives', 'Away', 'Chakra', 'Defence', 'Personnel', 'conferred', 'Kirti', '#ncwx', 'Raleigh', 'NC', '5:49', 'Mostly', 'Cloudy', '81', 'FForecast', 'Thunderstorms', '93', 'Customer', 'service', '_dis_service', 'spilled', '#Gaming', 'ADOGUEI', 'ESSA', 'IMAGEM', 'homecoming', 'Other', 'GaGa', 'SB1070', 'reportedly', 'pursuing', 'criminal', 'investigation', 'Uber', '(#wnn2', 'reporting', 'anonymous', 'Departme…', 'Golden', 'Retriever', 'pup', 'ramp', '12:34', 'whatchu', 'Done', 'dusted', 'MARCH', '#timetogetserious', 'Psychiatry', 'Trinity', 'FL', 'States', 'TrinityLooking', 'Congressman', 'Grimm', 'pleaded', 'evasion', 'resign', 'definition', '#NDvsUK', 'amusing', 'stopped', 'tapping', 'Miracle', '#marfalabatik', 'confront', 'uncomfortable', '*Tonight*', '#LaylaFridays', 'ZOOOVIE', 'kempner', 'needs', 'Freshman-seniorz', '06:55', 'emotions', 'Rodriguez', 'ran', '4:16', 'HT', 'Yesterday', 'Flikken', 'geweldig', 'Ik', 'kan', 'niet', 'wachten', 'nieuwe', 'serie', '(geloof', 'ik', 'jaar', 'alles', 'gezien', 'uitzendinggemist', 'Cabildo', 'burned', '1988', 'Herbivore', 'dinner', 'trys', '#KowboyKandy', 'loved', 'continue', 'editing', 'quoting', '02:21', 'girlfriend', 'iTunes', 'spaces', 'Artist', 'Masterclass', 'GUYS', 'LOOK', 'TRIED', 'DRESS@FOR', 'Maxxx', 'hottie', 'SlutWife', 'WOOOO', 'watering', 'fell', 'chair', 'Health-', 'Loss', 'Tip', '#3', 'Moderate', 'Drinking', 'breaks', 'cracks', 'faster', '3,000', 'miles', 'photograph', 'camera', 'Soulja', 'TheDeAndreWay', 'DeAndre', 'correct', 'terminals', 'ladies', 'wicked', 'Punk', 'Thug', 'knocks', '84-year-old', 'steals', 'purse', 'Vintage', 'Banner', 'space', 'helmet', 'goggles', '#auction', 'Thu', 'Details', '#VintageToys', 'Sex', 'Pt', '#ZULA', 'Hosted', '30+', 'PLz', 'Meet', 'hunk', 'steps', '9AM', 'sense', 'trauma', 'drain', 'withdraw', '-Been', 'Sore', 'Past', 'Workin', 'toronto', 'Apartments', '#newsdict', '#apartment', '#vacation', 'Dick', 'Blades', 'trade', 'Travis', 'Toomey', 'Seattle', 'Rd', 'Pick', 'Bantam', 'Draft', '20-year', 'olds', '#yxe', '#Blades', '#WHL', '#UPDATE', '21-year-old', 'Livermore', '#Monday', '#committed', '#Clubfitness', 'Burrows', 'prison', 'discover', 'tableviews', 'scroll', 'tap', 'clock', '01:06', 'member', 'Happyzone', '))))', 'HS', 'victims', 'campus', 'Shooter(s', '#GunFAIL', 'furious', 'sigh', 'Real', 'affection', 'expressed', 'silence', 'Flowers', 'spoken', 'express', 'smile', 'reply', 'threatening', 'Click', 'Enlarge)', \"Should've\", 'checked', 'delete', 'holiday', '#FailBuhari', 'message', 'Nigeria', 'vehicles', 'below', '#NBC7', '#PrayForNewOrleans', 'pic.twitter.com/O1af3ukdAK', 'Kmart', 'Australia', 'including', 'addresses', 'p', 'ringtone', 'STILL', 'GONNA', 'Yo', '$1000', 'win2bet', 'Fantastic', 'Place', 'mum', 'follower', 'Chuck', 'science-observe', 'describe', 'propose', 'conclude', 'Mini', 'Retina', 'Wifi', 'Space', 'Gray/Whitehttp', 'rover.ebay.com/rover/1/711-53200-19255-0/1?ff3', 'VMAs', 'charge', 'def', 'THOSE', 'Father', 'droppin', '0-2', 'Hunter', 'homered', 'showdown', 'battling', 'count', 'HR', 'Junk', 'directly', 'prompting', 'collapse', 'mutually', 'beneficial', 'symbiosis', '-Velasquez-Manoff', '#diet', 'Shirt', 'thief', 'abundantly', '10:10', 'adn', 'Ending', 'crappy', 'Testing', 'lost', 'MAJOR', 'DATA', 'OF', 'SNAPCHAT', 'DATABASE', 'COMPROMISED', 'EXPOSED', 'ZDNet', 'Note', 'foundational', '!....', 'massive', 'synchronicities', 'MHC', 'TEAM', 'EP', 'Blazes', 'CLUB', 'BLU', '90', 'oldskool', 'wiith', 'dj', 'finese', 'horrible', 'Dortmund', 'Wolfsburg', 'Wednesdays', '#psillprobsaythiseveryweek', 'ANG', 'SAYA', 'KO', 'NAGPROPOSE', 'KIN', '#ALDUB2ndMonthsary', 'rock', 'average', 'teenage', 'nd', 'Janoskians', 'PangakoSayo', 'JKLabajo', 'Hook', 'Emma', 'peek', 'all-new', '#OnceUponATime', 'Mass', 'Uncle', 'Sam', 'Feeling', 'SF', 'LA', 'offices', 'Glad', 'AMerican', '#Confederateflags', 'shelves', 'Saudi', 'flags', '#Amazon', 'PinkTaem', 'solo', 'Omg', '#Webcase', '#Ebola', 'humanitarian', 'crisis', 'dev', 'wake-up', 'GMT+01', 'BST', '))', 'admit', 'sounds', 'spanish', 'Cover', '-via', 'tumblr', 'YG', \"WHO'S\", 'NEXT', 'SANTA', 'MONICA', 'SHOOTING/INFO', 'CALI', 'BOYS', 'BLOWS', 'WOUNDED', 'BAG', 'GUNS', 'FOUND', 'OBAMAA', 'NOT', 'FAR', 'Pre', 'Jaket', 'BARCA', 'sd', '185K', 'belum', 'ongkir', 'SMS/WA', '081235994171', 'pin', '512A3491', 'Sayang', 'Hindi', 'makikita', 'bale', 'fb', 'aabangan', '#ALDUBForTALKNTEXT', '10/10', 'dive', 'Juc', 'Kitchen', 'Table', 'Writers', 'Revealed', 'Bailey', 'Prize', 'Fiction', 'Longli', 'Jayde', 'Pierce', 'Equinox', 'gym', '23-26', 'PAPERS', 'Coleman', 'discusses', 'Euro', 'qualification', 'plus', 'Gemmill', 'Lineker', 'media', 'round-up', '#EFC', 'DJ', 'STRATEGY', 'VISIONS', 'LOUNGE', 'HICKORY', 'WEDNESDAY', 'NIGHTS', 'WOW', 'DONT', 'MISS', 'gift', 'giving', 'australia', 'alive', 'wild', 'selfie', '#SELFISH', '::', 'whooo', 'yooo', 'takin', '#LongLiveZaidHamid', 'alderwood', 'yay', 'cody', 'ipod', 'mail', \"'ive\", 'dynamite', '#loveit', \"though'\", '3:15', 'optimistic', 'cancels', 'Niall', 'Harry', 'Liam', '#1DonGMA', 'Sneaky', 'El', 'cap', 'llista', 'PP', 'Lleida', 'denunciat', 'assetjament', 'sexual', 'Boto', 'boto', 'Buffalo', 'Municipal', 'Airport', 'MN', 'Winds', 'Calm', 'humidity', '68%', 'Updated', \"life-don't\", 'waste', 'Las', 'cops', 'Occupy', 'protesters', 'response', 'stirs', 'criticism', 'Globe', 'j', 'ai', 'une', 'meuf', 'elle', 'ressemble', 'ex', 'sniffff', 'jai', 'envie', 'mere', 'manque', 'quand', 'meme', 'Totally', 'Nations', 'warred', 'lesser', 'matters', '#WeTriumphStill', 'ReadySetGo', '5min', '#Nexus6', '#BirthdayGift', 'THANK', 'BASEDGOD', 'SUPERBOWL', 'SUNDAY@nfl', 'Lil', 'Such', 'Oo', 'ocho', 'talent', 'agreed', 'statement', 'KC', 'Chiefs', 'Marcus', 'lucky', 'horchata', 'psychotic', 'balaclava', '#WeWantQuantico', 'JPN', 'H.R.', '5739', 'Thomas', 'eighty', 'precious', 'collapses', 'pair', 'Crocs', 'contributed', 'downfall', 'qualifying', 'Andy', 'Sierra', 'lex', 'Direct', 'Havana', 'Each', 'include', '#KraftFightsHunger', 'donate', 'meal', 'COMPETITION', 'Airmax', 'Yeezys', 'Winner', 'Anounced', 'forgot', 'jacket', 'remembered', 'lunchbox', 'EXA-OIL', 'COM', 'Deep', 'Intervention', 'opens', 'Singapore', '17,201', '150325', 'Asian', 'Film', 'HOYA', 'Cr', 'VAVAVOOM0328', '03:51', '//', '#essay', 'mdrrrr', \"j'adore\", \"l'humour\", 'Lisa', 'bb', 'Having', 'repaired', 'religious', 'division', 'tolerance', 'Christian', 'EGG', 'TODAY', 'BETTER', 'THAN', 'CHICKEN', 'balance', \"'FREEGAME\", 'FREEGAME', '59925', '1hr', 'timeplay', 'gamecard', 'scare', 'celery', 'apples', 'Farm', 'mighty', 'Waldorf', 'Salad', \"'MUSIC\", 'CHOICE', 'HIT', 'TONITE', 'GOTTA', 'BODY', 'MUST', 'LISTEN', 'FREEKEY', 'ZEKEY', 'FT', 'JIM', 'JONES', \")'\", 'Classing', 'miserable', \"''\", '#nowplaying', '#TheForceAwakens', 'SUPER', \"CAN'T\", 'WAIT', 'SEE', 'CREATIVE', 'ARE', '#BBHMM', \"N'T\", 'EARPHONES', 'GUESS', 'WO', 'TALKING', 'DRIVING', 'Excuses', 'SMH', 'awake', 'Blerghhhhh', 'Unrealistic', 'dreams', 'crash', 'Kiran', 'Bedi', 'misuse', 'guards', 'Shawn', 'Mendez', 'opening', 'taylor', 'swift', 'star', 'baby', 'JeA', 'Unnie', 'luv', 'Niiiiice', 'Watched', 'Persuaders', 'leggings', \"why'd\", 'blink-18Tuesday', '?!', 'snoop', 'Cath', 'shout', 'Serie', 'continues', 'strike', 'Calcio', 'Tune', 'chat', 'Glenn', 'Guilbeau', 'a.m.', 'Massive', 'B-stock', 'While', 'supplies', 'heading', 'Masquerade', 'chosen', 'caption', 'contest-', 'Nadal', 'Novak', 'tub', \"we'd\", 'Chelsea', 'Aguero', 'artists', 'ASU', 'Step', 'Gallery', 'socially', 'relevant', 'comic', 'cover', 'designs', 'absolutely', 'besides', 'Guns', 'Roses', 'FUCK', 'ALREADY', 'JULY', 'torment', 'Mwahaha', 'view', 'greet', 'penulis', 'april', 'Champ', 'IL', 'Sun-Times', 'Colbert', '#039', 'Hunger', 'rips', 'Chafee', 'Webb', 'Sexy', 'polk', 'insists', 'cigarettes', 'Holyroodhouse', 'staff', 'DoE', 'Xenia', 'Regarding', 'reference', 'unlocking', 'animal', 'Disney', 'someones', 'brother', 'montage', 'helps', 'Think', 'resubmit', 'Quite', 'rather', 'scared', 'Helo', 'Episode', '#281', 'XPS', 'M1330', 'PC', 'Linux', 'Coding', '#laptop', '140.00', 'Date', 'Jan-25-', 'SAT', 'jamrock', 'horanbum', 'Pittsburgh', 'Manny', '#YanAngPinoy', '62-45', 'Tide', '2008', '#RollTide', 'wouldnt', 'Dont', 'theyll', 'rounder', 'Pantagraph', '-5', 'degrees', 'wind', 'valu', 'probaly', 'completely', 'Icecream', '#baskinrobbins', 'deserving', 'Fills', 'Taecyeon', 'Sunny', 'invited', 'Metro', 'Mannie', 'Fresh', 'Jermaine', 'Dupri', 'fa', 'Redmon', 'Village', 'Towing', 'Schaumburg', '#Tow', '#Trucking', 'MUAH', 'gr8', 'XO', 'sending', 'goodnight', '#VIPs', '#Hottest', '#FanArmyFaceOff', 'lost/forgot', '#PureTragedy', 'yellow/dark', 'blue', 'identify', '#NAU', 'Jones', 'sort', 'groups', 'Senin', '04:26', 'Cripes', '2.3', 'M)', 'T-Mobile', '15M', 'Scottrade', '4.6', '—…', 'digitalproducerpic.twitter.com/wvCpCXkcuy', '-Stays', 'whimpering', '#VampDannyOffline', 'auditions', 'it&amp;#39', 'actor', 'shrink', 'temporarily', 'vote', 'extending', 'Bush', 'slips', 'Nov-Dec', 'extras', '$150/day', 'donuts', 'donut', 'Jonghyun', 'pimple', 'patches', 'hint', 'sexy', 'talented', 'dinnn', 'punta', 'naaa', 'Toledo', '10/10/2015', 'rush', 'ahead', 'DIVINE', 'APPOINTMENT', 'Seeyas', 'slightly', 'warmer', 'Forgot', 'advice', '08:31', 'Alberto', 'Moreno', 'fitness', 'worry', 'added', 'playlist', 'Webcam', '6:16', 'Wanna', 'twin', 'Luv', 'forced', 'ration', 'consumption', 'soars', 'babe', '1996', 'Tupac', '1/2', 'ckecking', 'twit', 'acc', 'Ronda', 'Rousey', 'Host', 'NBC', 'Bay', 'Area', 'Honestly', 'bugatti', 'V', 'fix', 'jim', 'august', '?!?!', 'shops', 'Episodes', 'Little', 'Liars', 'UK', 'Nina', 'surprises', 'KRISTEN', 'BELL', 'voice', '#GG', 'l', '#BigPapi', 'clutch', 'Yankees', 'inning', 'Makes', 'damn', '#shhhhhhh', 'IDs', 'Forsyth', 'Victims', 'Rebecca', 'Manning', '07:36', 'Prison', 'Dog', 'Dragging', 'Death', 'Ok', 'Cachupas', 'largest-ever', '*NOT', '#Anonymous', 'khir', 'mubarak', 'jaga', 'bolta', 'hun', 'Whoa', 'definitely', 'collector', 'item', 'script', 'kiddie', 'Mock', 'Assessment', 'Centre', '#gradjob', '12:04', 'foolish', '#20ThingsIWantFor2015', '#HappyNewYear', '#HAPPYSa2015', 'Brinkhaven', 'Apt', 'Keona', 'Deona', 'Luke', 'Kierra', 'Smith', 'stable', 'condition', 'Arms', 'Deal', 'Commission', 'Inquiry', 'gossip', 'reporters', '#nshit', 'loose', 'lips', 'Zendesk’s', 'result', 'exposure', 'ignoring', \"doll..i'm\", 'follows', '#ALDUBTheRing', 'Hatake', 'firewood', '#Helix', '#syfy', 'Photographs', 'Leave', 'Speechless', 'Especially', 'Words', 'earning', 'co-op', 'straight', 'imas', 'cg', 'weiss', 'filling', 'hole', 'swear', 'surprise', 'Frost', 'WARNINGS', 'Ctl', 'Alta', 'includes', '#blackholidays', 'Berlated', 'Enjoy', '#Experian', 'Res', 'Named', 'Sponsor', 'Knowledge', 'Congress', 'Mitigating', 'Risk', 'Care', 'Breaches', 'TOLD', '#Crazy', '2mmrow', 'performing', 'Pandora', 'licensing', 'Naxos', '#GoTSeason5', 'Send', 'raven', 'spread', 'jason', 'Newcastle-Upon-Tyne', 'Dan', 'course', \"12'000\", 'Weeks', 'spon', '#ForDrinkersOnly', 'Bring', '#ClubLacura', 'EVERYONE', 'BY', 'TEXTING', 'LACURA', '33733', 'Inga', 'Anush', 'Arshakyans', 'Aprelu', '#1915', 'tapos', 'pain', '#feedthefire', '#Painkiller', '#MondayMotivation', '#MotivationMonday', '#writerslife', 'elderly', 'relative', 'adult', \"travels!I'll\", 'CityTV', 'software', 'usb', 'drivers', 'Bloomberg', 'IBNLiveDoes', 'daddy', 'Honored', 'Double', 'Diaomond', 'Bloom', 'daughters', 'sooo', 'Knighttime', 'Billiards', '4D', 'Lets', 'Bonita', 'broad', 'marketing', 'inefficient', '#itunes', '#marketing', '#online', '#tips', '#success', 'Fsbo', 'Auctions', 'Qualifying', 'Loan', '32.00', 'Oct-12-2010', '20:30', 'PDT', 'Buy', 'Zac', 'Band', '40', '2010Buy', '18.98', 'operation', 'nag', 'sakit', 'pero', 'nangako', 'kasa', 'akin', 'sabi', 'papalitan', 'bakiw', 'sen_kamo_jp', '#July2015', 'goddddd', 'H-E-B', 'Plus', 'Everyone', '65', 'mhm', 'sho', 'Clark', 'Duke', 'machine', 'Funny', 'enjoyable', 'Hmm', '7.5', '/10', 'Refresh', 'Due', 'Display', 'manufacturers', 'tip', 'IPad', '^^', 'skip', 'daytime', 'drags', 'didnt', 'yeah3x', 'tht', 'ntake', 'id', 'exhaustingly', '(#Yeremiito21', \"I'ma\", 'scream', 'TeamiPhone', 'your_commander', '_Shomari', 'Strategies', 'selling', 'Denise', 'Calaman', 'housing', 'repo', 'Mon-Wed', 'Church', 'buti', 'nalang', 'pam', 'guiseeeee', 'hahah', 'Speaking', 'planning', 'savannah', 'budgeting', 'whatnot', 'posts', 'Yayyyy', 'features', 'Iron', 'Anonymous', 'comn', '1000', 'Cubs', 'terrifying', 'anothe', 'Aah', 'Toronto', \"Hahaha'\", 'Astaghfirullah', 'forgive', 'sins', 'Lailahaillallah', 'Crooked', 'Eurozone', 'Consumer', 'Confidence', 'Strongest', '2007', 'Consumers', 'eurozone', 'upbeat', 'AURIER', 'PASSE', 'DE', \"'!!!\", 'boug', '#MHSCPSG', 'Jordan', 'Bordeaux', '7s', 'retro', 'whooped', 'st', 'francis', 'preps', 'asssss', 'scored', 'homeworkkk', 'SICK', 'LIFEEEE', 'FUCKKKK', 'DAAAAAAAAAAAAAAT', 'Les', 'internautes', 'moquent', 'couverture', 'du', 'montrant', 'Elizabeth', 'II', 'faire', 'salut', 'nazi', 'given', '-The', 'Use', 'Enjoying', 'brought', '#ilovemyjob', '#coffee', '#thursday', 'concerned', 'executing', 'unite', 'sue', 'monopolization', 'contract', 'unreliable', 'paid', \"ceo's?\", 'Sunrise', '07:26', '69F', 'Low', '49F', 'TOMORROWS', 'WORRY', 'ABOUT', 'THING', 'CAUSE', 'Soccer-Chilean', 'championship', 'standings', 'Infostrada', 'Sports', 'Results', 'hyped', '#FlavaFridays', 'panic', 'today-', 'bigass', 'spider', 'appeared', 'Sounds', '#TWDMarathon', 'Ohhh', 'cons', 'lived', 'FH', '#KnowFH', 'Tweet-a-Thon', '#CholesteroleducationMonth', 'allday', 'skating', 'vanilla', 'iced', 'latte', 'Lucid', 'Dementia', 'Playing', 'Austin', 'Tonite', 'Scoot', '1am', 'Serena', 'Vs', 'Simona', 'Halep', 'WTA', 'Finals', 'Round', 'Robin', 'Set', 'Te', 'Pxleyes', 'Photography', 'Pictures', '#photography', '#business', 'Porsche', '#LEMANS', 'sneaking', 'monastery', 'sp', 'delicioso', 'hows', 'graffitti', 'Gathering', '#Paris', '#Austria', '#germany', '#Australia', '#Iran_Maryam', \"'Listen\", 'freestyle', 'Freestyle', '\"..', 'feedback', 'bathing', 'suits', 'incase', 'lauren', 'oasis', 'listened', '955', 'banks', 'approve', 'fewest', 'mortgages', 'BBA', 'LONDON', 'British', 'approved', 'mortga', 'Daftar', 'gibs', 'string', 'QB', 'Cardel', '3-0', 'pulls', 'Pentagon', 'significant', '*knows', 'happen*', 'dang', 'shoutouts', 'NewsBBC', 'ranged', 'Spirit', 'Homecoming', 'Picture', 'Tueday', '=\\\\', 'Zikr', 'Allahumma', 'Solli', 'Alaa', 'Wa', 'Aalihii', 'whatsoever', 'COME', 'REDS', '#StLouis', 'Railroad', 'Stage', 'Pageant', 'Ol', 'Dave', 'earlier', '#lifeispointless', 'pill', 'hrs', ':-/', 'road', 'trips', 'dalawa', 'Magcoconcert', 'HAHAHAHAAAA', 'Road', 'snow', 'Milford', 'Lindis', 'Pass', 'Arthurs', 'warnings', 'Lewis', 'Rimutakas', 'milk', 'Graphic', 'Midwest', 'Dairy', 'Aye', 'ju', 'consumed', '#SundayFunday', 'Same', 'Cullen', 'railroad', '#HellonWheels', '9|8c', 'pre', 'GDS', 'MANCINI', 'TERGODA', 'DUETKAN', 'LJAJIC', 'DAN', 'JOVETIC', 'UNTUK', 'LAGA', 'DERBY', '16.56', 'WIB', 'Roberto', 'Mancini', 'wth', 'bullshit', 'amboushy', 'kidding', 'ily', '!?', 'chase', 'SUV', 'Devastating', '#NationalFriedChickenDay', 'Celebrate', '#HotChicken', 'coach', 'regional', '#RaiderNation', '#BeatPikeview', 'ee', 'lambrini', 'posh', 'mam', 'RANK', 'sink', 'SOMEONE', 'KRISPY', 'KREME', '#BostonNews', 'MBTA', 'systems', '03:40', 'midfielder', 'Josh', 'McEachran', 'medical', 'Brentford', 'within', 'Nice', 'dragging', 'attention', \"Wouldn't\", 'saved', 'although', 'twits', \"weren't\", 'Paint', 'Session', 'bag', 'received', 'died', 'general', 'committed', 'suicide', 'Something', 'strange', 'Q', 'Metallica', '.:', 'GOD', 'dozen', '12:10', 'posttt4', '[[', 'Whatever', 'grateful', 'whatever', 'outcome', 'HER', '!........', '#FindTheNearestExit', 'Avengers', '#237', '1983', 'Marvel', 'BIG', 'diet', 'exercise', 'bike', 'dress', 'sizes', 'smaller', 'Maraming', 'estudyanteng', 'nagpupuyat', 'makanood', 'GGV', 'kahit', 'bukas', '#FDI', '#insurance', 'sector', '152%', 'USD', '341.43', 'mn', 'Mar-Sept', '#MakeInIndia', 'Military', 'Base', 'Many', 'Eight', 'BooksOfTheGardener', 'Sole', '#tnnews', '#crime', 'shake', 'billable', 'rate', 'Client', 'WN', 'Stories', 'walked', 'Kelsey', 'sister', 'shoulda', 'ATL', 'stood', 'properly', 'kno', 'vacancy', 'Alfredo', 'Prieto', 'Fasting', \"Haven't\", '#gradschoolproblems', 'civilized', 'Clinic', 'Runner', 'Depot', 'shelf', 'heal', 'nagging', '\"...', 'Ninosebleed', 'bigla', 'ht', 'hihi', '#ALDUBSumptuousLunch', 'thiiis', 'YO', 'LIT', '#screenshotsaturday', '#mayabreaker', '#indiedev', 'tumblring', 'expecting', '8hr', 'yuck', 'dylanr013', 'ms0ra', 'sumar', 'lasa2', 'vinan', 'matsiar', 'andri', '0trn', 'amna', 'tany', '/mezk', 'z', 'ts', 'isatimak', 'vofetr', 'mapanembn', 'ana', 'itan', 'mask', 'YEAH', 'fact', 'natbynature', '#LittleAussieBakery', '#hiring', 'Tue-Fri', 'counter', 'evenings', 'john@thelittleaussiebakery', 'believer', 'laughing', 'translations', '14:30', 'COCK', 'crows', '...\".', 'proud', '15:44', 'Ottawa', '#MyReconciliationIncludes', '#TRC2015', 'PJ', 'Bottoms', 'Amber', 'Le', 'Bon', 'Giles', 'Deacon', 'LFW', '07:46', 'Ver', 'kvx7', 'reflect', 'workings', 'acts', 'Jewish', 'cusp', 'jury', 'duty', 'willing', 'guides', 'request', 'sorgelaw@yahoo', '2p', '#LGProBake', 'Oven', '192.168', '1.98', '01:03', '45', 'Motion', 'Notification', 'Associated', 'dispute', 'permitted', 'officers', '#Wilmington', 'Egypt', 'exchange', 'loses', '227.57', 'm', 'Egyptian', 'EGX', 'trading', \"&quot;'\", \"Isn't\", '...&quot;', 'hahahaha', 'saynow', 'understamd', 'judgment', 'surgery', 'Gavin', '04:18', 'wack', 'Utah', 'exposes', 'donors', 'personal', '#infosechttp', '/ht', 'ly/RAMzR', '#SMM', 'FTM', 'Bike', 'W/Joe', 'Allstars', 'Magic', 'playtest', 'Ca', '05:48', 'asshole', '06th', 'Srgay', 'smoking', 'Baosteel', 'exec', 'sacked', 'frugality', '#Constantine', '#punkrockkaraoke', 'Alert', 'Comes', 'Loveless', 'Cafe', 'pre-budget', 'poverty', 'Starts', 'noon', 'outside', 'Legislature', '#teamlesbian', '#teamstud', 'ayyy', 'fam', '#Virgos', 'toward', 'quickly', 'despise', 'Cecilia', 'Mate', 'Zyon', '#EroticSciFi', '#BDSM', '“@ABC7', '#BREAKINGNEWS', 'broke', 'Ward', 'AP”', 'Buut', 'Ill', '12:13', 'fights', 'shoes', \"don't.\", 'Elliot', 'Miner', 'yous', 'greaaaat', 'SUB-CULTURE', 'bass', 'inna', 'Chapel', '1/10', 'evry', 'compete', 'hawt', 'intrest', 'my$', 'Apparently', 'Sims', 'fckn', 'emily', 'rodriguez', 'cookies', 'brat', 'Cranborne', 'payments', 'Circle', 'Service', 'Closed', '06:25', 'resumes', 'Boxing', 'Day)', '#TFL', '#LONDON', 'believers', 'Ahaha', \"?'\", 'PRICELESS', 'mort', 'Dow', 'industrial', 'indexes', 'fared', 'Inbetweeners', 'entirely', 'Greenville', 'smiles', 'birds', 'Visual', 'Dose', '06:41', '#173', 'PAANO', 'PAG', 'NALAMAN', 'MONG', 'BABAE', 'DADDY', 'MO', 'Wala', 'akomg', 'SPC', '0600', 'UTC', 'Convective', 'Outlook', 'ODELL', 'BECKHAM', 'JR', 'HOUSE', '80', 'yards', 'TD', 'Sadly', 'Or', 'hero', 'booked', 'suffer', '.&quot;', 'Peaceful', 'Warrior', 'coulda', 'Cest', 'mariage', 'Haitien', 'mette', 'costard', 'tape', 'meilleur', 'kompa', 'c4', 'removes', 'malicious', 'Chinese', 'developed', 'testify', 'Barack', 'Briefed', 'briefed', 'Joyride', 'FOUNDATIONS', 'Birthdays', 'calculation', '98', '#ShowtimeTuLoyAngPasko', '|PTA', 'heck', 'slower', '08:32', 'Saido', 'Berahino', 'previous', 'appearances', 'Everton', 'asleep', 'wakes', '#resume', '#jobsearch', '#work', '#CoachSarahAsTrixieABANGAN', 'Sarah', 'Piolo', 'Pencil', 'Grip', 'makikilala', 'Trixie', 'edits', 'Barmeen', 'Jonathan', 'impressed', 'Incidentally', '22.24', 'Halford', 'Judas', 'Priest', 'Press', 'Conference', 'pants', '#MStar', 'Daphne', '#Shootingstar', 'Lyrics', 'Vikki', 'Subbo', 'Sathya', 'Produced', 'VJ', 'Emergency', 'Coming', 'Soon', 'Shhhhhhh', '*Do', 'disturb*', 'Mosques', 'Trip', 'Through', 'Islamic', 'bumper', 'stickers', 'Fayette', 'Ever', 'death', 'algood', 'Goodluck', 'unless', 'Jeez', 'Eroplanong', 'Papel', 'Lyric', '#towerofdoom', '[#LosAngelesWeather]', '#Los', 'Luca', 'Halt', 'Dich', 'Mir', 'centers', 'Zips', 'damnit', 'Wildcats', 'doubleheader', 'Murray', 'State', 'Pep', 'Rally', 'Hackers', 'nab', '1.2', 'colossal', 'pukul', '15:51', 'firing', 'T', 'Faris', \"would've\", 'Indy', 'Kailangan', 'tawa', 'Biro', 'puts', 'PhD', 'trouble', '7minutes', 'midnight', ',,', 'Tell', '\\\\\\\\', 'Alsina', 'dries', 'seulgi', 'emo-ness', 'Martin', '11th-Inning', 'Helps', 'Rangers', 'Beat', 'Angels', 'ino', 'b4', 'justthen', 'kenny', 'neck', 'acupuncture', 'massage', 'yaya', 'Sosyal', '#ALDUBSwitch', 'Doubt', 'climate', 'product', 'industry', 'analysis', '??\"', 'REALLY', 'GAN', 'electric', 'nation', 'Independence', 'American', 'orlando', 'Zachary', 'Scott', 'Stone', 'Zach', 'performs', 'Bedford', 'Farmers', 'Puncak', 'Perayaan', 'HUT', 'ke-17', 'PAN', 'Bandung', 'Partai', 'Amanat', 'Nasional', 'menggelar', 'puncak', 'MSN', 'brum', 'BoiRevolution', 'Dark', 'Mondays', '11pm/EST', 'www.blogtalkradio.com/boi-revolution', 'RETWEET', 'essay', 'debt', 'owe', 'Louisa', 'Alcott', 'Jo', '#womeninfiction', 'Jakes', 'S2', 'Heard', 'lowkey', '411', 'TAG', 'Heuer', 'Roll', 'Luxury', 'Smartwatch', 'luxury', 'timepiece', '$1', '800', '1,400', 'Montgomery', '09/16/2015', 'equinox', 'totoong', 'siya', 'hindi', 'magtatanong', 'kung', 'liligawan', 'rin', 'discussions', 'Hash', 'tags', 'Visit', 'NO', 'golden', 'vapor', 'AVOUE', 'CETAIT', 'QUAND', 'JAI', 'FAIS', 'HHH', 'AVANT', 'TE', 'DIRE', 'NAN', 'JDEC', 'JGUEULE', 'Above&amp;Beyond', 'Trance', '338', 'Wippenberg', 'Guestmix', '#Trance', '#Trancefamily', '#TATW', 'BAR', '1309', 'sansom', 'secrets', 'Shhhhh', 'Bournemouth', 'celebrating', '19-0', 'defeat', '#cafc', 'florence', 'learn', 'perish', 'fools', 'Speech', 'Missouri', '1964', '#GetParadox', '#ATLPromoTour', '13-15', 'Brought', 'IG', 'amp', 'bouta', 'menu', '#playwithyourfood', 'ricotta', 'blackberries', 'worse', '5HCAs', 'Fossil', 'flippers', 'Looks', 'million-year-old', 'whale', 'fossil', 'E', 'W', 'stare', 'figure', 'Arre', 'experiencing', 'loos', 'spoiled', 'SulahShauchalay', 'baraabar', 'pense', 'vais', 'marier', 'Aggressive', 'Kids', 'ADHD', 'Antipsychotic', 'Meds', 'bonkers', 'mmass', 'detroit', 'michigan', 'als', 'barber', 'shop', 'Late', 'angel', 'sheep', '4-7', '60', 'pounds', 'Entries', '#carodeo', 'LADY', 'TECNIQ', 'Migos', 'Title', 'Wait', 'Yung', 'Rich', 'Nation', '4Dbling', 'Tex', 'commentators', 'condemn', 'uncalled', '\"?', 'pic.twitter.com/sCOUGq5IWX', 'creeping', 'goals', '#GetBusy', 'OSU', 'buckeye', 'celebration', '#amirite', 'Ft', 'George', 'borrowed', 'India', 'South', 'Africa', 'ODI', 'Cricket', 'Score', 'Hashim', 'Amla', 'Departs', '#FuckeryFriday', 'HI', 'Sign-up', '3052507', '05:30', 'dog', 'Board', '#Squad', 'Autumn', 'Networking', 'Mixer', 'Carpet', 'S.S', 'Arm', 'Arabia', 'British…', 'pic.twitter.com/5zpRGvwNKy', 'location', 'permanent', 'address', 'SEDUCTION', 'SATURDAYS', 'CALABASH', 'SEP', '25TH', '#DABOSS', '#CALABASH', '#WJE', 'DITR', 'REI', 'Sales', 'Decline', 'Year-Over-Year', 'Kraus', '#realestate', '#invest', 'Thomson', 'RESEARCHERID', 'Indexing', 'paper', 'Vol', 'Spo', 'Birdman', 'sore', 'gametime', 'dec', 'Aussies', 'pop-up', 'Bond', 'Sydney', 'LM', 'HQ', 'Virginia', 'announces', '#AUOSINT', '#AuburnOSINT', 'Kyle', 'Busch', 'dominates', 'XFINITY', 'Phoenix', 'SJP', 'Transformation', 'risk-', 'Redacted', 'informative', 'gadgets', '#digg', '#Popular', 'Twins', 'Theres', 'testicles', 'Cooper', 'Lmfao', 'midweek', 'kaibigan', 'suportado', 'nagdadrama', 'responsible', 'Brennan', 'targeting', 'mucho', 'zzz', 'WANT', 'WORK', 'dads', 'Taylor', 'upset', 'Skate', 'jump', 'conclusions', 'Sagittarius', 'OCTOBER', '2ND', 'STAR', 'WAS', 'BORN', 'simple', 'relegation', 'CV', 'facing', 'except', '#geelong', '#MelbourneTomorrow', 'vocabulary', 'tests', 'answers', 'These', 'novels', 'compared', 'LaserDiscs', 'goodwill', 'Completely', 'useless', 'Uni', 'Classes', 'january', ',,,', 'woke', 'TN', 'cane', 'hidden', 'booze', 'flasks', 'shaft', 'Victory', 'Cigars', '#Oshawa', 'saw', 'extinction', 'plot', '#LosMiniDelSonido', 'Qu', 'I`m', 'Belieber', '~967~', 'Oscar', 'BuhBYYYYYE', '“@NBCLA', 'Nearby', 'locked', 'Norrebro', 'bitch', '#Drugs', '#Druggists', '#Sundries', '#Wholesale', 'hazy', '#MarketResearch', '#Statistics', '#mrx', '#BlackPrideWeekend', '#Philly', '4/24', 'Loft', '4/25', '#GirlsOnGirl', 'reading', 'Leroy', 'Jenkins', \"'I\", 'trampled', 'yoiu', 'wake', 'RECLAMATION', '#samsungsocialtvdms', 'socialtv30', 'seq', '2021', '16:52', '59', 'GMT', 'Kreeg', 'bruikbare', 'van', 'iemand', 'vorige', 'begonnen', 'whiskydieet', 'hij', 'nu', 'dagen', 'kwijt', '#Ticket', 'CMA', '211', 'Row', '1,450', '00End', 'Apr-', '#Tennessee_US', 'REMNINDER', '#Oban-#Colonsay', '25/11', 'disrupted', 'adverse', 'Ferry', 'berthing', 'Colonsay', 'lazy', 'embarrassed', 'infidelity', 'ight', 'kik', 'NRIs', 'cast', 'e-votes', 'Bihar', 'chipotle', 'stone', 'dates', 'kong', 'isang', 'huhuhu', 'nakakaiyak', 'loving', 'murders', \"THERE'S\", 'MANY', 'THEM', 'AKA', 'beefing', 'cats', 'L-Tido', 'Cassper', 'Ifani', 'lapile', 'tenants', \"d'maan\", '#TheMorningFix', 'Manu', 'fury', 'freeze', '|Sport|Football', 'Quit', 'messing', 'ut', 'cotton', 'clots', 'bleeding', 'goober', 'Yet', 'Possible', 'Woo-hoo', '*throwing', 'confetti*', 'goof', '*happy', 'writer', 'dance*', '#amwriting', '#havewritten-yay', 'QUAKE', 'Mag', '10:03', 'NZST)', 'km', 'south-west', 'Christchurch', '#eqnz', 'HMV', 'Shikari', 'Mindsweep', 'Crobot', 'eventually', 'pizza', 'chicken', 'drumstick', 'cinn', 'Chili', 'w/cinn', '#NowPlaying', 'MAKONNEN', 'Feat', 'Drake', '#SCUR', '#Hiphop', '#Radio', 'Needs', 'Successful', 'Forbes', 'sweeping', '-Cuba', 'relations', 'JC', 'FinleyWASHINGTON', 'UPI', 'Pr', '#TSCEnt', 'seriously', 'SOS', 'Helluva', 'Schedule', 'Unless', 'o_O', '#ImJustSaying', 'Small', 'Biz', 'Launches', 'MONTCLAIR', 'N.J.', \"America's...\", '#fb', 'hacked', 'ZenDesk', 'amiss', '#pissed', 'atardecer', 'hellish', 'sushi', 'sake', 'EWTN', 'Secret', 'Leader', 'Abangan', 'sila', 'ulit', 'U.K.', 'HTC', 'Desire', 'Z', 'Unlocked', 'Lo', 'Um', 'Payson', 'Temple', 'dedication', '#LDS', '#twitterstake', 'Ay', 'anong', 'nangyayare', 'pagbibigay', 'slot', 'Parti', 'Happiness', 'elusive', 'butterfly', 'Libra', 'hosting', 'queer', 'formal', 'TV', 'streaming', 'Groups', 'C', 'killing', 'Ye', 'million', 'calories', 'ragrets', 'witcher', 'destiny', '#Twitch', '#twitchshare', '#TwitchXbox', 'lecture', 'Shake', '6-8pm', '#radio', '#youbroadcastradiolondon', 'nulinhos', 'ISABEL', 'KERSHNER', '01:00', 'Coffee', 'curb', 'certain', 'cancers', 'POLL', '6A', '#flhsfb', 'wont', 'demuss', 'mamam', '`MAMA`', 'EXO-K', '284,507', 'EXO-M', '183,044', 'TOTAL', '467,551', 'Pray', 'individuals', 'bean', '#tragedy', '#sosad', 'function', 'blaming', 'inanimate', 'object', 'blame', '#thiswomaniscrazy', 'speeding', 'highway', '10mins', 'waving', '#IfYoureMyGirl', 'tube', 'AEST', 'STOP', 'WHAT', \"YOU'RE\", 'DOING', 'GO', '#ExpelledMovieToNumberOne', 'ITUNES', 'BECAUSE', \"IT'S\", 'ONLY', 'Shs', 'CELEBRATE', 'YESSSSS', 'wa', \"n'est\", 'actif', 'explique', 'tb', 'flirting', 'Behind', 'Scenes', 'Interviews', 'IBT', 'Bikini', 'Models', 'parasut', 'Inter', 'black-blue', 'JAN', 'jay', 'lake', '#Marriott', '1M', 'rooms', 'sees', 'concerns', 'terrorism', '#finance', '$MAR', '#travel', 'emergency', 'department', 'Learn', 'Albert', 'realise', '#ShowtimeCongratsXBGensan', 'Waiting', 'fucken', 'ganna', 'garden', 'grove', '364:159', 'Fates', 'lofty', 'players', '#AMNDBots', 'SKYLANDERS', 'SUPERCHARGERS', 'STARTER', 'NINTENDO', 'WII', 'Donkey', 'Amiibo', 'Gone', '34.99', 'Nov-2', '74,000', 'Bio', 'Spot', 'Flea', 'Tick', 'Cats', 'lbs', '#E_BAY', '#forsale', '#supplies', '#pet', '#SFO', 'pretrial', 'retrial', 'Court', 'Fullerton', '#Peristiwa', '1984', 'Brunei', 'bergabung', 'menjadi', 'anggota', 'keenam', 'ASEAN', '#Wikipedia', 'Mmmm', 'wings', 'beer', '2mar', 'heartbroken', 'fool', 'intentions', '#LoKer', 'ASISTEN', 'LABORATORIUM', 'BUKIT', 'BORNEO', 'SEJAHTERA', 'PT', 'Rp', '2,500', 'k', '4,000', 'N/A', 'yr', 'exp', 'Safety', 'ATA', 'Self-Defense', '12-1', 'Presentation', '1-2', 'Adult', '2-3', 'EDM', 'BEAST', 'Alison', 'Brie', 'Met', 'Gala', 'Metropolitan', 'Art', 'Chase', 'pool', 'KiVA', 'gold', 'hottest', 'purveyor', '#TacoTuesday', 'Garlic', 'Shrimp', 'Avocado', 'Tacos', '#Hartford', '#School', '8:15', 'MOST', 'BORING', 'EVER', 'yupp', 'some1', 'THEY', 'overshadow', 'superior', 'Choice', 'Arrivals', 'teh', 'Nex-Tech', 'tent', 'TailGreat', 'bottles', 'water', 'FHSU', 'foam', 'finger', 'PHILIPPINES', '#MissUniverse2015', 'Tells', 'enthusiasm', 'gratitude', 'Funniest', 'Wingo', 'tellin', 'wood', '#pow#pow#pow@Cowboy_Wingo', 'Rican', 'CocoFunka', 'Indiesent', 'Exposure', '#ClubAcuarius', '**', '106', 'JOKE', 'AROUND', 'YALL', 'TALK', 'LIKE', 'DOG', 'SHAWTY', 'BUT', 'BUY', '30,000', 'WORTH', 'SCHOOL', 'SUPPLY', '#9989', 'BOGEN', 'MANFROTTO', '501', 'HEAD', 'mounting', 'plate', '150.00', 'Ja', 'Follows', 'reciprocate', 'xXx', 'BESTIE', 'Wake', 'vendor', 'opt', 'appearing', 'hani', 'Zarith', 'Alia', 'Nak', 'gmbr', 'appendix', 'purpose', 'Thankyou', 'CATET', 'NIH', 'DI', 'JIDAT', 'Madrid', 'Sevilla', 'Kamis', '02:45', 'RCTI', 'tacloban', 'bisaya', 'Right', 'Samar', 'Hehe', '#OTWOLPusongOFW', 'kuya', 'NSTP', 'Finance', 'Books', 'equivalent', 'SJW', 'Anti-#GamerGate', 'government', 'sixer', '#Vaalu', 'Sleeping', 'Morgenochtend', 'maar', 'Koperdoos', 'schoonmaakbeurtje', 'geven', 'Nvm', 'PSN', 'Creation', 'Issues', 'UPDATE]', 'UPDATE', 'Sony', 'created', 'rum', 'based', 'sig', 'cocktails', 'tasting', 'Figgy', 'Soda', 'fig', 'puree', 'Rose', 'edible', 'flowers', '458', '49', 'cooking', '!!:', 'wazzup', 'congrats', 'pitcher', 'Nimitz', 'legit', 'Park(ing', 'meter', 'shark', 'Steel', 'sequel', 'wall', 'Vidim', 'anaconda', 'foru', 'poslije', 'toga', 'jedno', 'vremena', 'bacam', 'vlastito', 'oko', 'zid', 'hvatam', 'smirim', 'eating', '#TimeToGetOut', 'dishes', 'Mikes', 'A&amp;E', 'comfortable', 'calls', 'Bird', 'hoops', 'Joel', '#profiling', 'Listeners', 'retrospective', 'Halo', 'franchise', 'load', 'STAPLES', 'Ads', 'Flyers', 'Deals', 'Coupons', 'Rumors', '#blackfriday', '#deals', 'CMU', 'hardcore', 'finale', '8/7c', 'beeeeyb', 'natin', 'mag', 'kita', 'entered', '3TB', 'USB', '3.0', \"#tech'\", 'nightmare', 'christmas', '02:51', 'Theta', \"G'Liiiiiiiiiiiiiiiiiights!\", '#thesaltandlight', 'mistake', 'Vamps', 'dan', 'Alexandros', 'Siap', 'Ramaikan', 'Musik', 'Jepang', 'Penggemar', 'musik', 'Tanah', 'tak', 'Birth', 'Predict', 'Certain', 'Diseases', 'Messi', 'Ballon', \"D'or\", '#Messi5th', 'Tuff', 'Culture', 'Destiny', 'PAR', '042', 'FORTHCOMING', 'VIA', 'JUNO', 'Tracklist', 'Questions', 'Waitin', 'accountant', 'banker', '#Dime_Miloko', 'Unremarkable', 'Victim', 'ordinary', 'upbringing', 'silencieux', 'discret', 'ami', 'tablets', 'Thankgod', '03:56', 'Highland', '2x', 'Aintree', '#Pisces', 'racing', 'Redskins', 'boo', '“@FOX29philly', 'barbershop', 'Sparks', 'fatal', 'shootin', '#lasvegas', 'Hassan', 'Whiteside', 'triple-double', 'NBA', '2K', 'rating', 'pagi', 'sahabat', 'EVERYDAYILOVEYOU', 'ptap', 'flashback', 'sophomore', 'utter', 'disgrace', 'helpful', 'promotional', 'videos', 'advertisements', 'Geoc', 'Dist', '#Sun', '10.06', '22h05m', '00.99', '1.0152799119', 'AU', '#astrology', '#astronomy', 'Aww', 'HAS', 'S5', 'shooter', 'desk', 'vicariously', 'treasures', 'PDC', 'William', 'Darts', 'Championship', 'Scores', 'ellwood', 'pinot', 'strokes', 'genius', 'john', 'wertheim', 'barksdale', 'Wishing', 'Wonderful', 'Mid-Week', 'BirCraft', 'gear', 'motors', 'linear', 'actuators', 'spirit', 'borders', 'upon', 'waters', 'wherever', 'Esri', 'Google', 'Compete', 'achieve', 'RamaDaan', 'NASCAR', 'Popular', 'Series', 'ACT', 'Return', 'RaceDayCT', '#nascar', 'std', 'Losing', 'temper', 'ultimately', 'unimp', 'Mis', 'sentimientos', 'noche', 'luna', 'llena', 'profundos', 'infinitos', 'arena', 'Morning#', 'ya#', 'anxious', 'endless', 'erratic', 'ecl', 'Digital', 'HD', 'Streamer', 'Model', '#Job', 'watershed', 'Field', 'gr', '3-8', '#edchat', '#edtech', '#mschat', 'speaking', 'Conf', '30-31', 'bird', '#ODSC', 'Asprin', 'pillow', 'warm', 'fanfiction', 'settle', 'Header', '#ALDUBTheREVELATION', 'shortly', 'pop', 'tho', '1-3', 'thingies', '#cats', 'baseball', 'Eyeopener', 'Ryerson', 'Quidditch', 'cheap', 'brooms', '#Ryerson', '#Rams', ':\\\\', 'tweeting', 'monkey', 'donkey', '#twitterjail', 'grill', 'AC', 'unit', '*turns', 'off*', '05:46', 'KeatonMW3', 'Wedo', 'Elegance', '#kopen', '#MaxICT', 'nl', 'allowing', 'amounts', 'fundamental', 'binding', 'Jumping', 'jacks', 'Squats', 'Jump', 'squats', 'Bringing', 'tackles', 'intent', 'lack', 'Colin', 'baka', 'ano', 'pakisabi', 'marami', 'pagkakataon', 'ponytail', 'boy+rat', 'tail', '11:40', 'letter', 'Jadeja', 'wicket', '#csk', 'daaa', '-*', 'MITE', 'SLEEP', 'LIVINGROOM', 'AINT', 'DONE', '#TRANSPORTER', '#E4', 'Mexican', 'ave', 'dis', 'EILY', 'CountdownBegins', 'psych', 'ward', \"ID'd\", '24yo', 'Kuwait-born', 'pic.twitter.com/JhJ95l9JHa', 'places', '*Boston*', 'accent', '#Mumbai', '03:10', '26C', 'drizzle', 'NE', '95%', 'CALL', 'TERRORISM', 'Because', 'Dreaming', 'threesome', '#Columbus', '#Ohio', '#lesbian', '04:58', \"C'une\", 'pute', 'freeeeeee', 'rough', 'Dortmunder', 'leers', 'promise', \"You'll\", 'Sloppy', '#Infosec', 'practices', '#breach', '1,900', '#CA', 'CyberSecurity', 'Performing', 'Naples', 'N.E.R.D.', 'Maroon', 'Stars', 'Vordingborg', 'tic', '#Sports', '#Nonsense', '#Play', '#Twice', '#Tues', '#NYC', '#Rap', '#Trap', '#Rt', '-Roald', 'Dahl', 'complained', '#Linode', '#Passwords', '#Breach', '#DDoSAttack', 'sixteen', 'tie', 'vill', 'gettinhg', 'sundays', 'reacharound', 'gamenight', 'yesss', 'Guess', 'ure', 'fake', 'cycling', 'Woke', 'Subway', 'sandwich', 'peeps', 'contacted', 'support/safety', '#sony3d', 'XD', 'misled', '#MCEOTalk', '#MCEOtalk', 'Tos', '12:52', 'diplomacy', 'trusting', 'iranians', 'col', 'SQL', 'Injection', 'Vector', '#Cybersecurity', 'News)', '2009)', 'acting', 'research', 'JavaMonkeys', 'BREATH', '#BBCnews', 'yard', 'nem', 'joguei', 'direito', 'outro', 'estava', 'monstro', 'vitor', 'ushuahsahs', 'Athens', '08/16/2015', 'sharks', 'Played', 'bench', 'Rocks', 'unseen', 'Lola', 'main', 'shades', '#cutepic', 'addy', 'sucks', '03:14', 'naka', 'inyo', 'HOME', 'SECTIONAL', 'GAME', 'TUESDAY', 'SUPPORT', 'YWCA', 'Issaquah', 'ongoing', 'Holiday', 'Gift', 'Barn', 'provided', 'detailed', '#NavyYardShooting', 'vids', 'MVTHS', 'inclement', 'ih', 'gacaya', 'amat', 'dah', 'Amasa', 'bangun', 'kok', 'beb', 'Bangun', 'gih', 'ngiler', 'mulu', 'iya', 'hamil', 'anak', 'Support', 'Op', 'Shop', 'Naked', 'Smokey', 'Smoky', 'Eyeshadow', 'Palette', 'post5ty', '10:30', 'source', 'drama', '#yesterday', 'sunrise', 'wooooo', '#5SOSMelbourne', '#5SOSSunrise', 'eva', 'arggghhh', 'double', 'chiki', 'nae', 'rp', 'Asta', 'magazine', 'issue', 'cr', '94hun_21chen', '#iahsfb', 'Brady', 'Baby', 'Mama', 'Married', 'Bartleson', 'Betty', '77', 'Scranton', 'Allied', 'Skilled', 'Nursing', 'Bo', 'Discover', 'keynote', 'speakers', 'panellists', '#Luxury', '7-9', 'Fears', 'Cloud', 'Holding', 'Organizations', 'Study', 'Shows', 'smell', 'cowtipping', 'ram', 'mineral', 'CRAZY', 'tees', 'jim50', '$FB', '=D', 'ec-12-2014', 'Open=', '77.16', 'High=', '78.88', 'Tops', 'executions', 'voiced', 'ove', 'ughhh', 'TIFO', 'CREW', 'S8', 'login', 'automatically', 'accept', 'Nelly', '#Nellyville', '9P/8C', 'Lifting', 'karam', 'bites', 'stand', 'despite', 'Broke', 'Findlay', 'swimming', 'relay', 'races', '#JenniferAniston', 'quote', 'religio', 'n.I', 'd.I', '07:03', 'post4', 'masaya', 'Mas', 'minsan', 'nasasaktan', 'thrill', 'Sagittarians', 'lightbulb', 'youre', 'worrying', 'Lip', 'Sync', 'Battle', 'Weirdness', 'Defeating', 'Reggae', '#USArmy', 'Soldiers', 'conduct', 'M777', 'howitzer', 'TacticalAfghanistan', 'hehehe-ahh', 'trolling', 'spell', 'propah', 'guud', 'Omfg', 'bailing', 'asking', 'formspring', 'deadline-triggered', '#Iran', 'CJR', 'lawyers', 'Division', 'Beta', 'Mario', 'Draghi', 'ECB', 'purchasing', 'bonds', 'becoming', '#sayitaintso', 'Street', 'swing', '10ish', 'kinds', 'reactions', 'Ayodhya', 'verdict', 'ahahaha', 'uy', 'tignan', 'gsd', 'ph', 'HPU', 'pau', 'Aloha', '#Health', 'Affected', '#DataBreachhttp', '/n', 'pr/1Gr2toI', 'Cowboy', 'Da', 'demolished', '44-0', '1985', 'superbowl', '#BEARDOWN', 'Parade', '10-year-old', 'HELL', 'WRONG', '5SOS', 'Sirius', 'XM', '#6', 'criteria', 'awards', 'Yakap-yakan', '#DRYakap', 'gilshope', 'ranked', '5v5', 'TheEconomist', 'fertility', 'steeply', 'Steal', 'fountainhead', 'Fugitive', '#Montana', 'stabs', '11:35', '330-1130', 'buckboardday', 'sanchez', 'reunion', 'betos', 'gbye', 'iloveyousomuch&amp;hearts', 'Natomas-area', 'SacBee', 'Region', '#sacramento', 'spring', 'storage', 'tank', '5x', 'size', 'capacity', 'iPhone4', 'caught', 'drove', 'Wal-mart/swift', '#Livescore', 'ROU-2S2', '#OlimpiaSatuMare', '#FCBihor', '0-1', 'Internet', 'needed', 'wow', '“@piersmorgan', 'ca', '04:36', 'creative', 'TORA', '*OOOOOOOOO*', 'cooked', 'shaped', 'tofu', 'Mentor', '#Success', '#StartUp', '#Wed', 'baked', 'puff', 'GREEN', 'HARTS', 'Flying', 'CoreLogic', 'percent', 'brunch', 'ce', 'samedi', 'amendment', 'train', 'configurer', '#monpremierTweet', 'T1m35', 'CIA', 'Enforcement', 'ATTI', '#MLBG', 'Sc', 'Towers', 'Bus', '143', '10/25/2015', '7:42', '32', 'Grant@6th', 'october-december', 'argue', 'voting', 'EXTENDED', '#PSYEnough', 'UFO', 'SIGHTINGS', 'DAILY', 'Crater', 'Jansen', 'Dome', 'Alien', 'Hole', 'Blown', 'Moon', 'CNet', '??&quot;', 'Leggings', 'sumthin', 'cameltoe', 'OH-OH', 'jail', 'mandated', 'Spark', 'Mad', 'Izm', 'MAD', 'IZM', '3/27/15', 'Busy', 'Gm', 'haaaaiiiii', '02:34', 'freckley', 'thriving', 'randomly', 'bell', '7-Sept', '01:26', 'reportan', 'tiroteo', '#Reynosafollow', 'altura', 'Smart', 'Villas', 'Diamante', '#cantdecide', '#wilty', 'hadnt', 'taLked', 'writing', 'appears', 'murder/shooting/att', 'Peachtree', 'Corners', '11alivepic.twitter.com/v2mlv7jveo', 'cmon', 'revine', 'Roseburg', 'yayyy', 'door', 'interview', 'Marie', 'Clair', 'EZM2M', 'Cell', 'IoT', '22.956', '1100011', '15:45', '#IoT', '#M2M', 'buying', '#Quotealicious', 'scifi', 'novel', 'HodderScape', 'subs', \"J'veux\", 'passer', 'temps', 'Wats', 'partys', 'alumni', 'Hawk', 'Nest', 'Schools', 'nearby', ',?', '5.29', '#indiemusic', \"'Come\", 'MRB', '61', 'Roadhouse', '4:00', 'Cam', 'ignore', 'me)mlkjhgfdsq', 'Pangpa', 'GV', 'dw', 'Yesss', '#ALDUBStayWithMe', 'Ctto', 'sleeps', 'CANT', 'BELIEVE', 'GOT', 'ATTEND', \"LIAM'S\", '22ND', 'BDAY', 'SOO', 'MUCH', 'LIAM', 'HAPPPY', 'BRITHDAYY', '#blacklisting', 'campaigners', 'blacklisters', 'pic.twitter.com/XStjI9xpNK', 'Weston', 'teach', 'improv', 'C4', 'targets', 'islam', '?&quot;', 'MORE', 'WEEKS', 'JD', 'Wetherspoon', '300%', 'Governance', 'Blog', 'STATE', 'QUARTERFINALS', 'Ridge', 'Eagles', 'Longview', 'Lobos', 'Grayson', '#14', 'Mikel', 'Janin', 'FIVE', '#vanswarpedtour', '4PM', '7PM', 'Edmonton', 'dealers', 'raise', '$320000', 'Olympics', 'Yip', 'Journal', '2:03', 'Chari', '355th', '#Alagir', '#Russia', '#Property', '#Price', '#Value', 'lower', 'doctor', 'older', 'justin', 'Minimum', 'alcohol', 'pricing', '#MUP', '#alcohol', '#publichealth', 'reveals', '#Archive', '【Slash', 'Gear】', 'couldn', 'nano', 'NEWEST', 'MODEL', 'Barry', 'struggled', 'locating', 'parent', 'updated', 'tweaks', '10:07', 'newman@foxnews', 'Rupert', 'Murdoch', 'owns', 'master', 'Criminal', 'Crook', 'bogus', 'planted', 'stories', 'FEBRUARY', 'NGAYON', 'BAKIT', 'TAMIS', '#ThankYouForTheLove', 'Ka', 'nitong', 'katabi', 'nalalaman', 'shade', 'bagay', 'Reports', 'destination', 'SLEEPING', 'Fucking', 'passion', 'pit', 'Except', 'Tonightt', '#celestial', '#mcm', '#SpaceAge', 'vase', '#mondaymotivation', '#2016', 'Pesticide', 'Spraying', 'Manhattan', 'Staten', 'Island', '9,201', '911', '5555', '#check', '#checkthisout', 'Mexico', 'redzone', '21-7', 'SDSU/USD', 'basketball', 'Leaves', 'Piranha', 'exceeded', 'limits', 'crappyness', 'News-', 'stepping', 'Boa', 'Leitura', 'Gunmen', 'dozens', 'marching', '#bricioz', 'Shopping', 'Genie', 'none', 'urs', 'noticed', 'beside', '/cepet2', 'taro', 'lantai', 'posisiin', 'dket', 'mangkok', 'susu/', 'malah', 'nyakar2', 'gua', 'rail', 'companies', 'hypocrites', 'Even', 'SE', 'terminuses', 'engineering', 'yeah~', 'coolen', 'clinch', 'Padres', 'beat', 'Giants', 'Wonder', 'Green', 'Tre', 'Penis', 'Bonnie', 'empty', 'kennels', 'Animal', 'sooooooooooooooooooo', '#adventures', 'tells', 'envoy', 'ceasefire', '#NowIndia', 'iceskating', '((((', 'spacey', 'vagueness', 'actual', 'stuck', 'Has', 'pushed', '#EverydayILoveYouMasiSILAYanNa', 'Gourmet', '#OutsideLands', 'eighth', '01:19', 'EVERY', '8PM', 'POWER1051', 'escape', 'york', 'sucked', 'blunt', 'cyberpunk', 'anime', 'swordswoman', 'edge', '#WINNING', '#NYDONUT', '#AtlDonut', '#THEDONUTOLOGIST', '#Empire', '#Legacy', '#TeamDream', '#BLESSED', 'Woah', 'mis', \"snap,c'est\", 'grave', 'genre', 'xptdr', 'jsuis', 'insolente', 'Tiempo', 'Paco', 'Cifuentes', '#Salamanca', \"it'd\", 'allow', 'nabanga', '#Frankfurt', 'Ariston', '#Markets', 'Analysts', 'meager', 'profits', 'piece', 'pie', '#YouGotMyFxcKedUp', '#ThanksgivingWithBlackFamilies', 'gathering', 'Mattingly', '#Kershaw', '#DodgersVsMets', '#DodgersNation', '#Dodgers', '#UCLfinal', 'nanoparticles', 'improve', 'radiation', 'treatment', 'cancer', 'OMG-Fact', '#14906', 'Jellyfish', 'existed', 'paleontologists', 'jell', 'Quarter', '#RavensNation', 'fairies', 'fairy', 'bothers', 'tattoos', '#ILikeIt', '#NiceSong', '#SunDevils', 'Devils', 'struggle', 'FCS', 'Cal', 'Poly', '35-21', 'Po', 'stared', 'puck', '#DallasStars', '#FAIL', 'Gak', 'bobok', 'lg', 'aja', 'Knp', 'Ayo', 'yok', 'lari2', 'biar', 'sedih', 'Ya', 'pgn', 'nangis', 'midterms', 'guilt', 'Everybody', 'Expo', '#neexpo', 'pic.twitter.com/37P3OPOrMV', 'pic.twitter.com/78r9F13YqF', 'Using', 'autocomplete', 'Weh', 'Sain', 'naaraman', 'oy', 'blueprint', 'daw', 'baba', 'katapat', 'lola', 'nidora', '#ALDUBWishMoKayaKo', '#Periscope', 'guitar', 'Pedersen', 'Hangeland', 'Fulham', '#blackburnrovers', '18:53', '4762', 'Industry', '23,201', '#FABreality', 'contentious', 'squab', '**Kong', 'Mug**', '|1t1', '03:20', 'yaoihandspom', 'amporafest', 'xhonk', 'stillspoopingforspook', 'terezi', '4gifs', 'melting', 'crayons', 'mashable', 'Emmy', '#ripgia', 'familiar', 'childhood', 'haunt', 'stirred', 'preserve', 'affordable', 'grilled', 'saute', 'bake', 'fried', '#asdrakesays', 'important', 'springs', 'All-Star', 'MVP', '#NBAvote', '#TBT', 'caching', '#steam', 'logged', 'vice', 'versa', '#goodluckvalve', '#netsec', '#merrychristmas', 'around(', 'xxxxxxx', 'yea', 'hated', 'b/c', 'sometimes', 'obnoxious', 'hanging', 'dinner-ing', 'DL3', 'preoccupied', 'wanting', 'Reach', 'Boards', 'Canada', 'Harvest(Warp', 'Romeo', 'Julliet', 'stars', 'Park-', '#Gemini', 'delegating', 'responsibilities', 'Salty', 'Betsey', 'necklaces', 'WHAAAA', 'Wolstenbeast', 'calculator', 'maths', 'may+hoshi', 'magshipping', 'PAKI', 'MGA', 'ORDERS', 'PAYMENTS', 'Bacon', 'Mahirap', 'talagang', 'umasa', 'lalo', 'taong', 'ibang', '9am', '11am', 'www.NLCLive.com', 'shiny', 'Anyways', '[#SalemWeather]', '#Salem', 'opinion', 'Franklin', 'Benjamin', 'lololololol', '*wink*', 'OTHER', 'LAHAT', 'LOVETEAMS', 'KINASAL', 'KISS', 'KNS', 'WALA', 'PANG', 'KASAL', 'PERO', '39%', 'RATINGS', '#PSYUnangHalik', 'overcome', 'inertia', 'Serious', 'Eats', 'Leftovers', 'Stray', 'Links', '#Food', 'teased', 'roast', 'SUFFER', '6000K', 'LED', 'T10', '921', '168', 'Upper', 'Mount', 'Lamp', 'Checking', 'Podcast', '26-27', 'nasa', 'manila', 'mAy', 'Tao', 'Kwon', 'Sehun', 'Hyunbin', 'Erie', 'Atwater', 'grader', 'Anthony', 'sends', 'nudes', '#CaliStories', 'Class-action', 'filed', 'patient-data', 'Junior', 'kicks', 'Mission', 'Manor', 'Nosotros', 'Academy', '#xc0resecurity', 'newspapers', 'claiming', '#infosec', 'Parliament', 'refugee', 'Ljubljana', 'parliamentary', 'Affairs', 'Commit', 'syringe', 'peed', '12:23', 'Message', 'Begins', 'truuu', 'overrated', 'stats', 'titty', 'Rep', 'Bono', 'Mack', 'fellow', 'desert', 'dweller', 'Barbara', 'Boxer', 'SCOTTY', 'FUTURA', 'PUTTER', 'EXCELLENT', 'CONDITION', 'WP', 'Engine', '#HB', 'Bonfire', 'joe', 'included', 'Bernd', 'Leno', 'Oblak', 'gump', 'alabama', 'broski', 'me..Parlae', 'producer', 'younger', 'trophy', 'refused', 'Dieter/Rex', 'Baxter', '524', 'wishing', 'REPORT', 'Pilchuck', '#PrayForPilchuck', 'Selasa', '#woot', 'sit', '12:28', 'LAST', 'SEASON', 'teenagers', 'GQ', '14-Year-Old', 'Stalker', 'Cops', 'cal', 'prostitute', 'bungee', 'common', 'rubber', 'screwed', 'Hyped', 'diminish', 'himself', 'Dat', 'iPhones', ';o', '#yyc', '#sportsday', 'Lachlan', 'Pier', 'Golf', 'victory', 'tampuhan', 'toto', 'ay', 'nakaka', 'sira', 'ulo', 'kilig', '#ShowtimeNgayongPasko', 'FIFA', 'codes', 'giveaway', 'sneak', 'Ride', 'USA', '6pm', 'Jennifer', 'Gainza@nmss', 'org', '12:46', 'GMT+0000', '#uknouugly', 'Lolita', 'Orca', 'Endangered', 'Bare', 'booth', '#SFCC', '#gamedev', '#santafe', '#mobiledev', '#LIBRALIZM', 'MC', 'Cekdogg', 'Delirious', 'directing', 'Beast', '#GoHeels', 'promotion', 'Lmao', 'Houston', 'guns', 'blazing', '80%', '40-18', 'POPSUGAR', 'Parker', 'Gwen', 'Stefani', 'Wrap', 'Fashion', 'Fa', 'Campaigning', 'Hampshire', 'Sen', 'Wayne', 'Weezy', 'Drops', 'MA', 'WATCH', 'KOOO', 'AHAY', 'SI', 'BEA', 'VIDEOS', 'MAN', 'DU', 'MAHIBI', 'KAGINA', 'SANG', 'GIN', 'BASHAHAN', 'HARRY', 'PANDESAL', 'ABS', 'crime', 'potholes', 'outraged', '$2/month', 'pleasant', 'grocery', 'shoppers', 'Pembroke', 'DING', 'DONG', \"PATIENCE'S\", 'special', '!!\"', '#sacstonersociety', '#high_larry_us', '#dope_as_yola', 'shes', '\"\\'', 'Sources', 'fled', 'detonate', 'latimes', '#Young', 'FLASH', 'FLOOD', '#NMN', '#NASHFM1025', '#NewOldPhotos', '#fathers', 'Burl', 'Fish', 'Fathers', 'fishing', \"I'...\", '#dad', '#Sheffield', '#Deal', 'Ticket', 'Utility', 'Trafford', 'Country', '#Tktmstr', '#yallcome', '33', 'Filthy', 'premiered', 'aired', '1982', 'Starring', 'Dixie', 'Carter', 'Whomever', 'M&amp;M', 'melt', 'hand', '1/4', '#myhandismulicolored', '#Pretty', 'Jailbroken', 'loaded', '#Rachel', 'hatred', \"bro'?\", '#Skin', 'Product', 'Diamond', 'Available', '#Scott_Walker', 'LAUSANNE', 'Switzerland', 'UFM', 'tied', '#IOWAvsISU', 'FOXTV', 'FOX', 'bottle', '#SoftScrub', 'affecting', 'pic.twitter.com/0GVzlogOnQ', '1923', 'Blemishes', '#49969', 'papel', 'Magdodrawing', 'mantel', 'lamesa', 'BopisPaMore', 'RegineVelasquez', 'Thnx', 'ignored', \"isn't\", 'CofE', 'santa', '#allteensthings', 'places/time', 'periods', 'masamang', 'pinaramdam', \"sa'yong\", 'aasahan', 'gained', 'muscle', 'weight', 'Cause', 'HK', 'Med', '07:48', 'Disagree', 'disagree', 'stories/etc', 'ATWT', 'splendidly', 'excuse', 'goddamn', 'banjo', 'hour-long', 'banjos', '#WCSSBOG12', 'strengthen', 'weakening', 'Kshs', '..........', 'oronain', 'H', 'ointment', '63,000', 'UCF', '#data', 'welive#', 'security.com', 'has…', 'phenomenal', '#AskEllen', 'Ellen', 'Portia', 'Xo', 't.v', '*pics', 'up*', '9.99', '*puts', 'magbabago', 'rainy', 'heaven', 'hires', 'BAE', 'Systems', 'pic.twitter.com/9V0a0URtHO', 'Palestinian', 'dies', 'clashes', 'ministry', 'cl', '#Cybercrime', 'w/3', 'events', 'benefiting', 'lung', 'Sun/Sept', 'http', 'ISC', 'Diary', 'affects', 'Tumblr/Pinterest/Twitter', 'brilliant', '#DoctorWho', '#doctorwhochristmas', '#LastChristmas', 'Bilang', 'REPLAY', 'AlDubnation', 'Hahahaha', 'wondering', 'feature', 'Gus', 'Pic', 'atmosphere', 'bridge', '#LFC', 'Diving', '#diving', '#snorkeling', '#lumecube', '#lightitup', 'BLISSFUL', 'MORNING', 'brand', '#protest', 'Gajendra', 'Administrative', 'IITM', '11:00', 'existing', '118', 'Birmingham', 'Bussines', '**Vintage', 'Feminista', 'Jones**', '..!', '..?', 'Imperfectly', '..!!', 'hurting', 'Chin', 'nigga', 'unattractive', 'Showbiz', 'Gay', '?:', 'Revolution', '#VSI', '#twitterstorians', '#MARVEL', '#COMICS', 'Hot', 'Wheels', 'Trek', 'enterprise', 'NCC-1701', 'EUR', '8.31', 'Jan-3-2016', 'EBAY', 'IE', 'foul', 'Sometime', 'beginning', 'VELVET', 'OREOS', 'SAVE', 'weigh', 'pound', 'puddings', 'crisps', 'gopher', 'looked', 'airplane', 'Fans', '2pm', 'Sequence', 'Southampton', 'featured', '#911', '#will', '#jail', '12:20', 'Roundup', 'Huffington', 'Post', '#Science', 'Welp', '#DayZ', 'Arma', 'Bohemia', 'Interactive', 'pic.twitter.com/EndtZPlhWz', \"y'all\", 'Deepika', 'Holi', '#Twitter', '#Pinterest', '#Tumblr', '#Zendesk', '#Hack', 'avatar', 'chugs', 'booting', '250g', '360-s', 'yakima', 'ughh', 'extends', 'gains', '#sydney', 'UNKLE', '**Support', 'decent', 'music**', 'remix', 'Ibiza', 'Labels', 'Alternative', 'Techland', 'Commentaries', 'Biographies', 'T4G', 'pete', 'rape', 'life-threatening', '10TV', 'spy', 'rivalries', 'persist', 'Far', 'noting', 'Donde', 'anda', 'gente', 'Plata', 'Este', 'domingo', 'nos', 'vemos', 'ahi', 'romper', 'todo', 'muchachos', 'nOT', 'AUGUST', 'HOTTEST', 'MONTH', 'YEAR', 'coverage', 'thaz', 'dwn', 'Django', 'Ferrari', 'juiced', 'UMMMMMMM', 'bone', 'wat', '12PM', 'KST', 'EXO-L', 'Annieversary', '#EXOL1stAnniversary', 'LETS', 'WALK', 'TOGETHER', 'TILL', 'END', 'chilled', 'madison', 'citizens', 'Upstate', 'Three-Game', 'Venice', '#lucky', 'odds', '#enlistment', 'Asa', 'continuing', 'deteriorate', '#ColoradoSprings', 'Snow', 'ways', 'JL', 'joint', 'Teddy', '#jets', 'confused', '#marksanchez', 'performance', 'phily', '**Frantically', 'tomorrow**', '#KUWTK', ')))))', 'Zombies', 'badass', 'lives', '#rip', 'exhausted', '|O', 'captures', 'MoneyMakingTUCHE', 'Hacker', 'Hyna', 'Brad', 'paisley', '*tear*', 'nanaman', 'FAN', 'Penguin', 'FUN', 'Drawings', 'Plac', 'Thinks', 'Punch', 'Wrong', '#winning', '#SurvivorFinale', 'aye', 'tae', 'inverness', 'perth', 'morra', 'peterhead', 'Jessum', 'Question', 'sidekick', 'gwapa', 'yuri', 'wallpaper', '?!!', 'Pano', 'natabo', 'Mahal', 'Ko', 'Yatang', 'Iba', 'Lamang', 'Dun', 'Sya', 'Masaya', 'GoodNight', 'Scents', 'Sensibility', 'scented', 'technicality', 'kmsta', 'kyo', 'Ngtxt', 'Bka', 'nkatulog', 'stress', 'umc', 'Kggising', 'Bawi', 'tulog', 'programmes', '302', 'Debating', 'arrive', 'Payday', 'Haaaa', 'IKNOWIT', 'MOTOGP', 'Motoland', 'Aragon', 'Marlboro', 'Ducati', 'Casey', 'Stoner', 'Shout', 'dope', 'w/special', 'audio', 'tod', \"i've\", 'Engadget', 'Sky', 'enlists', 'Stephen', 'Fry', 'explain', 'video)', 'peels', 'duckies', '07:11', 'Alright', 'Ginger', 'Peach', 'jam', 'recipe', 'Making', 'fab', '#Colorado', 'Palisades', 'peaches', 'Embed', '01:59', '$GNPT', 'Stock', '04:44', '$CRGP', '$AEXE', '$RGSE', '$AAPL', '#Libras', 'paths', '#Marines', 'today’s', 'horrific', 'Twisted', 'nighter', 'NOVEMBER', 'Younger', 'Brother', 'Live)', 'Shpongle', 'Posford', 'Bestfriend', 'HouseTonight', 'Til', 'Route', 'Tomarrow', 'Wit', 'Cuhzans', 'Bestfriend&lt;Ride', 'Die', 'Fuxx', 'Widd', 'IHT', \"MODEL'$$\", 'Repp', 'lonesome', '11:32', 'reputation', 'management', 'Ham', 'Kirk', 'Donations', '‘Old’', 'Nexus', 'Mods', 'affect', 'longtime', 'gaming', 'mod', 'lols', 'Cebu', 'sniff', 'roommate', 'boxers', '#rulesbetweenmen', 'Nu', ',\"', '(shit', \"should've\", 'stayed', 'combination', 'kaso', 'tinaya', 'lotto', 'tas', 'lumabas', '#AyanSayangTuloy', 'Leak', '~~~', 'vind', 'Crash', 'Compilation', '497', 'MOAR', '!!!\"', '#2A', '37th', 'markets', 'Stocks', 'Thurs', 'analysts', 'weighed', 'global', 'issues', 'Platinum', 'Vanquish', 'PS3', '360', 'Widro', 'author', 'Direc', '05:18', '!!.', 'indeed', 'intensified', '#ddos', 'Sweden', 'hotel', '#tban', 'SHS', 'WHY', 'SUPPOSED', 'HECK', 'Hows', 'Mesa', 'Six', 'Shot', 'Captured', 'NBCNews', '#Khaatumo', '#Khatumo', 'Aaahh', 'jake', 'mahulaan', 'mangyayari', '#ALDUBToSeeYouAgain', 'perfecy', '#Blackhawks', 'Shots', 'Goal', '#Ducks', 'Goals', '#Shady', 'Sumber', 'dari', 'mengatakan', 'telah', 'terjadi', 'kesepakatan', 'untuk', 'transfer', 'Ilkay', 'Gundogan', 'Mayim', 'guesting', 'Access', 'chatted', 'emailed', 'Injuries', 'prerecording', 'MCD', '#BieberOnAMAs', 'madw', 'embarissing', 'awarded', '#Webranking', 'Jose', '09/14/2015', 'Syempre', 're-match', 'outfit', 'Grace', 'Perfume', 'Crazy', 'Clearance', '#50', '#Campaign', 'buzzbox', 'Johnny', 'Lightning', 'Sabres', '4-1', 'Stamkos', 'VATSpy', 'Conn', 'Taggart', '#ImRulingMyselfOut', 'climbing', 'Huayna', 'Picchu', 'Cameron', 'Umpqua', 'Community', 'FUCKING', 'COURSE', 'BROTHER', 'MOTHER', 'XBOX', 'Worst', 'comptonglobprof', 'Affects', '93,000', '#web', 'design#website', 'design#eco…', 'Hoyy', 'Lindooo', 'Pero', 'Aburrimiento', 'EAT', 'BULAGA', 'Solving', 'Kalyeserye', 'FULL', 'EPISODE', 'PART', 'Peringatan', 'Bengkalis', 'dilakukan', 'dengan', 'penghijauan', 'entertaining', 'Won', '140', 'character', 'contest', 'babaeng', 'kagandahan', 'Nadadaan', 'kalandian', 'rounds', \"law':\", 'Allowing', 'pr', 'MOTD', 'Oi', 'supeeer', 'overtired', 'UCS', 'Forreal', 'downtown', 'Savannah', 'fxck', 'TF', 'WLDS-TV', 'Illinois', 'high-speed', 'pursuit', 'Institutional', 'lifts', 'UFlex', 'MiKenJo', '#MiKenJoWalangBibitiw', 'murder', 'DIRECTION', 'TR', 'MANSKAH', 'awsm', 'Sonum', 'jagetia', 'Wheres', 'Waldo', 'Ernie', 'header', 'tos', '08:10', 'call/text', 'accurate', 'Chillin', 'pierced', 'WHOOOOP', 'notice', 'guessing', '08:11', 'birthdays', 'cars', 'east', '#sp4zee', 'Vietnam', 'NIEL', '#TTO', '#SATURDAY', 'S/O', 'Tommy', 'Miho', 'showtime', 'exited', 'ClimateX', 'Sta', 'Ana', 'Grounds', '#Cagayan', 'Capri-sun', 'Gel', 'Antimicrobial', 'Collagen', '1.5', 'oz', 'Wound', 'Exp', '12/16', '64.95', 'Jan-21-2015', 'Ustream', '#5', '#OTWOL', '#OTWOLComplicated', 'rip', 'SUCKS', 'gentlemen', 'lands', 'Page', 'Forgotten', 'girrrrrrl', 'wondered', 'species', 'biomass', 'Fact', 'termites', 'outweigh', 'udah', 'Oia', 'mau', 'ngasih', 'tau', 'nih', 'kalau', 'pendaftaran', 'ikut', 'kelas', 'september', '#OWSOM', 'ditutup', 'Cracker', 'Barrel', '300', 'MSU', 'students', 'Hardwood', 'Hysteria', 'Wolf', 'healthy', '#adopt', 'bumping', 'thugger', 'Observe', '9/18/2010', '06:00', '#cuboulder', 'Vai', 'Garotos', 'Podres', 'Milk', 'hoje', 'suddenly', 'dropped', '0.10', 'Mbps', '06:15', 'published', 'year)', '#WAKEUP', '#fox26', 'assignment', 'illustration', 'surgeon', 'comple', 'london', 'fashion', 'Tente', 'JARDIN', 'TENTE', '5320', 'Room', 'fifth', 'WIseau', '#theroom', '#tommywiseau', 'Homepage', 'Matter', 'Less', 'DeKalb', 'Ga', 'Mountain', 'D…', 'solid', 'gud', 'fi', 'adele', '80s', 'Worked', 'Loved', 'eight', 'DETROIT', 'wound', 'Jamestown', 'Foamposites', 'partying', '#SoundCulture', 'Theeeeeeeeeee', 'niiiiiiiiiight', '*Gwen', 'voice*', ':]', 'remains', '#elementblog', 'favorited', 'Yoav', 'Dancing', 'Copenhagen', 'BOC', 'Poloz', 'url', 'appear', '#Cawfeetawk', '#Wednesday', 'newsletter', 'receive', 'Subscribe', '“@AP', 'NOPD', 'second-line', '-RJJ”', '#Detroit', 'holding', 'deadly', 'quelqun', 'croise', 'corps', 'dites', 'lui', 'rentrer', 'il', 'tard', 'maintenant', 'recognizes', 'POW/MIA', 'Recognition', 'Presidenta', 'Resources', 'Tweets', '9.13', '9.17', '10)', 'coupl', 'prospects', 'dabigatran', 'FDA', 'Suggests', '#Afib', '#FDACV', 'eminem', 'apart', 'Jim', 'Rohn', '*PAG', 'NAKITA', 'LUMALANDI', 'CRUSH', 'MO*', 'Lakers', 'conversation', 'Child', 'Hmmm', 'tripped', 'LMao', '#HBDRazaAkram', 'disapointment', 'awkward', 'bait', 'dunno', 'type', \"face''.....''smiley\", \"face''...''raised\", \"eyebrow''...when\", 'easier', \"DON'T\", \"WON'T\", 'warms', 'corridor', 'corridors', 'robot', 'costumes', 'repurposed', 'Cybermen', 'WON', 'T-SHIRT', '9432', '934-3', 'angeschrieben', 'Bihwo', '34637', 'Bf', 'Hohenau', '#bahnbilderde', 'MLB', '13-3', 'Record', 'Instant', 'Wasteland', 'tyson', 'bumass', 'rappers', 'rappin', 'joking', 'Hidup', 'itu', 'ujian', 'Jadi', 'jangan', 'berpikir', 'melarikan', 'diri', 'cobalah', 'menemukan', 'jalanmu', 'sendiri', 'Master', 'theres', 'pure', '#Moesh', 'onto', 'unexpressed', 'brin', '#cricket', 'Lancashire', 'Powell', 'Indies', 'Daren', 'befo', 'Manitoba', 'consecutive', 'deficit', 'spiralling', '#reality', 'Santy', 'GRAMMY', 'Nods', 'Memorable', 'Songwriter', 'Laird', 'comprehensive', 'countr', 'comfort', '~Author', 'Unknown', 'orleans', 'mothers', 'relaxing/taking', 'Koh', 'Samui', 'forgotten', '#SUGGSUNDAY', 'eeeek', 'III', 'Points', '5-billion', 'yrs', 'expand', 'engulf', 'orbit', 'charred', 'ember', 'vaporizes', 'draw', 'CW', 'CherryZenz', '#ALDUB11thWeeksary', '!!!....', 'gwapo', 'magiging', 'Kilig', 'Prince', '#HailKiligPrince', \"J'suis\", \"d'humeur\", 'dormir', 'pecs', 'pray', 'glory', '24/7', 'all-hospital', 'Aretha', 'Winter', 'Advisory', 'areas', 'Slopes', 'Cascades-WA', 'Effective', 'Pat', 'Russell', 'officiating', 'Indio', 'referee', 'Timothy', 'Bradley-Jessie', 'Vargas', '#boxing', 'Vaccines', 'revolutionary', '#THURSDAY', 'Deck', 'Continues', '#ZTWO', '#Live', 'Performance', '#DreamLabRobot', 'Driving', 'Phil', 'Tasty', 'Society', 'Mining', 'Metallurgy', 'Engineers', 'boundless', 'verbosity', 'UI(as', 'colour', '#trunks', '#ocoly', '#men', '#swimwear', 'pre-wedding', 'rehearsal', 'on2', '%20', 'DISCOUNT', \"DENTAL'S\", 'MAKE', 'YOUR', 'OUR', 'SCHEDULE', 'FILLING', 'Listen', 'Goodbye', 'NoOne', 'NoThing', 'feat', 'Herb', 'entendre', 'intended)', 'WFUNA', 'Secretary-Generals', '#HumanRights', 'Deadly', 'Tornadoes', 'Floods', 'Fuel', '$4', 'Billion', 'Losses', '#NBfootball', 'bieber', \"didn't.\", 'Rabbit', 'Catching', 'ben', 'IMMA', 'ASK', 'LONG', 'GIRL', 'START', 'GOIN', '????', 'importing', 'Kinikilig', 'dito', 'AUS', 'RR', 'Badd', 'gooooooooooo', 'Monkey', 'Joe', 'Anya', 'Kamenetz', '#Mozilla', '#Drumbeat', 'DIY', 'education', 'grounder', 'Midland', 'males', 'legs', 'Duh', 'Terry', '#TheOriginals', 'reunite', '#Thirstdays', 'nico', 'sagot', 'porket', 'katabing', 'babae', 'Ball', 'Gowns', 'Becoming', 'Belle', 'tricks', '#Longchamp', 'Longchamp', 'shoulder', '20.00', 'Bids)End', 'Dec-24-2014', '#Deals_US', 'Pal', 'Pokemon', 'twitteris', '#thanks', 'sleeve', \"f'ing\", 'UOEM', 'wrapped', 'continous', 'heartfail', 'snarky', 'Joos', 'Aw', 'nooo', 'lool', 'Def', 'technically', 'critically', 'Eleven-year-old', 'mins', '#FACT', '#HnF', 'mentally', 'prepared', 'Yourself', 'Cassies', 'hashtags', 'heffa', 'FML', 'SLOT', 'Sekarang', 'bisa', 'dapatkan', 'poin', 'reward', 'setiap', 'minggunya', 'permainan', 'M88', 'bermain', 'Aku', 'gak', 'minta', 'kamu', 'pilih', 'cuma', 'pengin', 'disiplin', 'tanggung', 'jawab', '..........\"', 'fined', '£485m', 'competition', 'pact', 'inquire', 'lady', 'clerk', 'carefully', 'gift-wraps', 'economy-sized', 'fart', 'spray', 'clubbing', 'Hamburg', '#Germany', '-240', 'souls)', 'Means', 'stack', 'disappeared', 'sign', 'domestic', 'Actually', '#lawblog', '#criminal', '#law', 'Truck', 'Charlotte', 'pg', 'Tyler', 'pd', 'began', '60th', 'nouvelle', 'fonction', 'Design', 'artboard', 'Enfin', 'tu', 'vas', 'changer', 'quotidien', '#PhotoshopCC', 'ooh', 'Silly', 'billy', 'rankings', 'ORD', 'Climate', '87', 'Precip', '0.0', 'vine', 'sums', 'perfectly', 'Kaduna', 'Nasir', 'El-Rufai', 'SAK', '#KIISJingleBall', 'Michigan', '#WhereAreUNowMusicVideo', 'songs', 'Irvington', 'NJ', 'authorities', 'arrests', 'Knowing', 'MDDDDDDDDR', \"C'EST\", 'LMEILLEUR', 'JMY', 'ATTENDAIS', 'JPP', '#charliecharliechallenge', '#BeThere', '!!!!!!!!!!', 'Sitting', 'hayfever/headcold/sinusinfection', 'sunshine', 'conservatives', 'funding', 'destruction', 'marriage', 'corporate', 'watchdog', 'Lifesitenews', 'MP', 'neighbors', '#PrayForMPpic', '.twitter.com/jKKtBBi8VF', 'chart', 'Maths', 'Fac', 'adopting', 'mastery', 'approach', 'twa', 'ptit', 'papillon', 'invest', 'blank', 'confirms', 'deceased', 'Aaron', 'Alexis', 'spencer', 'iCarly', 'Carly', 'Megan', 'fat', '#damnteenquotes', 'Mixtape', 'Manne', 'Trap', 'exact', 'shorts', 'tee', 'hoodies', 'jeans', '#ItsTheTeenLife', '#cl', 'CamelBak', 'BPA-Free', 'Bottle', 'Bite', 'Valve', 'Camelbak', '494)Buy', '4.99', 'Agents', 'Pulled', 'Lingerie', 'eachother', 'stumble', '..\"', 'breaking', 'mistakess', '?\"\\'', '#fact', 'doin', 'maxin', 'relaxin', 'stetch', 'startin', 'Cowboys', 'Kickoff', '12:05', 'P.M.', 'Dallas', '#CowboysNation', 'piling', 'ChardTillas', 'KiligMonday', 'Ministry', 'Motherhood', 'Pastor', 'Troy', 'Dorrell', 'THRONES', 'purchase', 'windows', 'antivirus', 'forcing', 'solve', 'sober', 'Quand', 'manques', 'relis', 'anciennes', 'conversations', 'ris', 'devant', 'portable', 'worries', 'witnessing', 'frustration', '12:17', '#JKT48JuaraKCA2015', 'Duty', 'candour', 'consultation', 'shape', 'guidance', 'S.F.', 'Rabbis', 'Eat', 'Asked', 'Enlighten', 'Us', '3AA', 'Playoff', 'Sanford', '#mintswim', '#TuitMakassar', 'Galesong', 'Gelar', 'Lari', 'Maraton', '#Makassar', '#Tuit', 'Nanghiram', 'cellphone', 'pagbalik', '\"\"\"', 'fade', 'friendship', 'aphrodisiacs', 'G-spot', 'wasting', '#Spain', '#beachfront', '#asiatico', '#letters', '#dontmakemeleave', 'spots', 'Thursday~', 'Highlight', 'Color', 'Gardens', 'Strip', '«', 'bcuz', '#Bridgeport', 'quadruple', 'Trumbull', 'pic.twitter.com/tiGkeQNkcj', 'debuted', 'Glee', 'Charice', 'Calvin', 'Klein', 'Homg', 'Riots', 'Called', 'homie', 'Secrets', '#HoodRatsNeedLoveToo', 'Raisa', 'tanggal', 'Keller', 'Rohrback', 'investigates', 'Excellus', 'BlueCross', 'BlueShield', 'Kirsten', 'Dicks', '#RIP', 'Deputy', 'Oliver', '#Sacramento', 'sheriff', 'conflicted', 'forces', 'lawmakers', 'convene', 'legislative', 'wil', 'cyber', 'expert', 'comments', 'organisations', \"you've\", '#webinar', 'G+', 'Paying', '4/11', 'Joy', 'Huhn', '#Texans', 'WRs', 'Missed', '#Bills', 'lap', 'Yay', 'plotting', 'pulling', 'approaching', 'Partner', 'hunt', 'spirited', 'brighten', 'Alliance', 'importantly', 'avicii', 'dolla', 'Opera', 'browser', '08:01', 'cards', 'web', '#Xbox', '#Xboxone', 'Reg', '1-Tighter', 'makers', \"post-'flash\", \"crash':\", 'YORK', 'Swift', 'trademark', \"Beat':\", 'Confirmed', 'hm', 'lame', 'ninth', 'roseburg', 'solely', 'religion', 'weekends', 'socks', 'knitted', 'comfy', 'knit', '#iKON', 'debut', '#iKONYG', 'Things', 'Mixed', 'Bag', 'Dolly', 'Dimps', 'Block', 'lining', 'whistle', 'Barnsley', 'Services', '#HIPAA', '16K', 'clients', 'phishing', 'Org', 'notification', 'gross', 'delaware', 'leftover', 'disappointed', 'His', 'birth', '#ASUGBIWebinar', '#DesignStudio', '#rt', '#follow', '12:15', '#mustread', '#world', '#please', '#link', 'Conv', 'pals', 'Charlene', 'weird', 'Jill', 'Jemma', 'charlene', 'Deliver', 'Dayton', 'Container', 'retired', \"You've\", '#WIN', '#iPadMini', '#RETWEET', 'Packin’', 'Heat', 'Totin’', 'Claus', 'Arrested', 'Detroit…', '#ThaHipHopHeadpic', '.twitter.com/sZpKqQL8aa', 'remembers', 'Domestic', 'Terrorism', 'vets', 'personnel', 'OOC', 'volent', 'huh', '#teamtrill', '#BunB106andPark', 'trend', 'Retro', 'GS', 'Citrus', '$120', '#thesolesurvivors', 'acostumou', 'escrever', 'Bullets', 'Danger', 'Lives', '#Vh1', 'NAMAN', 'BUKAS', 'SARAP', 'MANAPAK', 'JET', 'BLACK', 'HEART', 'stated', 'rushed', '#cybercrime', 'killer', 'Lived', 'nov', 'nyehehe', 'doctors', 'appts', 'bahamas', 'McCormick', '467th', 'overall)', '#SJUBase', '#MLBDraft', '#Rockies', 'PAK', 'NZ', 'Target', 'Pak', '189/5', 'Overs', 'Younus', '89*', 'Afridi', '12*', '#AgentsOfSHIELD', 'Channel', '\\u200bWhy', 'Buck', 'mountain', '#adirondacks', '#hiking', '#bcafc', 'kit', 'Bfd', 'burns', 'UMVC3', 'Monthly', 'SD', 'Undefeated', 'LAPD', 'Commander', 'dispatched', '06:38', '7/25', '#ICC2015', 'Willow', 'Creek', 'sing', 'Greetings', '#Blessed', 'Reflections', '#StennerWoods', '#Didsbury', 'touring', 'ALERT', 'potential', '946', 'Patients', 'Impacted', '#DataBreach', '#ALERT', 'Dude', 'walmart', 'maryland', 'Teg', 'SUBSCRIBE', '#Tegrenation', 'chevre', 'loyal', 'ally', 'grandscruffy', 'finds', 'rarely', 'pope', 'effort', 'clothes', 'indiegogo', 'Tue', 'Announcement', 'Fund', '#crowdfunding', 'purposely', 'screaming', 'boing', 'injure', 'mom#priceless', 'Embraer', 'spark', 'Titusville', 'turnaround', 'Radebe', 'Zuma', '#Parliament', 'delivering', '#Cabinet', 'SM', 'Town', 'forgave', 'Gigli', '#FourthTeenager', 'Avast', 'AntiVirus', 'PROFIONAL', 'Key', '4.8', 'PROFESIONAL', 'Keygen', '----', 'dagnabbit', 'argument', 'rival', 'gangs', 'spa', 'vet', 'orders', 'swims', 'occasionally', 'Aabot', 'tayo', 'xd', 'oig', 'pego', '#CreoEnTi', 'por', 'probes', 'Juniper', 'Networks', '“@BBCBreaking', 'Orleans”', 'NRA', 'parade-goers', 'armed', 'Bet', 'messages', 'disconnects', 'forum', '#transit', 'Kershaw', 'Exec', 'Head', 'Orchard', 'EuroVPS', 'celebrates', 'Promotion', 'VPS', 'Database', 'virtual', 'huge...that', '#VideoRecorder', '#7', 'Flip', 'MinoHD', 'Camera', 'Hour', '#cheaptweet', 'Reads', 'Texts', 'Daughter', 'Caught', 'pic.twitter.com/JNtMYjwo3u', 'Sunshine', 'surfing', 'hot-tubbing', 'Rodanthe', 'Constitution', 'Matters', 'aaahh', 'title', 'quizzes', 'CDQ', 'Runaway', 'samples', '#NewOrleans', 'stressing', '*kisses', 'ass**sneezes', 'after*', 'tF', '.........', 'selection', 'Genuine', 'bun', '#Conference', 'Logistics', 'Informatics', 'Sciences', 'LISS', 'Guarda', 'Costeira', 'italiana', 'recupera', '116', 'imigrantes', 'Roma', 'EFE)', 'anunc', 'Nobbs', 'Close)is', 'environment', '19th-century', 'Ireland', 'rename', 'whistles', 'Finna', 'Chill', 'Doinq', 'Shxt', 'Mouth', 'Hurts', 'LMAO', '#SharkNation', 'RUMOR', 'Samsung', 'Unpacked', 'Barcelona', 'educate', 'racism', 'presidential', 'inflation', 'fluctuations', 'Etc', \"You'd\", 'MiltonSecurity', '#vBulletin', 'mandatory', '#password', 'Mukhang', 'nabangga', 'Alden', 'taz', 'bubusina', 'oras', 'amnesia', 'sya', 'hula', 'Nieuws', 'komt', 'op', 'KKK', 'anti-DDoS', 'claim', 'pic.twitter.com/U9gcgRb8zE', 'Calif', 'one-year-old', '#RussianSpring', 'Appreciation', 'sacrifices', 'Twitpic', 'filled', 'Wearing', '#bluelivesmatter', 'FUTURE', 'HE', '#SofaKingFlyy', 'FAVS', '#ReallyDoe', 'fashionably', 'trials', 'believed', 'Tennesse…', 'dresses', 'Lilia', 'wears', '(#Johan_Stars_07', '“@allinwithchris', 'skin-tight', '“@nbcchicago', 'cafeteria', '#MPHS', 'Surprise', 'BenQ', 'Gaming', 'Monitor', 'RL2455HM', 'ACC', 'candidate/commissioner', 'meetings', 'bacteria', 'meningitis', '130k', 'Vous', 'voir', 'mais', 'monde', 'Pontianak-Ketapang', 'Tuesday-Fight', 'Wednesday-MvC3', 'Fight', 'Pringles', 'iiqht', 'hopping', 'buckhead', 'muse', '717', 'Nw', 'Dc', '#turningpoint', 'hash-tag', 'formalities', 'LF1N', '04:57', 'tempted', '#FeedYourFaith', 'POURING', 'brawl', 'Presbyterian', 'Reda', 'reception', 'Joaquin', 'Modern', 'Kaufman', 'popsycle', 'Line-up', 'Screen', 'upgrade', 'BlackBerry', 'Bold', 'betting', 'partner', 'Overnight', '52', 'southeast', 'arrival', 'kingdom', 'rele', 'non-cancerous', 'tumour', 'leg', 'probs', 'av', 'respective', 'band', 'annoy', 'nah', 'laid', 'corn', '485-519', '363-390', '1.4', 'loss', 'yr/yr', 'assumptoin', 'px', 'MOD', 'Pou', 'APK', '11:08', 'Feels', 'releasing', 'emotionally', 'ritual', '#MARCH', 'Som1', 'cum', 'thn', 'chasin', 'makin', 'leav', 'PTTTTDDDDDDDDR', 'gars', 'wsh', 'cali', 'dftar', 'yuk', 'ada', 'BOX', 'bonus', 'dr', 'chip', 'ditukar', 's/d', 'loh', 'Grade', 'loko', 'pig', 'pinata', 'heavy', 'rains', 'BJP', 'vision', 'document', 'Delhi', 'polls', 'AH', 'Concert', 'society', 'gunplay', 'go-to', 'conflict', 'resolution', 'Chester', 'mile', 'PPL', 'Yassss', 'queen', 'kpop', 'Biker', 'Gang', '2/22/15', 'Blok', 'Djs', 'N-Greet', 'performances', 'sponsorship', 'FyrizSekiya', 'flagged', 'TGIF', 'female', 'Shootings', 'Sooo', 'rising', 'senior', 'Leadership', 'yeeee', 'consideration', 'brightens', '#microsoft', 'pic.twitter.com/NU2VO5Al8W', 'rescue', 'searched', 'survivors', '9/11', 'Cant', 'ray', 'rice', 'Identified', 'located', 'Fresques', '#Midvaleshooting', 'tally', 'Godbless', 'Weekly', 'procrastinator', '#theforce', 'festive', '#polair', '#starwars', '#theforceawakens', '#stormtrooper', '03:39', 'Spent', 'puking', 'fretting', 'slack', 'saving', 'gas', '7am', 'Meijer', 'deals', 'Suave', 'Lotion', '0.25', 'Grinders', '0.59', 'Gatorade', '0.97', '/lb', 'sunset', '#btv', 'time-lapse', 'sec', 'Intervals', 'Champlain', 'Retweet', \"Roshe's!\", 'Shame', 'SnapChat', 'lolz', 'xddd', '#MedicalJobs', 'CT/Rad', 'PRN', 'TX-Fort', 'Worth', 'physicians', 'advances', 'okkkh', 'meri', 'hassi', 'sae', 'kon', 'ra', 'hae', 'dayan', 'passing', 'pa-fall', 'slacker', 'pobre', 'sol', 'conoce', 'Anybody', 'waits', 'AFTER', 'scanned', 'calculated', 'checkbook', '#Belgium', '#Shoppers', '#Survey', 'EPC', 'Familia', 'Yanks', 'Construction', 'Pipeline', '15.2', '#HotelTrends', '#SmithTravelResearch', 'oct', 'hook-up', 'long-term', 'Answer', 'at-your', 'bod', 'HINDI', 'KAYO', 'NAPAPAGOD', 'KAYA', 'IPOWER', 'VOTE', 'PARA', 'MAHABOL', 'HUMAHABOL', '42', 'Sniper', 'buwan', 'pagmumura', '06:03', 'Explorers', '3-5', 'episodes', 'K-On', 'NAB', 'elections', 'Hamza', 'careful', 'moved', 'hardly', 'Hiding', 'Russia’s', 'Nuclear', 'Treaty', 'miren', 'video0', 'ESTA', 'SIENDO', 'ATACADO', 'LOS', 'GUSTA', 'imagination', 'english', '#HeyThatsSoTrue', 'Jueves', 'Parcialmente', 'nuboso', 'lluvias', 'Temperaturas', 'Viento', 'dir', 'Sureste', '#Maracay', 'travelling', \"/I'm\", 'mentions', '#anal', '#asshole', '#ass', '#gaping', '#butt', '#asses', '07:12', 'substitute', 'viewership', 'moves', 'Television', 'consume', 'Joins', '11.30', 'Treatment', 'L19', 'friendly', 'quitting', '#Stoptober', 'flew', 'FlyDoha', 'Qatar', 'IFE', 'Baka', 'Boyz', 'Elements', '103.5', 'Soreal', '$150', 'VIP', 'booths', '916.960', '8120', 'glist', 'THAE', 'ISBWE', 'HAPOENFING', 'oreo', 'loob', 'pati', 'kitkat', 'aggggggh', 'forecast', 'Taeyeon', '#SNSD', 'TIKI', 'YULEE', '#IGOTMYPEOPLEWITMEBASH', '#GETBUCDJS', '#Alliance', 'OWN', 'i`ll', 'KOMENTAR', 'Untuk', 'Penampilan', 'Ke2', 'TITIK', 'BLITAR', 'KONSER', 'FINAL', 'Kid', 'Cudi', 'Opens', 'Cocaine', 'Mariel', 'Concepcion', 'hadd', 'thirsty', 'Fck', '#teamkatstacksbitch', 'Mijn', 'Loket', 't/m', 'beschikbaar', '*wakes', '2070', '#SanayaIrani', 'sseee', 'comment', 'subscribe', 'showering', 'English', '20-year-old', 'alle', 'suspension', 'naba', '#Miami', 'Rescue', 'spokesman', 'Lt', 'Ignatius', 'Carroll', 'hats', 'equal', 'amiright', '#Bulgari', 'bvlgari', 'sunglasses', '45.00', 'Jul-19-2015', '1:43', 'PDTB', '#recycledclothing', 'misaddressing', 'Informer', 'FINALLY', 'corrected', 'label', 'printing', 'Pinky', 'porn', 'rap', '_', '9/2015', '#floodmywall', 'fails', 'LiLo', 'websites', '#CISO', 'pic.twitter.com/i2DD4AZGXk', 'trippin', 'drizzy', 'leon', 'slept', 'll', 'havent', 'notifications', '#foreveralone', 'Songs', 'Bomba', 'Estereo', 'Siento', 'Interlochen', '#prayforneworleans', 'Tidyin', 'soo', 'nasty', 'naturally', 'curly', '#PLL', '#NoEscApe', 'Australian', 'Bureau', 'Meteorology', '$100', 'parinig', 'sige', 'araw', 'yon', 'Jerman', 'perayaan', 'Perang', 'Bantal', 'Sedunia', 'dirayakan', 'neice', 'nx', 'spoil', 'rotton', '.......................', 'cares', 'senseless', 'China-linked', 'Airlines', 'Sabre', 'have…', 'Hospitality', 'REIT', 'APLE', 'Ex-Dividend', 'Scheduled', '#rumors', '#iDevices', 'bare', 'terrible', '6+', 'legged', 'cassie', '19/06', '20/06', '21/06', '#karaoke', 'HATE', '!!!!!!!!!!!...', 'Proverb', 'hall', 'Rt', 'kinikilig', 'nighttttt', 'tomorrow-Sunday', 'ACF', 'Large', 'PITT', 'Learning', 'G24', '07:27', 'Puis', 'coifferais', 'avant', 'anniv', 'Snowstorm', '#CloseFcps', 'Parts', '(*', 'Parts*)', 'fri', 'bookkeeping', 'hoodoo', '04:30', '#BEChat', 'LGBT', 'advocates', 'SEAsia', '6.30', 'BKK/JKT', '7.30', 'SG/MLA/KL', 'Suck', 'dick', 'argh', 'hands', 'dying', 'gloves', 'PAPER', 'AKONG', 'KELANGAN', 'IPASA', 'ANONG', 'GINAGAWA', 'ETO', 'NANONOOD', 'CALLED', 'TADHANA', 'goibibo', 'Rs1000Gocash', '02:29', 'allows', 'errors', '!!...', 'Hartford', 'censored', 'Verge', 'revolution', 'idiots', '#camilafollowmetonarnia', 'WorldWide', 'bulletin', 'Il', 'joue', 'prof', \"d'espagnol\", 'Grosse', 'poukave', 'PTDR', 'lcontraire', 'sport', 'g', 'Quiet', '#HyukBestMaknae', '09:53', 'Moves', '#Mirage', '21+', 'taco', 'crap', 'BIZJOURNALS', 'Cary', 'Triangle', 'TIFF', 'Tdot', 'ALWAYS', 'Managed', 'EVA', 'MENDES', \"Didn't\", 'autographs', 'loves', 'grind', 'wassup', 'Salute', 'ugly', 'sweaters', 'love-', 'outta', 'wann', 'herz', 'Kevin', 'Pietersen', 'Top20', 'Pune', 'Trends', 'Footballers', 'Fieldhouse', '8:30', '#Sedia', '#Heinz', '#utiket', 'Soul', '#Concert', '#twistedsoul', 'SAM', 'Jour', 'Fan', 'Lamentable', '#usa', '#elsalvador', 'tienen', 'entender', 'los', 'cobardes', 'siempre', 'atacan', 'espaldapic.twitter.com/FwYsDhCacm', 'IRS', 'Computer', 'Minsan', 'naiinlove', 'mahal', '01:09', '#VoteLeePaceVillain', '#DCNavyYard', 'loco', 'mundo', 'Samuel', 'CJ', 'WWE', 'NXT', '#useless', 'plaudits', 'Welbeck', 'poor', 'bahahah', 'hyper', 'Courthouse', 'Till', 'Sacrifice', 'MISSING', 'year-old', 'Dominic', '#EastLeake', 'POPS', '1980', 'exo', 'daesang', 'award', 'GDA', '*slaps', 'faces*', 'Public', 'encouraged', 'memorial', 'jazz', 'Caliman', 'Baptist', 'Musical', 'Coba', '(@The_Cobes', 'match-high', '#GoVandals', 'Dawn', 'Returns', 'seekers', 'Santi', 'Cazorla', 'produced', 'central-midfield', 'masterclass', 'international', 'penalty', 'NYR', '1st-rd', 'busts', '98-02', 'vomited', '#king', '#Metro', 'overestimated', '#vanpool', 'Twas', 'aged', 'savage', 'honk', 'Aaaaah', 'Baveh', 'Nate', 'rid', 'touching', 'mcdonalds', 'nigh', 't.i', 'Reading', 'Long-press', 'URL', 'Shared', 'Renee', 'shortcut', '#UNM', 'COP', 'Coin', '#Infloodwetrust', '05:00', 'socialtv30duplicate2', '1986', '16:26', '36', 'Underway', '#STLCards', '#LoveRed2', '6:41', '#NDWX', 'subscribed', 'joy', 'societal', 'advancement', 'technological', 'XI', 'Sion', 'Anfield', 'dalam', 'lab', 'volunteer', 'translation', 'Research', 'disseminated', 'beyond', 'barriers', '#408', 'SilkWorm', '2400', 'Fiber', 'Switch', '90.00', 'Jan-16-201', 'woaahh', '9/20', 'Incentives', 'raffles', 'ustream', '2day', 'UI', 'faculty/staff', 'immediate', 'Eng', 'innings', 'airport', 'federal', 'MILLIONS', 'lesson', 'stalked', 'flipboard', 'heinous', 'bathroom', 'attendance', 'Jumbotron', 'CAFE', 'NINE', 'boyz', '#muchlove', 'Rumba', 'Mdr', 'prenez', 'dernier', 'comme', 'voulez', '#VANITYGRAND', '#LIT', '#TRAPQUEEN', 'B4', '11PM', '2-4-1', 'DRINKS', 'Chevrolet', 'Impala', '1961', 'impala', 'bubble', '00', 'Sep-14-201', 'timetable', '5:30', '2:00', '#fairtrade', 'anek', 'kicu', 'dstw', 'patuakhali', 'university', 'bt', 'howe', 'thakbo', 'dibo', 'abar', 'Dillion', 'graduates', 'BOOM', 'Planned', 'Drill', 'Cure', 'joined', 'o.O', 'IRRIRATED', 'Republicans', 'mucks', '00:43', 'defeated', '10-0', 'NCC', 'district', '#windistricts', 'symbols', 'Sotheby', 'twentieth', 'DJing', 'Mai', 'Tai', 'TIE', 'scouts', '11:50', 'AMp', '#PHOTOS', 'Biotissima', 'Bucharest', 'Romania', 'disciplining', 'y/o', 'journalist', 'FOIA', 'magic', 'bother', 'burnt', 'af', '*inserts', 'lobster', 'emoji*', '#Dailymotion', 'Edin', 'Dzeko', 'Friendly', '14-8-2015', 'ruin', 'EXETER', 'ENGLAND', 'Punters', 'brave', '#badtatzmannsdorf', 'LUNGKOT', 'LIGAYA', 'PAGSUBOK', 'SAGOT', 'PAG-ASA', 'HAPPINESS', 'KEY', 'parachute', 'paris', 'hilton', 'blowjobs', 'earn', 'feed', 'angry', 'habbit', 'Sandra', 'schedules', 'Ballyhoo', 'conduction', 'adapter', 'congenital', 'bounden', 'Sxsf', '#if9', 'Fatal', 'Newark', \"it'...\", 'Link', '#brilliantblogposts', 'Lama', 'Choepa', 'puja', 'unreal', 'QUEZON', '#walangpasok', 'LEVELS', 'suspended', '2015)', '#INDvsTEN', 'aircraft', 'Share', '223,000', '#veterans', 'Kansas', 'Preserve', 'KHC', '#grant', 'Deadline', 'Pinal', 'clubhouse', 'Jst', 'lock', 'nite', 'workz', ':-D', 'Miramichi', 'Folksong', 'Luncheon', '#959sunfm', '#Miramichi', 'leaked', 'ground-breaking', 'inoffice', 'wetting', 'appetite', 'PaperGods', 'walkin', 'foo', 'MODERN', 'LYNCHING', 'Eric', 'Bledsoe', 'rebound', 'shy', 'PHX', '111-100', '#SunsVsMavs', 'VOTING', 'CLOSES', 'COUNTDOWN', '11:29', 'Corbyn', 'Andrew', 'Marr', 'ESB', \"work...don't\", '#famouslastwords', 'Smile', 'convo', 'F%#*', 'Loser', '#Itsthe', 'BBL', 'EBL', 'tmrw', 'Euroleague', 'qualifiers', 'tues', 'haz', 'withdrawal', 'symptoms', 'Papers', 'knell', 'executive', 'pensions', 'growt', '#FedDecision', '#Worldwide', 'EMA', 'Milan', 'Italy', 'family-friendly', '#appfriday', '[#wildhackathon', 'agricole', 'doit', 'prendre', 'ses', '#datas', '02:33', 'curren2956xiy', 'Swim', 'teams', 'bronze', 'medal', 'Saginaw', 'Heritage', 'Relays', 'begins', 'Wage', '#FightFor15', 'Mama/', 'Button', 'disease', 'FACT', 'THOGHT', 'SHAWN', 'CAME', 'HAHAHAHA', 'graduate', 'Twinsie', 'Inspired', 'Shoes', '06/12/2015', 'Kill', 'List', 'Wars', 'Scope', 'Bey', '2,127,383', '173k', 'Seconds', 'Yayaayayay', 'ultimate', 'DAMMIT', 'WENT', 'WITHOUT', 'clowns', 'Morton', 'Salt', 'motto', 'Murphy', 'prove', 'belong', '#NXTTakeOver', '#NXTTakeOverRespect', '#ApolloNation', '#gifted', '#tooeasy', 'kathcakeees26', 'knsolidified1', 'bolido123', 'immadam_angelo', 'pca_moh4', '09:01', '#happybirthdaymichael', 'Englewood', 'DBS', 'Optimizing', 'Information', 'Mobile', '#BHAFC', 'Walton', 'GK)', 'Hughes', 'Rea', 'Chicksen', 'Colunga', 'Mackail-Smith', '#BHAvAFC', 'Glassi', 'Junction', 'bars', '#DANDENONG', '#FOOD', '#GLASSI', 'Salem', 'Dish//', 'Chef', 'Menu', 'Spoons', 'Caramalized', 'Onion', 'Tarthousemade', 'tart', '09:17', 'Zennie62', '#vlog', 'politics', 'damndest', 'manages', 'Cisco', 'certifications', 'Pearson', 'VUE', 'Seven', 'G', 'Gresham', 'neighborhood', 'Kudos', 'Lois', 'Tenshi', 'Fureta', 'memorize', 'Relieved', '#CelineDion', '#Music', 'Colour', 'Celine', 'Dion', 'CD', 'Nov-1993', '550', '#Love', 'immediately', 'KABC', 'shooters', '#21Alive', 'hunch', 'Adam', 'Gulp', 'miler', 'unprepared', 'aloud', 'deposition', 'Nijverdal', 'sweeeet16', '#partyyy', 'Rushing', 'Suggest', 'rajdeep', '2read', 'Clots', 'nvr', 'covered', 'massacres', 'Kennesaw', 'Battlefield', 'bedtime', '06:57', '#Devilian/Livestream', 'december_tv', 'describes', 'Nawlins', 'Implicit', 'Roy', 'Greg', 'clicked', \"work:'(\", '02:24', 'ThePhoenixhour', '7-9pm', 'WKMT-DB', '#1hiphopstation', '#worldwide', 'CCU', 'participates', 'LEGENDARY', 'Truckin', 'Moldova', 'Dorado', 'Yesssss', 'ALDEN', 'MENG', 'Tamang', 'Panahon', 'kya', 'Whooohooo', '#ALDUBTheBigSurprise', 'Nouvelle', 'GR', 'Suisse', 'cours', 'natation', 'musulmanes', 'divisent', 'unexpected', 'ripples', 'Goodness', '#TGIBF', '#12sEverywhere', 'overly', 'bolstered', 'Site', 'buckle', 'heads', 'KSC', 'Filmed', 'Dro', 'Cap', 'HARLEM', '545454', 'Reivers', 'machines', 'Hes', 'mates', 'boring', 'advised', 'shelter', '#TEAMBOMADE', '7-10pm', 'Trophy', 'Gwinnett', '3254', 'Clu', 'MAP', 'minute', 'iyiyi', 'you143', 'LIVING', 'WAR', '#Wrestlemania', '#StingVsTripleH', 'Mulcair', 'hookey', 'debates', 'snubbed', 'GETTN', 'FUCKED', 'habit', 'Comets', 'circle', 'universe', 'hundred', 'progress', 'hello', 'hazza', 'Followback', ':\"', 'INDONESIA', 'birthday^_^', '#keeplonghair', '264', 'filipino', 'MAPEH', 'Bakersfield', 'looool', 'mcdz', 'tryin', 'funds', '$500B', 'short-term', 'investments', 'corporations', 'pala', 'ngayon', 'malalaman', 'gentleman', 'lipstick', 'Ceremony', 'Sachin', 'Tendulkar', '????.', '!!,', '!!!!.', 'Sushi', 'Sundown', 'SWEETY', 'GIVe', 'YOu', '50000', 'Tulog', 'maguupdate', 'sainyo', '#YaGunnersYa', '#LiveOnKOMO', 'ties', 'digs', 'Boyfriend', 'Valentines', 'Bie', 'shattered', 'lay', 'Curtiz', 'Marry', 'FUUCCCKKKK', 'ALONE', 'TURNS', 'MADI', 'ILLNESS', 'W/DAD', 'Demi', '#CoolForTheSummer', 'fucked', 'sincerely', '#82', '72F7210', '9556', 'RISER', 'BOARD', 'WARRANTY', 'eBay_US', '50.00', '#Data', 'Seat', '#cybersecmonth', 'Adeus', 'noites', 'bem', 'dormidas', 'Fabulous', 'Killjoys', \"november'\", 'Kapal', 'Angkutan', 'Barang', 'Tenggelam', 'Sungai', 'Siak', 'Pekanbaru', 'Motor', 'Sinar', 'Surya', 'tenggelam', \"i'mgoing\", 'AF1', 'Custom', 'Esther', 'Sikkimese', 'bunch', '103', 'Scant', 'Biographical', 'Emerge', 'school…', 'Scary', '#MesaShooting', 'refund', 'fuuuuuuuuck', '21:41', 'SOLO', 'WOULD', 'ALOT', 'BEGGING', '(((', 'TYSM', '#ACCESSTOHES', 'Chink-A-Link', 'Scratched', 'Lls', 'days/times', 'hookah', 'mix(cma', 'corbin', '03:08', 'HAVING', 'POOL', 'HOPEFULLY', 'CAN', 'SUM', 'EYE', 'CANDY', 'series', '7.40', 'consoltation', 'laser', 'tattoo', 'Functional', 'CES', 'Though', 'Voxel8', 'printers', 'fit', 'industrial-grade', 'endea', 'shirtless', 'cinco', 'Whoo', 'Seahawk', 'dirtbags', 'Wheeee', 'Een', 'groeiproces', 'ruimste', 'zin', 'woord', 'arriveerde', 'toen', 'kilo', 'Gelukkig', 'viel', 'er', 'deze', 'evenzoveel', 'weer', 'uit', 'encountered', 'Worker', 'Friday/Saturday', 'Ahok', 'Buka', 'Pendaftaran', 'KJP', 'pada', 'Agustus-25', 'Sekolah', 'Tidak', 'semua', 'siswa', 'kurang', 'mampu', 'Ibu', 'Kota', 'yoga', 'Union', 'relieve', 'educated', 'facts', 'unteachable', '#blocked', '#ThomasJefferson', '#Quran', 'natatakot', 'nako', 'balak', 'Itulog', 'evg', 'Grease', 'Nfl', 'racist', 'hulk', 'hogan', 'clever', 'Ops', 'LIVESTREAM', 'Bulaga', 'Kalye', 'Serye', '#ALDUBBirthdayPLAN', '#FirstOnScene', 'several', 'pic.twitter.com/biEmN78BT0', 'Yap', 'mron', 'gf', 'SoPher', 'NewStart', 'KNEW', 'Awh', 'unfortunately', 'theycame', 'single/3rd', 'Kasich', 'POTUS', '#PJNET', '#WakeUpAmerica', 'everthing', 'happening', 'Winchester', 'TL', 'shouldber', 'cleared', 'Donald', 'Trump', 'birther', 'somehow', '#EDWeekly', '.!', 'LAGUNA', 'PROVINCE', 'bottled', 'installed', 'filter', 'Water', 'angelo', 'kasalanan', 'Yna', '#PSYWhistleblower', '#ShowtimeHarana', 'NSW', 'Teams', 'Tennis', 'Champions', '#meridentennis', '#nswallschools', '10:57', '320K+', '#hack', 'www.scmagazine.com/320k-time-warner-cable-customers-possibly-victimized/article/463803/', 'Linden', '#EUreferendum', 'weather.com', '&quot;.', 'whittier', '#FridayFoto', '#MichiganCityBuoy', 'hitchhikers', '#LakeMichigan', '#EdMemphis', 'SpinRilla', '#MineForYours', 'AVAILABLE', '#California', '#Texas', '#NY', '#Memphis', 'Combat', 'SEO', 'Infuriating', 'Problems', 'Whiteboard', 'Moz', 'vip', 'Gomez', 'Favourite', 'Vanessa', 'Hudgens', 'Crystal', '#FridayThe13th', 'protests', 'enjoys', 'mindless', 'mayhem', '09:58', 'Indian', 'Suspends', 'Student', 'Accused', 'Spreading', 'Hatred', 'Toward', 'Bullpens', 'Stay', 'Odds', 'Ends', 'parades', 'staple', 'Badass', 'Babes', 'Savin', 'CHIX', 'ROXPERIENCE', 'WEEK', 'BWW', 'Az', '#prelimsweek', 'Vistes', '#Tarragona', 'Balco', 'Mediterrani', 'Biannual', 'Focus', '1:00', 'King', 'challenges', 'Chemours', 'plant', 'Niagara', 'Falls', 'SHARE', 'flier', 'Nazi', '#Riga', 'listenin', \"rockin'.\", 'Gucci', '!&quot;', '#nodisrespect', 'fucks', 'CONFIRMED', 'FA', 'replay', '7.45', 'BBC1', 'bestfriend', 'smdh', '#doinme', 'Blegh', 'Staffing', 'agency', 'miscommunication', 'w\\\\the', 'client', 'temp', 'usual', 'Coach', 'Dantonio', 'speaks', 'shield', '#Touchnote', 'postcard-producing', 'pic.twitter.com/MuscZsa0DY', 'CSR', 'CLASSICS', '3333ll', 'TOTALLY', 'prancing', 'username', '#OyeEtoAhoraDike', 'mult', '#AunSigoAsombrado', 'realised', 'Brando', 'ps', 'Pregnant', 'fiscal', 'upswing', 'thi', 'Somaliland', '#Somaliland', 'Boo', 'Ta', 'Wilmington', 'dangerous', '9PM', 'POWER', 'Hashtag', '#PSYGameOn', '69', 'sneaks', 'finding', 'Devotion', 'advise', 'Willie', 'Mae', 'Thornton', '1926', 'Beauties', '#BatB', 'named', 'Roman', 'Janus', 'Hyo-Yeon', 'CNET', '#tech', 'BeAsT', 'smexy', '!!;', ')And', 'Handler', 'boyfren', 'cutest', 'yummyyyyy', 'goodies', 'xxxxxx', 'RTs', 'streaking', 'halftime', 'Walsh', 'Jesuit', '#Kick2', 'kummindi', 'BGM', 'kuda', 'sariga', 'istey', 'malla', '#Kick', '#wEDnesday', '11:02', 'Experts', 'hei', '#cnet', 'knows', 'Mrs', 'Governor', 'enjoying', 'ain', 'makeup', 'Tucson', 'AZ', 'AVA', 'Amphitheater', '#FullSpeedTour', 'Tix', '#losers', '#youusedtoknowhowtoflush', '#followthrough', 'Edward', 'BACK', 'USSS', 'Guided', 'Quran', '#France', '#God', '#atheism', '#atheist', '03:18', 'Joyeux', 'Noel', '#Duo', '989', '#fitblog', '#hls', '#31DBBB', 'MTG', '1x', 'Moderately', 'Regrowth', '#MTG', '#magic', '#magicthegathering', 'weeks-', 'lads', 'Wazza', 'amongst', 'force', 'autumn', 'forests', 'Jadwal', 'Badminton', 'Putri', 'Perebutan', 'Juara', '18.30', 'Pajak', 'Akun', 'Woohoo', 'yey', \"How're\", 'Explosion', '28-Nov', 'athletes', 'prosperity', 'joyful', 'adversity', 'consider', 'Ecclesiastes', '7:14', '#JESUS', '#TRUTH', '#jesustweeters', 'HOOT', 'absoroootly', 'hoot', 'Empls', 'Deborah', '#Speech', '#Pathologist-Childrens', 'Rehab', 'Patricia', '#Referral/#Auth', '#Spec-#Womens', '#Care', 'Ooooo', 'dc4c', 'co', 'rec', 'kilkenny', 'hurling', 'Woo', 'daij', 'faced', 'evenin', 'hbu', 'warmth', 'laughter', 'xDlmfao', 'Buckle', '#ATLvsCAR', 'Kinda', '#PremierLeague', '4:30', 'pm-GMT', 'LOVEEE', 'REBOOT', 'Teaser', 'Image', '#WonderGirls', '#REBOOT', '#NASCAR', '#Camry', '#NYIAS', 'mot', 'coincidence', 'butler', 'eyepatch', 'kep', 'thjnking', '2015/12/07', '12:38', 'Graduation', 'CLASS', 'Penders', 'inspired', '#GoodNight', 'Soundcloud', 'PROBABLY', 'SPENT', 'FEW', 'MINUTES', 'SHELTER-STALKING', 'REALIZING', 'LEGENDARY/NOVELTIES', 'Jalouse', \"t'aime\", 'Viens', 'boussa', 'Kay', 'lest', '=/', 'devotionals', 'KANSAS', 'Mo', 'weekly', 'occurrence', 'esp', 'Government', 'pressure', 'NHS', 'depressed', 'tom', '5TH', 'HOES', 'LOYAL', 'oth', 'ExMuch', 'B-day', 'howtohustle.net', 'Prodigy', 'Disruption', '#SouthernTrains', '(^-^)', '#NormanReedus', '#DarylDixon', 'Nah', 'tinanong', '#SanBernadino', 'Weed', 'ratchetness', '#HomeTraining', 'Naw', '4ever', '04:59', 'furniture-', 'paintings', 'hubby-', 'neuro', 'stock-', 'interview-', 'Jonas', 'Bros', 'kiddo', 'w/me', 's02e20', 'Tea', 'Englishman', 'Diego', 'Talkin', 'Comic-Con', 'nein', 'das', 'ist', 'von', 'meinem', 'bruder', 'aber', 'bei', 'ihm', 'staubt', 'nur', 'ein', 'kann', 'ich', 'schon', 'und', 'prod', 'Tidora', '#ALDubEBforLOVE', \"'@krtgrphr\", 'Harii', '666', 'depict', 'moodu', 'namalu', \"..'\", 'tybg', 'wens', 'bdayy', '??!!', 'Ladder', 'Taken', 'Janua', 'Killers', 'harbored', 'anti-government', 'ideology', 'Tribune', '#YOUBLAMECLIVENBUNDY', 'Cola', 'personas', 'abordar', 'ferry', 'puerto', '#Mytilene', '#Lesvos', 'noviembre', '#refugeesGr', 'ECS', '2v2', 'TPC-Audubon', 'Michael__Myerz', '|LIVE', 'NOW|', '#meerkat', '06:54', '#OnlineTV', 'wore', 'row', 'RIP', 'drummer', '#aggy', '#OneoFMYfollowErs', 'crock', 'shyt', 'disguised', 'tennis', 'today~', 'justinbieber', 'daianerufato', 'ilysm', '05:15', '356', 'Asante', 'Choir', 'Emanuel', 'A.M.E.', 'Holy', 'yap', 'gilid', 'Roxas', 'NEWH', 'Atlantic', 'City/Philadelphia', 'Thirsty', 'JUCO', 'RB', 'Offense', 'TmarTn', 'gotten', 'GT-R', 'M3', 'Notary', 'Assignment', 'Notarization', 'Simple', 'Affidavit', 'Lamar', 'barely', 'motherfuck', 'Last-minute', 'gig', 'Brass', 'Tarik', '7-11pm', \"Gumbo's...\", 'Affecting', 'vfdt', 'fines', 'antitrust', 'historic', 'levied', 'saves', 'wonderwall', 'malware', 'restaurants', 'CHECK', 'Tv', '23-03-15', 'Tamil', 'cherry', 'whites', 'excuses', '#NOSBRocks', 'Boise', 'ID', 'AK', '#tadic', '02:08', 'patate', 'mai', 'dise', 'oui', '#ss4', 'NITES', 'CRANK', 'NEEDED', 'LADIES', '247', 'AVE', 'HKY', 'Tawanan', '.\"\"', 'Capitol', 'rearview', 'mirror', '#ILoveDC', 'Tbuddies', 'FREESTYLE', 'Chat', 'topics', 'Drawing', 'Bridge', 'cood', 'Doha', 'Nobu', 'Restaurant', 'Malibu', '#13-16', 'hooping', '#RiverPlate', 'Savage', 'sadyang', 'nagtatampo', 'masarap', 'batukan', 'Tangina', 'Phillip', 'Phillips', 'justt', 'forr', 'thou(', 'Said', 'traumatised', 'shudders', 'Mines', 'Parque', 'Povo', 'PR', 'prepaid', 'competitor', 'telly', 'tender', 'pustules', '#hackers', '#freebsd', 'Meade', 'mehr', 'dann', '#duellumdiewelt', '#bilderdiekeinerversteht', 'Ikaw', '\\\\\\\\Happy', 'Monthsary', 'Gimme', '5//', 'denies', 'Pre-meal', '#AzaroLocal', '#Brighton', '#Hove', 'dawg', 'mommys', 'sacrafices', 'task', 'BedRock', '2009', 'Investigations', 'Continue', '#LinodeDataBreachpic', '.twitter.com/NNtHfrRtxu', '#sfgiants', 'pitches', 'Vodafone', 'alert', 'guests', '#nyc', 'DINNER', '#navgk', '#AllIWantIs', 'Pakistan', 'custom', 'blogger', 'Prosecutor', 'followed', 'fatally', 'victim', 'Graniteville', 'Nos', 'daronnes', 'pleut', 'elles', 'sont', 'toujours', 'LINGE', 'mdrrrrr', 'keuken', 'bij', 'Delphi', 'toch', 'ooit', 'nog', 'qui', 'entrain', \"d'me\", 'dire', 'ntm', 'TONYS', 'TICKETS', 'tix', '#10DaysOfTonys', 'catholiques', 'ces', 'fondamentalistes', 'assassins', 'Renault', 'zoom', 'twofold', 'Tulowitzki', 'SS', 'pleure', 'deja', 'pere', 'ta', 'tete', 'boloss', 'Conquers', '#ROOMmovie', '$30', '#Giveaway', '9/25', 'benefit', 'Penny', 'transplant', 'www.flancers.com', 'Enigma', 'Reloaded', 'relaunched', 'mosaic', '9/13', 'wort', 'anxiety', \"attack...we'll\", 'upload', '#HindiLahat', 'pilit', 'pinagsisiksikan', 'sarili', '#GiveAdenanAChance', 'Najib', 'Langkah', 'Cegah', 'Keganasan', 'Diperkukuh', 'PEKAN', 'Perdana', 'Mente', '#PrkDR', 'Eventide', 'Edition)By', 'Catherine', 'Olson', '6.49', '#twilight', 'FASTER', 'scan', 'doodles', 'Oak', \"Cap'n\", 'quite', 'emo', '09:50', 'rr', 'math', '#smartboard', 'Kim', 'doctored', 'forms', 'invalid', 'impeach', 'idiocy', 'stops', 'annoying', 'rap)', '#Eritrea', 'Eritrean', 'stings', 'belly', \"that'd\", 'smacked', 'cat', 'haircut', 'believes', '07:07', 'Witnesses', 'gameplan', \"aren't\", 'threes', 'thrives', 'coaching', '#TheJesusTouch', '#JumpingLaBaule', 'Gert', 'Bruggink', 'Connelly', 'totalisent', '12pts', '4186', 'Buford', 'Hwy', 'Texting', 'SLEDGE', 'Cov', 'turnt', '#Lush2015', 'nahh', 'VERY', '#Padres', '#ScoreSomeRuns', '#Cancer', '#HelloMornings', 'Standard', 'biotch', 'hashtag', 'bantayan', 'magsspam', 'gumagawa', 'accts', 'spam', '#PSYAngPagsinta', '730', 'Boeing/Lockheed', 'protest', 'Force…', 'Carolina', 'vou', 'ver', 'Lentek', 'trapek', 'aabot', 'ustheduo', 'galeria', 'doors', 'reservation', 'pub', '#jdwhetherspoon', '&amp;omg', 'kept', '#mychemicalromance', 'Fidel', 'Castro', 'Moncada', 'Barracks', '1953', 'represents', 'Gabriella', 'Balloon', 'glowing', \"We'd\", 'CWE', 'Delmar', 'Kirkwood', 'Bouncing', 'thrs', 'CHATTANOOGA', '#RevelryRoom', 'carried', 'woot', 'Haliburton', 'Craft', 'welcomes', 'Stinson', 'Studios', '#nowheremoment', 'Pau', 'Gasol', 'become', '1000th', 'regular', '#SEERED', 'BABALA', 'naiiinggit', 'nanggugulo', '#ALDUBBATTLEForACause', 'PALA', 'BDAYS', 'OTWOL', 'PO', '-w', 'JaDineOnTheirWingsToLondon', '#OTWOLAngel', 'Punta', 'makati', 'ayun', 'babalik', 'mnl', 'Mayaman', 'pamasahe', 'hahahah', 'pull', '#bittersweet', 'cousin', 'rachelkaye7', '#birthday', '#celebration', '#growinguptoofast', 'THISSS', 'NABABASA', 'DIN', 'HARD', '#YoureMyHomeUncover', 'Ries', 'affilate', 'Allan', 'Side', 'Pointe', 'RSX', '43.75', 'Charts', '$RSX', 'N.L.', 'FRA', '11/17/2015', '14:56', 'Chart', 'Talking', 'pic.twitter.com/zNxJiOwKdS', 'Killing', 'Ur', 'Voice', 'bros', 'ANO', 'JUSKO', 'Intellectual', 'covers', 'judge', 'MetroPCS', 'experienced', '#metropcs', 'sexo', 'vivo', 'GRATIS', '#Like', '#sexy', '#cams', '#xxx', '#teen', '05:32', '#newcomicday', 'highlights', 'majority', 'houses', 'ygm', 'Lelystad', 'za', 'Schrijfster', 'tekenaar', 'Vos', 'Haas', 'FlevoMeer', 'Bibliotheek', '#boomagenda', 'fitted', 'opro', 'fitting', 'whoops', '7:15', '#Paddon', 'SS9', '0.9', '#Mikkelsen', 'pace', 'quickest', '#WRC', '#WRGB', 'Bas', 'Dost', '#nufc', 'Nash', 'quality', 'characters', '02:01', 'Bode', 'Lagosians', 'costly', 'regret', '4years', 'ducking', 'teen', 'calendars', 'Marco', 'Belinelli', '#Spurs', '#DFS', '1/31/15', 'Sundae', 'Tooth', '#FritzDLamons', 'Dabarkads', '#ALDUBNewJourney', 'maiwasang', 'masaktan', 'magselos', 'kapag', 'nagpapasayang', '/3', 'motel', 'Selamat', 'Pagi', 'Anak', 'negeri', 'Semangat', 'bersama', '#BERTENGGER', 'Fallin', 'fallin', 'experiment', 'suggests', 'Medium', 'Notes', 'facelift', 'r.i.p', 'stubborn', '#SGEFCB', 'sympathsizers', 'aiding', 'Drew', 'flag', 'Tigers', 'Fever', 'iRock', 'nvm', 'erily', 'ya//', 'fast-paced', 'generation', 'ELLEN', 'Telly', 'celle', 'soeur', 'beau', 'frere', '#kansas', 'UNT', 'bid', 'aftern', 'wreck', 'Havoc', 'indicted', '[#MadisonWeather]', '#Madison', 'funnyordie', 'Gremlins', 'caution', 'self-inflicted', 'gunshot', 'philippines', 'NCAAF', 'calf', 'bullet', '#SamuelDubose', 'Reason', 'failure', '#IndVsSa2015Serie', '#TYTLIVE', 'DONATED', '100.00', 'SAVED', 'WALLET', 'HUGE', 'DONATION', 'AFT', 'DEBATE', 'screw', 'HRC', 'pictured', 'topped', 'Barbados', 'Delivery', 'Samaritan', 'preview', '#SongFromFarAway', 'YV', 'Barometric', 'Pressure', '07:15', 'AEDT', 'Maker', 'Contact', 'Karen', '931-553-1290', 'Entire', 'Photograph', 'Photography]', 'Outside', '2000', '#SevereWX', '#OTWOLKasalKasalan', 'COMEBACK', '?!?', 'YASSSS', 'YASSSSSSSSSSSSSSS', 'smash', 'knock', 'HAIRY', 'FACED', 'DES', 'DAYS', 'TAKE', 'PIX', 'AIGHT', 'Saylorsburg', 'KimarieTorres', '05:24', 'COD', 'shown', 'Hydrating', 'DKIM', 'keys', 'Boulder', 'Colorado-based', 'tra', 'Feelings', 'casually', 'graduating', 'Scioscia', 'expects', 'Wilson', 'manager', '#Twitition', 'HELP', 'THANKYOU', 'arsenal', \"9th'is\", 'Lina', '-123', \"tomorrow,I'll\", 'entertainment', 'asses', '#detroit', 'male', '#UCCShooting', '#Cartier', 'Cartier', 'TONE', 'MENS', 'CARTIER', 'MId', '800.00', 'fish', 'fry', 'trumps', 'Poems', 'Stand', '#Firm', '#President', 'tighten', 'laws', 'nuts', 'thinkin', 'Hamilton', 'DD', '141', '1933', 'N34778', 'KB', 'Guantanamo', 'Gym', 'PITS', \"White'15\", 'postg', 'mccarthy_peyton', '12:09', 'Ukulele', 'Grunge', 'grunge', 'act)', 'patient', '#datasecurity', 'biased', 'Argentina', 'destroyed', 'Yea', '1m', 'JaDines', '#OTWOLAmericanDream', 'kangen', 'pal', 'defamation', '£', '1,387,281,974', '£1', 'Indo-UK', 'population', 'nearing', '42.0', '6:33', '#wvwx', '#wx', '#wv', 'monster', 'Terror', '#Suspect', '#Killed', '#Boston', '2:06', '08:26', '#deep', 'Dems', 'voters', 'GOP', 'Ne', 'spncrodll', 're-tweeted', 'awwwards', 'Bryan', 'WikiLeaks', 'NSA', 'targeted', 'chancellery', 'aides', 'lis', 'Mt', 'SAC', 'Chaffey', 'Jacinto', 'Camino', 'Southwestern', 'Victor', 'kitty', 'maa', 'weard', 'Ave', '#HipHopRap', '#Hurrt', 'skimp', 'braids', 'Justice', 'Breyer', 'Face', 'Koran-Burning', 'Constitutionally', 'Protected', 'Atlas', 'Shrugs', 'Lodge', 'braised', 'bison', 'shortribs', 'kabocha', 'squash', 'risotto', 'Ligo', 'ligo', 'convincing', 'thundering', 'snoring', 'sabar', 'jaa', 'escaped', 'convicts', 'Sweat', 'Geezers', '400', '#DragMatinee', 'Camila', '#VideoVeranoMTV', 'taster', 'classes', '1dlovesoned', 'It’s', 'heartbreaking', 'circumstance', 'pic.twitter.com/aL5Djt2F7m', 'june~', 'Boom', '#lunkercatch', '#lunkercatchmovement', 'Bit', 'grumpy', 'bloody', 'clogging', '#MOTAVATORMONDAY', 'Yeezy', '350', 'Boosts', 'Blackhawks', 'Stan', 'Bowman', 'Cristobal', 'Huet', '#NHL', 'tangy', 'most-injured', 'li', 'Searing', 'Nick', 'Tory', '90s', '#oreillyfactor', 'Bill', 'THINKS', 'understands', 'Amendment', '02:44', 'apparently', 'ANOTHER', 'Graham', '#stopthemadness', '#crazyshit', '#Brooklyn', 'BTOB', 'Ilhoon', 'Covers', 'Beenzino', '#3Novices', 'orderly', 'relook', '#India', '#OnlineMedia', '#android', 'GamePro', '#142', 'Tekken', 'Tag', 'PS2', 'OldGameMags', '1997th', 'lidia', 'coworker', 'Rather', 'convinced', 'sufficient', '12:57', 'Vulnerability', '#CyberSec', '#AppSec', '#SQLi', 'typo', 'resluts', 'Ahhhh', 'Minds', 'AUD', '#NYEonSpringSt', '#NYEatQUAD', '#RebelVizionz', 'x6', 'hermosa', 'Advanced', 'Warfare', 'Standings', 'ragging', \"we're...\", 'lie', 'greets', '#theepictour', 'dessin', 'Primal', 'TxT', 'Names', '678-223-3699', '6:59', 'Suspects', 'Backyard', 'inad', 'HOLIDAY', 'Jacqueline', 'recommends', 'deepika', '#Jacqueline', 'Shan', 'Ramzan', 'Iftar', 'Junaid', 'Jamshed', 'dias', 'voy', 'tuyu', 'estoy', 'mas', 'manija', 'vieja', 'KathNiel', 'Lovestory', 'MMK', '#KathrynBernardoTheMMKComeback', 'Citizens', 'Steam', 'VP', '***', 'Ponderosa', 'Lane', 'Monticello', 'BEAUTIFUL', 'rancher', 'overlooking', 'smiling', 'Chilling', 'SunOnline', 'Kendhoo', 'ulhandhuthakugai', 'hulhujehi', 'kamuge', 'thuhumathugai', 'hayyarukuri', 'meehaage', 'bandhah', 'dhuvas', 'MANA', 'PRILLVERS', 'YANG', 'BELOM', 'BELI', 'ANNIV', 'KE', '4TH', 'incorrect', 'characterize', 'above', 'Islamist', 'abductors', 'Staring', 'contacts', 'negate', '#google', 'np', 'Sergey', 'Kovalev', 'Nadjib', 'Mohammedi', 'HBO', 'Cardiff', 'KELE', 'DOES', 'OFFEND', 'Box', 'contest@', 'dimmak.com', 'Afterparty', 'Dim', 'Mak', 'Tuesdays', 'existence', \"l'application\", 'ordinateur', 'marche', 'SAYS', 'Mayday', 'excitedddd', 'Juventus', 'BEAUTY', 'TIPS', '#3146', 'SK-II', 'UV', 'SPF', 'PA++', '30g', 'SK2', 'SK', '06:13', 'coupon', 'Complimentary', 'Bites', 'valid', 'AFL', 'sexiness', 'bbt', 'aintree', 'analogue', 'controller', 'Guinness', \"O'clock.\", 'coast', 'Smhhhhh', 'wilmington', '#EMM', '9ish', '#beerandpizza', '#supportyourlocalboozer', 'funday', 'mains', 'Blakehurst', 'fall/winter', 'trave', '410-336-3234', 'Bloggers', 'CBIOT', '40$', 'soda', 'deets', 'Vuelter', 'prevented', 'internal', 'decades', '#007', 'merriment', 'festivities', 'decreed', 'whispering', 'vodka', 'fragile', 'WATEROROOF', '321DB7F4', 'sms', '08882004925', 'glassy', 'fluffy', 'powder', '#PrayingForFtHood', 'Approaches', 'Violence', 'hiking', '20%', 'hire', 'discount', 'Opinionated', '-S', 'SMITE', '9th-11th', 'FC', 'Porto', 'Bayern', 'Munich', 'Starwood', 'Payment', 'Hotels', 'Resorts', 'Worldwide', 'horner', '#uspro', 'Q&amp;A', 'Ione', '#NOFF', '#TheRAC', '#RedSmoke', '#RUWR', '#UN', '#IranTalks', '#IranDealpic', '.twitter.com/JPnbvuFR8X', '#InteriorDesign', 'StyleSOMADaily', 'TiVo', 'Furukawa', 'yuuki', 'conducting', 'homicide', 'poppin', 'Unspeakable', 'Brutality', '\":', 'condemned', 'Tali', 'omygosh', 'takte', 'rnr', 'NewsWatch', '#Businesspic', '.twitter.com/oRrbyBZw5j', 's/n', 'Doc', \"gd'Thursday\", 'debating', 'dye', 'eyebrows', 'lighter', 'Kylie', 'Jenner', 'lightened', 'Honolulu', '09/27/2015', \"TEACHER'S\", 'YEAAAAHHHH', 'AGUANT', 'DOCENSIA', 'lone', 'illness', 'supremacist', 'neo-nazis', 'Lemme', 'Pacquiao', 'beberkan', 'alasan', 'mengapa', 'ia', 'memilih', 'sebagai', 'lawan', 'bertarungnya', 'Wordlesss', 'Cream', 'Cake', 'Antebellum', 'Amp', 'Wheatland', '#LadyAntebellum', '#WheelsUpTour', '03:07', '43', 'IST', 'lolzaa', 'Andreas', 'Lubitz', 'Germanwings', 'co-pilot', '^Te', 'Abortion', 'partnership', 'Hyper', 'R2', 'w/o', 'phones', 'Brings', 'Anja', 'Rubik', 'Preventing', 'Disasters', 'Pump', 'Handle]', 'Earlier', 'Commissioner', 'Margaret', 'Membership', 'Clients', 'Daredevil', '#143', 'FN', '6.0', '#bigtits', '#boobs', '#busty', '#dd', '#ddd', '#friday', '#linda', '#porn', '#tits', '#training', '#video', '#videos', 'Papakatino', 'ngayong', 'sem', 'Playboy', 'Slovenia', 'SloveniaSlovene', '138', 'pages', '39.45', 'Mb', 'Timeeeee', 'motivated', 'quo', '~HAPPY', 'B-DAY', 'TAYLOR', 'LUVZ', 'YA~', 'value', 'grip', 'Kardashian', 'Directioners', 'freedom', 'COUPLE', 'RINGS', 'ANY', 'SILVERWORKS', 'BRANCH', '#OTWOLTooGood', '#WTFFOAMPARTY', '#seotalk', 'Turuan', 'pumasok', 'punchline', 'Staffordshire', 'Flashback', '...?', 'Yards', 'drive-by', '#Chiraq', 'snapped', 'instantly', 'freshies', 'talked', 'SkySports', 'Poor', 'jedsweemonster', 'arrives', '#Saturday', '#Dec26th', 'Midtown', 'tasty', 'BITES', 'Condor', 'Rolls', 'Thompson', 'Known', '8-11pm', '20th-', 'ThAnK', 'gOd', 'ItS', 'fRiDaY', 'FGCU', 'UNF', 'Arena', '#SWOOP', 'reranged', 'Isis', 'reckon', 'owa', '1000g', 'mkat', '#Anybody', 'trivial', 'rentals', 'abatement', 'ad', 'Linny', 'Lesson', 'Learned', 'Sometimes', 'unnecessary', 'necessarily', 'Amid', 'infinite', 'mercy', 'tropical', 'floats', '#RSVP', 'Well-funded', 'ecommerce', 'game-changer', '#martesTIC91', 'Antonio', 'Gates', 'Ladarius', '#whounfollowedme', 'ConservativeLA', 'Rio', 'Events', 'Lebowski', 'Matthews', 'lively', 'throu', 'Visits', 'Olu', 'Warri', 'Oritsejafor', 'alejo', 'vive', 'puede', 'saber', 'cosas', 'campo', 'mortal', 'comprehension', 'Bakla', 'Onga', 'magbabayad', 'Para', 'barkada', 'Spicoli', '#santamonica', 'clarity', 'razor', \"J'entends\", 'fils', 'putes', 'veulent', 'salir', 'parcours', 'dayyyyy', 'serve', 's2g', 'stalking', 'PROUD', '=(', '#in', \"B'Day\", '-Summer', '#Vancouver', '#summerstill', 'Sharing', 'smartest', 'LIAMS', 'Tutoring', 'bore', 'China’s', 'Russia’', 'OPM', 'Effect', 'Intelligence', '#clearancejobs', 'Pet', 'Spa', 'Adoption', 'Evergreen', 'Subaru', \"can't...\", '630', 'dressed', 'sofa', 'Ohio', 'Rays', 'Ask', 'momma', '#Topp', 'Reduced', 'Sodium', 'labels', 'sodium', 'mg', 'serving', 'Least', 'Reportedly', 'teaching', 'Viera', 'eats', \"i'ma\", 'curl', 'Sabrina', 'Rutgers', 'cyberattack', 'Cheryl', 'Dermot', 'BIGGIE', 'swag', 'HONK', 'SQUAD', 'chips', 'entree', 'Verde', 'Bourjois', 'Delice', 'Poudre', 'Bronzing', 'Powder', '#competition', \"Rt'd\", 'payag', 'mawala', 'manatili', \"BH's...\", 'NK', 'Fam', 'Homies', 'ketiga', 'bulan', 'adalah', 'Jomblo', 'Amerika', '#RI', 'SD11', '#election', 'Calendar', 'Ballotpedia', '#ElectionsMatter', 'Pulling', 'nighters', 'Bone', '#toluene', '#gasoline', 'blending', 'Asia', 'weaker', '#benzene', \"c'mon\", '#WeAreRaiders', '#BleedGreen', 'yeaaaaaa', 'omgomg', 'cake', '47', '#Team_Wolf1', 'Finds', 'Acted', 'Improperly', 'Unarmed', 'somethings', 'in-to', 'dumb', 'Michelle', 'danced', 'Easter', '07:50', 'Speed', 'Gust', '22.0', 'Lull', 'Dir', 'Temp', '4.0', '#HQ', 'onstage', 'Sugar', 'RD', '#JCSU', '#JWU', '#CPCC', '#UNCC', '#PARTYKINGS', '#THEELITEMEN', '#CLT', '704-428-9009', 'rockets', 'faith', 'Recommendations', '7700', 'drag', 'Nitfy50', 'towards', '7550', 'Mitesh', 'Thacker', 'Jurassic', '$204M', 'fathom', 'WARS', 'Dream', 'Scientific', 'Lafayette', 'Urban', '#greaterlala', 'Backstreet', '4Music', 'Typical', '#Sustainability', 'Breakfast', '#NIBevents', 'slugs', 'toad', 'pet', 'visual', \"R'lyeh,\", 'everyones', 'Diluncurkan', 'Ini', 'Awal', 'tahun', 'beredar', 'rumor', 'akan', 'dirilis', 'Continuing', 'Colts', '#JOEGIFTED', '#BIGBEN', 'nickname', 'muppet', 'jom', 'theatre', '#PortugalNeedsCodySimpson', 'x74', 'br', 'Feet', 'Lifescript', 'Editorial', 'Staff', 'pres', 'Prem', 'Ratan', 'Dhan', 'Payo', 'Diwali', '504', '912', '4635', 'Howling', 'Nola', '#S1Entertainment', 'ANGELES', 'hunting', 'gunmen', 'MOM', 'Which', 'convention', 'availability', 'Coke', 'MLIA', 'moody', 'Centennial', 'Progress', 'Scarborough', 'Lausanne', 'fed', 'mud', 'plants', 'blow', '#FreebieFriday', 'pronto', 'invisible', 'dry', 'shampoo', '#WedemBoyz', 'Jenny', '#theLword', 'incroyable', '#noooooo', '#maispourquoiiii', '63', 'C)', '86', 'oversight', 'Collection', 'Practices', 'Metadata', 'interceptions', \"C'Mon\", 'disgusting', '-the', 'wee', 'compliment', 'stranger', 'Siendo', 'recuerdo', 'puedes', 'mencionarme', 'enviarme', 'dm', 'publicare', 'anuncio', '-May', '14-year-old', '15-year-old', 'Afternoon', 'Lucky', 'locations', 'Lines', '9:00', 'Burnaby', '8Rinks', 'lines', 'flash', '#flash', '#database', '2-', 'stays', 'tomo', 'doggie', '*paws', 'x-d*', '02:13', '#if5', '#s3', 'completed', 'stint', '#ALNASSR', '#NFC', 'Moi', 'BAC', 'rattrapage', 'suis', '#ResultatsBac', 'LeBron', '10-12E', 'ESPN2', 'STARCAST', '#B1A4', 'blew', 'candles', 'split', 'btwn', 'Mateo', 'WaPo', 'renewing', 'deprive', 'Treasury', '$4T', 'deprived', 'Gang-Related', 'Omaha', 'Mabuhay', 'guys~', 'Minimalist', \"How'd\", 'CIRCUS', 'SHOTS', '#NBATop10', 'Mdddr', 'marque', 'babes', '#Goat2015', 'Yup', 'someone/anyone', 'sheer', 'bliss', 'Collector', '1,200', 'sets', 'spanning', '12:42', '#ALDUBKapitLang', 'embraces', 'silliness', 'superhero', 'daredevil', 'oldest', 'teenager', 'LOOKED', 'SMUT', '#NEW', 'Johannesburg', 'Shaw', 'cedar', 'pedestrian', 'struck', 'No-Humanity', 'No-humanity', 'seduce', 'Stefan', '#CrazyCaroline', 'AstronomersWithoutBorders', '#InOMN10', 'broadcasters', 'viewing', 'tragedies', 'NOTHING', '#1stdayofspring', '#bones', '#skeleton', '#growingweeds', 'junior', 'awwww', 'sharply', 'spill', '#May', '#SecondLife', '#blogpost', 'pix', 'JV', 'Benitez', 'Zune', 'exists', 'D.C.', 'YESSSSSS', 'Alive', '#AirtelSBA', 'canceled', 'loll', 'twitfriends', 'heros', 'worthy', 'Awful', 'also-sheesh', 'complaining', 'sword', 'lunge', 'Sprint', 'Maternity', '#thethingsido', 'Reagan-UCLA', '(@LANow', 'lonely', 'jalan', 'Oma', 'Barre', 'Pedigree', 'Donates', 'Posts', 'brands', 'networks', 'Wango', 'Tango', 'Prophet', 'blessings', 'advantage', 'CyberNation', 'Dirty', '#DirtyWorkVideoTOMORROW', 'Bigger', 'badder', '#TheFlash', 'synchronized', 'Freedom', 'Diliman', 'admission', '#sfdphils', 'hahahahaha', 'pillows', 'SHOCKING', 'alienvault', '#Hacked', 'Accounts', 'Charge', 'Users', 'Trips', '#infose…', 'pic.twitter.com/NN1E2L9bi5', 'sorting', 'birmingham', 'F-F-Friday', 'fee-free', '#publiclandsday', 'Stairs', 'Roger', 'Waters', 'KLH', '6:15', 'Molby', 'Harus', 'Tahan', 'Lucas', 'Leiva', '#17', 'shaken', 'w/santana', 'and/fatt', 'otherQuote', 'ought', 'ratins', 'Conan', 'back-Big', 'show-1', 'General', 'Spoilers', '9-27-10', '10-4-10', 'Honey', 'pussy', 'pounded', 'dickt', 'Babe', '#sexyLingerie', 'stopping', 'nuke', 'Caesars', 'Gary', 'Loveman', 'replaced', 'Frissora', 'Reloded', 'albums', '#NepalRelief', '-Swadesh', 'Deepak', 'Court-Martial', 'Sri', 'Ram', 'Mandi', '180rb', '51312D54', 'SMSP', '085759831244', '#MotionX', '12:39', 'MotionX-GPS', '#FullHouse', 'Cat', 'nappin', 'porch', 'Starstruck', 'Promo', 'Unlimited', 'blast(s', 'ineedpromo@starstruckpromo', 'Trio', '15M)', 'pic.twitter.com/letPcEAD5u', 'Ryu', 'XX', 'Floyd', 'earned', 'barfy', 'lalagyan', 'walain', 'kapatid', 'zz', 'azz', 'folks', 'willget', 'successfully', 'Energy’s', '150', 'GOVERNMENT', 'SLAVES', 'external', 'Removing', 'tampons', 'comics', 'Jess', 'Beaulieu', 'Natalie', 'Norman', '10:15', 'herring', 'smack', 'bored-_-', '09:29', '13.9', 'C/1963', '17.8', 'C/1968', '08:03', '16:20', 'naibibigay', 'hanapin', '12:56', 'Exciting', 'ART', 'FAIR', 'Cape', '2020', 'PG', 'Khalen', 'KK', 'Robinson', 'rebounds', 'Episcopal', '48', 'Mayflower', 'Role', 'Lawyer', 'FSBO', 'eHowcom', 'property', 'compare', 'Sara', 'Focusing', '13:59', 'ICT', 'lah', 'Independent', 'ie', 'Mashable', 'theory', '-Larry', '70cm', 'combined', 'Checked', 'Montreal', '#crisisaverted', 'Donnie', 'Hathaway', 'Unsung', 'speechless', 'amazement', '#SmartNews', 'figured', 'predator', 'seat', 'fill', 'overflow', 'Yoseob', 'Dongwoon/HQ', '150114', 'IdeaboxStore', '#BrothersConflict', 'Sucks', 'I`ll', 'Mint', 'GoPro', 'Hero3+', 'Camcorder', 'Bundle', 'Extras', '360.00', 'Dec-28-2014', '13:47', 'PSTBuy', '%s', 'binoculars', 'Attingham', 'Adventures', 'Deer', 'Safari', '#MuchLove', 'Naughty', 'nath', 'rolls', 'Beginners', 'Guides', 'Blogging', 'Beginner', 'Guide', 'Bl', 'Peyton', 'eclipsed', '#Boss', '#GansettLane', 'Hamptons', 'Along', 'replies', '#Godaddy', 'domain', 'renewal', 'Staples', '#taylorswift', '#1989worldtour', '#breakingnews', 'Cahill', '#magov', '#PrayerTimes', 'Asr', 'Shafi', 'Glencoe', '15:31', 'frightening', '06:02', 'Earthquakes', '#Soccer', '07:32', 'Inuyasha', 'Kagome', 'PHOENIX', 'ARIZONA', 'HOSPITAL', 'SHOOTING', '#bailbondsphoenix', '#bailondsmaricopacounty', 'CHELSEA', 'quando', 'eu', 'encontrei', 'ouvindo', 'som', '#SDCC', 'hypotheses', '#mito', 'Added', 'stalker', 'amd', 'ty', 'Heights', 'Custody', 'Library', 'peop', 'Throwback', 'Jobs', 'Executive', 'Pharmacist-Full', 'Float-Ellicott', '#Hiring', '#MDJobs', '#Taurus', 'falling', 'surge', '#Forex', 'onboard', '60%', 'commission', '#Earner', 'nakuha', 'kaming', 'kanya', 'sobre', 'maliit', 'kahon', 'laman', 'unnecessarily', 'self-critical', 'suree', 'lmaoo', 'Abroad', 'Fairs', 'Vanc', 'Convention', '2-6', 'WH', 'rejects', 'warming', 'favors', 'disruption', 'woodpeckers', 'CRD', 'guided', '#yyj', 'CHILLING', 'AUDIO', 'SC', 'Magazine', 'Democrats', 'punish', 'Bernie', 'Sanders', 'Clinton', '#theguardian', '#AribyArianaGrande', 'normally', '0-0', 'futur', 'bourbier', 'malade', \"'Was\", 'furthermore', 'tomrrw', 'Kent', '#stressing', 'gallery', 'day-to-day', 'Jayalalithaa', 'disproportionate', 'adjourned', 'Pre-Market', 'View', 'Posted', 'Lounge22', 'Powered', 'CORT', 'collection', 'furniture', 'divine', '11.45', 'TNGM', 'Penutupan', 'jalur', 'pendakian', '#Merapi', 'sejak', 'senin', 'hingga', 'akhir', \"nor'easter\", 'oswego', 'horse', 'Goulburn', 'Races', '#hilarious', 'Ex', 'Jigawa', 'EFCC', '%#$&amp;@%$&amp;%&amp;@$', 'canny', 'yooouuu', 'aunty', 'tersayangg', 'yah', 'Mmuah', 'WIN', 'PAMPERS', '02:49', 'conceded', 'PL', 'Rarity', '#BBWLA', 'Fearless', 'Fantasy', 'DFS', 'DraftKings', 'Lineup', '#SportsTap', 'Narnia', 'Reveals', 'delay', 'commit', 'SCM', 'hardware', 'Exclusive', 'ObamaCare', 'inclusion', 'Tenth', 'ASPCA', 'PETA', 'HSUS', 'BUSINESS', 'CK', 'SERIES', 'LINKS', 'DONATE', 'Biggz', '#8217', '#8220', '#8221', 'Stetson', '102nd', 'Professional', 'Association', 'NFL)', 'Brett', 'Favre', '#Livestream', 'notifies', 'pic.twitter.com/dhEMOhOY34', '#nowplaying-', 'Someday', 'confusing', 'phrasing', 'complainers', 'minder', 'thro', 'Beggers', 'belief', 'Completed', 'Gramm', 'Recently', 'appreciated', 'yesshh', 'FiNaLlY', '#BIEBERWEEK', '#PURPOSE', 'rpt', 'YuLin', 'Festival~#StopYulin2015', 'parking', '#rejoice', '#Victory', 'Bawana', 'constituency', 'WHATS', 'GOODIE', 'EVERY1', 'COOLIN', 'FEELIN', 'BREEZE', '#FRIDAY#MANIA', '$20', 'snacks', 'block', 'Homework', '#blown', 'restraint', 'nintendo', 'copain', 'vraiment', 'adorable', 'jihadists', 'ministerial', 'Answers', 'HILARIOUS', '==', 'Maturo', 'Cochrane', 'XV', 'aiming', 'undefeated', 'Huge', 'Nottingham', '#blueandwhitedynamite', 'Chillo', 'Takin', 'hapiness', 'coaches', 'escort', '#FridayFeeling', 'H.E', 'Museveni', 'activities', 'adress', \"tomorrow's.\", 'Fourth', 'Lookbook', 'KatelynandKylie', '#birdgang', 'popcorn', 'dominate', 'Lowkey', 'ALlF', 'alhamdulillah', '#GoBetter', 'yow', 'rode', '1000h', '1810h', '#RST', 'Thoughts', 'graces', 'halls', 'mistletoe', 'burdens', 'chimney', 'preserving', 'ink', 'scholars', '#Ahlulbayt', 'Wet', 'Republic', 'Fitness', 'PM-', 'IMAX', 'gggrrrrr', 'non-chemical', 'solution', 'infestation', 'poinsettia', '#gardening', 'Rsn', 'Walking', 'yip', 'xoxox', 'swatted', 'pipe', 'fabulous', 'Technology', '31-Sept', '#space', '#Aquarians', 'reveal', 'innermost', 'persuade', 'proves', 'BIGGER', 'WHUFC', 'Bolton', 'Reds', 'Jean', 'Dujardin', 'bombe', 'sexuelle', '#wineparty', 'Jaybilizer', 'pointed', 'readers-', 'Canadian', 'Markets', 'Gabriel', 'shares', 'verizon', 'ev', 'Stupid', 'PSYUnangHalik', 'Proly', 'brighter', 'WinnipegWatch', 'AILYSConfront', 'DulayRdulay23', '#Winnipeg', '#AILYSDisplaced', 'TFC', 'SlashGear', 'SlashGearTwitter', 'ancient', 'gods', 'perfection', 'MLK', '#Sleep', '#SensoryPlay', '#Parenting', 'workshops', 'Spaces', 'atm', 'digosok', 'pake', 'gosokan', 'dong', 'duitnya', 'buat', 'beli', 'jajan', 'banyak', 'JSJ', 'corrects', 'Rip', 'Currents', 'Northwest', 'GMT-4', '#WX', 'Made', '#Police', '#dead', '#Washington', '#gunman', 'manhunt', 'dank', 'costume', 'giant', 'upper', 'body', 'chores', 'especial', 'ITIM', 'YUNG', 'TUBIG', 'TAPOS', 'KANINANG', 'UMAGA', 'TAE', 'KALSADA', 'Wth', 'developmental', 'disabilities', 'Cheap', 'Choosy', 'Fitted', 'Diaper', '$15', 'EcoMom', 'Gif', 'Went', 'astherosphoto', 'model', 'pose', 'Bronx', 'VTech', 'Worse', 'Logs', 'reader', 'writes…', 'Heatwave', 'Brixton', 'bashment', '12:41', 'Saying', \"Won't\", 'finis', 'veteran', 'nurse', 'Wale', 'musical', 'lawsuit', 'Guy', 'suburban', 'AAP', \"Didn't,\", 'LG', 'Jung', 'writes', 'Ashutosh', 'gaanv', 'vaalo', 'Uth', 'jaao', 'saalo', 'aaj', '*evil', 'laugh*', 'Ralph', 'Lauren', 'Renta', 'Weir', '-Coco', 'Chanel', 'Sig', 'Ragga', 'hacen', 'miran', 'joden', '#TaraguiRock', '#Tech', 'Miserables', '#SB49', '#LOB', 'tran', 'INC-CYB-PRF-1505151540', 'Jackson', '#WALKOFF', '#Mariners', 'jul', 'lancha', 'registro', 'vamooooooo', '#1by1', 'JKT48', 'Kasablanca', 'Nat', 'Meetup', 'Charleston', '“@MichaelSkolnik', '#Prayers”', 'quelle', 'horreur', 'idiot', 'Homing', 'Venus', 'Onward', 'throws', 'lifeline', 'Romney', 'UK/UofL', 'rivalry', 'Naniniwala', 'akong', 'patutunguhan', 'Lasallian', '#santamonicacollege', '#hopeyouareok', '#prayers', 'Fes', 'WOOT', 'Overhaul', 'WASHINGTON', 'ret', 'Creighton', 'RSN', 'affiliate', 'hubby', 'rooted', 'Dandies', '#COYR', 'mealworm', 'prank', '#Dominion', 'Periscope', '4.45', 'Jogging', '107', 'Bands', '09:36', '1:41', '#NOCHILLPHILIPPINES', '#HaveAGoodRestZayn', 'Drycleaners', 'carrots', 'Holla', 'boi', 'closer', 'kitchens', 'chose', 'maker', 'measurements', 'Chargers', 'prime', 'bone-headed', 'holds', 'Replacement', '#GoBeavs', 'Muppets', 'Spectacular', '01.00', \"status'.\", 'Europe', 'turk', 'blackmail', '#turkey', '#EU', 'otw', 'pelabuhan', 'ratu', 'FANCAM', '150130', 'Apink', 'Paradise', 'pink', 'panda', 'KitabKhana', 'Hymn', 'Bewildered', 'marshals', '#ViciousPBS', 'co-stars', 'Jacobi', 'Satte', 'Abgaben', 'Dax', 'bricht', 'Sog', 'Sorgen', 'cesccanna', '09:49', 'nocturnal', 'SECTION', '204', 'bestie', 'yet(', '#Pentagon', 'Joint', 'pic.twitter.com/4rDMGYbSUl', 'Islam', 'false', 'ulema', 'alllll', 'yeeuuuuppp', '#hot', '#trending', '#socialshakeup', 'earlier-', '2002ish', 'Pig', 'Limerick', 'SKY', '191', 'poolnewsfeed', 'wtf', 'WHO', 'LET', 'THESE', 'HOLLYWOOD', 'AZZ', 'RAPPERS', 'thx', 'dL', \"bf's.\", 'amazingrific', 'veux', 'EARLY', 'Lending', 'Platform', 'Loanbase', 'Loses', 'Customers’', 'Funds', '#bitcoin', '#blockchain', 'Verona', 'kukuhanan', 'Demo', 'makakanood', 'economy', 'grows', '5%', 'fastest', 'quarterly', '2003', 'Commerce', 'Greenland', 'Faroes', 'Danish', 'knife-edge', 'Resource', 'Investment', 'investors', '#VRIC2015', 'LIVESTRONG', '10-02-10', 'VMA', 'pre-show', 'handing', 'Futoosh', 'owner', 'twenty-four', 'Sauipe', '*-*', 'Conditioning', 'touches', '#softballready', 'Nichkhun', 'Elle', 'Thailand', 'Ritrovato', 'bragged', 'skills', 'Buffs', 'FB', 'Giddings', 'Elgin', 'Wildcat', 're-group', 'losses', 'LCL', 'Job-Hunting', 'BranchOut', 'Raises', '$6', 'Accel', 'Java', '#Java20', 'Taorminaa', 'Whoever', 'reality', 'somethin', '#maygodblessusall', '05:54', 'Strongly', 'YOM', 'KIPPUR', 'twofer', 'minimum', 'MGBSFL', 'top-scorers', 'Shacharit', 'Donetsk', 'hotshot', 'Ellis', 'daylight', 'JewChronicle', 'savings', 'P.E.I.', 'environmentalists', 'climate-change', 'barbers', '#phoenix', '#elxn42', '#RealChange', '#PtboPoli', '#Orlando', \"'WHEN\", 'SAY', 'iS', 'CHEATiN', '#REALLYMEANS', 'Beginning', 'understand', 'understood', '-@TonyGaskins', 'flagstaff', 'sat-sunday', '#jerseyshore', '#jersey', 'XXL', '01:46', 'Movies', 'helping', 'Messarounds', 'Laura', 'Duo', 'army', 'yeeah', 'boilers', '11-', 'TVPS', 'offering', 'HIV', 'Sellotape', '#Soba', '#tempura', '#BondiRamen', '#foodie', '#sunday', '#afternoon', 'Ramen', 'Kan', 'Bondi', 'Subhan-o-Tala', 'path', '#Ameen', '[#NewarkWeather]', '#Newark', 'Burbank', 'REFINERY29', 'STALKS', \"LA'S\", 'FASHIONABLE', 'FEMMES', \"VB'S\", 'PARISIAN', 'BREAKFAST', 'MERCI', 'Comic', '5-8pm', '#DearInstagram', 'binalik', 'Nadz', 'papupuntahin', 'makakatulog', 'buong', 'magdamag', 'sinasabi', 'pasayahin', 'niyo', 'akooo', 'pacaran', 'mt', 'Dues', 'Michalle', 'Muzic', 'milwaukee', 'map', 'catastrophe', 'belles', 'mansion', 'eventhough', '*N*I*K*K*I*', 'dump', 'three-way', 'duhh', '#wtfmoment', 'Wee', 'FedEx', 'demo', '#PassionParties', '#WAHM', 'SOCCERCARD', '078', 'Brom', 'Albion', 'ASA', 'HARTFORD', '08:21', 'Registration', 'Register', 'Summer)', 'iCARE', 'Nature', 'Foligno', 'Pens', 'Sports)', 'Sidney', 'Crosby', 'halloween', 'thanksgiving', 'Wasnt', 'Wrawby', 'ohkayy', 'hunger', 'Heed', '#hunger', 'Floor', 'apos', 'Myself', 'casual', 'Moonlight', 'athletic', 'African', 'stelly', 'day-boo', '3PCS', 'Frozen', 'Queenx', 'Elsa', 'Princesses', 'Olaf', 'Snowman', '5.50', 'EL', 'VIERNE', 'CAPAS', 'QUE', 'VALLA', 'MAR', 'TUYU', 'POR', 'UNA', 'SAMANA', 'PIOLAA', 'RE', 'PONE', 'Twenty', '94', 'Mosier', 'Phish', 'Bluegrass', 'Sessions', 'Retailers', 'complaints', 'USM', 'frat', 'Hattiesburg', '1s', '2s', 'Parish', 'Petanque', 'HoveLive', 'xxxx', '(@PaigeLouiseRyan', 'Iranian', 'breached', 'dam’s', 'managed', 'chelsea', 'Mam', 'MAM', 'ONCE', 'WANNA', 'PUNJAB', 'SEND', '6000', 'Controversial', 'Kashamu', 'Inauguration', 'Assembly', 'Pics)', 'McCain', 'Senate', 'Armed', 'Servic', 'slammed', 'haus', '160RB', '5495989B', '08978659564', 'sacrificed', 'Toy', 'lawn', '04:09', '#TECHINFO', 'Former', 'Vivaldi', 'Browser', 'Cody', 'Rhodes', '\\\\', 'Semoga', 'lebih', 'baik', 'hubungan', 'nya', 'gasuka', 'berantem', 'sayang', 'sama', 'aku', 'Missyou', 'Lots', 'Merlot', '23.19', 'arts', 'MandyWorldWide', 'Production', 'Manager/1st', 'AD', 'Paradym', 'Group/Eagle', 'Eye', 'Ent', 'pi', '10:59', 'Peter', '2:2', 'newborn', 'crave', 'spiritual', 'salvation', 'huhuhuhu', 'skirt', 'Glenveagh', 'picturesque', 'Est', '85', 'riding', \"dated!''\", 'Shut', 'NEVER', \"again!''\", 'interviews', '7ans', 'flipper', 'triste', 'kilala', 'gnyan', 'Kaso', 'dapat', 'pinakawalan', 'mismong', 'kumawala', 'Vapor', 'Westwood', 'jerk-o', 'lying', 'Counting', 'Causeway', 'Neil', 'classics', 'baeby', 'baste', '#ALDUBMoreThanWords', 'One-day', 'mid-size', 'exempt', 'orgs', 'headin', 'shitty', 'summit', 'blur', 'ooooh', 'kudos', 'REBLOGGED', 'TUMBLR', 'MAIL', 'BIRTHDY', 'ISNT', 'EVEN', 'UNTIL', 'Gettin', 'Shoutsout', 'Jarred', 'Gidley', 'resets', 'Bacrott', 'Kaga', 'Gaun', 'Siaap', 'brayyy', 'baju', 'bebas', 'kaan', 'BORDER', 'LINEA', 'COVER', 'musicians', 'showcased', 'Limelight', \"Mary's.\", 'further', 'understatement', 'blague', 'nom', 'famille', 'fearless', 'Gale', 'Hawthorne', '#Mockingjay', 'Orleans’s', 'Famous', 'Bourbon', 'Parks', 'UMass', '07:49', 'Shoutout', 'DADT', 'fudge', 'Id', 'MMDCCLXVIII', 'ab', 'urbe', 'condita', '12/04/2015', 'Imaginez', 'pronote', '#TheMinions', '#movie', 'spinoff', '#Movies', '#TheRock', 'Celebrating', 'weights', '#SwollOn', 'Lofoten', 'Norway', 'Vicki', 'effective', 'nung', 'rated', 'Rant', 'Confirms', 'Matches', 'Recent', 'northern', 'shirts', 'wensday', 'Tessa', 'Seanzie', 'Assange', 'asylum', 'comedy', 'democracy', 'Jaylen', 'Fryberg', 'Name', '29.11', '01:12', 'Nikkei', 'sube', 'ciento', 'hasta', '19.631', 'puntos', '08:12', 'Spotted', 'Kanye', 'Celebrates', 'LAMB', 'Dobby', '09:41', 'NANG', 'DAHIL', 'NASHLENE', 'nalamang', 'sentiments', '#TheDIP', '#SingleReleaseParty', '#TeenParty', '#NoIDParty', 'Bowling', 'ENTRY', '404.532', '9232', 'Guster', 'Ogden', 'Theatre', '#Blackholidays', 'Pookie', 'Pinaka', 'nakakainis', 'melodeyy22', 'barbersh', '#tucson', 'tori', 'Somehow', 'Airplane', 'WiFi', 'connecting', 'wipe', 'downgrade', '05:12', 'patty', 'VESSEL', 'JUNE', 'NEWSLETTER', 'Jeremiah', 'intimacy', '#tacos', '#mexican', '#yum', '#brooklyn', '#stupidnews', 'Lupita', \"Nyong'o,\", '#gorgeous', 'metal', '#RIPLemmy', 'Hookah', 'slaving', '09:14', '#Apps', '#Business', 'Into', 'Hibernation', 'Solar', 'Studies', 'Scripps', 'Spelling', 'Bee', 'Co-champions', 'prevail', '+K', 'selfies', '#JRsGreatestHits', '#lushy', 'notifs', 'Foundation', 'rare', 'hacking', 'Beyer', 'Swedish', 'Techno', 'Pioneer', 'diverse', '#Snapchat', 'Weak', 'Emilio', 'Florespic', '.twitter.com/8GTCH4VAsY', 'DOJ', '9,000', 'DHS', '20,000', '#ferry', '#langdale', '#horseshoebay', 'simplified', 'Attackers', 'accessed', 'parts', 'kau', '#MagpasikatBiCoL', 'RPs', 'RPed', 'funniest', 'Jamie', 'kidddddd', '#jamievardyshavingaparty', 'least9shot', 'inNewOrleans', 'MotherDay', '”so', 'sad-just', '#typeamom', '12:22', 'First-time', 'commenters', 'moderation', 'publish', 'wate', 'guna', 'Split', 'Fling', 'fabric', '-Rumi', 'AW', 'ARTIST', 'RUNNING', 'amour', 'cette', 'terre', 'Sarkozy', '#punchline', 'linda', 'TAIZ-YEMEN', 'ICAST', 'Energy', '#DiscoverOurEnergy', 'Consider', 'top-ranked', 'golfer', 'Tiger', 'Woods', 'rake', 'billion', 'dollars', 'Residents', 'Nandi-Kabras', 'border', 'rebuild', 'catching', 'Brooke', '#relaxingnights', 'languages', 'unconsciously', 'personality', 'CANCEL', 'PLANS', \"I'VE\", 'SHAVED', 'SOFT', 'award-winning', 'Viola', 'Mockingbird', 'Thunder', 'Hear', 'school/9th', 'PREMIUM', 'DOMAIN', '#CriticalRole', '11:49', 'Individuals', 'Exposed', '#Buckeyes', '#GoBucks', 'Bama', '#gothic', 'newspaper', 'contributions', 'Crap', 'SMOKING', 'SmackMyHead', 'Confronting', 'hoarder', 'tendencies', 'mens', 'Nikes', 'cassette', 'tapes', 'TeddyBears', 'Hlokoloza', 'Cantare', '#Casadiablo', 'Laying', 'revealing', 'competitions', \"Would've\", 'bitten', '#COYS', '#THFC', 'lightning', 'awareness', 'PARIS', 'height', '#PassportTo', 'miaminewsnow', 'Rick', 'Case', 'dealership', '#miami', 'Vick', '18th-Alhamdulilah', 'cardiologist', 'spit', 'venom', '#MLB', 'Middlebrooks', 'lineup', '400K', 'AHEAD', \"C'MON!\", 'ACM', 'FX', 'journey', \"don'...\", 'THEGUARDIAN', 'Media|', 'Guard', 'ARMED', 'resource', 'countless', '#2Ahttps', 'twitter.com/bettyfreedoms/status/548954213800108032', 'reflects', \"doors':\", 'researchers', 'softw', '#ThoughtStreamHeartbeat', '09:32', 'Lederhosen', 'lederhosen', 'foreign', 'borrow', 'Previews', '#Smartwatch', '#App', '#CES2015', 'boobs', 'respect', 'Trouble', 'neglect', 'Tahoe', 'ADDED', 'Active', 'Killer', '#LateLate', '#desbishop', 'Respiratory', 'Sherry', 'Compton', 'Basic', 'Keyword', 'On-line', 'Paycheck', 'Collins', 'Cuthrell', 'Dean', 'concentrating', '#monday', 'LATEST', 'Jobless', '300,000', 'VW', 'Sell', 'Bentley', 'Lamborghini', 'Dieselgate', 'Loans', 'Instagram', 'Tapos', 'masyadong', 'makapagtweTWEET', 'Enebeyen', '#ALDUBCountdown', 'Barrow', 'playin', '/w', 'Sutra', '#JerkChicken', 'texting', 'SUTRA', 'DAT', 'VOICE', 'www.inquisitr.com/2257852/chattanooga-shooting-isis-twitter-account-warned-of-attack-minutes-before-shooting-authorities-calling-it-terrorism/', 'Jake', 'Paul', 'viner', 'fav', 'Logan', 'puaind', 'fdjvfdlkvjfdlkv', 'Sausalito', 'Yacht', '#identitytheft', 'malaki', 'magmahal', \"sa'yo\", 'panaginip', '1-2pm', 'Stuart', '1103', 'crafting', 'Create', 'rsvp', 'eduncan@iwcc', 'edu', 'meaningful', '#notaboutbirthcontrol', 'alternative', 'Arcana', 'twist', 'Lilo', 'hints', 'git', 'manual', '#Bengals', '#Patriots', 'Clinch', 'Seed', 'AFC', '#Playoffs', '#AFCGoesThroughGillette', '#PatsNation', '#AAP', 'Chetan', 'Sahebrao', 'Pagar', 'MAHARASHTRA(INDIA', 'Donating', 'Tx', 'NE448350', '#MyCMKejriwal', 'western', 'fighter', 'fighting', 'DAY6', 'CONCERT', 'D-Day', '11.20', '11.21', 'Seoul', 'YES24', 'MUV', 'HALL', '#DAY6', 'Education', 'MacKinnon', 'Alison/', 'Prentice', 'FUNday', 'violating', 'gualllluhh', '1/31)', 'POUNDERS', '(@PNDRS', 'MAKING', 'MOVIES', '(@mkngmvs', 'Daydream', '40s', '70s', 'hosted', 'Jane', 'Seymour', '#DetroitPublicTelevision', '#GoldenGlobe', '#JaneSeymour', 'Clorox', 'Disinfecting', 'Wipes', 'Value', 'Pack', 'Scented', '225', 'Packaging', 'Vary', '#Arkansas', '#State', '#Dense', 'fog', '#Contributed', '#Interstate', '#Crash', '#Texarkana', '#INA', 'EXTEND', \"#NAYANTHARA'S\", 'HAT-TRICK', 'STREAK', \"have'n\", 'neon', \"black'n\", '#4lokos', 'iown', '03:41', 'Iwebslog', 'closest', 'AP)', '#Blog', 'MTS', '#iPad', 'hahahahahah', \"t'es\", 'Confesses', 'Buhari', 'Formidable', 'Opponent', '.\":', '5:59', 'halt', 'LIRR', '?.....', 'timeline', '?....', 'Ohhhh', 'boozing', 'behave', \"Ma'am!\", 'Knickers', 'knees', 'Giggles', 'Tanya', 'PICTURES', 'WEIRD', 'PICTURE', 'UNDERSTAND', '#ProudOfLouis', 'Hollywire', 'false-flag', 'assertion', 'Glimpse', 'shoot-to-kill', 'Cop', '*VAROUFAKIS', 'BANKS', 'OPEN', 'NORMAL', '#Greferendum', \"19'aavathu\", 'Arasiyal', 'Seerthiruttham', 'Apr-30', 'Muthal', 'Amul', 'Athil', 'Ulla', 'Vidayankal', 'Aduttha', \"Parliament'il\", 'Amulukku', 'Varum', '-Justice', 'alcoholic', '82,160', 'SSN', 'NACS', '2-hr', 'Roads', 'drifting', 'Tired', 'treated', 'struggling', 'meat', 'grail', 'Uhmm', '1/3', 'ch', '#Syria', 'Civilians', 'rebel', 'capture', 'Brigade', '#Daraa', 'Province', 'Favorites', '#MLKDay', 'acknowledge', 'ngmoco', 'outstandingly', 'devices', 'Streit', 'Belesky', 'juniors', '#getintogolf', '11.00', '12.00', '#nola', 'Visa', 'underway', 'radio.woai.com', 'k/w', 'pags', 'tem', 'Robinho', 'meu', 'banco', 'mesmo', 'Pato', 'machucado', 'Tenho', 'auto', 'shortening', 'SD2', 'Savoirfaire', 'Potbelly', 'Rodgers', 'SILENCING', 'Vicky', 'La', 'Bella', 'Aquarium', 'ADULT', 'Passes', '1.00', 'Jan-2-201', '#EventsUS', 'Tout', 'bien', 'juste', 'failli', 'oublier', 'renouveler', 'domaine', 'portfolio', 'post2', 'Enslaved', 'Odyssey', 'PlayStation', 'Network', 'msn', 'Relatives', 'torn', 'debris', 'MH370', 'Linda', '183rd', 'checkers', 'Tweeps', '#PieDayFriday', 'JUMBO', 'cardboard', 'Tarantula', 'lounge', 'FOOTBALL', 'FEVER', 'Solich', 'throwback', \"'@jennkorducki\", \":)'\", '#breaking', 'CCSO', 'Michaelis', 'pic.twitter.com/L44JqerEuL', 'astonishing', '5-6', 'Centenario', 'Seems', 'Pistons', 'Gigi', 'Datome', 'Maurice', 'Cheeks', 'discouraged', 'sub-par', 'Fuji', 'Erupt', 'Null#', '08:34', 'officially', 'blown', 'lls', '#October', 'Three-Disc', 'Blu-ray/DVD', 'Combo', 'Downey', 'Mickey', 'Rourke', '#Astros', 'Keppinger', 'Downs', '2B', 'bats', 'Thru', 'Window', 'plust', 'roof', 'rack', 'Pub', 'DUDE', 'jalepeno', 'poppers', '05:55', 'xoxoxo', 'HOUSTON', 'vancouver', 'engagement', 'Keeva', 'muted', 'luckiest', 'soooo', 'jealous', 'RT@vincewelch', 'Fenway', 'Emile', 'Harmon', 'Rousseff', 'Erenice', 'minister', 'Civil', 'Bulletin', '#technology', 'isso', 'neymar', 'afastado', 'acaba', 'Namiss', '#IHeartPastillas', 'oohh', 'kylie', 'curling', 'iron', 'Snap', 'Spam', 'Unrelated', 'Pontianak', 'Surabaya', '#WizdomBody', 'narrative', 'overall', '#Misunderstood', '#NobodySmilin', 'ATM', '#WeLoveThatsMyBaes', \"breach',\", 'degrades', '#dmv', '10-2-10', 'onenationworkingtogether.org', 'Vendo', 'convites', 'TIM', 'Meu', 'WhatsApp', '6282756051', 'e-mail', 'HAWAII', 'RADAR', 'IMAGE', '16TH', 'Aha', '1160465', '06:22', 'Starland', 'Ballroom', 'Sayreville', 'lhexine1111', 'imleeegwaras', 'xxriee', \"y'all,\", 'Home-Going', 'Break-Online', 'pm-', 'ET-', 'Day-', 'Night-Good', 'Week-End', 'Virgos', 'standards', 'grown', 'unattached', 'easily', \"b'days\", 'amazin', 'ii', 'DEF', 'DVR', 'Iraq', '#CNN', 'Basta', 'gawin', 'Gawin', 'Habang', 'huli', 'tuition', 'salary', 'insaneeee', 'Perhaps', 'kasha', 'Resident', 'Officer', 'PGY3+', 'Dec-Jan', '#ENGJobs', 'belittled', 'Americans', 'cling', '#armed', 'citizenry', '#LoveLustTour', '#JustinForMMVA', 'EVERYTIME', 'thee', 'yosi', 'kasamang', '#AlDubGameofDestiny', 'Wild', '94.9', 'Jingle', 'Helloooo', 'Poker', 'Barely', 'Treads', '^_^', '#musical', '#showcase', '#london', 'Tristan', 'Bates', '#Theatre', 'Clarke', 'Linzi', 'Sawyer', 'rabbit', 'Rowan', 'Novel', 'Wines', '#LGM', '#NaturaSugars', '#SoftLightBrown', '#Muscovado', '4-3-2-1', 'Spice', 'Rub', '#recipe', 'jet', 'passengers', '10:22', '#Follow4Follow', '#P4P', 'Gara-Gara', 'Virus', 'MERS', 'Cara', 'Bae', 'Yong', 'Melamar', 'Jin', 'Dah', 'Ada', 'manusia', 'berebut', 'ikan', 'keli', 'Aih', 'Manusia', '~TGIF~', 'Drink', '~59', 'Reade', 'TriBeCa', 'REALIZE', 'fandom', 'slaying', '#congratsonthebabyniall', '#winElmers', 'Simply', '03:24', '#GRAMMYs', '5H', 'BAZAAR', 'NOIR', 'SELF', 'WELLNESS-', 'EVENTBRITE', 'REGISTER', 'ToMiho', 'palang', 'Busog', 'mapapa', 'iyak', '#MMKBigWinner', 'Protests', '#BlackLivesMatter', 'kwento', 'effects', 'Watchers', 'Filling', 'watchers', 'magnet', 'offerings', 'Gelato', 'Gilberto', 'cart', 'Burning', 'Grille', '13206', 'Highway', 'distinctly', 'chocolates', 'recall', \"'Rickey\", 'Smiley', 'boiled', 'rottweiler', 'coldd', 'kev', 'cock', 'awwwww', '03:27', 'Clash', 'Clans', 'Max', 'Level', 'Balloons', 'U2', 'evacuated', 'Stockholm', '‘security', '.twitter.com/1V5wfGPWMO', 'Ladbrokes', 'Labour', 'Market-', 'Ed', 'Miliband', 'shortened', 'significantly', \"big'o\", 'encounter', 'effected', '#DiggyFollows50', 'PLZ', 'HAVIN', 'BAD', 'FOLLOWD', 'BUMPING', 'AIRBORNE', '#Oregon', 'Omnia', 'Nevada', 'mdr', 'nan', \"j'dec\", 'jtm', 'Morgan', 'Fays', '#DIIME_LOCO', 'zombie', 'Fredrik', 'litt', 'mye', '#engasjert', '#mittdansecrew', 'Todo', 'Cabio', '`07', 'alejate', 'Broader', 'Vulnerabilities', 'organic', 'masabi', 'Oklahoma', 'Wine', '#OKC-', 'vendors', 'YUM', '#8825', 'Panasonic', 'AG-HMC40P', '3mos', 'AVCCAM', '599.00', 'Bids', 'Classic', 'TWIN', 'TOWERS', 'Standing', 'Tall', 'Fellow', 'Rap', 'SuperStar', '(@JOELLORTIZ', 'J.J.', 'Heller', '#RandomQuotes', 'Thing', 'Ew', 'craziness', 'tacos', 'Surely', 'mags', 'court-mandated', '#IAMGLOBALFESTIVAL', '4TH-8TH', 'BIGGEST', 'WATER', 'PARK', 'FESTIVAL', 'EUROPE', 'kittehs', 'FASTIN', 'LOLZ', 'IZ', 'FOODZ', '#caturday', '#feedthesenses', 'reviewed', 'measurement', 'Candlelight', 'vigil', 'Quintero', 'Wichita', \"Mark's.\", '#opm', '#opsec', 'Feds', 'worker', 'Fletcher', 'bhi', 'chain', 'nahi', 'tumhe', 'Search', 'developer', 'suffered', 'HSM', 'popularity', 'riff', 'mosh', 'Few', 'Clouds', 'Islip', 'Arthur', '16.1', 'MPH', 'KT)', '#Tianjin', '7:05', 'survivor', 'rubble', '5yr', 'Hobbit', 'hectic', 'traveling', 'knee', 'Incoherence', 'piled', 'incoherence', 'Subs', 'weapons', 'Encouraging', 'NPT', 'sicker', 'WA', '#Umpqua', '#Roseburg', 'Again', 'Seattle-ites', '#7882', 'WB350F', '138.89', 'Jan-1', 'bibilis', 'dyan', 'konting', 'usad', 'naten', '#PSYLabanNiYna', 'twentyfve', 'yelled', 'Ehh', 'GAGO', 'NEPAL', 'UPDATES', 'Nepal', 'Convoy', 'WHOOPWHOOP]', 'bbm', '22AF9362', 'Bible', 'exposition', 'Genesis', '#Inlaws', 'kamila', 'rubio', 'images', 'opposite', 'brazos', 'abiertos', 'su', 'suelo', 'moneys', 'forgetting', '*sigh*', 'Pao', 'Manajero', 'Profile', '150000', 'Gems', 'ofClans', '#NewDelhi', '13:30', '13C', 'clouds', 'obstac', 'Kongers', 'Democracy', 'Members', 'GPD', 'Swat', 'Lilac', 'Panda', 'Skin', 'Equipment-', 'Multi-Function', 'Machine', '500.00', 'Dec-2', 'Contacting', 'Photographer', '#inourhead', 'Dylan', 'refuses', 'buddy', '&amp;#39', ';d', 'ate&amp;#39', 'Whitney', '#SantaMonica', '#SMC', 'participate', 'dreamer', 'suppress', 'anger', 'sorrow', 'Proverbs', 'Shange', 'LEEDS', 'DIRECT', 'ARENA', 'Bibby', 'Fab', 'Drakes', 'frank', 'ocean', '04:46', '#TeenChoice', '#ChoiceSummerTVStarMale', 'pag-asa', 'susuko', 'langggg', '#McDoBonFriesDLSU', 'Beddy', 'sleepy', 'forsaken', 'difference', 'FAUTASI', 'RACE', 'POSTPONED', 'FUTHUR', 'NOTICE', 'sittin', 'Realtor', 'listings', 'daru', 'goli', 'maro', 'sali', 'jla', 'dalo', 'MSG13', 'Helen', 'Mirren', 'cancelled', '3/5', 'coordinate', '3/7', 'avail', 'mob', 'fs', 'Oor', 'Roddy', 'handed', 'embargo', 'placed', 'financial', 'fixes', 'developers', 'apologise', 'NDTV', 'Gadgets', 'Gadget', 'eNCA', 'Shotdown', '19h00', 'bukan', 'takleh', 'hangin', 'sis', 'Abby', 'Src', 'firend', 'Statewide', '03:09', 'Fourteen', 'chapters', '#conquering', '#nostopping', '#readit', 'entusiasmada', 'AUTOPISTA', 'DEL', 'podia', 'AUTOVIA', 'Con', 'tantos', 'peajes', 'acribillan', '12:11', 'Eddie', 'reflexes', 'healing', 'unsure', 'Havent', 'wd', 'Nog', 'mooi', 'spiegeltje', 'nazomer', 'vroege', 'herfst', '#weerfoto2015', '#Wolvega', 'lifespan', '#NYYvsBOS', '#BadExtraInningJokes', 'Millions', 'Numbers', 'Digits', '#WebHosting', '#indiebob', 'Sat-Thu', '4-8pm', '5-9pm', 'CET', '11-3pm', 'anchoring', '#putterwatch2016', 'guestlist', 'gona', 'tvs', 'Uve', '15mins', '78', 'Productions', 'hairdresser', 'Levin', 'Hien', 'Fabi', 'daaaaay', 'incline', 'sprints', 'tipong', 'hirap', 'paniwalain', 'akk', 'maloloka', 'nko', 'gising', 'Shabana', 'Mijwan', 'Manish', 'Malhotra', 'T.T', 'Ainda', 'fazer', 'Caroleta', 'tres', 'grande', 'tristesse', 'fond', '------', 'Liffey', 'Simpson', 'PREGNANT', '!?!:', '4-month', 'boyfrien', 'luggage', 'this/is', 'Dada', '5000', 'kimbo', 'dietician', 'thinner', 'stool', 'BISH', 'BOUT', 'PLAY', '.!!!!', 'betta', '#FOURVinyl', 'Pre-order', 'N4G', 'beauty', 'Barefoot', 'nyti', '#NewYorkTimes', 'lt', '8====', 'wooooooow', 'nini', 'knws', 'wsup', 'Crossword', 'perds', 'pari', 'nul', \"d'Angers\", 'Jaguar', 'XK8', '1997', 'jaguar', 'xk', '6,995', 'Nov-29-2015', '19:10', 'PSTBid', 'day~', '408', '#Juneteenth', 'membean', 'Kwiruka', 'infant-unknown', 'causes-late', 'hypervisor', 'exploited', 'admin', 'ATLANTA', 'REPORTING', 'murdered', 'According', 'BOB', 'AIRPORT', 'BURBANK', '70', 'GOODWILL', '$$', '#forex', '#fx', 'Forex', '18lo', '02:18', 'EVERYTHING', 'STAND', 'SPITE', 'HAPPENS', 'BECOME', 'MAIN', 'SOURCE', 'PAIN', 'vino', 'tastes', 'Mohammad', 'Amir', 'granted', 'visa', 'Immigration', 'Zealand', 'INZ', 'pony', '#NotAnApology', 'x56', 'lunatic', '#HorrorBlock', '#Horror', 'sooner', 'LATE', 'Blackberry', 'Canny', '12-7', 'Regarde', 'GAGA', 'BABY(', '#SouthKorea', '#Merger', '#Acquisition', '02:36', 'Rim', 'Timmies', 'squeeze', '490', '12:44', 'Commemorating', 'Baabda', 'Were', 'Bamon', '5PM', '#Bamon#TVD', 'forget*wink*', '#NextDoorNerd', 'fags', '-Twitter-', 'Swansea', 'kapalit', 'Pkwy', 'unbearable', 'Mackenna', 'billboards', 'ash', 'grabbed', 'bite', '150610', '#MarkBam', '#MarkTuan', '#BamBam', '#GOT7', 'Osaka', '122K', '46k', '#OTWOL3rdTeaser', 'darkest', 'rise', 'Whatsap', 'Chia', 'Pets', '11,000', '#sweepstakes', 'Kesian', 'Luckily', 'preschool', \"'Do\", 'footsoldiers', 'mjd', '7-', 'eastern', 'sirius', 'Xm', \"147'\", 'Wat', '*Danielle', 'ily*', '#BottleRock2015', 'blend', 'worlds', 'Williams-Sonoma', 'culinary', 'Grind', '8-10pm', 'Paq', 'holograms', 'parin', 'nagsisink', 'sakin', 'Pasok', 'Bukas', 'Financiele', 'Belgie', 'Analogy', 'Loyola', 'Alexei', 'Donovan', 'McNabb', 'trade)', '#nfl', 'husband', 'solar', 'nararamdaman', 'bang', 'kakaiba', '#OTWOLHubbyWifey', 'Prana', 'Recovery', 'wellness', 'pillar', 'Success', 'Churches', 'Gregorian', 'chant', 'secular', '-Featured', 'syang', 'VEGAS', '#draislive', 'pasalubong', 'Tisoy', 'meng', '#ALDUBWayBackHome', 'Exhausted', 'surprisingly', 'maka', 'Hoy', 'Sus', 'pangalan', 'Koya', 'mattoon', 'Effingham', 'Acuff', 'JA', 'revealed', 'tuned', 'BELLA', 'Wwe', 'circus', 'Germano', 'Albin', 'Haines', 'Burrow', 'damage', 'ORLEANS', 'Goldsmith', '#staged', '-)/', 'gue', 'bahas', 'apaaan', 'malem', 'mandi', 'juga', 'ganteng', 'luntur', 'problema', 'isa', 'dun', 'naps', 'Saathiya', 'ABCD', 'requested', 'DTN', 'Libya', 'summons', \"breach':\", 'SU-34', 'tidings', '“@6abc', 'Cameras', 'pic.twitter.com/rgd2ZKv5LC”look', 'ladder', '99', 'Mayan', 'Doomsday', 'DEC', 'gunna', 'November)-', '#moviedialoguewithpopesubstitute', 'Pharmacy', 'units', '#afrezza', 'w/towering', 'armload', 'Impact', 'scale', 'blizzard', '#WBZ', 'occasions', '#KansasCity', 'Director', 'Publisher', '950)', 'MO-Kansas', 'Fastest', '*friday', 'Smh', '#followback', '#teamswag', '02:50', 'eleanormarksprior', 'Ahhh', 'ordered', 'THROUGH', 'WEEKEND', 'heeeeey', 'distraction', '#flight', '#invisibility', '#timetravel', 'tru', 'leavin', 'tragic', 'Assault', 'banned', 'barrier', 'McDowell', 'SATs', 'Daysary', 'Weeksary', 'MONGGO', 'dahil', 'ito', 'pinaka-ALDUB', 'MONday', 'LiNGGO', '#ALDUBComeWhatMay', '#severewx', 'Thiss', \"fo'me:/\", 'QQ', 'Kalado', 'MarvinDancer', '#summerjamuk', '07587408469', 'Tyrone', '#functionalmobility', 'Tattoos', 'sukses', 'ngehostnya', 'inbox', 'sy', 'wajib', 'ngantor', 'TNA', 'Totes', 'Vista', 'Lago', 'Lancers', 'teehee', 'HOLD', 'EM', '#SHUCKERS', 'Biloxi', '9-0', 'outs', 'clinching', 'walks', 'bakc', 'celtics', 'WISE', 'capable', 'astound', 'ourselves', \"'Science\", 'elaborate', 'modernize', '#Virgo', 'Binary', 'Option', 'Voting', 'Choose', 'options', 'LisFX', '#lindsaylohan', 'Nuts', '&quot;:', 'flunked', 'news-journalonline', 'lighting', 'display', '#charity', 'toes', 'chillin', 'ACTUALLY', 'TRAINING', 'ACTUAL', 'JOB', 'YAAASSS', 'Clifford', 'x719', 'devastating', 'inland', 'empire', 'ew', 'suga', 'wen', 'yungr', 'adta', 'giv', 'stuf', 'lent', 'gav', 'afta', 'lyk', 'nymor', 'Turn', 'ASOS', 'Crop', 'Rib', 'Neck', 'Blues', '#MusteredLady', '#StyleWeLike', '#Scandal', '3:12', 'loads', 'tommorrow', 'wipro', 'checking', 'pronunciation', '12/12)', 'Trailers', 'theatrical', 'Rotary', 'PoMo', 'Himself', 'mankind', 'Unfortunately', 'rejected', 'maza', 'dohta', 'Daytime', 'soap', 'Sh', '#jonesbuckmanwedding', 'adding', 'Scotland', 'attempting', '#CWA', 'twitpic', \"'@Lovelylanvin\", 'tweeps', 'IRL', 'eww', 'Sheds', 'Upcoming', 'Talks', 'recon', 'securit', 'mentioned', 'Travie', '#checkmeout', 'relaxing', 'Ash', 'Midnight', '#mta', '#Nyc', 'CHILLIN', 'sayaw', '#HotSummerNights2', 'Vibes', 'Observances', 'Temecula', 'elsewhere', 'region', 'marked', 'goy', 'Brief', 'dad2bring', 'ypp', 'Hayes', 'sorted', '*covers', 'eyes*wat', 'informing', '#llowit', 'inane', 'kills', 'Labas', 'kapuso', 'tulong', 'pag-trend', 'Hopeful', 'KyleV', 'MovieSoonFor', 'ALDUB', '#ALDUBisforREAL', 'regretting', 'SHINES', 'DRESS', 'MAKES', 'TRANSPAR', 'Answer-4', '#MSG2TeaserLaunch', 'Aka', '#dreadlock', '#TnR', '#reggae', '#rasta', '#marley', '#bobmarley', 'BQ', 'New-home', '#Kennesaw', 'resident', '#Cobb', '#Fedex', 'souljaboytellem-iga.ning.com', 'clutching', '#BlueLivesMatter', 'sons', 'Sing', 'Thai', '#Berlinale', 'streams', 'Teens', 'McCartney', 'Arkansas', 'crazily', 'converted', 'OT', 'lateral', 'bagong', 'bigyang', 'meaning', '#ALDUB4thMonthsary', 'watchg', '#footballmama', 'Georgie', 'Simmons', 'Bagan', '#CopaDelRey', '2014-15', '16Besar', 'QF', '11Feb', '4Maret', 'Mei', '[*MNCTV', 'wavy', 'Math', 'Symposium', 'remeber', 'careless', 'mans', 'Uwian', 'Kom', 'maand', 'denk', 'Parijs', 'allemaal', 'toetsen', 'presentaties', 'enzo', \"'....\", 'leader', '#welcomerefugees', 'IV', 'condoms', 'dey', \"make'n\", 'choices', 'Mourinho', 'justified', 'Xperia', 'Z2', '5.0', 'Lollipop', 'Thrilled', 'register4', '#livethedream', 'livethedreamconference', 'PCWrld', 'Acrylic', 'Emmeline', 'Costa-Wagner', 'Oct-2014', '#ENDANDGERED', 'C.J.', 'Cheyenne', 've', 'consciously', 'IPL', 'Tier', 'thus', '#really27', 'Attending', 'Immune', 'Regulation', 'Davos', '#WIRM', '#allcongress', '#SISTAR', '#BORA', 'InStyle', 'tagged', 'Hutchings', 'itinerary', 'moravians', \"O'clock\", 'Duki', 'crem', 'halfway', '#cleaneating', 'takeout', '29-30', 'Course', 'costs', 'UQCC', 'Jnr', 'Scottish', 'Golf^', 'Spieth', '$22', 'Dollars', '22-Years-Old', '*cough*', 'Ducks', 'LW', 'Beleskey', '2-year', 'extension', 'Mercury', '#ANADucks', 'taxes', 'ep', 'Peppers', 'Kathy', '#sighhh', '#WhoIsBurningBlackChurches', 'MANHID', 'PUNYEMAS', 'dejk', 'CTA', 'Uptown', 'Clapping', 'Swagger/Kofi', 'Ooh', 'aaahhh', 'LMaO', '13/10', 'sega', 'genesis', 'Juicy', 'Biggie', 'Layo', 'Naks', 'Hahahah', 'Geoffroy', 'Bach', 'May-2013', 'Discs', 'Skarbo', 'CHC', 'mlb', 'Schwarber', 'Villanueva', 'performers', 'Minors', 'juuuust', 'CFC', 'Rex', 'offense', 'Mondayest', 'Rise', '#RobertHooper', '#farmcommunitynetwork', '#clubhectare', '#agrichatuk', 'Webcasting', '#COP21', 'Elvis', 'ufc', 'umbrella', '#SPSPakNaPak', 'LOW', 'COMMING', 'GLASGOW', '!!!!!!!!!!!!!!!!!!!', 'yaron', 'Mental', 'Enuff', 'kids-', 'Alpha', 'Omega', '8:45', 'Saturday-', '1:30', '#ExcitedForLittleMix2015', 'x14', 'cracked', \"Lund's.\", '#seeyouthere', 'CMS', 'guarantee', 'pixel-precise', 'output', 'MS-Paint', '#cmsretractions', '#ChipKelly', '#Eagles', 'Sun-day', '#backtowork', '#perfekterwochenstartundkaffe', '650,000', 'vocal', 'T_T', 'hehee', 'undying', '06:52', 'hospitals', 'treating', '#Fort', 'awayu', '?,', '#shinesteeth#', 'pushing', '#storyofmylife', 'networking', '#iwearmysunglassesatnight', '#seeyouatgringos', '#marrakechclub', '#malta', \"'or\", 'smother', 'joystick', 'webinar', '#flexiSched', 'Rashad', 'demonstrative', 'political', 'Saraki', 'bail', 'recognition', 'WHATTIME', 'Chad', 'Terhune/Los', 'kami', 'EK', '#hurryup', 'Prime', 'Narendra', '#NarendraModi', 'Thts', 'useful', 'iv', 'yu', 'DEGREES', 'BURN', 'Powerplay', 'CC', 'sight', 'stumbled', 'Dale', 'Lanes', 'Endzone', '100.5', 'MNF', '$25K', 'Maximillian', 'Chair', 'duncan@', 'reolo.com', 'Zayn', 'Compu', '4G', 'Rotating', 'Magnetic', 'PU', 'Leather', '03:06', 'ze', 'wel', 'erg', 'ziek', 'echt', 'heel', 'zielig', 'TorontoCrypto', 'Kankakee', 'REMC', 'pic.twitter.com/9YuDiwZbWO', 'td', 'meninas', 'eram', 'brutas', 'cavalas', 'maais', 'bom', 'porq', 'ganhamos', 'Seba', 'Lecompte', '#Kerk', '#Ghent', '07:33', '#CLASAPRESENTS', 'Amendments', 'Laws', 'Ivan', 'Israelstam', 'Lee', 'Joburg', '#CPDPoints', 'isthatjessiej', 'chalcked', 'thirty', 'begun', 'longg', 'Als', 'hoor', 'hoef', 'ook', 'horen', 'zien', '9:14', 'restless', 'eager', 'aggressiv', '#uknews', '#betternews', '#Allnewshttp', 'www.theguardian.com/business/2015/oct/30/second-teenager-arrested-over-talktalk-data-breach', '04:27', 'Sympathy', '#TheRollingStones', 'foundation', 'concealer', 'creaseless', 'winged', 'eyeliner', 'amen', 'Charlie', 'Chaplin', 'Citrix', 'Acknowledges', 'providing', 'SaaS', 'nightttt', 'whateva', '#sittinupunderthedryertweet', 'zero', 'craic', 'Caledonia', 'Hospice', 'realllllll', 'lmfaoo', 'Waay', 'underrated', '#GreenvilleShooting', 'Skills', 'Chevron', 'gouging', 'consumers', 'charging', 'hefty', '#BoardwalkEmpire', 'VBulletin', 'homwork', 'suprising', 'PERAK', 'TERENGGANU', 'assisted', 'debutant', 'ours', 'Lyndon', '02:27', 'Vanilla', 'infusion', 'apple', 'chicaaa', '1930', 'piano', 'Greece', 'bailout', 'expires', \"':::\", '#HBDBarunSobti', 'otherwise', 'Expect', 'B.A.P', 'MV', 'Gyeonggi-do', '#LOL', 'grandparents', 'nights', '08:22', 'BNO', 'revolver', '....:', 'journalists', 'Ooo', 'THiS', 'Terps-Illini', 'Ehrlich', 'uses', 'bd', 'COMMENT', 'BO', 'AMR', '#45', '#1989', '#8', 'w/Fool', '8TH', 'PRISCILLA', 'RAN', 'GAVE', 'COOKIE', 'OFCOURSE', 'ATE', 'greeting', 'Surrounded', 'Mothers', 'Dreading', 'CATCH', '#RUSH_HOUR_AT_5', 'Koum', '700', 'messaging', 'Cool', 'Faces', '#Aspartame', 'Mary', 'Stoddard', 'Stoyer', '#WeightLoss', 'Ještě', 'jedna', 'aktuální', 'americká', 'přestřelka', 'Tentokrát', 'byli', 'zraněni', 'policisté', 'Sacramentu', 'Bayon', 'Carabao', '19-December-2015', 'Sous', 'farmer', 'oats', 'rye', 'Swish', '#Classic', 'Mozart', 'Oct-1994', 'Classical', '03:44', '#if24', '#s8', 'S/o', 'insanely', 'twitterland', 'seee', 'overtake', 'MASS', 'SHOT', 'THREE', 'LOOSE', 'WHITE', 'CHEVY', 'IMPALA', 'shocking', 'rebate', 'Naaa', '10%', 'hick', 'greater', 'process', 'Hah', '?!\"', 'Meron', 'Act', 'rubbish', '441', 'texts', '588mins', 'Congratulations', 'Core', '#LoveMeRight8thWin', 'Scene', 'chaotic', 'pic.twitter.com/8g9kY6qvLM', 'skin', 'Erron', 'boom', '150605', 'SHINee', 'ONEW', 'SBS', 'Inkigayo', 'Scam', \"she'd\", 'sooooooooo', 'Shield', 'Supra', 'Goodmorning', 'exams..that', 'examinations', 'logistical', 'Committed', 'plastic', '#amplotting', 'SUPAHFEST', 'MOSH', 'Ray', 'Bruton', 'Spicewood', '~madi', 'mixing', 'throwbacks', 'eighty-five', 'kickit', 'JF', 'DVRs', 'Deaths', 'Movement', 'Psalm', 'Coltrane', 'Kick-Ass', 'tempting', 'Raif', 'Badawi', 'Arabian', 'sentenced', 'lashes', 'eatery', 'parcc', 'trap', 'portion', '#np', 'grace', '“@cnnbrk', 'Thunderpussy', 'Penguins', 'quasi-AHL', 'non', '#corny', 'RULES', 'Per', 'terms', 'probation', 'mont', 'Herbie', 'Freddie', 'Shit', 'inscribed', 'Gmar', 'Chatimah', 'Tova', '#YomKippur', '#5771', '$HBC', 'HSBC', 'Mortgage', 'Rates', 'Climbing', 'exciting', 'organize/share', 'photos/videos', 'UFC', '187', 'Magandang', 'Underground', '11:06', '#chrisbrown', 'GPS', 'Shade', 'Garmin', 'nuvi', '1100', '1100LM', '1200', '1210', '1240', '1245', '1250', '1260T', 'fo350g', 'Slides', 'Exo', 'Orchestrez', 'votre', '#Chrome', 'environnement', '#NodeJS', '#ParisJS', 'Berkeley', '05/06/2015', 'Officer-involved', 'slap', 'fescue', 'turf', 'grass', 'aeration', 'overseeding', 'Georgia', 'evaluation', 'beforehand', 'Greyhounds', '#CarmelIN', 'defeats', 'Kokomo', '68-37', 'Hounds', 'participating', '#WasteHisTime2016', 'Madi', 'tossing', 'Followed', 'cartwheel', 'fonts', 'UX', 'Spring', 'testimony', 'underwater', 'inglewood', 'mv', '09:31', '#happy', '#wazzaaaa', 'Body', 'Hustler', 'entangled', 'complicated', '02:46', 'whyyzed', 'grant', 'Jannah', 'Mecca', '#prayforMecca', 'myspace', 'comp', 'swim', 'Discount', '#LABORDAY14', '#Etsymntt', '#EtsySale', '#DiscountCodes', 'Drunk', 'jcs', 'Hala', 'natawag', 'saken', '#MemorialDay', '#BoyleHeights', '#Cobber', '#ThisGuy', 'FEATURED', 'drown', 'Tape', 'Starpoint', 'Resort', 'Comedy', 'Mirage', 'dayzz', '-__-', 'CRASHED', 'SEPTEMBER', \"YOU'VE\", 'HAD', 'UR', 'SPOTLIGHT', 'PEETA', 'SWEATSHIRT', 'WAITING', 'WINTER', 'BYE', 'Salamat', 'cavalier', '#vlogIT15', 'Vloggers', 'wedding', \"didn't,\", 'orchestrated', 'FEB', 'postponement', 'Patchogue)', '#Apple’s', 'thinkprogresspic.twitter.com/N29q8gCZAr', 'Nobody', 'blink', 'Carol', 'tomatoes', 'Crof', '#MERS', '#detox', '#afterweekend', '#tea', 'Surveillance', 'footage', '#smsportschat', '#snapchat', '01:48', 'Hangover', 'juicy(and', 'burgers', 'Beijinhos', 'seus', 'viciados', '#Vaginal', '#Yeast', 'Infection', 'manifestation', 'vary', 'Naast', 'theatertour', 'komende', 'aanvangt', 'ziet', 'mijn', 'pan', 'Co-ass', 'Opium', 'Koffi', 'COMES', 'tragus', '11.04', 'day//yes', 'hmmm', '14,000', '#Onlireeks', 'winne', '#VIDEO', '#sexo', '#porno', 'spew', 'airports/coffee/conferences', 'SCANS', 'Hola', 'happpppy', 'rolling', '‘One', 'three…', 'amplas', 'Kacian', '05:42', 'Gerry', 'crib', '*BBM', 'sticks', 'tongue', 'smiley*', 'airing', '#RadioNightItaly', '#staytuned', 'mayo', '1:55', '#ecigsummit', 'Jorge', 'Smithson', '#OTWOLManilaInLove', 'witty', 'chos', '#ALDUBBaeYaya', 'wholeDelhi', '#IamWithOddEven', 'Forbidden', 'Ni', 'aro', 'kutukutu', 'Daniels', 'sorrows', '16:01', 'Soccer-Romanian', 'Okaaay', 'Boris', 'Kodjoe', \"He'll\", 'LASALLE', 'BLVD', 'GRAND', 'ST', 'Shooting/Stabbing', 'OS', 'Amex', 'impacts', '77,000', 'cardholders', 'M&amp;A', '#Infoline', '#Mauritius', '#World', 'cried', 'owners', 'marshmallow', 'bonfire', 'Doris', 'Pillow', '1959', 'Luther', 'throne', 'legal', 'representation', 'PAPALOTE', 'Vegan', 'Soyrizo', 'Tamales', 'GRID', 'Mason', '#March', '#newsletter', '#LifeCoaching', '#Cyprus', 'hara', 'Nights', 'PEI', 'tourists', 'burned-out', 'Flat', '500,000', 'restore', '#Biafra', 'BOKO', 'HARAM', '#Biafrans', '#2015Elections', 'expired', 'HTML', 'Programming', 'Language', '8-12', 'Grab', 'Weeknd', 'BBTM', '|||', 'belongs', '#Deadly', '#jobs', '#followingjob', '#cachejobs', '#jo', 'pic.twitter.com/j7jrUDUhSS', '1784', 'Madison', 'proposing', 'amendments', 'auction', 'sheeeeeeeeeeeeeet', 'ganyang', 'Filipino', 'maliban', 'hiram', 'salita', 'Dates', 'diaries', 'professional', 'Radiographers', 'Ten', 'ten', 'Eduardo', 'Surita', 'freaking', \"i'd\", 'abou', 'dragged', 'NONE', 'Houston-based', 'Landry', '#Technology', 'clump', '#icky', 'interacting', 'dogs', '1St', 'asthma', '13%', 'preshipment', '13.4', 'pic.twitter.com/55kIs5RQlg', 'Foooooootball', 'toooonight', 'auburn', 'eagle', 'tracks', 'RGA', 'DGA', 'candidate', 'Mitchell', 'suppossed', 'Costco', 'Irvine']\n"
          ],
          "name": "stdout"
        }
      ]
    },
    {
      "cell_type": "code",
      "metadata": {
        "id": "Ay4Ad3o1tbB-",
        "colab_type": "code",
        "colab": {
          "base_uri": "https://localhost:8080/",
          "height": 54
        },
        "outputId": "8a6d25af-2795-4096-af0a-ac2d2ce0b1e0"
      },
      "source": [
        "print(tag2idx)"
      ],
      "execution_count": 75,
      "outputs": [
        {
          "output_type": "stream",
          "text": [
            "defaultdict(<function build_dict.<locals>.<lambda> at 0x7f53b67ef488>, {'O': 0, 'B-musicartist': 1, 'I-musicartist': 2, 'B-product': 3, 'I-product': 4, 'B-company': 5, 'B-person': 6, 'B-other': 7, 'I-other': 8, 'B-facility': 9, 'I-facility': 10, 'B-sportsteam': 11, 'B-geo-loc': 12, 'I-geo-loc': 13, 'I-company': 14, 'I-person': 15, 'B-movie': 16, 'I-movie': 17, 'B-tvshow': 18, 'I-tvshow': 19, 'I-sportsteam': 20})\n"
          ],
          "name": "stdout"
        }
      ]
    },
    {
      "cell_type": "code",
      "metadata": {
        "id": "O0aPpiTXtjZa",
        "colab_type": "code",
        "colab": {
          "base_uri": "https://localhost:8080/",
          "height": 54
        },
        "outputId": "cc167467-848b-419f-87d5-e2b113695cda"
      },
      "source": [
        "print(idx2tag)"
      ],
      "execution_count": 76,
      "outputs": [
        {
          "output_type": "stream",
          "text": [
            "['O', 'B-musicartist', 'I-musicartist', 'B-product', 'I-product', 'B-company', 'B-person', 'B-other', 'I-other', 'B-facility', 'I-facility', 'B-sportsteam', 'B-geo-loc', 'I-geo-loc', 'I-company', 'I-person', 'B-movie', 'I-movie', 'B-tvshow', 'I-tvshow', 'I-sportsteam']\n"
          ],
          "name": "stdout"
        }
      ]
    },
    {
      "cell_type": "markdown",
      "metadata": {
        "id": "oM2_iUMaqaOg",
        "colab_type": "text"
      },
      "source": [
        "The next additional functions will help you to create the mapping between tokens and ids for a sentence. "
      ]
    },
    {
      "cell_type": "code",
      "metadata": {
        "id": "oRaoW9c7qaOh",
        "colab_type": "code",
        "colab": {}
      },
      "source": [
        "def words2idxs(tokens_list):\n",
        "    return [token2idx[word] for word in tokens_list]\n",
        "\n",
        "def tags2idxs(tags_list):\n",
        "    return [tag2idx[tag] for tag in tags_list]\n",
        "\n",
        "def idxs2words(idxs):\n",
        "    return [idx2token[idx] for idx in idxs]\n",
        "\n",
        "def idxs2tags(idxs):\n",
        "    return [idx2tag[idx] for idx in idxs]"
      ],
      "execution_count": 0,
      "outputs": []
    },
    {
      "cell_type": "markdown",
      "metadata": {
        "id": "IIY4vb1cqaOm",
        "colab_type": "text"
      },
      "source": [
        "### Generate batches\n",
        "\n",
        "Neural Networks are usually trained with batches. It means that weight updates of the network are based on several sequences at every single time. The tricky part is that all sequences within a batch need to have the same length. So we will pad them with a special `<PAD>` token. It is also a good practice to provide RNN with sequence lengths, so it can skip computations for padding parts. We provide the batching function *batches_generator* readily available for you to save time. "
      ]
    },
    {
      "cell_type": "code",
      "metadata": {
        "id": "dRwxSvi9qaOn",
        "colab_type": "code",
        "colab": {}
      },
      "source": [
        "def batches_generator(batch_size, tokens, tags,\n",
        "                      shuffle=True, allow_smaller_last_batch=True):\n",
        "    \"\"\"Generates padded batches of tokens and tags.\"\"\"\n",
        "    \n",
        "    n_samples = len(tokens)\n",
        "    if shuffle:\n",
        "        order = np.random.permutation(n_samples)\n",
        "    else:\n",
        "        order = np.arange(n_samples)\n",
        "\n",
        "    n_batches = n_samples // batch_size\n",
        "    if allow_smaller_last_batch and n_samples % batch_size:\n",
        "        n_batches += 1\n",
        "\n",
        "    for k in range(n_batches):\n",
        "        batch_start = k * batch_size\n",
        "        batch_end = min((k + 1) * batch_size, n_samples)\n",
        "        current_batch_size = batch_end - batch_start\n",
        "        x_list = []\n",
        "        y_list = []\n",
        "        max_len_token = 0\n",
        "        for idx in order[batch_start: batch_end]:\n",
        "            x_list.append(words2idxs(tokens[idx]))\n",
        "            y_list.append(tags2idxs(tags[idx]))\n",
        "            max_len_token = max(max_len_token, len(tags[idx]))\n",
        "            \n",
        "        # Fill in the data into numpy nd-arrays filled with padding indices.\n",
        "        x = np.ones([current_batch_size, max_len_token], dtype=np.int32) * token2idx['<PAD>']\n",
        "        y = np.ones([current_batch_size, max_len_token], dtype=np.int32) * tag2idx['O']\n",
        "        lengths = np.zeros(current_batch_size, dtype=np.int32)\n",
        "        for n in range(current_batch_size):\n",
        "            utt_len = len(x_list[n])\n",
        "            x[n, :utt_len] = x_list[n]\n",
        "            lengths[n] = utt_len\n",
        "            y[n, :utt_len] = y_list[n]\n",
        "        yield x, y, lengths"
      ],
      "execution_count": 0,
      "outputs": []
    },
    {
      "cell_type": "markdown",
      "metadata": {
        "id": "JiydtFKeqaOu",
        "colab_type": "text"
      },
      "source": [
        "## Build a recurrent neural network\n",
        "\n",
        "This is the most important part of the assignment. Here we will specify the network architecture based on TensorFlow building blocks. It's fun and easy as a lego constructor! We will create an LSTM network which will produce probability distribution over tags for each token in a sentence. To take into account both right and left contexts of the token, we will use Bi-Directional LSTM (Bi-LSTM). Dense layer will be used on top to perform tag classification.  "
      ]
    },
    {
      "cell_type": "code",
      "metadata": {
        "id": "2eDBOYQpqaOv",
        "colab_type": "code",
        "colab": {}
      },
      "source": [
        "import tensorflow as tf\n",
        "import numpy as np"
      ],
      "execution_count": 0,
      "outputs": []
    },
    {
      "cell_type": "code",
      "metadata": {
        "id": "SR78qHL7qaO2",
        "colab_type": "code",
        "colab": {}
      },
      "source": [
        "class BiLSTMModel():\n",
        "    pass"
      ],
      "execution_count": 0,
      "outputs": []
    },
    {
      "cell_type": "markdown",
      "metadata": {
        "collapsed": true,
        "id": "SJbiJH8QqaO7",
        "colab_type": "text"
      },
      "source": [
        "First, we need to create [placeholders](https://www.tensorflow.org/api_docs/python/tf/compat/v1/placeholder) to specify what data we are going to feed into the network during the execution time.  For this task we will need the following placeholders:\n",
        " - *input_batch* — sequences of words (the shape equals to [batch_size, sequence_len]);\n",
        " - *ground_truth_tags* — sequences of tags (the shape equals to [batch_size, sequence_len]);\n",
        " - *lengths* — lengths of not padded sequences (the shape equals to [batch_size]);\n",
        " - *dropout_ph* — dropout keep probability; this placeholder has a predefined value 1;\n",
        " - *learning_rate_ph* — learning rate; we need this placeholder because we want to change the value during training.\n",
        "\n",
        "It could be noticed that we use *None* in the shapes in the declaration, which means that data of any size can be feeded. \n",
        "\n",
        "You need to complete the function *declare_placeholders*."
      ]
    },
    {
      "cell_type": "code",
      "metadata": {
        "id": "t3Ha6W4wqaO8",
        "colab_type": "code",
        "colab": {}
      },
      "source": [
        "def declare_placeholders(self):\n",
        "    \"\"\"Specifies placeholders for the model.\"\"\"\n",
        "\n",
        "    # Placeholders for input and ground truth output.\n",
        "    self.input_batch = tf.placeholder(dtype=tf.int32, shape=[None, None], name='input_batch') \n",
        "    self.ground_truth_tags = tf.placeholder(dtype=tf.int32, shape=[None, None], name='ground_truth_tags')\n",
        "  \n",
        "    # Placeholder for lengths of the sequences.\n",
        "    self.lengths = tf.placeholder(dtype=tf.int32, shape=[None], name='lengths')\n",
        "    \n",
        "    # Placeholder for a dropout keep probability. If we don't feed\n",
        "    # a value for this placeholder, it will be equal to 1.0.\n",
        "    self.dropout_ph = tf.placeholder_with_default(tf.cast(1.0, tf.float32), shape=[])\n",
        "    \n",
        "    # Placeholder for a learning rate (tf.float32).\n",
        "    self.learning_rate_ph = tf.placeholder_with_default(1e4, shape=[])"
      ],
      "execution_count": 0,
      "outputs": []
    },
    {
      "cell_type": "code",
      "metadata": {
        "id": "gJT3SXUzqaPD",
        "colab_type": "code",
        "colab": {}
      },
      "source": [
        "BiLSTMModel.__declare_placeholders = classmethod(declare_placeholders)"
      ],
      "execution_count": 0,
      "outputs": []
    },
    {
      "cell_type": "markdown",
      "metadata": {
        "collapsed": true,
        "id": "8s4aRw8dqaPK",
        "colab_type": "text"
      },
      "source": [
        "Now, let us specify the layers of the neural network. First, we need to perform some preparatory steps: \n",
        " \n",
        "- Create embeddings matrix with [tf.Variable](https://www.tensorflow.org/api_docs/python/tf/Variable). Specify its name (*embeddings_matrix*), type  (*tf.float32*), and initialize with random values.\n",
        "- Create forward and backward LSTM cells. TensorFlow provides a number of RNN cells ready for you. We suggest that you use *LSTMCell*, but you can also experiment with other types, e.g. GRU cells. [This](http://colah.github.io/posts/2015-08-Understanding-LSTMs/) blogpost could be interesting if you want to learn more about the differences.\n",
        "- Wrap your cells with [DropoutWrapper](https://www.tensorflow.org/api_docs/python/tf/contrib/rnn/DropoutWrapper). Dropout is an important regularization technique for neural networks. Specify all keep probabilities using the dropout placeholder that we created before.\n",
        " \n",
        "After that, you can build the computation graph that transforms an input_batch:\n",
        "\n",
        "- [Look up](https://www.tensorflow.org/api_docs/python/tf/nn/embedding_lookup) embeddings for an *input_batch* in the prepared *embedding_matrix*.\n",
        "- Pass the embeddings through [Bidirectional Dynamic RNN](https://www.tensorflow.org/api_docs/python/tf/nn/bidirectional_dynamic_rnn) with the specified forward and backward cells. Use the lengths placeholder here to avoid computations for padding tokens inside the RNN.\n",
        "- Create a dense layer on top. Its output will be used directly in loss function.  \n",
        " \n",
        "Fill in the code below. In case you need to debug something, the easiest way is to check that tensor shapes of each step match the expected ones. \n",
        " "
      ]
    },
    {
      "cell_type": "code",
      "metadata": {
        "id": "NR18zv-4vNmN",
        "colab_type": "code",
        "colab": {}
      },
      "source": [
        "def build_layers(self, vocabulary_size, embedding_dim, n_hidden_rnn, n_tags):\n",
        "    \"\"\"Specifies bi-LSTM architecture and computes logits for inputs.\"\"\"\n",
        "    \n",
        "    ### Create embedding variable (tf.Variable) with dtype tf.float32 ##\n",
        "    initial_embedding_matrix = np.random.randn(vocabulary_size, embedding_dim) / np.sqrt(embedding_dim)\n",
        "    embedding_matrix_variable = tf.Variable(initial_embedding_matrix, name='embeddings_matrix', dtype=tf.float32)\n",
        "    \n",
        "    ### Create RNN cells (for example, tf.nn.rnn_cell.BasicLSTMCell) with n_hidden_rnn number of units  ###\n",
        "    ## and dropout (tf.nn.rnn_cell.DropoutWrapper), initializing all *_keep_prob with dropout placeholder. ##\n",
        "    forward_cell = tf.nn.rnn_cell.DropoutWrapper(\n",
        "        tf.nn.rnn_cell.BasicLSTMCell(num_units=n_hidden_rnn, forget_bias=3.0),\n",
        "        input_keep_prob=self.dropout_ph,\n",
        "        output_keep_prob=self.dropout_ph,\n",
        "        state_keep_prob=self.dropout_ph\n",
        "    )\n",
        "    backward_cell = tf.nn.rnn_cell.DropoutWrapper(\n",
        "        tf.nn.rnn_cell.BasicLSTMCell(num_units=n_hidden_rnn, forget_bias=3.0),\n",
        "        input_keep_prob=self.dropout_ph,\n",
        "        output_keep_prob=self.dropout_ph,\n",
        "        state_keep_prob=self.dropout_ph\n",
        "    )\n",
        "\n",
        "    ###  Look up embeddings for self.input_batch (tf.nn.embedding_lookup).  ###\n",
        "    ### Shape: [batch_size, sequence_len, embedding_dim].  ###\n",
        "    embeddings = tf.nn.embedding_lookup(embedding_matrix_variable, self.input_batch)\n",
        "    \n",
        "    ### Pass them through Bidirectional Dynamic RNN (tf.nn.bidirectional_dynamic_rnn).\n",
        "    # Shape: [batch_size, sequence_len, 2 * n_hidden_rnn]. \n",
        "    # Also don't forget to initialize sequence_length as self.lengths and dtype as tf.float32.\n",
        "    (rnn_output_fw, rnn_output_bw), _ = tf.nn.bidirectional_dynamic_rnn(\n",
        "        cell_fw= forward_cell, cell_bw= backward_cell,\n",
        "        dtype=tf.float32,\n",
        "        inputs=embeddings,\n",
        "        sequence_length=self.lengths\n",
        "    )\n",
        "    rnn_output = tf.concat([rnn_output_fw, rnn_output_bw], axis=2)\n",
        "\n",
        "    # Dense layer on top.\n",
        "    # Shape: [batch_size, sequence_len, n_tags].   \n",
        "    self.logits = tf.layers.dense(rnn_output, n_tags, activation=None)"
      ],
      "execution_count": 0,
      "outputs": []
    },
    {
      "cell_type": "code",
      "metadata": {
        "id": "QSuv8ChqvW1M",
        "colab_type": "code",
        "colab": {}
      },
      "source": [
        "BiLSTMModel.__build_layers = classmethod(build_layers)"
      ],
      "execution_count": 0,
      "outputs": []
    },
    {
      "cell_type": "markdown",
      "metadata": {
        "id": "4zAL1gzWqaPX",
        "colab_type": "text"
      },
      "source": [
        "To compute the actual predictions of the neural network, you need to apply [softmax](https://www.tensorflow.org/api_docs/python/tf/nn/softmax) to the last layer and find the most probable tags with [argmax](https://www.tensorflow.org/api_docs/python/tf/argmax)."
      ]
    },
    {
      "cell_type": "code",
      "metadata": {
        "id": "JGVcogRBqaPZ",
        "colab_type": "code",
        "colab": {}
      },
      "source": [
        "def compute_predictions(self):\n",
        "    \"\"\"Transforms logits to probabilities and finds the most probable tags.\"\"\"\n",
        "    \n",
        "    # Create softmax (tf.nn.softmax) function\n",
        "    softmax_output = tf.nn.softmax(self.logits)\n",
        "    \n",
        "    # Use argmax (tf.argmax) to get the most probable tags\n",
        "    # Don't forget to set axis=-1\n",
        "    # otherwise argmax will be calculated in a wrong way\n",
        "    self.predictions = tf.argmax(softmax_output, axis=-1)"
      ],
      "execution_count": 0,
      "outputs": []
    },
    {
      "cell_type": "code",
      "metadata": {
        "id": "7nKGi0ISqaPd",
        "colab_type": "code",
        "colab": {}
      },
      "source": [
        "BiLSTMModel.__compute_predictions = classmethod(compute_predictions)"
      ],
      "execution_count": 0,
      "outputs": []
    },
    {
      "cell_type": "markdown",
      "metadata": {
        "collapsed": true,
        "id": "QndihpOTqaPi",
        "colab_type": "text"
      },
      "source": [
        "During training we do not need predictions of the network, but we need a loss function. We will use [cross-entropy loss](http://ml-cheatsheet.readthedocs.io/en/latest/loss_functions.html#cross-entropy), efficiently implemented in TF as \n",
        "[cross entropy with logits](https://www.tensorflow.org/api_docs/python/tf/nn/softmax_cross_entropy_with_logits_v2). Note that it should be applied to logits of the model (not to softmax probabilities!). Also note,  that we do not want to take into account loss terms coming from `<PAD>` tokens. So we need to mask them out, before computing [mean](https://www.tensorflow.org/api_docs/python/tf/reduce_mean)."
      ]
    },
    {
      "cell_type": "code",
      "metadata": {
        "id": "KbgejfOoqaPi",
        "colab_type": "code",
        "colab": {}
      },
      "source": [
        "def compute_loss(self, n_tags, PAD_index):\n",
        "    \"\"\"Computes masked cross-entopy loss with logits.\"\"\"\n",
        "    \n",
        "    # Create cross entropy function function (tf.nn.softmax_cross_entropy_with_logits)\n",
        "    ground_truth_tags_one_hot = tf.one_hot(self.ground_truth_tags, n_tags)\n",
        "    loss_tensor = tf.nn.softmax_cross_entropy_with_logits(labels=ground_truth_tags_one_hot, logits=self.logits)\n",
        "    \n",
        "    # Create loss function which doesn't operate with <PAD> tokens (tf.reduce_mean)\n",
        "    mask = tf.cast(tf.not_equal(loss_tensor, PAD_index), tf.float32)\n",
        "    self.loss =  tf.reduce_mean(tf.reduce_sum(tf.multiply(loss_tensor, mask), axis=-1) / tf.reduce_sum(mask, axis=-1))"
      ],
      "execution_count": 0,
      "outputs": []
    },
    {
      "cell_type": "code",
      "metadata": {
        "id": "UX7wraxaqaPm",
        "colab_type": "code",
        "colab": {}
      },
      "source": [
        "BiLSTMModel.__compute_loss = classmethod(compute_loss)"
      ],
      "execution_count": 0,
      "outputs": []
    },
    {
      "cell_type": "markdown",
      "metadata": {
        "id": "5kBrYwUUqaPr",
        "colab_type": "text"
      },
      "source": [
        "The last thing to specify is how we want to optimize the loss. \n",
        "We suggest that you use [Adam](https://www.tensorflow.org/api_docs/python/tf/train/AdamOptimizer) optimizer with a learning rate from the corresponding placeholder. \n",
        "You will also need to apply clipping to eliminate exploding gradients. It can be easily done with [clip_by_norm](https://www.tensorflow.org/api_docs/python/tf/clip_by_norm) function. "
      ]
    },
    {
      "cell_type": "code",
      "metadata": {
        "id": "YwtwvPe_qaPx",
        "colab_type": "code",
        "colab": {}
      },
      "source": [
        "BiLSTMModel.__perform_optimization = classmethod(perform_optimization)"
      ],
      "execution_count": 0,
      "outputs": []
    },
    {
      "cell_type": "code",
      "metadata": {
        "id": "NyTclb6Hv3I_",
        "colab_type": "code",
        "colab": {}
      },
      "source": [
        "def perform_optimization(self):\n",
        "    \"\"\"Specifies the optimizer and train_op for the model.\"\"\"\n",
        "    \n",
        "    # Create an optimizer (tf.train.AdamOptimizer)\n",
        "    self.optimizer = tf.train.AdamOptimizer(self.learning_rate_ph)\n",
        "    self.grads_and_vars = self.optimizer.compute_gradients(self.loss)\n",
        "    \n",
        "    # Gradient clipping (tf.clip_by_norm) for self.grads_and_vars\n",
        "    # Pay attention that you need to apply this operation only for gradients \n",
        "    # because self.grads_and_vars contains also variables.\n",
        "    # list comprehension might be useful in this case.\n",
        "    clip_norm = tf.cast(1.0, tf.float32)\n",
        "    self.grads_and_vars = [(tf.clip_by_norm(grad, clip_norm), var) for grad, var in self.grads_and_vars]\n",
        "    \n",
        "    self.train_op = self.optimizer.apply_gradients(self.grads_and_vars)"
      ],
      "execution_count": 0,
      "outputs": []
    },
    {
      "cell_type": "markdown",
      "metadata": {
        "collapsed": true,
        "id": "ni1j1lKNqaP4",
        "colab_type": "text"
      },
      "source": [
        "Congratulations! You have specified all the parts of your network. You may have noticed, that we didn't deal with any real data yet, so what you have written is just recipes on how the network should function.\n",
        "Now we will put them to the constructor of our Bi-LSTM class to use it in the next section. "
      ]
    },
    {
      "cell_type": "code",
      "metadata": {
        "id": "vjd5xlIYqaP5",
        "colab_type": "code",
        "colab": {}
      },
      "source": [
        "def init_model(self, vocabulary_size, n_tags, embedding_dim, n_hidden_rnn, PAD_index):\n",
        "    self.__declare_placeholders()\n",
        "    self.__build_layers(vocabulary_size, embedding_dim, n_hidden_rnn, n_tags)\n",
        "    self.__compute_predictions()\n",
        "    self.__compute_loss(n_tags, PAD_index)\n",
        "    self.__perform_optimization()"
      ],
      "execution_count": 0,
      "outputs": []
    },
    {
      "cell_type": "code",
      "metadata": {
        "id": "XVvTf9Q2qaP-",
        "colab_type": "code",
        "colab": {}
      },
      "source": [
        "BiLSTMModel.__init__ = classmethod(init_model)"
      ],
      "execution_count": 0,
      "outputs": []
    },
    {
      "cell_type": "markdown",
      "metadata": {
        "id": "swN52lznqaQC",
        "colab_type": "text"
      },
      "source": [
        "## Train the network and predict tags"
      ]
    },
    {
      "cell_type": "markdown",
      "metadata": {
        "collapsed": true,
        "id": "9S6vyglyqaQD",
        "colab_type": "text"
      },
      "source": [
        "[Session.run](https://www.tensorflow.org/api_docs/python/tf/Session#run) is a point which initiates computations in the graph that we have defined. To train the network, we need to compute *self.train_op*, which was declared in *perform_optimization*. To predict tags, we just need to compute *self.predictions*. Anyway, we need to feed actual data through the placeholders that we defined before. "
      ]
    },
    {
      "cell_type": "code",
      "metadata": {
        "id": "R7NvCddNqaQJ",
        "colab_type": "code",
        "colab": {}
      },
      "source": [
        "def train_on_batch(self, session, x_batch, y_batch, lengths, learning_rate, dropout_keep_probability):\n",
        "    feed_dict = {self.input_batch: x_batch,\n",
        "                 self.ground_truth_tags: y_batch,\n",
        "                 self.learning_rate_ph: learning_rate,\n",
        "                 self.dropout_ph: dropout_keep_probability,\n",
        "                 self.lengths: lengths}\n",
        "    \n",
        "    session.run(self.train_op, feed_dict=feed_dict)"
      ],
      "execution_count": 0,
      "outputs": []
    },
    {
      "cell_type": "markdown",
      "metadata": {
        "id": "y_Y9caA__pcW",
        "colab_type": "text"
      },
      "source": [
        ""
      ]
    },
    {
      "cell_type": "code",
      "metadata": {
        "id": "lplq3KDfqaQN",
        "colab_type": "code",
        "colab": {}
      },
      "source": [
        "BiLSTMModel.train_on_batch = classmethod(train_on_batch)"
      ],
      "execution_count": 0,
      "outputs": []
    },
    {
      "cell_type": "markdown",
      "metadata": {
        "id": "G5a73jRUqaQS",
        "colab_type": "text"
      },
      "source": [
        "Implement the function *predict_for_batch* by initializing *feed_dict* with input *x_batch* and *lengths* and running the *session* for *self.predictions*."
      ]
    },
    {
      "cell_type": "code",
      "metadata": {
        "id": "RYgUYFAcqaQT",
        "colab_type": "code",
        "colab": {}
      },
      "source": [
        "def predict_for_batch(self, session, x_batch, lengths):\n",
        "    \n",
        "    predictions = session.run(self.predictions, feed_dict={self.input_batch:x_batch, self.lengths:lengths})\n",
        "    return predictions"
      ],
      "execution_count": 0,
      "outputs": []
    },
    {
      "cell_type": "code",
      "metadata": {
        "id": "w23CxpewqaQY",
        "colab_type": "code",
        "colab": {}
      },
      "source": [
        "BiLSTMModel.predict_for_batch = classmethod(predict_for_batch)"
      ],
      "execution_count": 0,
      "outputs": []
    },
    {
      "cell_type": "markdown",
      "metadata": {
        "id": "Rk_z1t_bqaQc",
        "colab_type": "text"
      },
      "source": [
        "We finished with necessary methods of our BiLSTMModel model and almost ready to start experimenting.\n",
        "\n",
        "### Evaluation \n",
        "To simplify the evaluation process we provide two functions for you:\n",
        " - *predict_tags*: uses a model to get predictions and transforms indices to tokens and tags;\n",
        " - *eval_conll*: calculates precision, recall and F1 for the results."
      ]
    },
    {
      "cell_type": "code",
      "metadata": {
        "id": "xR_Pn-rgqaQd",
        "colab_type": "code",
        "colab": {}
      },
      "source": [
        "from evaluation import precision_recall_f1"
      ],
      "execution_count": 0,
      "outputs": []
    },
    {
      "cell_type": "code",
      "metadata": {
        "id": "rn0IFeMkqaQh",
        "colab_type": "code",
        "colab": {}
      },
      "source": [
        "def predict_tags(model, session, token_idxs_batch, lengths):\n",
        "    \"\"\"Performs predictions and transforms indices to tokens and tags.\"\"\"\n",
        "    \n",
        "    tag_idxs_batch = model.predict_for_batch(session, token_idxs_batch, lengths)\n",
        "    \n",
        "    tags_batch, tokens_batch = [], []\n",
        "    for tag_idxs, token_idxs in zip(tag_idxs_batch, token_idxs_batch):\n",
        "        tags, tokens = [], []\n",
        "        for tag_idx, token_idx in zip(tag_idxs, token_idxs):\n",
        "            tags.append(idx2tag[tag_idx])\n",
        "            tokens.append(idx2token[token_idx])\n",
        "        tags_batch.append(tags)\n",
        "        tokens_batch.append(tokens)\n",
        "    return tags_batch, tokens_batch\n",
        "    \n",
        "    \n",
        "def eval_conll(model, session, tokens, tags, short_report=True):\n",
        "    \"\"\"Computes NER quality measures using CONLL shared task script.\"\"\"\n",
        "    \n",
        "    y_true, y_pred = [], []\n",
        "    for x_batch, y_batch, lengths in batches_generator(1, tokens, tags):\n",
        "        tags_batch, tokens_batch = predict_tags(model, session, x_batch, lengths)\n",
        "        if len(x_batch[0]) != len(tags_batch[0]):\n",
        "            raise Exception(\"Incorrect length of prediction for the input, \"\n",
        "                            \"expected length: %i, got: %i\" % (len(x_batch[0]), len(tags_batch[0])))\n",
        "        predicted_tags = []\n",
        "        ground_truth_tags = []\n",
        "        for gt_tag_idx, pred_tag, token in zip(y_batch[0], tags_batch[0], tokens_batch[0]): \n",
        "            if token != '<PAD>':\n",
        "                ground_truth_tags.append(idx2tag[gt_tag_idx])\n",
        "                predicted_tags.append(pred_tag)\n",
        "\n",
        "        # We extend every prediction and ground truth sequence with 'O' tag\n",
        "        # to indicate a possible end of entity.\n",
        "        y_true.extend(ground_truth_tags + ['O'])\n",
        "        y_pred.extend(predicted_tags + ['O'])\n",
        "        \n",
        "    results = precision_recall_f1(y_true, y_pred, print_results=True, short_report=short_report)\n",
        "    return results"
      ],
      "execution_count": 0,
      "outputs": []
    },
    {
      "cell_type": "markdown",
      "metadata": {
        "id": "G1wNLQ4hqaQm",
        "colab_type": "text"
      },
      "source": [
        "## Run your experiment"
      ]
    },
    {
      "cell_type": "markdown",
      "metadata": {
        "id": "7EcnK2uqqaQn",
        "colab_type": "text"
      },
      "source": [
        "Create *BiLSTMModel* model with the following parameters:\n",
        " - *vocabulary_size* — number of tokens;\n",
        " - *n_tags* — number of tags;\n",
        " - *embedding_dim* — dimension of embeddings, recommended value: 200;\n",
        " - *n_hidden_rnn* — size of hidden layers for RNN, recommended value: 200;\n",
        " - *PAD_index* — an index of the padding token (`<PAD>`).\n",
        "\n",
        "Set hyperparameters. You might want to start with the following recommended values:\n",
        "- *batch_size*: 32;\n",
        "- 4 epochs;\n",
        "- starting value of *learning_rate*: 0.005\n",
        "- *learning_rate_decay*: a square root of 2;\n",
        "- *dropout_keep_probability*: try several values: 0.1, 0.5, 0.9.\n",
        "\n",
        "However, feel free to conduct more experiments to tune hyperparameters and earn extra points for the assignment."
      ]
    },
    {
      "cell_type": "code",
      "metadata": {
        "id": "3qXoy5mLwkOK",
        "colab_type": "code",
        "colab": {}
      },
      "source": [
        "import tensorflow.compat.v1 as tf\n",
        "tf.disable_v2_behavior()"
      ],
      "execution_count": 0,
      "outputs": []
    },
    {
      "cell_type": "code",
      "metadata": {
        "id": "jSQl9fSn3cXy",
        "colab_type": "code",
        "colab": {}
      },
      "source": [
        "tf.reset_default_graph()\n",
        "\n",
        "model = BiLSTMModel(20505, 21, 200, 200, token2idx['<PAD>'])\n",
        "\n",
        "batch_size = 32\n",
        "n_epochs = 25\n",
        "learning_rate = 0.02\n",
        "learning_rate_decay = 1.4\n",
        "dropout_keep_probability = 0.5"
      ],
      "execution_count": 0,
      "outputs": []
    },
    {
      "cell_type": "markdown",
      "metadata": {
        "id": "dOjg69EbqaQs",
        "colab_type": "text"
      },
      "source": [
        "If you got an error *\"Tensor conversion requested dtype float64 for Tensor with dtype float32\"* in this point, check if there are variables without dtype initialised. Set the value of dtype equals to *tf.float32* for such variables."
      ]
    },
    {
      "cell_type": "markdown",
      "metadata": {
        "id": "8gfTUZzWqaQs",
        "colab_type": "text"
      },
      "source": [
        "Finally, we are ready to run the training!"
      ]
    },
    {
      "cell_type": "code",
      "metadata": {
        "id": "7W5wb19XqaQt",
        "colab_type": "code",
        "colab": {
          "base_uri": "https://localhost:8080/",
          "height": 1000
        },
        "outputId": "dd325731-2770-401e-94ed-9fec9e81e882"
      },
      "source": [
        "sess = tf.Session()\n",
        "sess.run(tf.global_variables_initializer())\n",
        "\n",
        "print('Start training... \\n')\n",
        "for epoch in range(n_epochs):\n",
        "    # For each epoch evaluate the model on train and validation data\n",
        "    print('-' * 20 + ' Epoch {} '.format(epoch+1) + 'of {} '.format(n_epochs) + '-' * 20)\n",
        "    print('Train data evaluation:')\n",
        "    eval_conll(model, sess, train_tokens, train_tags, short_report=True)\n",
        "    print('Validation data evaluation:')\n",
        "    eval_conll(model, sess, validation_tokens, validation_tags, short_report=True)\n",
        "    \n",
        "    # Train the model\n",
        "    for x_batch, y_batch, lengths in batches_generator(batch_size, train_tokens, train_tags):\n",
        "        model.train_on_batch(sess, x_batch, y_batch, lengths, learning_rate, dropout_keep_probability)\n",
        "        \n",
        "    # Decaying the learning rate\n",
        "    learning_rate = learning_rate / learning_rate_decay\n",
        "    \n",
        "print('...training finished.')"
      ],
      "execution_count": 101,
      "outputs": [
        {
          "output_type": "stream",
          "text": [
            "Start training... \n",
            "\n",
            "-------------------- Epoch 1 of 25 --------------------\n",
            "Train data evaluation:\n",
            "processed 105778 tokens with 4489 phrases; found: 66135 phrases; correct: 148.\n",
            "\n",
            "precision:  0.22%; recall:  3.30%; F1:  0.42\n",
            "\n",
            "Validation data evaluation:\n",
            "processed 12836 tokens with 537 phrases; found: 7975 phrases; correct: 23.\n",
            "\n",
            "precision:  0.29%; recall:  4.28%; F1:  0.54\n",
            "\n",
            "-------------------- Epoch 2 of 25 --------------------\n",
            "Train data evaluation:\n",
            "processed 105778 tokens with 4489 phrases; found: 3658 phrases; correct: 1765.\n",
            "\n",
            "precision:  48.25%; recall:  39.32%; F1:  43.33\n",
            "\n",
            "Validation data evaluation:\n",
            "processed 12836 tokens with 537 phrases; found: 305 phrases; correct: 126.\n",
            "\n",
            "precision:  41.31%; recall:  23.46%; F1:  29.93\n",
            "\n",
            "-------------------- Epoch 3 of 25 --------------------\n",
            "Train data evaluation:\n",
            "processed 105778 tokens with 4489 phrases; found: 4701 phrases; correct: 3111.\n",
            "\n",
            "precision:  66.18%; recall:  69.30%; F1:  67.70\n",
            "\n",
            "Validation data evaluation:\n",
            "processed 12836 tokens with 537 phrases; found: 348 phrases; correct: 176.\n",
            "\n",
            "precision:  50.57%; recall:  32.77%; F1:  39.77\n",
            "\n",
            "-------------------- Epoch 4 of 25 --------------------\n",
            "Train data evaluation:\n",
            "processed 105778 tokens with 4489 phrases; found: 4888 phrases; correct: 3785.\n",
            "\n",
            "precision:  77.43%; recall:  84.32%; F1:  80.73\n",
            "\n",
            "Validation data evaluation:\n",
            "processed 12836 tokens with 537 phrases; found: 419 phrases; correct: 184.\n",
            "\n",
            "precision:  43.91%; recall:  34.26%; F1:  38.49\n",
            "\n",
            "-------------------- Epoch 5 of 25 --------------------\n",
            "Train data evaluation:\n",
            "processed 105778 tokens with 4489 phrases; found: 4745 phrases; correct: 4025.\n",
            "\n",
            "precision:  84.83%; recall:  89.66%; F1:  87.18\n",
            "\n",
            "Validation data evaluation:\n",
            "processed 12836 tokens with 537 phrases; found: 395 phrases; correct: 192.\n",
            "\n",
            "precision:  48.61%; recall:  35.75%; F1:  41.20\n",
            "\n",
            "-------------------- Epoch 6 of 25 --------------------\n",
            "Train data evaluation:\n",
            "processed 105778 tokens with 4489 phrases; found: 4685 phrases; correct: 4156.\n",
            "\n",
            "precision:  88.71%; recall:  92.58%; F1:  90.60\n",
            "\n",
            "Validation data evaluation:\n",
            "processed 12836 tokens with 537 phrases; found: 404 phrases; correct: 203.\n",
            "\n",
            "precision:  50.25%; recall:  37.80%; F1:  43.15\n",
            "\n",
            "-------------------- Epoch 7 of 25 --------------------\n",
            "Train data evaluation:\n",
            "processed 105778 tokens with 4489 phrases; found: 4627 phrases; correct: 4267.\n",
            "\n",
            "precision:  92.22%; recall:  95.05%; F1:  93.62\n",
            "\n",
            "Validation data evaluation:\n",
            "processed 12836 tokens with 537 phrases; found: 405 phrases; correct: 211.\n",
            "\n",
            "precision:  52.10%; recall:  39.29%; F1:  44.80\n",
            "\n",
            "-------------------- Epoch 8 of 25 --------------------\n",
            "Train data evaluation:\n",
            "processed 105778 tokens with 4489 phrases; found: 4583 phrases; correct: 4317.\n",
            "\n",
            "precision:  94.20%; recall:  96.17%; F1:  95.17\n",
            "\n",
            "Validation data evaluation:\n",
            "processed 12836 tokens with 537 phrases; found: 417 phrases; correct: 207.\n",
            "\n",
            "precision:  49.64%; recall:  38.55%; F1:  43.40\n",
            "\n",
            "-------------------- Epoch 9 of 25 --------------------\n",
            "Train data evaluation:\n",
            "processed 105778 tokens with 4489 phrases; found: 4571 phrases; correct: 4325.\n",
            "\n",
            "precision:  94.62%; recall:  96.35%; F1:  95.47\n",
            "\n",
            "Validation data evaluation:\n",
            "processed 12836 tokens with 537 phrases; found: 398 phrases; correct: 205.\n",
            "\n",
            "precision:  51.51%; recall:  38.18%; F1:  43.85\n",
            "\n",
            "-------------------- Epoch 10 of 25 --------------------\n",
            "Train data evaluation:\n",
            "processed 105778 tokens with 4489 phrases; found: 4584 phrases; correct: 4361.\n",
            "\n",
            "precision:  95.14%; recall:  97.15%; F1:  96.13\n",
            "\n",
            "Validation data evaluation:\n",
            "processed 12836 tokens with 537 phrases; found: 413 phrases; correct: 210.\n",
            "\n",
            "precision:  50.85%; recall:  39.11%; F1:  44.21\n",
            "\n",
            "-------------------- Epoch 11 of 25 --------------------\n",
            "Train data evaluation:\n",
            "processed 105778 tokens with 4489 phrases; found: 4573 phrases; correct: 4377.\n",
            "\n",
            "precision:  95.71%; recall:  97.51%; F1:  96.60\n",
            "\n",
            "Validation data evaluation:\n",
            "processed 12836 tokens with 537 phrases; found: 411 phrases; correct: 208.\n",
            "\n",
            "precision:  50.61%; recall:  38.73%; F1:  43.88\n",
            "\n",
            "-------------------- Epoch 12 of 25 --------------------\n",
            "Train data evaluation:\n",
            "processed 105778 tokens with 4489 phrases; found: 4577 phrases; correct: 4391.\n",
            "\n",
            "precision:  95.94%; recall:  97.82%; F1:  96.87\n",
            "\n",
            "Validation data evaluation:\n",
            "processed 12836 tokens with 537 phrases; found: 412 phrases; correct: 209.\n",
            "\n",
            "precision:  50.73%; recall:  38.92%; F1:  44.05\n",
            "\n",
            "-------------------- Epoch 13 of 25 --------------------\n",
            "Train data evaluation:\n",
            "processed 105778 tokens with 4489 phrases; found: 4577 phrases; correct: 4393.\n",
            "\n",
            "precision:  95.98%; recall:  97.86%; F1:  96.91\n",
            "\n",
            "Validation data evaluation:\n",
            "processed 12836 tokens with 537 phrases; found: 408 phrases; correct: 211.\n",
            "\n",
            "precision:  51.72%; recall:  39.29%; F1:  44.66\n",
            "\n",
            "-------------------- Epoch 14 of 25 --------------------\n",
            "Train data evaluation:\n",
            "processed 105778 tokens with 4489 phrases; found: 4560 phrases; correct: 4395.\n",
            "\n",
            "precision:  96.38%; recall:  97.91%; F1:  97.14\n",
            "\n",
            "Validation data evaluation:\n",
            "processed 12836 tokens with 537 phrases; found: 404 phrases; correct: 209.\n",
            "\n",
            "precision:  51.73%; recall:  38.92%; F1:  44.42\n",
            "\n",
            "-------------------- Epoch 15 of 25 --------------------\n",
            "Train data evaluation:\n",
            "processed 105778 tokens with 4489 phrases; found: 4555 phrases; correct: 4397.\n",
            "\n",
            "precision:  96.53%; recall:  97.95%; F1:  97.24\n",
            "\n",
            "Validation data evaluation:\n",
            "processed 12836 tokens with 537 phrases; found: 403 phrases; correct: 210.\n",
            "\n",
            "precision:  52.11%; recall:  39.11%; F1:  44.68\n",
            "\n",
            "-------------------- Epoch 16 of 25 --------------------\n",
            "Train data evaluation:\n",
            "processed 105778 tokens with 4489 phrases; found: 4560 phrases; correct: 4404.\n",
            "\n",
            "precision:  96.58%; recall:  98.11%; F1:  97.34\n",
            "\n",
            "Validation data evaluation:\n",
            "processed 12836 tokens with 537 phrases; found: 411 phrases; correct: 209.\n",
            "\n",
            "precision:  50.85%; recall:  38.92%; F1:  44.09\n",
            "\n",
            "-------------------- Epoch 17 of 25 --------------------\n",
            "Train data evaluation:\n",
            "processed 105778 tokens with 4489 phrases; found: 4555 phrases; correct: 4405.\n",
            "\n",
            "precision:  96.71%; recall:  98.13%; F1:  97.41\n",
            "\n",
            "Validation data evaluation:\n",
            "processed 12836 tokens with 537 phrases; found: 408 phrases; correct: 209.\n",
            "\n",
            "precision:  51.23%; recall:  38.92%; F1:  44.23\n",
            "\n",
            "-------------------- Epoch 18 of 25 --------------------\n",
            "Train data evaluation:\n",
            "processed 105778 tokens with 4489 phrases; found: 4559 phrases; correct: 4407.\n",
            "\n",
            "precision:  96.67%; recall:  98.17%; F1:  97.41\n",
            "\n",
            "Validation data evaluation:\n",
            "processed 12836 tokens with 537 phrases; found: 411 phrases; correct: 209.\n",
            "\n",
            "precision:  50.85%; recall:  38.92%; F1:  44.09\n",
            "\n",
            "-------------------- Epoch 19 of 25 --------------------\n",
            "Train data evaluation:\n",
            "processed 105778 tokens with 4489 phrases; found: 4555 phrases; correct: 4407.\n",
            "\n",
            "precision:  96.75%; recall:  98.17%; F1:  97.46\n",
            "\n",
            "Validation data evaluation:\n",
            "processed 12836 tokens with 537 phrases; found: 410 phrases; correct: 208.\n",
            "\n",
            "precision:  50.73%; recall:  38.73%; F1:  43.93\n",
            "\n",
            "-------------------- Epoch 20 of 25 --------------------\n",
            "Train data evaluation:\n",
            "processed 105778 tokens with 4489 phrases; found: 4558 phrases; correct: 4406.\n",
            "\n",
            "precision:  96.67%; recall:  98.15%; F1:  97.40\n",
            "\n",
            "Validation data evaluation:\n",
            "processed 12836 tokens with 537 phrases; found: 410 phrases; correct: 208.\n",
            "\n",
            "precision:  50.73%; recall:  38.73%; F1:  43.93\n",
            "\n",
            "-------------------- Epoch 21 of 25 --------------------\n",
            "Train data evaluation:\n",
            "processed 105778 tokens with 4489 phrases; found: 4552 phrases; correct: 4404.\n",
            "\n",
            "precision:  96.75%; recall:  98.11%; F1:  97.42\n",
            "\n",
            "Validation data evaluation:\n",
            "processed 12836 tokens with 537 phrases; found: 410 phrases; correct: 208.\n",
            "\n",
            "precision:  50.73%; recall:  38.73%; F1:  43.93\n",
            "\n",
            "-------------------- Epoch 22 of 25 --------------------\n",
            "Train data evaluation:\n",
            "processed 105778 tokens with 4489 phrases; found: 4552 phrases; correct: 4404.\n",
            "\n",
            "precision:  96.75%; recall:  98.11%; F1:  97.42\n",
            "\n",
            "Validation data evaluation:\n",
            "processed 12836 tokens with 537 phrases; found: 410 phrases; correct: 209.\n",
            "\n",
            "precision:  50.98%; recall:  38.92%; F1:  44.14\n",
            "\n",
            "-------------------- Epoch 23 of 25 --------------------\n",
            "Train data evaluation:\n",
            "processed 105778 tokens with 4489 phrases; found: 4551 phrases; correct: 4404.\n",
            "\n",
            "precision:  96.77%; recall:  98.11%; F1:  97.43\n",
            "\n",
            "Validation data evaluation:\n",
            "processed 12836 tokens with 537 phrases; found: 410 phrases; correct: 209.\n",
            "\n",
            "precision:  50.98%; recall:  38.92%; F1:  44.14\n",
            "\n",
            "-------------------- Epoch 24 of 25 --------------------\n",
            "Train data evaluation:\n",
            "processed 105778 tokens with 4489 phrases; found: 4555 phrases; correct: 4406.\n",
            "\n",
            "precision:  96.73%; recall:  98.15%; F1:  97.43\n",
            "\n",
            "Validation data evaluation:\n",
            "processed 12836 tokens with 537 phrases; found: 409 phrases; correct: 209.\n",
            "\n",
            "precision:  51.10%; recall:  38.92%; F1:  44.19\n",
            "\n",
            "-------------------- Epoch 25 of 25 --------------------\n",
            "Train data evaluation:\n",
            "processed 105778 tokens with 4489 phrases; found: 4554 phrases; correct: 4407.\n",
            "\n",
            "precision:  96.77%; recall:  98.17%; F1:  97.47\n",
            "\n",
            "Validation data evaluation:\n",
            "processed 12836 tokens with 537 phrases; found: 410 phrases; correct: 208.\n",
            "\n",
            "precision:  50.73%; recall:  38.73%; F1:  43.93\n",
            "\n",
            "...training finished.\n"
          ],
          "name": "stdout"
        }
      ]
    },
    {
      "cell_type": "markdown",
      "metadata": {
        "id": "2doNCkzzqaQy",
        "colab_type": "text"
      },
      "source": [
        "Now let us see full quality reports for the final model on train, validation, and test sets. To give you a hint whether you have implemented everything correctly, you might expect F-score about 40% on the validation set.\n",
        "\n",
        "**The output of the cell below (as well as the output of all the other cells) should be present in the notebook for peer2peer review!**"
      ]
    },
    {
      "cell_type": "code",
      "metadata": {
        "id": "pB6ZVAKuqaQy",
        "colab_type": "code",
        "colab": {
          "base_uri": "https://localhost:8080/",
          "height": 1000
        },
        "outputId": "be588e93-de1b-491f-d7d9-2b873a908364"
      },
      "source": [
        "print('-' * 20 + ' Train set quality: ' + '-' * 20)\n",
        "train_results = eval_conll(model, sess, train_tokens, train_tags, short_report=False)\n",
        "\n",
        "print('-' * 20 + ' Validation set quality: ' + '-' * 20)\n",
        "validation_results = eval_conll(model, sess, validation_tokens, validation_tags, short_report=False)\n",
        "\n",
        "print('-' * 20 + ' Test set quality: ' + '-' * 20)\n",
        "test_results = eval_conll(model, sess, test_tokens, test_tags, short_report=False)"
      ],
      "execution_count": 103,
      "outputs": [
        {
          "output_type": "stream",
          "text": [
            "-------------------- Train set quality: --------------------\n",
            "processed 105778 tokens with 4489 phrases; found: 4554 phrases; correct: 4407.\n",
            "\n",
            "precision:  96.77%; recall:  98.17%; F1:  97.47\n",
            "\n",
            "\t     company: precision:   96.34%; recall:   98.29%; F1:   97.31; predicted:   656\n",
            "\n",
            "\t    facility: precision:   92.97%; recall:   96.82%; F1:   94.85; predicted:   327\n",
            "\n",
            "\t     geo-loc: precision:   97.34%; recall:   99.30%; F1:   98.31; predicted:  1016\n",
            "\n",
            "\t       movie: precision:   95.71%; recall:   98.53%; F1:   97.10; predicted:    70\n",
            "\n",
            "\t musicartist: precision:   95.30%; recall:   96.12%; F1:   95.71; predicted:   234\n",
            "\n",
            "\t       other: precision:   96.45%; recall:   96.96%; F1:   96.71; predicted:   761\n",
            "\n",
            "\t      person: precision:   98.43%; recall:   99.10%; F1:   98.76; predicted:   892\n",
            "\n",
            "\t     product: precision:   99.06%; recall:   99.06%; F1:   99.06; predicted:   318\n",
            "\n",
            "\t  sportsteam: precision:   96.79%; recall:   97.24%; F1:   97.01; predicted:   218\n",
            "\n",
            "\t      tvshow: precision:   87.10%; recall:   93.10%; F1:   90.00; predicted:    62\n",
            "\n",
            "-------------------- Validation set quality: --------------------\n",
            "processed 12836 tokens with 537 phrases; found: 410 phrases; correct: 208.\n",
            "\n",
            "precision:  50.73%; recall:  38.73%; F1:  43.93\n",
            "\n",
            "\t     company: precision:   61.29%; recall:   54.81%; F1:   57.87; predicted:    93\n",
            "\n",
            "\t    facility: precision:   44.12%; recall:   44.12%; F1:   44.12; predicted:    34\n",
            "\n",
            "\t     geo-loc: precision:   61.86%; recall:   53.10%; F1:   57.14; predicted:    97\n",
            "\n",
            "\t       movie: precision:    0.00%; recall:    0.00%; F1:    0.00; predicted:     3\n",
            "\n",
            "\t musicartist: precision:   38.46%; recall:   17.86%; F1:   24.39; predicted:    13\n",
            "\n",
            "\t       other: precision:   42.19%; recall:   33.33%; F1:   37.24; predicted:    64\n",
            "\n",
            "\t      person: precision:   55.38%; recall:   32.14%; F1:   40.68; predicted:    65\n",
            "\n",
            "\t     product: precision:   15.79%; recall:    8.82%; F1:   11.32; predicted:    19\n",
            "\n",
            "\t  sportsteam: precision:   23.81%; recall:   25.00%; F1:   24.39; predicted:    21\n",
            "\n",
            "\t      tvshow: precision:    0.00%; recall:    0.00%; F1:    0.00; predicted:     1\n",
            "\n",
            "-------------------- Test set quality: --------------------\n",
            "processed 13258 tokens with 604 phrases; found: 477 phrases; correct: 241.\n",
            "\n",
            "precision:  50.52%; recall:  39.90%; F1:  44.59\n",
            "\n",
            "\t     company: precision:   61.67%; recall:   44.05%; F1:   51.39; predicted:    60\n",
            "\n",
            "\t    facility: precision:   35.29%; recall:   38.30%; F1:   36.73; predicted:    51\n",
            "\n",
            "\t     geo-loc: precision:   69.47%; recall:   55.15%; F1:   61.49; predicted:   131\n",
            "\n",
            "\t       movie: precision:    0.00%; recall:    0.00%; F1:    0.00; predicted:     7\n",
            "\n",
            "\t musicartist: precision:   13.33%; recall:    7.41%; F1:    9.52; predicted:    15\n",
            "\n",
            "\t       other: precision:   38.95%; recall:   35.92%; F1:   37.37; predicted:    95\n",
            "\n",
            "\t      person: precision:   57.89%; recall:   42.31%; F1:   48.89; predicted:    76\n",
            "\n",
            "\t     product: precision:   25.00%; recall:   14.29%; F1:   18.18; predicted:    16\n",
            "\n",
            "\t  sportsteam: precision:   36.36%; recall:   25.81%; F1:   30.19; predicted:    22\n",
            "\n",
            "\t      tvshow: precision:    0.00%; recall:    0.00%; F1:    0.00; predicted:     4\n",
            "\n"
          ],
          "name": "stdout"
        }
      ]
    },
    {
      "cell_type": "markdown",
      "metadata": {
        "id": "tWl5AnxLqaQ4",
        "colab_type": "text"
      },
      "source": [
        "### Conclusions\n",
        "\n",
        "Could we say that our model is state of the art and the results are acceptable for the task? Definately, we can say so. Nowadays, Bi-LSTM is one of the state of the art approaches for solving NER problem and it outperforms other classical methods. Despite the fact that we used small training corpora (in comparison with usual sizes of corpora in Deep Learning), our results are quite good. In addition, in this task there are many possible named entities and for some of them we have only several dozens of trainig examples, which is definately small. However, the implemented model outperforms classical CRFs for this task. Even better results could be obtained by some combinations of several types of methods, e.g. see [this](https://arxiv.org/abs/1603.01354) paper if you are interested."
      ]
    }
  ]
}