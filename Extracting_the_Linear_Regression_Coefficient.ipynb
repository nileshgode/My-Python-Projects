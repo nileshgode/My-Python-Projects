{
  "nbformat": 4,
  "nbformat_minor": 0,
  "metadata": {
    "colab": {
      "name": "Extracting the Linear Regression Coefficient",
      "provenance": [],
      "authorship_tag": "ABX9TyOIxJfOgN5sh0H8diuZzz5f"
    },
    "kernelspec": {
      "name": "python3",
      "display_name": "Python 3"
    }
  },
  "cells": [
    {
      "cell_type": "code",
      "metadata": {
        "id": "9G8zRQZBr62V",
        "colab_type": "code",
        "colab": {}
      },
      "source": [
        "from sklearn.datasets import load_diabetes\n",
        "from sklearn.linear_model import LinearRegression"
      ],
      "execution_count": 0,
      "outputs": []
    },
    {
      "cell_type": "code",
      "metadata": {
        "id": "nnEbOSFQsCp8",
        "colab_type": "code",
        "colab": {}
      },
      "source": [
        "data = load_diabetes()"
      ],
      "execution_count": 0,
      "outputs": []
    },
    {
      "cell_type": "code",
      "metadata": {
        "id": "DPO2lYEXsF9H",
        "colab_type": "code",
        "colab": {
          "base_uri": "https://localhost:8080/",
          "height": 68
        },
        "outputId": "043f1bf8-cb2a-41a8-a5a7-7a11e7ffe2dc"
      },
      "source": [
        "# fit a linear regression model to the data\n",
        "lr_model = LinearRegression()\n",
        "lr_model.fit(data.data, data.target)\n",
        "lr_model.coef_"
      ],
      "execution_count": 3,
      "outputs": [
        {
          "output_type": "execute_result",
          "data": {
            "text/plain": [
              "array([ -10.01219782, -239.81908937,  519.83978679,  324.39042769,\n",
              "       -792.18416163,  476.74583782,  101.04457032,  177.06417623,\n",
              "        751.27932109,   67.62538639])"
            ]
          },
          "metadata": {
            "tags": []
          },
          "execution_count": 3
        }
      ]
    },
    {
      "cell_type": "markdown",
      "metadata": {
        "id": "upEWtHUGsZ_f",
        "colab_type": "text"
      },
      "source": [
        "The objective is to find the best parameters (w1, w2 …, wn) that will get the predictions, ŷ̂, very close to the actual target values, y. So, once you have trained your model and are getting good predictive performance without much overfitting, you can use these parameters (or coefficients) to understand which variables largely impacted the predictions.\n",
        "\n",
        "A large positive or a large negative number for a feature coefficient means it has a strong influence on the outcome. On the other hand, if the coefficient is close to 0, this means the variable does not have much impact on the prediction."
      ]
    },
    {
      "cell_type": "code",
      "metadata": {
        "id": "IWWrZbnhsJm7",
        "colab_type": "code",
        "colab": {
          "base_uri": "https://localhost:8080/",
          "height": 204
        },
        "outputId": "a754e79f-cc38-4a1f-a3f1-b71cda35902b"
      },
      "source": [
        "import pandas as pd\n",
        "coeff_df = pd.DataFrame()\n",
        "coeff_df['feature'] = data.feature_names\n",
        "coeff_df['coefficient'] = lr_model.coef_\n",
        "coeff_df.head()"
      ],
      "execution_count": 4,
      "outputs": [
        {
          "output_type": "execute_result",
          "data": {
            "text/html": [
              "<div>\n",
              "<style scoped>\n",
              "    .dataframe tbody tr th:only-of-type {\n",
              "        vertical-align: middle;\n",
              "    }\n",
              "\n",
              "    .dataframe tbody tr th {\n",
              "        vertical-align: top;\n",
              "    }\n",
              "\n",
              "    .dataframe thead th {\n",
              "        text-align: right;\n",
              "    }\n",
              "</style>\n",
              "<table border=\"1\" class=\"dataframe\">\n",
              "  <thead>\n",
              "    <tr style=\"text-align: right;\">\n",
              "      <th></th>\n",
              "      <th>feature</th>\n",
              "      <th>coefficient</th>\n",
              "    </tr>\n",
              "  </thead>\n",
              "  <tbody>\n",
              "    <tr>\n",
              "      <th>0</th>\n",
              "      <td>age</td>\n",
              "      <td>-10.012198</td>\n",
              "    </tr>\n",
              "    <tr>\n",
              "      <th>1</th>\n",
              "      <td>sex</td>\n",
              "      <td>-239.819089</td>\n",
              "    </tr>\n",
              "    <tr>\n",
              "      <th>2</th>\n",
              "      <td>bmi</td>\n",
              "      <td>519.839787</td>\n",
              "    </tr>\n",
              "    <tr>\n",
              "      <th>3</th>\n",
              "      <td>bp</td>\n",
              "      <td>324.390428</td>\n",
              "    </tr>\n",
              "    <tr>\n",
              "      <th>4</th>\n",
              "      <td>s1</td>\n",
              "      <td>-792.184162</td>\n",
              "    </tr>\n",
              "  </tbody>\n",
              "</table>\n",
              "</div>"
            ],
            "text/plain": [
              "  feature  coefficient\n",
              "0     age   -10.012198\n",
              "1     sex  -239.819089\n",
              "2     bmi   519.839787\n",
              "3      bp   324.390428\n",
              "4      s1  -792.184162"
            ]
          },
          "metadata": {
            "tags": []
          },
          "execution_count": 4
        }
      ]
    },
    {
      "cell_type": "markdown",
      "metadata": {
        "id": "I1WZaJBssuPd",
        "colab_type": "text"
      },
      "source": [
        "From this table, we can see that column s1 has a very low coefficient (a large negative number) so it negatively influences the final prediction. If s1 increases by a unit of 1, the prediction value will decrease by -792.184162. On the other hand, bmi has a large positive number (519.839787) on the prediction, so the risk of diabetes is highly linked to this feature: an increase in body mass index (BMI) means a significant increase in the risk of diabetes."
      ]
    },
    {
      "cell_type": "code",
      "metadata": {
        "id": "gvUrnItJsP30",
        "colab_type": "code",
        "colab": {}
      },
      "source": [
        ""
      ],
      "execution_count": 0,
      "outputs": []
    }
  ]
}