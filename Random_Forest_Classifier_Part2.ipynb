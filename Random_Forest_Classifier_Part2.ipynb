{
  "nbformat": 4,
  "nbformat_minor": 0,
  "metadata": {
    "colab": {
      "name": "Random Forest Classifier_Part2",
      "provenance": [],
      "authorship_tag": "ABX9TyOcZXq8TsPI0hcgoe2ldjLH",
      "include_colab_link": true
    },
    "kernelspec": {
      "name": "python3",
      "display_name": "Python 3"
    }
  },
  "cells": [
    {
      "cell_type": "markdown",
      "metadata": {
        "id": "view-in-github",
        "colab_type": "text"
      },
      "source": [
        "<a href=\"https://colab.research.google.com/github/nileshgode/My-Python-Projects/blob/master/Random_Forest_Classifier_Part2.ipynb\" target=\"_parent\"><img src=\"https://colab.research.google.com/assets/colab-badge.svg\" alt=\"Open In Colab\"/></a>"
      ]
    },
    {
      "cell_type": "code",
      "metadata": {
        "id": "1_0EoXj947nB",
        "colab_type": "code",
        "colab": {}
      },
      "source": [
        "import pandas as pd"
      ],
      "execution_count": 0,
      "outputs": []
    },
    {
      "cell_type": "markdown",
      "metadata": {
        "id": "RZUDQEg-Y24V",
        "colab_type": "text"
      },
      "source": [
        ""
      ]
    },
    {
      "cell_type": "code",
      "metadata": {
        "id": "_gDWMSJN5GKZ",
        "colab_type": "code",
        "colab": {}
      },
      "source": [
        "file_url = 'https://raw.githubusercontent.com/PacktWorkshops/The-Data-Science-Workshop/master/Chapter04/Dataset/openml_phpZNNasq.csv'"
      ],
      "execution_count": 0,
      "outputs": []
    },
    {
      "cell_type": "code",
      "metadata": {
        "id": "4p-lJIZp5K5q",
        "colab_type": "code",
        "colab": {}
      },
      "source": [
        "df = pd.read_csv(file_url)"
      ],
      "execution_count": 0,
      "outputs": []
    },
    {
      "cell_type": "code",
      "metadata": {
        "id": "SD9Wi_Up5NRm",
        "colab_type": "code",
        "outputId": "b875d5a4-9e99-4cb7-a74e-084cc239c88d",
        "colab": {
          "base_uri": "https://localhost:8080/",
          "height": 204
        }
      },
      "source": [
        "df.head()"
      ],
      "execution_count": 0,
      "outputs": [
        {
          "output_type": "execute_result",
          "data": {
            "text/html": [
              "<div>\n",
              "<style scoped>\n",
              "    .dataframe tbody tr th:only-of-type {\n",
              "        vertical-align: middle;\n",
              "    }\n",
              "\n",
              "    .dataframe tbody tr th {\n",
              "        vertical-align: top;\n",
              "    }\n",
              "\n",
              "    .dataframe thead th {\n",
              "        text-align: right;\n",
              "    }\n",
              "</style>\n",
              "<table border=\"1\" class=\"dataframe\">\n",
              "  <thead>\n",
              "    <tr style=\"text-align: right;\">\n",
              "      <th></th>\n",
              "      <th>animal</th>\n",
              "      <th>hair</th>\n",
              "      <th>feathers</th>\n",
              "      <th>eggs</th>\n",
              "      <th>milk</th>\n",
              "      <th>airborne</th>\n",
              "      <th>aquatic</th>\n",
              "      <th>predator</th>\n",
              "      <th>toothed</th>\n",
              "      <th>backbone</th>\n",
              "      <th>breathes</th>\n",
              "      <th>venomous</th>\n",
              "      <th>fins</th>\n",
              "      <th>legs</th>\n",
              "      <th>tail</th>\n",
              "      <th>domestic</th>\n",
              "      <th>catsize</th>\n",
              "      <th>type</th>\n",
              "    </tr>\n",
              "  </thead>\n",
              "  <tbody>\n",
              "    <tr>\n",
              "      <th>0</th>\n",
              "      <td>aardvark</td>\n",
              "      <td>True</td>\n",
              "      <td>False</td>\n",
              "      <td>False</td>\n",
              "      <td>True</td>\n",
              "      <td>False</td>\n",
              "      <td>False</td>\n",
              "      <td>True</td>\n",
              "      <td>True</td>\n",
              "      <td>True</td>\n",
              "      <td>True</td>\n",
              "      <td>False</td>\n",
              "      <td>False</td>\n",
              "      <td>4</td>\n",
              "      <td>False</td>\n",
              "      <td>False</td>\n",
              "      <td>True</td>\n",
              "      <td>mammal</td>\n",
              "    </tr>\n",
              "    <tr>\n",
              "      <th>1</th>\n",
              "      <td>antelope</td>\n",
              "      <td>True</td>\n",
              "      <td>False</td>\n",
              "      <td>False</td>\n",
              "      <td>True</td>\n",
              "      <td>False</td>\n",
              "      <td>False</td>\n",
              "      <td>False</td>\n",
              "      <td>True</td>\n",
              "      <td>True</td>\n",
              "      <td>True</td>\n",
              "      <td>False</td>\n",
              "      <td>False</td>\n",
              "      <td>4</td>\n",
              "      <td>True</td>\n",
              "      <td>False</td>\n",
              "      <td>True</td>\n",
              "      <td>mammal</td>\n",
              "    </tr>\n",
              "    <tr>\n",
              "      <th>2</th>\n",
              "      <td>bass</td>\n",
              "      <td>False</td>\n",
              "      <td>False</td>\n",
              "      <td>True</td>\n",
              "      <td>False</td>\n",
              "      <td>False</td>\n",
              "      <td>True</td>\n",
              "      <td>True</td>\n",
              "      <td>True</td>\n",
              "      <td>True</td>\n",
              "      <td>False</td>\n",
              "      <td>False</td>\n",
              "      <td>True</td>\n",
              "      <td>0</td>\n",
              "      <td>True</td>\n",
              "      <td>False</td>\n",
              "      <td>False</td>\n",
              "      <td>fish</td>\n",
              "    </tr>\n",
              "    <tr>\n",
              "      <th>3</th>\n",
              "      <td>bear</td>\n",
              "      <td>True</td>\n",
              "      <td>False</td>\n",
              "      <td>False</td>\n",
              "      <td>True</td>\n",
              "      <td>False</td>\n",
              "      <td>False</td>\n",
              "      <td>True</td>\n",
              "      <td>True</td>\n",
              "      <td>True</td>\n",
              "      <td>True</td>\n",
              "      <td>False</td>\n",
              "      <td>False</td>\n",
              "      <td>4</td>\n",
              "      <td>False</td>\n",
              "      <td>False</td>\n",
              "      <td>True</td>\n",
              "      <td>mammal</td>\n",
              "    </tr>\n",
              "    <tr>\n",
              "      <th>4</th>\n",
              "      <td>boar</td>\n",
              "      <td>True</td>\n",
              "      <td>False</td>\n",
              "      <td>False</td>\n",
              "      <td>True</td>\n",
              "      <td>False</td>\n",
              "      <td>False</td>\n",
              "      <td>True</td>\n",
              "      <td>True</td>\n",
              "      <td>True</td>\n",
              "      <td>True</td>\n",
              "      <td>False</td>\n",
              "      <td>False</td>\n",
              "      <td>4</td>\n",
              "      <td>True</td>\n",
              "      <td>False</td>\n",
              "      <td>True</td>\n",
              "      <td>mammal</td>\n",
              "    </tr>\n",
              "  </tbody>\n",
              "</table>\n",
              "</div>"
            ],
            "text/plain": [
              "     animal   hair  feathers   eggs  ...   tail  domestic  catsize    type\n",
              "0  aardvark   True     False  False  ...  False     False     True  mammal\n",
              "1  antelope   True     False  False  ...   True     False     True  mammal\n",
              "2      bass  False     False   True  ...   True     False    False    fish\n",
              "3      bear   True     False  False  ...  False     False     True  mammal\n",
              "4      boar   True     False  False  ...   True     False     True  mammal\n",
              "\n",
              "[5 rows x 18 columns]"
            ]
          },
          "metadata": {
            "tags": []
          },
          "execution_count": 4
        }
      ]
    },
    {
      "cell_type": "code",
      "metadata": {
        "id": "CJydpuTU5PUI",
        "colab_type": "code",
        "colab": {}
      },
      "source": [
        "df.drop(columns='animal', inplace=True)"
      ],
      "execution_count": 0,
      "outputs": []
    },
    {
      "cell_type": "code",
      "metadata": {
        "id": "l8vKy_Uf5SYY",
        "colab_type": "code",
        "colab": {}
      },
      "source": [
        "y = df.pop('type')"
      ],
      "execution_count": 0,
      "outputs": []
    },
    {
      "cell_type": "code",
      "metadata": {
        "id": "mG6eR2Np5Wwu",
        "colab_type": "code",
        "outputId": "7282a6a9-6bd9-4019-f68e-42e22d4f39c1",
        "colab": {
          "base_uri": "https://localhost:8080/",
          "height": 204
        }
      },
      "source": [
        "df.head()"
      ],
      "execution_count": 0,
      "outputs": [
        {
          "output_type": "execute_result",
          "data": {
            "text/html": [
              "<div>\n",
              "<style scoped>\n",
              "    .dataframe tbody tr th:only-of-type {\n",
              "        vertical-align: middle;\n",
              "    }\n",
              "\n",
              "    .dataframe tbody tr th {\n",
              "        vertical-align: top;\n",
              "    }\n",
              "\n",
              "    .dataframe thead th {\n",
              "        text-align: right;\n",
              "    }\n",
              "</style>\n",
              "<table border=\"1\" class=\"dataframe\">\n",
              "  <thead>\n",
              "    <tr style=\"text-align: right;\">\n",
              "      <th></th>\n",
              "      <th>hair</th>\n",
              "      <th>feathers</th>\n",
              "      <th>eggs</th>\n",
              "      <th>milk</th>\n",
              "      <th>airborne</th>\n",
              "      <th>aquatic</th>\n",
              "      <th>predator</th>\n",
              "      <th>toothed</th>\n",
              "      <th>backbone</th>\n",
              "      <th>breathes</th>\n",
              "      <th>venomous</th>\n",
              "      <th>fins</th>\n",
              "      <th>legs</th>\n",
              "      <th>tail</th>\n",
              "      <th>domestic</th>\n",
              "      <th>catsize</th>\n",
              "    </tr>\n",
              "  </thead>\n",
              "  <tbody>\n",
              "    <tr>\n",
              "      <th>0</th>\n",
              "      <td>True</td>\n",
              "      <td>False</td>\n",
              "      <td>False</td>\n",
              "      <td>True</td>\n",
              "      <td>False</td>\n",
              "      <td>False</td>\n",
              "      <td>True</td>\n",
              "      <td>True</td>\n",
              "      <td>True</td>\n",
              "      <td>True</td>\n",
              "      <td>False</td>\n",
              "      <td>False</td>\n",
              "      <td>4</td>\n",
              "      <td>False</td>\n",
              "      <td>False</td>\n",
              "      <td>True</td>\n",
              "    </tr>\n",
              "    <tr>\n",
              "      <th>1</th>\n",
              "      <td>True</td>\n",
              "      <td>False</td>\n",
              "      <td>False</td>\n",
              "      <td>True</td>\n",
              "      <td>False</td>\n",
              "      <td>False</td>\n",
              "      <td>False</td>\n",
              "      <td>True</td>\n",
              "      <td>True</td>\n",
              "      <td>True</td>\n",
              "      <td>False</td>\n",
              "      <td>False</td>\n",
              "      <td>4</td>\n",
              "      <td>True</td>\n",
              "      <td>False</td>\n",
              "      <td>True</td>\n",
              "    </tr>\n",
              "    <tr>\n",
              "      <th>2</th>\n",
              "      <td>False</td>\n",
              "      <td>False</td>\n",
              "      <td>True</td>\n",
              "      <td>False</td>\n",
              "      <td>False</td>\n",
              "      <td>True</td>\n",
              "      <td>True</td>\n",
              "      <td>True</td>\n",
              "      <td>True</td>\n",
              "      <td>False</td>\n",
              "      <td>False</td>\n",
              "      <td>True</td>\n",
              "      <td>0</td>\n",
              "      <td>True</td>\n",
              "      <td>False</td>\n",
              "      <td>False</td>\n",
              "    </tr>\n",
              "    <tr>\n",
              "      <th>3</th>\n",
              "      <td>True</td>\n",
              "      <td>False</td>\n",
              "      <td>False</td>\n",
              "      <td>True</td>\n",
              "      <td>False</td>\n",
              "      <td>False</td>\n",
              "      <td>True</td>\n",
              "      <td>True</td>\n",
              "      <td>True</td>\n",
              "      <td>True</td>\n",
              "      <td>False</td>\n",
              "      <td>False</td>\n",
              "      <td>4</td>\n",
              "      <td>False</td>\n",
              "      <td>False</td>\n",
              "      <td>True</td>\n",
              "    </tr>\n",
              "    <tr>\n",
              "      <th>4</th>\n",
              "      <td>True</td>\n",
              "      <td>False</td>\n",
              "      <td>False</td>\n",
              "      <td>True</td>\n",
              "      <td>False</td>\n",
              "      <td>False</td>\n",
              "      <td>True</td>\n",
              "      <td>True</td>\n",
              "      <td>True</td>\n",
              "      <td>True</td>\n",
              "      <td>False</td>\n",
              "      <td>False</td>\n",
              "      <td>4</td>\n",
              "      <td>True</td>\n",
              "      <td>False</td>\n",
              "      <td>True</td>\n",
              "    </tr>\n",
              "  </tbody>\n",
              "</table>\n",
              "</div>"
            ],
            "text/plain": [
              "    hair  feathers   eggs   milk  ...  legs   tail  domestic  catsize\n",
              "0   True     False  False   True  ...     4  False     False     True\n",
              "1   True     False  False   True  ...     4   True     False     True\n",
              "2  False     False   True  False  ...     0   True     False    False\n",
              "3   True     False  False   True  ...     4  False     False     True\n",
              "4   True     False  False   True  ...     4   True     False     True\n",
              "\n",
              "[5 rows x 16 columns]"
            ]
          },
          "metadata": {
            "tags": []
          },
          "execution_count": 7
        }
      ]
    },
    {
      "cell_type": "markdown",
      "metadata": {
        "id": "bB7FzokQ5ZII",
        "colab_type": "text"
      },
      "source": [
        "I hope without explanation, If one can refer Part1 they can easily understnad the above code"
      ]
    },
    {
      "cell_type": "markdown",
      "metadata": {
        "id": "p23O5Blz5nMx",
        "colab_type": "text"
      },
      "source": [
        "from sklearn_model_selection import train_test_split\n"
      ]
    },
    {
      "cell_type": "code",
      "metadata": {
        "id": "xIwqJlag5xC4",
        "colab_type": "code",
        "colab": {}
      },
      "source": [
        "from sklearn.model_selection import train_test_split"
      ],
      "execution_count": 0,
      "outputs": []
    },
    {
      "cell_type": "code",
      "metadata": {
        "id": "rTO6Xnha51jm",
        "colab_type": "code",
        "colab": {}
      },
      "source": [
        "X_train, X_test, y_train, y_test = train_test_split(df, y, test_size=0.4, random_state=123)"
      ],
      "execution_count": 0,
      "outputs": []
    },
    {
      "cell_type": "code",
      "metadata": {
        "id": "nvJLtdAi57oY",
        "colab_type": "code",
        "colab": {}
      },
      "source": [
        "from sklearn.ensemble import RandomForestClassifier"
      ],
      "execution_count": 0,
      "outputs": []
    },
    {
      "cell_type": "code",
      "metadata": {
        "id": "Z0o8NkAf5-S8",
        "colab_type": "code",
        "colab": {}
      },
      "source": [
        "rf_model = RandomForestClassifier(random_state=42)"
      ],
      "execution_count": 0,
      "outputs": []
    },
    {
      "cell_type": "code",
      "metadata": {
        "id": "A_hNXwGx6AUt",
        "colab_type": "code",
        "outputId": "293814d3-d861-485d-ba62-9b575ef09fb1",
        "colab": {
          "base_uri": "https://localhost:8080/",
          "height": 153
        }
      },
      "source": [
        "rf_model.fit(X_train, y_train)"
      ],
      "execution_count": 0,
      "outputs": [
        {
          "output_type": "execute_result",
          "data": {
            "text/plain": [
              "RandomForestClassifier(bootstrap=True, ccp_alpha=0.0, class_weight=None,\n",
              "                       criterion='gini', max_depth=None, max_features='auto',\n",
              "                       max_leaf_nodes=None, max_samples=None,\n",
              "                       min_impurity_decrease=0.0, min_impurity_split=None,\n",
              "                       min_samples_leaf=1, min_samples_split=2,\n",
              "                       min_weight_fraction_leaf=0.0, n_estimators=100,\n",
              "                       n_jobs=None, oob_score=False, random_state=42, verbose=0,\n",
              "                       warm_start=False)"
            ]
          },
          "metadata": {
            "tags": []
          },
          "execution_count": 12
        }
      ]
    },
    {
      "cell_type": "code",
      "metadata": {
        "id": "tm3CmUVE6N3p",
        "colab_type": "code",
        "outputId": "936759cd-cbc2-4493-c8bf-9e75d87b35fc",
        "colab": {
          "base_uri": "https://localhost:8080/",
          "height": 255
        }
      },
      "source": [
        "train_preds = rf_model.predict(X_train)\n",
        "test_preds = rf_model.predict(X_test)\n",
        "print(train_preds) \n",
        "print(test_preds)"
      ],
      "execution_count": 0,
      "outputs": [
        {
          "output_type": "stream",
          "text": [
            "['amphibian' 'bird' 'bird' 'mammal' 'mammal' 'bird' 'bird' 'invertebrate'\n",
            " 'mammal' 'bird' 'amphibian' 'insect' 'mammal' 'mammal' 'invertebrate'\n",
            " 'insect' 'mammal' 'invertebrate' 'bird' 'invertebrate' 'mammal' 'fish'\n",
            " 'invertebrate' 'mammal' 'mammal' 'bird' 'bird' 'mammal' 'mammal' 'insect'\n",
            " 'fish' 'mammal' 'amphibian' 'fish' 'mammal' 'fish' 'mammal' 'bird'\n",
            " 'insect' 'fish' 'mammal' 'mammal' 'mammal' 'mammal' 'reptile' 'mammal'\n",
            " 'bird' 'mammal' 'amphibian' 'invertebrate' 'mammal' 'fish' 'mammal'\n",
            " 'fish' 'bird' 'bird' 'mammal' 'mammal' 'fish' 'mammal']\n",
            "['fish' 'mammal' 'fish' 'mammal' 'mammal' 'mammal' 'mammal' 'mammal'\n",
            " 'invertebrate' 'mammal' 'bird' 'mammal' 'fish' 'fish' 'invertebrate'\n",
            " 'insect' 'invertebrate' 'fish' 'bird' 'mammal' 'mammal' 'invertebrate'\n",
            " 'mammal' 'mammal' 'mammal' 'amphibian' 'invertebrate' 'mammal'\n",
            " 'invertebrate' 'bird' 'bird' 'bird' 'bird' 'mammal' 'mammal' 'bird'\n",
            " 'bird' 'insect' 'reptile' 'fish' 'bird']\n"
          ],
          "name": "stdout"
        }
      ]
    },
    {
      "cell_type": "code",
      "metadata": {
        "id": "46zELqvN6SDj",
        "colab_type": "code",
        "colab": {}
      },
      "source": [
        "from sklearn.metrics import accuracy_score"
      ],
      "execution_count": 0,
      "outputs": []
    },
    {
      "cell_type": "code",
      "metadata": {
        "id": "l9psat7n6WVA",
        "colab_type": "code",
        "outputId": "c9fa7457-5f25-4e11-baef-4f527a567126",
        "colab": {
          "base_uri": "https://localhost:8080/",
          "height": 51
        }
      },
      "source": [
        "train_acc = accuracy_score(y_train, train_preds)\n",
        "test_acc = accuracy_score(y_test, test_preds)\n",
        "print(train_acc)\n",
        "print(test_acc)"
      ],
      "execution_count": 0,
      "outputs": [
        {
          "output_type": "stream",
          "text": [
            "1.0\n",
            "0.8780487804878049\n"
          ],
          "name": "stdout"
        }
      ]
    },
    {
      "cell_type": "markdown",
      "metadata": {
        "id": "3rB05vHz7-2l",
        "colab_type": "text"
      },
      "source": [
        "we trained a RandomForest to predict the type of animals based on their key attributes. Our model achieved a perfect accuracy score of 1 on the training set but only 0.88 on the testing set. This means our model is overfitting and is not general enough. The ideal situation would be for the model to achieve a very similar, high-accuracy score on both the training and testing sets.\n",
        "\n",
        "In following section we try to achieve this by using different parametersin model building phase such as Number of tree estimators, Maximum Depth, Minimum sample leaf & tunning with maximum features."
      ]
    },
    {
      "cell_type": "markdown",
      "metadata": {
        "id": "YM9ur1-981am",
        "colab_type": "text"
      },
      "source": [
        "# **Number of Trees Estimator**"
      ]
    },
    {
      "cell_type": "markdown",
      "metadata": {
        "id": "uZm0eCIv9PIt",
        "colab_type": "text"
      },
      "source": [
        "The first hyperparameter you will look at in this section is called n_estimators. This hyperparameter is responsible for defining the number of trees that will be trained by RandomForest algorithm."
      ]
    },
    {
      "cell_type": "markdown",
      "metadata": {
        "id": "80VBdAGI9nwK",
        "colab_type": "text"
      },
      "source": [
        "*the n_estimators hyperparameter is used to specify the number of trees RandomForest algorithm will build. By default, it will build 10 trees and for a given observation, it will ask each tree to make a prediction. Then, it will average those predictions and use the result as the final prediction for this input. *"
      ]
    },
    {
      "cell_type": "markdown",
      "metadata": {
        "id": "2skIyrD29x0M",
        "colab_type": "text"
      },
      "source": [
        "In general, the higher the number of trees is, the better the performance you will get. Let's see what happens with n_estimators = 2:"
      ]
    },
    {
      "cell_type": "code",
      "metadata": {
        "id": "lyD1XLCP8w4D",
        "colab_type": "code",
        "colab": {}
      },
      "source": [
        "rf_model2 = RandomForestClassifier(random_state=1, n_estimators=2)"
      ],
      "execution_count": 0,
      "outputs": []
    },
    {
      "cell_type": "code",
      "metadata": {
        "id": "w0xRAr5Z7y1a",
        "colab_type": "code",
        "outputId": "2ab11ea9-eb2c-47e2-e8bb-e6e95b4cdfe3",
        "colab": {
          "base_uri": "https://localhost:8080/",
          "height": 153
        }
      },
      "source": [
        "rf_model2.fit(X_train, y_train)"
      ],
      "execution_count": 0,
      "outputs": [
        {
          "output_type": "execute_result",
          "data": {
            "text/plain": [
              "RandomForestClassifier(bootstrap=True, ccp_alpha=0.0, class_weight=None,\n",
              "                       criterion='gini', max_depth=None, max_features='auto',\n",
              "                       max_leaf_nodes=None, max_samples=None,\n",
              "                       min_impurity_decrease=0.0, min_impurity_split=None,\n",
              "                       min_samples_leaf=1, min_samples_split=2,\n",
              "                       min_weight_fraction_leaf=0.0, n_estimators=2,\n",
              "                       n_jobs=None, oob_score=False, random_state=1, verbose=0,\n",
              "                       warm_start=False)"
            ]
          },
          "metadata": {
            "tags": []
          },
          "execution_count": 17
        }
      ]
    },
    {
      "cell_type": "code",
      "metadata": {
        "id": "ZvM4Hk3j97S3",
        "colab_type": "code",
        "outputId": "0f19f76b-0274-423d-f8e5-48109563262a",
        "colab": {
          "base_uri": "https://localhost:8080/",
          "height": 51
        }
      },
      "source": [
        "preds2 = rf_model2.predict(X_train)\n",
        "test_preds2 = rf_model2.predict(X_test)\n",
        "print(accuracy_score(y_train, preds2))\n",
        "print(accuracy_score(y_test, test_preds2))"
      ],
      "execution_count": 0,
      "outputs": [
        {
          "output_type": "stream",
          "text": [
            "0.9833333333333333\n",
            "0.8536585365853658\n"
          ],
          "name": "stdout"
        }
      ]
    },
    {
      "cell_type": "markdown",
      "metadata": {
        "id": "t0t4S32K-H6X",
        "colab_type": "text"
      },
      "source": [
        "As expected, the accuracy is significantly lower than the previous example with n_estimators = 10 (the default value). Let's now try with 50 trees:"
      ]
    },
    {
      "cell_type": "code",
      "metadata": {
        "id": "QIVPFgFY-In7",
        "colab_type": "code",
        "outputId": "407901eb-a73f-43f1-adcc-cb29dffe65b6",
        "colab": {
          "base_uri": "https://localhost:8080/",
          "height": 51
        }
      },
      "source": [
        "rf_model3 = RandomForestClassifier(random_state=1, n_estimators=50)\n",
        "rf_model3.fit(X_train, y_train)\n",
        "preds3 = rf_model3.predict(X_train)\n",
        "test_preds3 = rf_model3.predict(X_test)\n",
        "print(accuracy_score(y_train, preds3))\n",
        "print(accuracy_score(y_test, test_preds3))"
      ],
      "execution_count": 0,
      "outputs": [
        {
          "output_type": "stream",
          "text": [
            "1.0\n",
            "0.8780487804878049\n"
          ],
          "name": "stdout"
        }
      ]
    },
    {
      "cell_type": "markdown",
      "metadata": {
        "id": "t2IbV-Rw-MrT",
        "colab_type": "text"
      },
      "source": [
        "With n_estimators = 50, we respectively gained 1% and 2% on the accuracy scored for the training and testing sets, which is great! But the main drawback of increasing the number of trees is that it requires more computational power. So, it will take more time to train a model. In a real project, you will need to find the right balance between performance and training duration."
      ]
    },
    {
      "cell_type": "markdown",
      "metadata": {
        "id": "VwHeGIFQBKMO",
        "colab_type": "text"
      },
      "source": [
        "**Tuning n_estimators to Reduce Overfitting**\n",
        "\n",
        "Reduce number of n_estimator = 30 ."
      ]
    },
    {
      "cell_type": "code",
      "metadata": {
        "id": "X0L0JznQBPKg",
        "colab_type": "code",
        "outputId": "10ae9a2d-386c-49c3-c9da-074eb64ed9b6",
        "colab": {
          "base_uri": "https://localhost:8080/",
          "height": 153
        }
      },
      "source": [
        "rf_model3 = RandomForestClassifier(random_state=42, n_estimators=30)\n",
        "rf_model3.fit(X_train, y_train)"
      ],
      "execution_count": 0,
      "outputs": [
        {
          "output_type": "execute_result",
          "data": {
            "text/plain": [
              "RandomForestClassifier(bootstrap=True, ccp_alpha=0.0, class_weight=None,\n",
              "                       criterion='gini', max_depth=None, max_features='auto',\n",
              "                       max_leaf_nodes=None, max_samples=None,\n",
              "                       min_impurity_decrease=0.0, min_impurity_split=None,\n",
              "                       min_samples_leaf=1, min_samples_split=2,\n",
              "                       min_weight_fraction_leaf=0.0, n_estimators=30,\n",
              "                       n_jobs=None, oob_score=False, random_state=42, verbose=0,\n",
              "                       warm_start=False)"
            ]
          },
          "metadata": {
            "tags": []
          },
          "execution_count": 20
        }
      ]
    },
    {
      "cell_type": "code",
      "metadata": {
        "id": "-ApMGtVPCdOe",
        "colab_type": "code",
        "colab": {}
      },
      "source": [
        "train_preds3 = rf_model3.predict(X_train)\n",
        "test_preds3 = rf_model3.predict(X_test)"
      ],
      "execution_count": 0,
      "outputs": []
    },
    {
      "cell_type": "code",
      "metadata": {
        "id": "1L2E356YCrXS",
        "colab_type": "code",
        "colab": {}
      },
      "source": [
        "train_acc3 = accuracy_score(y_train, train_preds3)\n",
        "test_acc3 = accuracy_score(y_test, test_preds3)"
      ],
      "execution_count": 0,
      "outputs": []
    },
    {
      "cell_type": "code",
      "metadata": {
        "id": "cdKLz6EjC2al",
        "colab_type": "code",
        "outputId": "b844e60c-e0b9-41c2-e1d3-2ab615d69abc",
        "colab": {
          "base_uri": "https://localhost:8080/",
          "height": 51
        }
      },
      "source": [
        "print(train_acc3)\n",
        "print(test_acc3)"
      ],
      "execution_count": 0,
      "outputs": [
        {
          "output_type": "stream",
          "text": [
            "1.0\n",
            "0.8780487804878049\n"
          ],
          "name": "stdout"
        }
      ]
    },
    {
      "cell_type": "markdown",
      "metadata": {
        "id": "lzasQgZ0C9Y0",
        "colab_type": "text"
      },
      "source": [
        "This output shows us the model is overfitting less compared to the results from the previous step and still has a very high-performance level for the training set.\n",
        "There are different hyperparameters that can help to lower the risk of overfitting for Random Forest and one of them is called max_depth."
      ]
    },
    {
      "cell_type": "markdown",
      "metadata": {
        "id": "faYnVOKtDNxD",
        "colab_type": "text"
      },
      "source": [
        "# **Maximum Depth**"
      ]
    },
    {
      "cell_type": "markdown",
      "metadata": {
        "id": "eWdtyDoXDYXc",
        "colab_type": "text"
      },
      "source": [
        "Increasing the number of trees does improve model performance but it usually doesn't help much to decrease the risk of overfitting. \n",
        "\n",
        "it tells Random Forest model, how many nodes (questions) it can create before making predictions. But how will that help to reduce overfitting, you may ask. Well, let's say you built a single tree and set the max_depth hyperparameter to 50. This would mean that there would be some cases where you could ask 49 different questions\n",
        "\n",
        "By default, the value of this max_depth parameter is None, which means there is no limit set for the depth of the trees."
      ]
    },
    {
      "cell_type": "code",
      "metadata": {
        "id": "uKoklBgODRTL",
        "colab_type": "code",
        "outputId": "307a949c-f241-4b7e-a5bd-c9eb0b835fd2",
        "colab": {
          "base_uri": "https://localhost:8080/",
          "height": 51
        }
      },
      "source": [
        "rf_model4 = RandomForestClassifier(random_state=123, n_estimators=40, max_depth=2)\n",
        "rf_model4.fit(X_train, y_train)\n",
        "preds4 = rf_model4.predict(X_train)\n",
        "test_preds4 = rf_model4.predict(X_test)\n",
        "print(accuracy_score(y_train, preds4))\n",
        "print(accuracy_score(y_test, test_preds4))\n",
        "rf_model4 = RandomForestClassifier(random_state=1, n_estimators=50, max_depth=3)"
      ],
      "execution_count": 0,
      "outputs": [
        {
          "output_type": "stream",
          "text": [
            "0.9166666666666666\n",
            "0.8292682926829268\n"
          ],
          "name": "stdout"
        }
      ]
    },
    {
      "cell_type": "markdown",
      "metadata": {
        "id": "4P0qoXkNEvHf",
        "colab_type": "text"
      },
      "source": [
        "One can check the different **(random_state= X, n_estimators= Y, max_depth=Z)** parameter combinations for above Values of (X,Y,Z)\n"
      ]
    },
    {
      "cell_type": "code",
      "metadata": {
        "id": "us9T_cC9FBrb",
        "colab_type": "code",
        "outputId": "59bfa795-9d2a-4fcd-9a5f-3e00caab4d8b",
        "colab": {
          "base_uri": "https://localhost:8080/",
          "height": 51
        }
      },
      "source": [
        "rf_model6 = RandomForestClassifier(random_state=123, n_estimators=30, max_depth=5)\n",
        "rf_model6.fit(X_train, y_train)\n",
        "preds6 = rf_model6.predict(X_train)\n",
        "test_preds6 = rf_model6.predict(X_test)\n",
        "print(accuracy_score(y_train, preds6))\n",
        "print(accuracy_score(y_test, test_preds6))"
      ],
      "execution_count": 0,
      "outputs": [
        {
          "output_type": "stream",
          "text": [
            "1.0\n",
            "0.926829268292683\n"
          ],
          "name": "stdout"
        }
      ]
    },
    {
      "cell_type": "markdown",
      "metadata": {
        "id": "jq3q9zncFaLl",
        "colab_type": "text"
      },
      "source": [
        "**Tuning max_depth to Reduce Overfitting**\n",
        "We got the exact same accuracy scores as for the best result we obtained in the previous exercise. This value for the max_depth hyperparameter hasn't impacted the model's performance"
      ]
    },
    {
      "cell_type": "markdown",
      "metadata": {
        "id": "JCB5b73oFygy",
        "colab_type": "text"
      },
      "source": [
        "# **Minimum Sample in Leaf**"
      ]
    },
    {
      "cell_type": "markdown",
      "metadata": {
        "id": "iUfuPSFHGEQw",
        "colab_type": "text"
      },
      "source": [
        "RandomForest has such a hyperparameter and, you guessed it, it is min_samples_leaf. This hyperparameter will specify the minimum number of observations (or samples) that will have to fall under a leaf node to be considered in the tree."
      ]
    },
    {
      "cell_type": "code",
      "metadata": {
        "id": "9FGkcwRvF11E",
        "colab_type": "code",
        "outputId": "fc96e47e-8219-4620-aa6d-25cadc0673df",
        "colab": {
          "base_uri": "https://localhost:8080/",
          "height": 51
        }
      },
      "source": [
        "rf_model7 = RandomForestClassifier(random_state=123, n_estimators=30, max_depth=5, min_samples_leaf=5)\n",
        "rf_model7.fit(X_train, y_train)\n",
        "preds7 = rf_model7.predict(X_train)\n",
        "test_preds7 = rf_model7.predict(X_test)\n",
        "print(accuracy_score(y_train, preds7))\n",
        "print(accuracy_score(y_test, test_preds7))"
      ],
      "execution_count": 0,
      "outputs": [
        {
          "output_type": "stream",
          "text": [
            "0.9666666666666667\n",
            "0.9024390243902439\n"
          ],
          "name": "stdout"
        }
      ]
    },
    {
      "cell_type": "markdown",
      "metadata": {
        "id": "AVnoyv-iGmBq",
        "colab_type": "text"
      },
      "source": [
        "With min_samples_leaf=5, the accuracy for both the training and testing sets didn't change much compared to the best model we found in the previous section. "
      ]
    },
    {
      "cell_type": "code",
      "metadata": {
        "id": "C70DJHF2Gn3O",
        "colab_type": "code",
        "outputId": "77716463-6516-43f2-af6b-b2e29bffddd8",
        "colab": {
          "base_uri": "https://localhost:8080/",
          "height": 51
        }
      },
      "source": [
        "rf_model8 = RandomForestClassifier(random_state=123, n_estimators=30, max_depth=10, min_samples_leaf=10)\n",
        "rf_model8.fit(X_train, y_train)\n",
        "preds8 = rf_model8.predict(X_train)\n",
        "test_preds8 = rf_model8.predict(X_test)\n",
        "print(accuracy_score(y_train, preds8))\n",
        "print(accuracy_score(y_test, test_preds8))"
      ],
      "execution_count": 0,
      "outputs": [
        {
          "output_type": "stream",
          "text": [
            "0.75\n",
            "0.7073170731707317\n"
          ],
          "name": "stdout"
        }
      ]
    },
    {
      "cell_type": "markdown",
      "metadata": {
        "id": "mJdMeNRBHDeN",
        "colab_type": "text"
      },
      "source": [
        "Now the accuracy of the training set dropped a bit but increased for the testing set and their difference is smaller now. So, our model is overfitting less.Both accuracies for the training and testing sets decreased but they are quite close to each other now.\n",
        "\n",
        "When choosing the optimal value for this hyperparameter, you need to be careful: a value that's too low will increase the chance of the model overfitting, but on the other hand, setting a very high value will lead to underfitting (the model will not accurately predict the right outcome)with\n",
        "Tuning min_samples_leaf"
      ]
    },
    {
      "cell_type": "markdown",
      "metadata": {
        "id": "c5sYHSu_TAUd",
        "colab_type": "text"
      },
      "source": [
        "# **Maximum Features**"
      ]
    },
    {
      "cell_type": "markdown",
      "metadata": {
        "id": "RX2WwOcyTNqU",
        "colab_type": "text"
      },
      "source": [
        "Earlier, we learned that RandomForest builds multiple trees and takes the average to make predictions. This is why it is called a forest, but we haven't really discussed the \"random\" part yet.\n",
        "\n"
      ]
    },
    {
      "cell_type": "code",
      "metadata": {
        "id": "J_BxYc-BRPmL",
        "colab_type": "code",
        "outputId": "f691b618-7ac8-463d-af53-b742883b7ddb",
        "colab": {
          "base_uri": "https://localhost:8080/",
          "height": 51
        }
      },
      "source": [
        "rf_model10 = RandomForestClassifier(random_state=12, n_estimators=5, max_depth=10, min_samples_leaf=10, max_features=11)\n",
        "rf_model10.fit(X_train, y_train)\n",
        "preds10 = rf_model10.predict(X_train)\n",
        "test_preds10 = rf_model10.predict(X_test)\n",
        "print(accuracy_score(y_train, preds10))\n",
        "print(accuracy_score(y_test, test_preds10))"
      ],
      "execution_count": 0,
      "outputs": [
        {
          "output_type": "stream",
          "text": [
            "0.8166666666666667\n",
            "0.8048780487804879\n"
          ],
          "name": "stdout"
        }
      ]
    },
    {
      "cell_type": "markdown",
      "metadata": {
        "id": "pR0Z2K0RVQTo",
        "colab_type": "text"
      },
      "source": [
        "**One can Check with different combinations of different parameters to get optimum solution for the Random Classification problem which will not be overfit as well as underfit and able to produce resonable prediction with unseen Data.**"
      ]
    },
    {
      "cell_type": "markdown",
      "metadata": {
        "id": "9rGjOlJ9Y6Ou",
        "colab_type": "text"
      },
      "source": [
        "# **Summary**\n",
        "hyperparameters: n_estimators, max_depth, min_samples_leaf, and max_features.We also saw how their values can have a significant impact on the predictive power of a model but also on its ability to generalize to unseen data.\n",
        "\n",
        "In real projects, it is extremely important to choose a valid testing set. This is your final proxy before putting a model into production so you really want it to reflect the types of data you think it will receive in the future.\n",
        "\n",
        "In some projects, you may see that the dataset is split into three different sets: training, validation, and testing. The validation set can be used to tune the hyperparameters and once you are confident enough, you can test your model on the testing set\n",
        "\n",
        "hyperparameter tuning requires you to run a model several times until you find the optimal values. This is the reason why most data scientists create a validation set for this purpose and only use the testing set a handful of times.\n"
      ]
    }
  ]
}