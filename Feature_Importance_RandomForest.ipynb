{
  "nbformat": 4,
  "nbformat_minor": 0,
  "metadata": {
    "colab": {
      "name": "Feature Importance RandomForest",
      "provenance": [],
      "authorship_tag": "ABX9TyOp+zBQntGfuC2u85UTRLI4",
      "include_colab_link": true
    },
    "kernelspec": {
      "name": "python3",
      "display_name": "Python 3"
    }
  },
  "cells": [
    {
      "cell_type": "markdown",
      "metadata": {
        "id": "view-in-github",
        "colab_type": "text"
      },
      "source": [
        "<a href=\"https://colab.research.google.com/github/nileshgode/My-Python-Projects/blob/master/Feature_Importance_RandomForest.ipynb\" target=\"_parent\"><img src=\"https://colab.research.google.com/assets/colab-badge.svg\" alt=\"Open In Colab\"/></a>"
      ]
    },
    {
      "cell_type": "code",
      "metadata": {
        "id": "A98OgzkOwlQ-",
        "colab_type": "code",
        "colab": {}
      },
      "source": [
        "from sklearn.datasets import load_breast_cancer\n",
        "from sklearn.ensemble import RandomForestClassifier"
      ],
      "execution_count": 0,
      "outputs": []
    },
    {
      "cell_type": "code",
      "metadata": {
        "id": "-mhSCfwbxIrS",
        "colab_type": "code",
        "colab": {}
      },
      "source": [
        "data = load_breast_cancer()\n",
        "X, y = data.data, data.target"
      ],
      "execution_count": 0,
      "outputs": []
    },
    {
      "cell_type": "code",
      "metadata": {
        "id": "8cv-kzvnyNI_",
        "colab_type": "code",
        "colab": {
          "base_uri": "https://localhost:8080/",
          "height": 153
        },
        "outputId": "e40423a2-a57f-4e0a-ad01-8c0bcbaa811d"
      },
      "source": [
        "rf_model = RandomForestClassifier(random_state=168)\n",
        "rf_model.fit(X, y)"
      ],
      "execution_count": 3,
      "outputs": [
        {
          "output_type": "execute_result",
          "data": {
            "text/plain": [
              "RandomForestClassifier(bootstrap=True, ccp_alpha=0.0, class_weight=None,\n",
              "                       criterion='gini', max_depth=None, max_features='auto',\n",
              "                       max_leaf_nodes=None, max_samples=None,\n",
              "                       min_impurity_decrease=0.0, min_impurity_split=None,\n",
              "                       min_samples_leaf=1, min_samples_split=2,\n",
              "                       min_weight_fraction_leaf=0.0, n_estimators=100,\n",
              "                       n_jobs=None, oob_score=False, random_state=168,\n",
              "                       verbose=0, warm_start=False)"
            ]
          },
          "metadata": {
            "tags": []
          },
          "execution_count": 3
        }
      ]
    },
    {
      "cell_type": "code",
      "metadata": {
        "id": "8yeBcDPqyRK1",
        "colab_type": "code",
        "colab": {
          "base_uri": "https://localhost:8080/",
          "height": 119
        },
        "outputId": "1ba697f5-890c-45fe-df5a-4d53120d88c2"
      },
      "source": [
        "rf_model.feature_importances_"
      ],
      "execution_count": 4,
      "outputs": [
        {
          "output_type": "execute_result",
          "data": {
            "text/plain": [
              "array([0.03854056, 0.02053266, 0.04877917, 0.06475535, 0.00611284,\n",
              "       0.00627651, 0.06487147, 0.10810024, 0.0037876 , 0.00390689,\n",
              "       0.01179614, 0.00535536, 0.0040302 , 0.03232201, 0.00470869,\n",
              "       0.00466341, 0.00708819, 0.00341199, 0.00282266, 0.00505392,\n",
              "       0.11991176, 0.01938264, 0.10187395, 0.10452031, 0.01187623,\n",
              "       0.01984074, 0.03877298, 0.12437077, 0.0055569 , 0.00697787])"
            ]
          },
          "metadata": {
            "tags": []
          },
          "execution_count": 4
        }
      ]
    },
    {
      "cell_type": "markdown",
      "metadata": {
        "id": "-RayEDtIyXbL",
        "colab_type": "text"
      },
      "source": [
        "It might be a little difficult to evaluate which importance value corresponds to which variable from this output. Let's create a DataFrame that will contain these values with the name of the columns:"
      ]
    },
    {
      "cell_type": "code",
      "metadata": {
        "id": "GjZ5L98_yTqC",
        "colab_type": "code",
        "colab": {
          "base_uri": "https://localhost:8080/",
          "height": 204
        },
        "outputId": "68f1abc3-42fa-4b48-8f94-dff638b4525b"
      },
      "source": [
        "import pandas as pd\n",
        "varimp_df = pd.DataFrame()\n",
        "varimp_df['feature'] = data.feature_names\n",
        "varimp_df['importance'] = rf_model.feature_importances_\n",
        "varimp_df.head()"
      ],
      "execution_count": 5,
      "outputs": [
        {
          "output_type": "execute_result",
          "data": {
            "text/html": [
              "<div>\n",
              "<style scoped>\n",
              "    .dataframe tbody tr th:only-of-type {\n",
              "        vertical-align: middle;\n",
              "    }\n",
              "\n",
              "    .dataframe tbody tr th {\n",
              "        vertical-align: top;\n",
              "    }\n",
              "\n",
              "    .dataframe thead th {\n",
              "        text-align: right;\n",
              "    }\n",
              "</style>\n",
              "<table border=\"1\" class=\"dataframe\">\n",
              "  <thead>\n",
              "    <tr style=\"text-align: right;\">\n",
              "      <th></th>\n",
              "      <th>feature</th>\n",
              "      <th>importance</th>\n",
              "    </tr>\n",
              "  </thead>\n",
              "  <tbody>\n",
              "    <tr>\n",
              "      <th>0</th>\n",
              "      <td>mean radius</td>\n",
              "      <td>0.038541</td>\n",
              "    </tr>\n",
              "    <tr>\n",
              "      <th>1</th>\n",
              "      <td>mean texture</td>\n",
              "      <td>0.020533</td>\n",
              "    </tr>\n",
              "    <tr>\n",
              "      <th>2</th>\n",
              "      <td>mean perimeter</td>\n",
              "      <td>0.048779</td>\n",
              "    </tr>\n",
              "    <tr>\n",
              "      <th>3</th>\n",
              "      <td>mean area</td>\n",
              "      <td>0.064755</td>\n",
              "    </tr>\n",
              "    <tr>\n",
              "      <th>4</th>\n",
              "      <td>mean smoothness</td>\n",
              "      <td>0.006113</td>\n",
              "    </tr>\n",
              "  </tbody>\n",
              "</table>\n",
              "</div>"
            ],
            "text/plain": [
              "           feature  importance\n",
              "0      mean radius    0.038541\n",
              "1     mean texture    0.020533\n",
              "2   mean perimeter    0.048779\n",
              "3        mean area    0.064755\n",
              "4  mean smoothness    0.006113"
            ]
          },
          "metadata": {
            "tags": []
          },
          "execution_count": 5
        }
      ]
    },
    {
      "cell_type": "markdown",
      "metadata": {
        "id": "fWQ6iyYsziZW",
        "colab_type": "text"
      },
      "source": [
        "From this output, we can see that mean radius and mean perimeter have the highest scores, which means they are the most important in predicting the target variable. The mean smoothness column has a very low value, so it seems it doesn't influence the model much to predict the output."
      ]
    },
    {
      "cell_type": "markdown",
      "metadata": {
        "id": "T5ftNIG4zlHA",
        "colab_type": "text"
      },
      "source": [
        "Let's plot these variable importance values onto a graph using altair:"
      ]
    },
    {
      "cell_type": "code",
      "metadata": {
        "id": "_W8k8CEBziJZ",
        "colab_type": "code",
        "colab": {
          "base_uri": "https://localhost:8080/",
          "height": 663
        },
        "outputId": "66231986-4ed5-4015-f1b4-9427ea6f7098"
      },
      "source": [
        "import altair as alt\n",
        "alt.Chart(varimp_df).mark_bar().encode(\n",
        "    x='importance',\n",
        "    y=\"feature\"\n",
        ")"
      ],
      "execution_count": 6,
      "outputs": [
        {
          "output_type": "execute_result",
          "data": {
            "text/plain": [
              "alt.Chart(...)"
            ],
            "text/html": [
              "\n",
              "<div id=\"altair-viz-8bb6f19c193e414bbffbc1de2dbff59c\"></div>\n",
              "<script type=\"text/javascript\">\n",
              "  (function(spec, embedOpt){\n",
              "    let outputDiv = document.currentScript.previousElementSibling;\n",
              "    if (outputDiv.id !== \"altair-viz-8bb6f19c193e414bbffbc1de2dbff59c\") {\n",
              "      outputDiv = document.getElementById(\"altair-viz-8bb6f19c193e414bbffbc1de2dbff59c\");\n",
              "    }\n",
              "    const paths = {\n",
              "      \"vega\": \"https://cdn.jsdelivr.net/npm//vega@5?noext\",\n",
              "      \"vega-lib\": \"https://cdn.jsdelivr.net/npm//vega-lib?noext\",\n",
              "      \"vega-lite\": \"https://cdn.jsdelivr.net/npm//vega-lite@4.8.1?noext\",\n",
              "      \"vega-embed\": \"https://cdn.jsdelivr.net/npm//vega-embed@6?noext\",\n",
              "    };\n",
              "\n",
              "    function loadScript(lib) {\n",
              "      return new Promise(function(resolve, reject) {\n",
              "        var s = document.createElement('script');\n",
              "        s.src = paths[lib];\n",
              "        s.async = true;\n",
              "        s.onload = () => resolve(paths[lib]);\n",
              "        s.onerror = () => reject(`Error loading script: ${paths[lib]}`);\n",
              "        document.getElementsByTagName(\"head\")[0].appendChild(s);\n",
              "      });\n",
              "    }\n",
              "\n",
              "    function showError(err) {\n",
              "      outputDiv.innerHTML = `<div class=\"error\" style=\"color:red;\">${err}</div>`;\n",
              "      throw err;\n",
              "    }\n",
              "\n",
              "    function displayChart(vegaEmbed) {\n",
              "      vegaEmbed(outputDiv, spec, embedOpt)\n",
              "        .catch(err => showError(`Javascript Error: ${err.message}<br>This usually means there's a typo in your chart specification. See the javascript console for the full traceback.`));\n",
              "    }\n",
              "\n",
              "    if(typeof define === \"function\" && define.amd) {\n",
              "      requirejs.config({paths});\n",
              "      require([\"vega-embed\"], displayChart, err => showError(`Error loading script: ${err.message}`));\n",
              "    } else if (typeof vegaEmbed === \"function\") {\n",
              "      displayChart(vegaEmbed);\n",
              "    } else {\n",
              "      loadScript(\"vega\")\n",
              "        .then(() => loadScript(\"vega-lite\"))\n",
              "        .then(() => loadScript(\"vega-embed\"))\n",
              "        .catch(showError)\n",
              "        .then(() => displayChart(vegaEmbed));\n",
              "    }\n",
              "  })({\"config\": {\"view\": {\"continuousWidth\": 400, \"continuousHeight\": 300}}, \"data\": {\"name\": \"data-207bb502c93cf449006e654ebebbd107\"}, \"mark\": \"bar\", \"encoding\": {\"x\": {\"type\": \"quantitative\", \"field\": \"importance\"}, \"y\": {\"type\": \"nominal\", \"field\": \"feature\"}}, \"$schema\": \"https://vega.github.io/schema/vega-lite/v4.8.1.json\", \"datasets\": {\"data-207bb502c93cf449006e654ebebbd107\": [{\"feature\": \"mean radius\", \"importance\": 0.03854055739406795}, {\"feature\": \"mean texture\", \"importance\": 0.020532658512915136}, {\"feature\": \"mean perimeter\", \"importance\": 0.048779170465445776}, {\"feature\": \"mean area\", \"importance\": 0.06475535159562269}, {\"feature\": \"mean smoothness\", \"importance\": 0.006112837338069552}, {\"feature\": \"mean compactness\", \"importance\": 0.006276507564888144}, {\"feature\": \"mean concavity\", \"importance\": 0.06487146548912143}, {\"feature\": \"mean concave points\", \"importance\": 0.10810023667896676}, {\"feature\": \"mean symmetry\", \"importance\": 0.0037875952837472054}, {\"feature\": \"mean fractal dimension\", \"importance\": 0.003906894646429437}, {\"feature\": \"radius error\", \"importance\": 0.01179614141320874}, {\"feature\": \"texture error\", \"importance\": 0.005355357896642844}, {\"feature\": \"perimeter error\", \"importance\": 0.0040301961312913335}, {\"feature\": \"area error\", \"importance\": 0.03232201267371255}, {\"feature\": \"smoothness error\", \"importance\": 0.00470869124537376}, {\"feature\": \"compactness error\", \"importance\": 0.004663410759408677}, {\"feature\": \"concavity error\", \"importance\": 0.007088193094363692}, {\"feature\": \"concave points error\", \"importance\": 0.00341198657941259}, {\"feature\": \"symmetry error\", \"importance\": 0.0028226562546188453}, {\"feature\": \"fractal dimension error\", \"importance\": 0.005053916702744604}, {\"feature\": \"worst radius\", \"importance\": 0.11991175801886265}, {\"feature\": \"worst texture\", \"importance\": 0.01938263581521792}, {\"feature\": \"worst perimeter\", \"importance\": 0.10187395382162887}, {\"feature\": \"worst area\", \"importance\": 0.1045203144060996}, {\"feature\": \"worst smoothness\", \"importance\": 0.011876234396135757}, {\"feature\": \"worst compactness\", \"importance\": 0.01984074041044256}, {\"feature\": \"worst concavity\", \"importance\": 0.03877298323338099}, {\"feature\": \"worst concave points\", \"importance\": 0.12437077139881866}, {\"feature\": \"worst symmetry\", \"importance\": 0.005556903090707679}, {\"feature\": \"worst fractal dimension\", \"importance\": 0.006977867688653576}]}}, {\"mode\": \"vega-lite\"});\n",
              "</script>"
            ]
          },
          "metadata": {
            "tags": []
          },
          "execution_count": 6
        }
      ]
    },
    {
      "cell_type": "markdown",
      "metadata": {
        "id": "aLllqGnBzvXL",
        "colab_type": "text"
      },
      "source": [
        "**From this graph, we can see the most important features for this Random Forest model are worst perimeter, worst area, and worst concave points. So now we know these features are the most important ones in predicting whether a tumor is benign or malignant for this Random Forest model.**"
      ]
    }
  ]
}