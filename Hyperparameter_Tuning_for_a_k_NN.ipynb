{
  "nbformat": 4,
  "nbformat_minor": 0,
  "metadata": {
    "colab": {
      "name": "Hyperparameter Tuning for a k-NN",
      "provenance": [],
      "authorship_tag": "ABX9TyO0qXtYnfpk0AyzDJdMuiTP"
    },
    "kernelspec": {
      "name": "python3",
      "display_name": "Python 3"
    }
  },
  "cells": [
    {
      "cell_type": "code",
      "metadata": {
        "id": "WqfwngLYFxf0",
        "colab_type": "code",
        "colab": {}
      },
      "source": [
        "import pandas as pd"
      ],
      "execution_count": 0,
      "outputs": []
    },
    {
      "cell_type": "code",
      "metadata": {
        "id": "2d0ktY-5GXGn",
        "colab_type": "code",
        "colab": {}
      },
      "source": [
        "dataset = pd.read_csv('https://raw.githubusercontent.com/PacktWorkshops/The-Data-Science-Workshop/master/Chapter08/Dataset/Breast-cancer-wisconsin.data')"
      ],
      "execution_count": 0,
      "outputs": []
    },
    {
      "cell_type": "code",
      "metadata": {
        "id": "akV_eZnhG3U3",
        "colab_type": "code",
        "colab": {
          "base_uri": "https://localhost:8080/",
          "height": 255
        },
        "outputId": "5fd87751-3cd5-442e-ec27-022044c1311f"
      },
      "source": [
        "dataset.head"
      ],
      "execution_count": 21,
      "outputs": [
        {
          "output_type": "execute_result",
          "data": {
            "text/plain": [
              "<bound method NDFrame.head of      1000025  5   1  1.1  1.2  2 1.3   3  1.4  1.5  2.1\n",
              "0    1002945  5   4    4    5  7  10   3    2    1    2\n",
              "1    1015425  3   1    1    1  2   2   3    1    1    2\n",
              "2    1016277  6   8    8    1  3   4   3    7    1    2\n",
              "3    1017023  4   1    1    3  2   1   3    1    1    2\n",
              "4    1017122  8  10   10    8  7  10   9    7    1    4\n",
              "..       ... ..  ..  ...  ... ..  ..  ..  ...  ...  ...\n",
              "693   776715  3   1    1    1  3   2   1    1    1    2\n",
              "694   841769  2   1    1    1  2   1   1    1    1    2\n",
              "695   888820  5  10   10    3  7   3   8   10    2    4\n",
              "696   897471  4   8    6    4  3   4  10    6    1    4\n",
              "697   897471  4   8    8    5  4   5  10    4    1    4\n",
              "\n",
              "[698 rows x 11 columns]>"
            ]
          },
          "metadata": {
            "tags": []
          },
          "execution_count": 21
        }
      ]
    },
    {
      "cell_type": "code",
      "metadata": {
        "id": "qD11vmNSG8HC",
        "colab_type": "code",
        "colab": {}
      },
      "source": [
        "from sklearn import neighbors, datasets, model_selection"
      ],
      "execution_count": 0,
      "outputs": []
    },
    {
      "cell_type": "code",
      "metadata": {
        "id": "VvXeB69aHFUN",
        "colab_type": "code",
        "colab": {}
      },
      "source": [
        "# dataset\n",
        "cancer = datasets.load_breast_cancer()"
      ],
      "execution_count": 0,
      "outputs": []
    },
    {
      "cell_type": "code",
      "metadata": {
        "id": "MxhEqsF_Hj0m",
        "colab_type": "code",
        "colab": {}
      },
      "source": [
        "y = cancer.target"
      ],
      "execution_count": 0,
      "outputs": []
    },
    {
      "cell_type": "code",
      "metadata": {
        "id": "749pR7UAHmNY",
        "colab_type": "code",
        "colab": {}
      },
      "source": [
        "X = cancer.data"
      ],
      "execution_count": 0,
      "outputs": []
    },
    {
      "cell_type": "code",
      "metadata": {
        "id": "pTZoj-kzHqZZ",
        "colab_type": "code",
        "colab": {}
      },
      "source": [
        "# no arguments specified\n",
        "knn = neighbors.KNeighborsClassifier()"
      ],
      "execution_count": 0,
      "outputs": []
    },
    {
      "cell_type": "code",
      "metadata": {
        "id": "HPc2bBv2HtAy",
        "colab_type": "code",
        "colab": {}
      },
      "source": [
        "# 10 folds, scored on precision\n",
        "cv = model_selection.cross_val_score(knn, X, y, cv=10, scoring='precision')"
      ],
      "execution_count": 0,
      "outputs": []
    },
    {
      "cell_type": "code",
      "metadata": {
        "id": "GYiuGEegHxO7",
        "colab_type": "code",
        "colab": {
          "base_uri": "https://localhost:8080/",
          "height": 51
        },
        "outputId": "ecec26cc-89f7-42b1-a9f4-c691727df9c3"
      },
      "source": [
        "# precision scores\n",
        "print(cv)"
      ],
      "execution_count": 28,
      "outputs": [
        {
          "output_type": "stream",
          "text": [
            "[0.91666667 0.85       0.91666667 0.94736842 0.94594595 0.94444444\n",
            " 0.97222222 0.92105263 0.96969697 0.97142857]\n"
          ],
          "name": "stdout"
        }
      ]
    },
    {
      "cell_type": "code",
      "metadata": {
        "id": "5bwNd3_QHzuO",
        "colab_type": "code",
        "colab": {
          "base_uri": "https://localhost:8080/",
          "height": 34
        },
        "outputId": "1c2d5884-4918-4eb8-ba68-e57f996726f2"
      },
      "source": [
        "# average over all folds\n",
        "print(round(cv.mean(), 2))"
      ],
      "execution_count": 29,
      "outputs": [
        {
          "output_type": "stream",
          "text": [
            "0.94\n"
          ],
          "name": "stdout"
        }
      ]
    },
    {
      "cell_type": "code",
      "metadata": {
        "id": "kGd5y04wH277",
        "colab_type": "code",
        "colab": {
          "base_uri": "https://localhost:8080/",
          "height": 34
        },
        "outputId": "dd51a17e-d15e-41bd-a988-1fa000d9888a"
      },
      "source": [
        "# k = 15\n",
        "knn = neighbors.KNeighborsClassifier(n_neighbors=15)\n",
        "\n",
        "cv = model_selection.cross_val_score(knn, X, y, cv=10, scoring='precision')\n",
        "\n",
        "print(round(cv.mean(), 2))"
      ],
      "execution_count": 30,
      "outputs": [
        {
          "output_type": "stream",
          "text": [
            "0.93\n"
          ],
          "name": "stdout"
        }
      ]
    },
    {
      "cell_type": "code",
      "metadata": {
        "id": "_DqUindHH6tE",
        "colab_type": "code",
        "colab": {
          "base_uri": "https://localhost:8080/",
          "height": 68
        },
        "outputId": "1cf6dbd7-5c60-4571-e71c-f40b88cee0d6"
      },
      "source": [
        "def evaluate_knn(k):\n",
        "  knn = neighbors.KNeighborsClassifier(n_neighbors=k)\n",
        "  cv = model_selection.cross_val_score(knn, X, y, cv=10, scoring='precision')\n",
        "  print(round(cv.mean(), 2))\n",
        "evaluate_knn(k=7)\n",
        "evaluate_knn(k=3)\n",
        "evaluate_knn(k=1)"
      ],
      "execution_count": 31,
      "outputs": [
        {
          "output_type": "stream",
          "text": [
            "0.93\n",
            "0.93\n",
            "0.92\n"
          ],
          "name": "stdout"
        }
      ]
    },
    {
      "cell_type": "code",
      "metadata": {
        "id": "u-c-VzFrIBBJ",
        "colab_type": "code",
        "colab": {
          "base_uri": "https://localhost:8080/",
          "height": 34
        },
        "outputId": "01997148-3060-4c1b-841b-d777abe307b2"
      },
      "source": [
        "# k =5, weights evaluated using distance\n",
        "knn = neighbors.KNeighborsClassifier(n_neighbors=5, weights='distance')\n",
        "\n",
        "cv = model_selection.cross_val_score(knn, X, y, cv=10, scoring='precision')\n",
        "print(round(cv.mean(), 2))"
      ],
      "execution_count": 32,
      "outputs": [
        {
          "output_type": "stream",
          "text": [
            "0.93\n"
          ],
          "name": "stdout"
        }
      ]
    },
    {
      "cell_type": "markdown",
      "metadata": {
        "id": "e_uV63fTJGm0",
        "colab_type": "text"
      },
      "source": [
        "We therefore conclude that the default hyperparameterization is the optimal one in this case."
      ]
    }
  ]
}