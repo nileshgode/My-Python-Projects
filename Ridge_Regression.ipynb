{
  "nbformat": 4,
  "nbformat_minor": 0,
  "metadata": {
    "colab": {
      "name": "Ridge Regression",
      "provenance": [],
      "authorship_tag": "ABX9TyM9XEwaAXkH0cBMe2kThVPC",
      "include_colab_link": true
    },
    "kernelspec": {
      "name": "python3",
      "display_name": "Python 3"
    }
  },
  "cells": [
    {
      "cell_type": "markdown",
      "metadata": {
        "id": "view-in-github",
        "colab_type": "text"
      },
      "source": [
        "<a href=\"https://colab.research.google.com/github/nileshgode/My-Python-Projects/blob/master/Ridge_Regression.ipynb\" target=\"_parent\"><img src=\"https://colab.research.google.com/assets/colab-badge.svg\" alt=\"Open In Colab\"/></a>"
      ]
    },
    {
      "cell_type": "markdown",
      "metadata": {
        "id": "UOE7r3vuQ9Ra",
        "colab_type": "text"
      },
      "source": [
        "Ridge regression takes an alternative approach by introducing a penalty that penalizes large weights. As a result, the optimization process tries to reduce the magnitude of the coefficients without completely eliminating them."
      ]
    },
    {
      "cell_type": "code",
      "metadata": {
        "id": "0fnAHRLiQ25C",
        "colab_type": "code",
        "colab": {}
      },
      "source": [
        "import pandas as pd\n",
        "from sklearn.model_selection import train_test_split\n",
        "from sklearn.linear_model import LinearRegression, Ridge\n",
        "from sklearn.metrics import mean_squared_error\n",
        "from sklearn.pipeline import Pipeline\n",
        "from sklearn.preprocessing import MinMaxScaler, PolynomialFeatures"
      ],
      "execution_count": 0,
      "outputs": []
    },
    {
      "cell_type": "code",
      "metadata": {
        "id": "2F8owYdJRDA4",
        "colab_type": "code",
        "colab": {}
      },
      "source": [
        "_df = pd.read_csv('https://raw.githubusercontent.com/PacktWorkshops/The-Data-Science-Workshop/master/Chapter07/Dataset/ccpp.csv')"
      ],
      "execution_count": 0,
      "outputs": []
    },
    {
      "cell_type": "code",
      "metadata": {
        "id": "C9tdxcqCRFjL",
        "colab_type": "code",
        "colab": {
          "base_uri": "https://localhost:8080/",
          "height": 221
        },
        "outputId": "da3f3942-d227-4827-e564-3c526994ffa3"
      },
      "source": [
        "_df.info()"
      ],
      "execution_count": 3,
      "outputs": [
        {
          "output_type": "stream",
          "text": [
            "<class 'pandas.core.frame.DataFrame'>\n",
            "RangeIndex: 9568 entries, 0 to 9567\n",
            "Data columns (total 5 columns):\n",
            " #   Column  Non-Null Count  Dtype  \n",
            "---  ------  --------------  -----  \n",
            " 0   AT      9568 non-null   float64\n",
            " 1   V       9568 non-null   float64\n",
            " 2   AP      9568 non-null   float64\n",
            " 3   RH      9568 non-null   float64\n",
            " 4   PE      9568 non-null   float64\n",
            "dtypes: float64(5)\n",
            "memory usage: 373.9 KB\n"
          ],
          "name": "stdout"
        }
      ]
    },
    {
      "cell_type": "code",
      "metadata": {
        "id": "mDxVglmGRHyv",
        "colab_type": "code",
        "colab": {}
      },
      "source": [
        "X = _df.drop(['PE'], axis=1).values"
      ],
      "execution_count": 0,
      "outputs": []
    },
    {
      "cell_type": "code",
      "metadata": {
        "id": "PHcSCGjSRK2V",
        "colab_type": "code",
        "colab": {}
      },
      "source": [
        "y = _df['PE'].values"
      ],
      "execution_count": 0,
      "outputs": []
    },
    {
      "cell_type": "code",
      "metadata": {
        "id": "gQwQmFuHROB1",
        "colab_type": "code",
        "colab": {}
      },
      "source": [
        "train_X, eval_X, train_y, eval_y = train_test_split(X, y, train_size=0.8, random_state=0)"
      ],
      "execution_count": 0,
      "outputs": []
    },
    {
      "cell_type": "code",
      "metadata": {
        "id": "YQk6gP17RQg0",
        "colab_type": "code",
        "colab": {}
      },
      "source": [
        "lr_model_1 = LinearRegression()"
      ],
      "execution_count": 0,
      "outputs": []
    },
    {
      "cell_type": "code",
      "metadata": {
        "id": "x4096bToRTH-",
        "colab_type": "code",
        "colab": {
          "base_uri": "https://localhost:8080/",
          "height": 34
        },
        "outputId": "3c19d412-a643-4a15-a1a5-5581c83e1314"
      },
      "source": [
        "lr_model_1.fit(train_X, train_y)"
      ],
      "execution_count": 8,
      "outputs": [
        {
          "output_type": "execute_result",
          "data": {
            "text/plain": [
              "LinearRegression(copy_X=True, fit_intercept=True, n_jobs=None, normalize=False)"
            ]
          },
          "metadata": {
            "tags": []
          },
          "execution_count": 8
        }
      ]
    },
    {
      "cell_type": "code",
      "metadata": {
        "id": "G76MHEhkRYJn",
        "colab_type": "code",
        "colab": {}
      },
      "source": [
        "lr_model_1_preds = lr_model_1.predict(eval_X)"
      ],
      "execution_count": 0,
      "outputs": []
    },
    {
      "cell_type": "code",
      "metadata": {
        "id": "D0Y6qR02Rawy",
        "colab_type": "code",
        "colab": {
          "base_uri": "https://localhost:8080/",
          "height": 34
        },
        "outputId": "f0d558d1-0fa7-4e3a-f4a0-f44773aaeec6"
      },
      "source": [
        "print('lr_model_1 R2 Score: {}'.format(lr_model_1.score(eval_X, eval_y)))"
      ],
      "execution_count": 10,
      "outputs": [
        {
          "output_type": "stream",
          "text": [
            "lr_model_1 R2 Score: 0.9325315554761302\n"
          ],
          "name": "stdout"
        }
      ]
    },
    {
      "cell_type": "code",
      "metadata": {
        "id": "LodQ_zVYRdCM",
        "colab_type": "code",
        "colab": {
          "base_uri": "https://localhost:8080/",
          "height": 34
        },
        "outputId": "35af3640-ebf6-44b7-e7b8-39151f22a7c5"
      },
      "source": [
        "print('lr_model_1 MSE: {}'.format(mean_squared_error(eval_y, lr_model_1_preds)))"
      ],
      "execution_count": 11,
      "outputs": [
        {
          "output_type": "stream",
          "text": [
            "lr_model_1 MSE: 19.733699303497648\n"
          ],
          "name": "stdout"
        }
      ]
    },
    {
      "cell_type": "code",
      "metadata": {
        "id": "azPxM1lHRhCP",
        "colab_type": "code",
        "colab": {}
      },
      "source": [
        "steps = [\n",
        "    ('scaler', MinMaxScaler()),\n",
        "    ('poly', PolynomialFeatures(degree=3)),\n",
        "    ('lr', LinearRegression())\n",
        "]"
      ],
      "execution_count": 0,
      "outputs": []
    },
    {
      "cell_type": "code",
      "metadata": {
        "id": "zUsxKeijRjYL",
        "colab_type": "code",
        "colab": {}
      },
      "source": [
        "lr_model_2 = Pipeline(steps)"
      ],
      "execution_count": 0,
      "outputs": []
    },
    {
      "cell_type": "code",
      "metadata": {
        "id": "_JAbUH7OR3uC",
        "colab_type": "code",
        "colab": {
          "base_uri": "https://localhost:8080/",
          "height": 170
        },
        "outputId": "03a118e8-1f02-4b63-86c2-be980407b423"
      },
      "source": [
        "lr_model_2.fit(train_X, train_y)"
      ],
      "execution_count": 15,
      "outputs": [
        {
          "output_type": "execute_result",
          "data": {
            "text/plain": [
              "Pipeline(memory=None,\n",
              "         steps=[('scaler', MinMaxScaler(copy=True, feature_range=(0, 1))),\n",
              "                ('poly',\n",
              "                 PolynomialFeatures(degree=3, include_bias=True,\n",
              "                                    interaction_only=False, order='C')),\n",
              "                ('lr',\n",
              "                 LinearRegression(copy_X=True, fit_intercept=True, n_jobs=None,\n",
              "                                  normalize=False))],\n",
              "         verbose=False)"
            ]
          },
          "metadata": {
            "tags": []
          },
          "execution_count": 15
        }
      ]
    },
    {
      "cell_type": "code",
      "metadata": {
        "id": "BcBATU42R5pW",
        "colab_type": "code",
        "colab": {
          "base_uri": "https://localhost:8080/",
          "height": 34
        },
        "outputId": "b0794756-28d2-4b4d-8641-a1211ed800eb"
      },
      "source": [
        "print('lr_model_2 R2 Score: {}'.format(lr_model_2.score(eval_X, eval_y)))"
      ],
      "execution_count": 16,
      "outputs": [
        {
          "output_type": "stream",
          "text": [
            "lr_model_2 R2 Score: 0.9443678654045208\n"
          ],
          "name": "stdout"
        }
      ]
    },
    {
      "cell_type": "code",
      "metadata": {
        "id": "RAn8X_lnR8sX",
        "colab_type": "code",
        "colab": {}
      },
      "source": [
        "lr_model_2_preds = lr_model_2.predict(eval_X)"
      ],
      "execution_count": 0,
      "outputs": []
    },
    {
      "cell_type": "code",
      "metadata": {
        "id": "K8zv6xNPR_vw",
        "colab_type": "code",
        "colab": {
          "base_uri": "https://localhost:8080/",
          "height": 34
        },
        "outputId": "0c209aae-89b5-48f2-b68f-f423dfe4d3aa"
      },
      "source": [
        "print('lr_model_2 MSE: {}'.format(mean_squared_error(eval_y, lr_model_2_preds)))"
      ],
      "execution_count": 18,
      "outputs": [
        {
          "output_type": "stream",
          "text": [
            "lr_model_2 MSE: 16.271722632207666\n"
          ],
          "name": "stdout"
        }
      ]
    },
    {
      "cell_type": "markdown",
      "metadata": {
        "id": "Ck6bOQKdSGwF",
        "colab_type": "text"
      },
      "source": [
        "You can see from the output that the MSE of the second model is 16.272. This is less than the MSE of the first model, which is 19.734. You can safely conclude that the second model is better than the first."
      ]
    },
    {
      "cell_type": "code",
      "metadata": {
        "id": "x4gq4fVFSB8c",
        "colab_type": "code",
        "colab": {
          "base_uri": "https://localhost:8080/",
          "height": 170
        },
        "outputId": "b4b14107-e8f0-4741-ddb0-f5dc586a9394"
      },
      "source": [
        "print(lr_model_2[-1].coef_)"
      ],
      "execution_count": 19,
      "outputs": [
        {
          "output_type": "stream",
          "text": [
            "[ 7.72661789e-14 -1.77278028e+02 -4.60337188e+01 -1.60520675e+02\n",
            " -1.23076123e+02  6.23358210e+00  8.19655844e+00  1.45478576e+02\n",
            "  1.88658651e+02  2.43740192e+01  1.80553150e+02 -1.08058561e+02\n",
            "  1.09713294e+02  1.79121906e+02  1.06460596e+02  2.67290613e+01\n",
            "  7.79833654e+01  3.69241324e+01 -1.13863997e+02 -1.42673215e+02\n",
            " -9.69606773e+01  1.90706809e+02 -5.56429546e+01 -1.32595225e+02\n",
            " -9.41682917e+01  9.40112729e+01 -1.18732510e+02 -7.64871610e+01\n",
            " -4.18714081e+01  6.36772260e+01  4.42340977e+01 -3.81114691e+01\n",
            " -4.71547759e+01 -9.16797074e+01 -2.52346805e+01]\n"
          ],
          "name": "stdout"
        }
      ]
    },
    {
      "cell_type": "code",
      "metadata": {
        "id": "Dh5dBAF0SNVn",
        "colab_type": "code",
        "colab": {
          "base_uri": "https://localhost:8080/",
          "height": 34
        },
        "outputId": "83ec0276-6436-4283-fc1c-7a2a8b0df002"
      },
      "source": [
        "print(len(lr_model_2[-1].coef_))"
      ],
      "execution_count": 20,
      "outputs": [
        {
          "output_type": "stream",
          "text": [
            "35\n"
          ],
          "name": "stdout"
        }
      ]
    },
    {
      "cell_type": "code",
      "metadata": {
        "id": "1fKDj6djSPzI",
        "colab_type": "code",
        "colab": {}
      },
      "source": [
        "steps = [\n",
        "    ('scaler', MinMaxScaler()),\n",
        "    ('poly', PolynomialFeatures(degree=10)),\n",
        "    ('lr', LinearRegression())\n",
        "]"
      ],
      "execution_count": 0,
      "outputs": []
    },
    {
      "cell_type": "code",
      "metadata": {
        "id": "ENjl7xqgSSOK",
        "colab_type": "code",
        "colab": {}
      },
      "source": [
        "lr_model_3 = Pipeline(steps)"
      ],
      "execution_count": 0,
      "outputs": []
    },
    {
      "cell_type": "code",
      "metadata": {
        "id": "5zp3zrHnSULK",
        "colab_type": "code",
        "colab": {
          "base_uri": "https://localhost:8080/",
          "height": 170
        },
        "outputId": "05c23df5-85f5-4011-e7f5-3145ed966031"
      },
      "source": [
        "lr_model_3.fit(train_X, train_y)"
      ],
      "execution_count": 23,
      "outputs": [
        {
          "output_type": "execute_result",
          "data": {
            "text/plain": [
              "Pipeline(memory=None,\n",
              "         steps=[('scaler', MinMaxScaler(copy=True, feature_range=(0, 1))),\n",
              "                ('poly',\n",
              "                 PolynomialFeatures(degree=10, include_bias=True,\n",
              "                                    interaction_only=False, order='C')),\n",
              "                ('lr',\n",
              "                 LinearRegression(copy_X=True, fit_intercept=True, n_jobs=None,\n",
              "                                  normalize=False))],\n",
              "         verbose=False)"
            ]
          },
          "metadata": {
            "tags": []
          },
          "execution_count": 23
        }
      ]
    },
    {
      "cell_type": "code",
      "metadata": {
        "id": "rWb5TGxDSV4p",
        "colab_type": "code",
        "colab": {
          "base_uri": "https://localhost:8080/",
          "height": 34
        },
        "outputId": "a3ebf95b-2799-41f3-ccec-b7a558b23033"
      },
      "source": [
        "print('lr_model_3 R2 Score: {}'.format(lr_model_3.score(eval_X, eval_y)))"
      ],
      "execution_count": 24,
      "outputs": [
        {
          "output_type": "stream",
          "text": [
            "lr_model_3 R2 Score: 0.5683459493202576\n"
          ],
          "name": "stdout"
        }
      ]
    },
    {
      "cell_type": "code",
      "metadata": {
        "id": "WeUKX-1uSYYu",
        "colab_type": "code",
        "colab": {}
      },
      "source": [
        "lr_model_3_preds = lr_model_3.predict(eval_X)"
      ],
      "execution_count": 0,
      "outputs": []
    },
    {
      "cell_type": "code",
      "metadata": {
        "id": "aQSvbo8tSbXK",
        "colab_type": "code",
        "colab": {
          "base_uri": "https://localhost:8080/",
          "height": 34
        },
        "outputId": "3bb7f3b1-6ad7-43be-a605-e071101dee1e"
      },
      "source": [
        "print('lr_model_3 MSE: {}'.format(mean_squared_error(eval_y, lr_model_3_preds)))"
      ],
      "execution_count": 26,
      "outputs": [
        {
          "output_type": "stream",
          "text": [
            "lr_model_3 MSE: 126.25355896914343\n"
          ],
          "name": "stdout"
        }
      ]
    },
    {
      "cell_type": "code",
      "metadata": {
        "id": "vODQSc0SSdtQ",
        "colab_type": "code",
        "colab": {
          "base_uri": "https://localhost:8080/",
          "height": 34
        },
        "outputId": "860ecd61-b8d3-4c63-f3ef-2ff996193278"
      },
      "source": [
        "print(len(lr_model_3[-1].coef_))"
      ],
      "execution_count": 27,
      "outputs": [
        {
          "output_type": "stream",
          "text": [
            "1001\n"
          ],
          "name": "stdout"
        }
      ]
    },
    {
      "cell_type": "code",
      "metadata": {
        "id": "NYInGPQaSgJU",
        "colab_type": "code",
        "colab": {
          "base_uri": "https://localhost:8080/",
          "height": 170
        },
        "outputId": "a96770a1-b358-425d-87f4-d37ce1c42b24"
      },
      "source": [
        "print(lr_model_3[-1].coef_[:35])"
      ],
      "execution_count": 28,
      "outputs": [
        {
          "output_type": "stream",
          "text": [
            "[ 3.92417572e+05 -6.90884957e+07 -4.12728037e+07  2.27928559e+07\n",
            " -4.76788092e+07  2.96663457e+08  2.73267484e+08  1.07844757e+08\n",
            "  3.73718995e+08  8.79698968e+07 -2.35367959e+07  2.46251982e+08\n",
            " -2.61104947e+08  1.86087661e+07  1.41131196e+08 -6.53886924e+08\n",
            " -8.90633353e+08 -1.06074814e+09 -1.29264510e+09 -4.28435046e+08\n",
            "  5.31626843e+07 -1.30408977e+09  4.41024830e+08 -8.86228713e+08\n",
            " -8.78160515e+08 -1.97377311e+06 -5.39375259e+08 -3.68352714e+08\n",
            "  9.82113559e+08 -2.76718687e+08 -6.28824872e+08  8.14257203e+08\n",
            "  5.43205856e+08 -2.03045074e+08 -2.42929048e+08]\n"
          ],
          "name": "stdout"
        }
      ]
    },
    {
      "cell_type": "code",
      "metadata": {
        "id": "WKmxiFy9SiC1",
        "colab_type": "code",
        "colab": {}
      },
      "source": [
        "steps = [\n",
        "    ('scaler', MinMaxScaler()),\n",
        "    ('poly', PolynomialFeatures(degree=10)),\n",
        "    ('lr', Ridge(alpha=0.9))\n",
        "]"
      ],
      "execution_count": 0,
      "outputs": []
    },
    {
      "cell_type": "code",
      "metadata": {
        "id": "jhmXFHhuSkzp",
        "colab_type": "code",
        "colab": {}
      },
      "source": [
        "ridge_model = Pipeline(steps)"
      ],
      "execution_count": 0,
      "outputs": []
    },
    {
      "cell_type": "code",
      "metadata": {
        "id": "hF3Ytrx0SnSK",
        "colab_type": "code",
        "colab": {
          "base_uri": "https://localhost:8080/",
          "height": 187
        },
        "outputId": "b6b4d566-eb2f-4574-c037-64d4ca3c5ad7"
      },
      "source": [
        "ridge_model.fit(train_X, train_y)"
      ],
      "execution_count": 31,
      "outputs": [
        {
          "output_type": "execute_result",
          "data": {
            "text/plain": [
              "Pipeline(memory=None,\n",
              "         steps=[('scaler', MinMaxScaler(copy=True, feature_range=(0, 1))),\n",
              "                ('poly',\n",
              "                 PolynomialFeatures(degree=10, include_bias=True,\n",
              "                                    interaction_only=False, order='C')),\n",
              "                ('lr',\n",
              "                 Ridge(alpha=0.9, copy_X=True, fit_intercept=True,\n",
              "                       max_iter=None, normalize=False, random_state=None,\n",
              "                       solver='auto', tol=0.001))],\n",
              "         verbose=False)"
            ]
          },
          "metadata": {
            "tags": []
          },
          "execution_count": 31
        }
      ]
    },
    {
      "cell_type": "code",
      "metadata": {
        "id": "tlfxsS7DSpJ1",
        "colab_type": "code",
        "colab": {
          "base_uri": "https://localhost:8080/",
          "height": 34
        },
        "outputId": "0a24debc-8731-4868-c858-b89096fd95fe"
      },
      "source": [
        "print('ridge_model R2 Score: {}'.format(ridge_model.score(eval_X, eval_y)))"
      ],
      "execution_count": 32,
      "outputs": [
        {
          "output_type": "stream",
          "text": [
            "ridge_model R2 Score: 0.9451949082623449\n"
          ],
          "name": "stdout"
        }
      ]
    },
    {
      "cell_type": "code",
      "metadata": {
        "id": "EsqcDA31SrzM",
        "colab_type": "code",
        "colab": {}
      },
      "source": [
        "ridge_model_preds = ridge_model.predict(eval_X)"
      ],
      "execution_count": 0,
      "outputs": []
    },
    {
      "cell_type": "code",
      "metadata": {
        "id": "BGtRQ66RSuml",
        "colab_type": "code",
        "colab": {
          "base_uri": "https://localhost:8080/",
          "height": 34
        },
        "outputId": "db869cb3-0602-4f74-f83f-10dedb6592e0"
      },
      "source": [
        "print('ridge_model MSE: {}'.format(mean_squared_error(eval_y, ridge_model_preds)))"
      ],
      "execution_count": 34,
      "outputs": [
        {
          "output_type": "stream",
          "text": [
            "ridge_model MSE: 16.02982265685497\n"
          ],
          "name": "stdout"
        }
      ]
    },
    {
      "cell_type": "code",
      "metadata": {
        "id": "M0s5ARrRSwwq",
        "colab_type": "code",
        "colab": {
          "base_uri": "https://localhost:8080/",
          "height": 34
        },
        "outputId": "7f2985cc-6cdb-48e7-a7da-d31c186c84f8"
      },
      "source": [
        "print(len(ridge_model[-1].coef_))"
      ],
      "execution_count": 35,
      "outputs": [
        {
          "output_type": "stream",
          "text": [
            "1001\n"
          ],
          "name": "stdout"
        }
      ]
    },
    {
      "cell_type": "code",
      "metadata": {
        "id": "aFcXy0a0SzUV",
        "colab_type": "code",
        "colab": {
          "base_uri": "https://localhost:8080/",
          "height": 136
        },
        "outputId": "b0de51fe-9d71-432c-8f51-00135305a15b"
      },
      "source": [
        "print(ridge_model[-1].coef_[:35])"
      ],
      "execution_count": 36,
      "outputs": [
        {
          "output_type": "stream",
          "text": [
            "[  0.         -39.79803902  -7.77413135   6.07694837   3.10326786\n",
            " -18.17945028  -9.45440071  -7.4037462  -16.97192766  -9.10799691\n",
            "   6.96959155  -1.55574911   4.49242992   0.31127893   5.27565009\n",
            "  -4.07568831  -0.95958324   2.38995687  -6.1583696   -2.05510604\n",
            "   2.3741985   -1.30281151  -1.7837005   -4.53024264  -8.30749466\n",
            "  -3.42801698   0.65288784  -2.74767783   5.47711767   4.68241474\n",
            "  -2.1214614   -0.47331885   0.43221968  -0.28909998   4.64549348]\n"
          ],
          "name": "stdout"
        }
      ]
    },
    {
      "cell_type": "markdown",
      "metadata": {
        "id": "qhRbNfLhS9TO",
        "colab_type": "text"
      },
      "source": [
        "You can see from the preceding output that the coefficient values no longer have large magnitudes. A lot of the coefficients have a magnitude that is less than 10, with none we can see exceeding 100. This goes to show that the model is no longer overfitting.\n",
        "\n",
        "This exercise taught you how to fix overfitting by using RidgeRegression to train a new model."
      ]
    }
  ]
}