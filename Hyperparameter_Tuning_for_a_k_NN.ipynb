{
  "nbformat": 4,
  "nbformat_minor": 0,
  "metadata": {
    "colab": {
      "name": "Hyperparameter Tuning for a k-NN",
      "provenance": [],
      "authorship_tag": "ABX9TyMwmZgABgp+TGQtypAQV+Ml"
    },
    "kernelspec": {
      "name": "python3",
      "display_name": "Python 3"
    }
  },
  "cells": [
    {
      "cell_type": "code",
      "metadata": {
        "id": "WqfwngLYFxf0",
        "colab_type": "code",
        "colab": {}
      },
      "source": [
        "import pandas as pd"
      ],
      "execution_count": 0,
      "outputs": []
    },
    {
      "cell_type": "code",
      "metadata": {
        "id": "2d0ktY-5GXGn",
        "colab_type": "code",
        "colab": {}
      },
      "source": [
        "dataset = pd.read_csv('https://raw.githubusercontent.com/PacktWorkshops/The-Data-Science-Workshop/master/Chapter08/Dataset/Breast-cancer-wisconsin.data')"
      ],
      "execution_count": 0,
      "outputs": []
    },
    {
      "cell_type": "code",
      "metadata": {
        "id": "akV_eZnhG3U3",
        "colab_type": "code",
        "colab": {
          "base_uri": "https://localhost:8080/",
          "height": 255
        },
        "outputId": "c6060f6c-c085-4d2b-8bab-e9877a746d61"
      },
      "source": [
        "dataset.head"
      ],
      "execution_count": 36,
      "outputs": [
        {
          "output_type": "execute_result",
          "data": {
            "text/plain": [
              "<bound method NDFrame.head of      1000025  5   1  1.1  1.2  2 1.3   3  1.4  1.5  2.1\n",
              "0    1002945  5   4    4    5  7  10   3    2    1    2\n",
              "1    1015425  3   1    1    1  2   2   3    1    1    2\n",
              "2    1016277  6   8    8    1  3   4   3    7    1    2\n",
              "3    1017023  4   1    1    3  2   1   3    1    1    2\n",
              "4    1017122  8  10   10    8  7  10   9    7    1    4\n",
              "..       ... ..  ..  ...  ... ..  ..  ..  ...  ...  ...\n",
              "693   776715  3   1    1    1  3   2   1    1    1    2\n",
              "694   841769  2   1    1    1  2   1   1    1    1    2\n",
              "695   888820  5  10   10    3  7   3   8   10    2    4\n",
              "696   897471  4   8    6    4  3   4  10    6    1    4\n",
              "697   897471  4   8    8    5  4   5  10    4    1    4\n",
              "\n",
              "[698 rows x 11 columns]>"
            ]
          },
          "metadata": {
            "tags": []
          },
          "execution_count": 36
        }
      ]
    },
    {
      "cell_type": "code",
      "metadata": {
        "id": "qD11vmNSG8HC",
        "colab_type": "code",
        "colab": {}
      },
      "source": [
        "from sklearn import neighbors, datasets, model_selection"
      ],
      "execution_count": 0,
      "outputs": []
    },
    {
      "cell_type": "code",
      "metadata": {
        "id": "VvXeB69aHFUN",
        "colab_type": "code",
        "colab": {}
      },
      "source": [
        "# dataset\n",
        "cancer = datasets.load_breast_cancer()"
      ],
      "execution_count": 0,
      "outputs": []
    },
    {
      "cell_type": "code",
      "metadata": {
        "id": "MxhEqsF_Hj0m",
        "colab_type": "code",
        "colab": {}
      },
      "source": [
        "y = cancer.target"
      ],
      "execution_count": 0,
      "outputs": []
    },
    {
      "cell_type": "code",
      "metadata": {
        "id": "749pR7UAHmNY",
        "colab_type": "code",
        "colab": {}
      },
      "source": [
        "X = cancer.data"
      ],
      "execution_count": 0,
      "outputs": []
    },
    {
      "cell_type": "code",
      "metadata": {
        "id": "pTZoj-kzHqZZ",
        "colab_type": "code",
        "colab": {}
      },
      "source": [
        "# no arguments specified\n",
        "knn = neighbors.KNeighborsClassifier()"
      ],
      "execution_count": 0,
      "outputs": []
    },
    {
      "cell_type": "code",
      "metadata": {
        "id": "HPc2bBv2HtAy",
        "colab_type": "code",
        "colab": {}
      },
      "source": [
        "# 10 folds, scored on precision\n",
        "cv = model_selection.cross_val_score(knn, X, y, cv=10, scoring='precision')"
      ],
      "execution_count": 0,
      "outputs": []
    },
    {
      "cell_type": "code",
      "metadata": {
        "id": "GYiuGEegHxO7",
        "colab_type": "code",
        "colab": {
          "base_uri": "https://localhost:8080/",
          "height": 51
        },
        "outputId": "ce44ede4-13a6-497b-ddaf-5c2d2f56a408"
      },
      "source": [
        "# precision scores\n",
        "print(cv)"
      ],
      "execution_count": 43,
      "outputs": [
        {
          "output_type": "stream",
          "text": [
            "[0.91666667 0.85       0.91666667 0.94736842 0.94594595 0.94444444\n",
            " 0.97222222 0.92105263 0.96969697 0.97142857]\n"
          ],
          "name": "stdout"
        }
      ]
    },
    {
      "cell_type": "code",
      "metadata": {
        "id": "5bwNd3_QHzuO",
        "colab_type": "code",
        "colab": {
          "base_uri": "https://localhost:8080/",
          "height": 34
        },
        "outputId": "e437cedd-7e34-4060-f3dc-2c00da0b04e7"
      },
      "source": [
        "# average over all folds\n",
        "print(round(cv.mean(), 2))"
      ],
      "execution_count": 44,
      "outputs": [
        {
          "output_type": "stream",
          "text": [
            "0.94\n"
          ],
          "name": "stdout"
        }
      ]
    },
    {
      "cell_type": "code",
      "metadata": {
        "id": "kGd5y04wH277",
        "colab_type": "code",
        "colab": {
          "base_uri": "https://localhost:8080/",
          "height": 34
        },
        "outputId": "55ce63ff-b9d3-457d-eca8-5b9d44ef1780"
      },
      "source": [
        "# k = 15\n",
        "knn = neighbors.KNeighborsClassifier(n_neighbors=15)\n",
        "\n",
        "cv = model_selection.cross_val_score(knn, X, y, cv=10, scoring='precision')\n",
        "\n",
        "print(round(cv.mean(), 2))"
      ],
      "execution_count": 45,
      "outputs": [
        {
          "output_type": "stream",
          "text": [
            "0.93\n"
          ],
          "name": "stdout"
        }
      ]
    },
    {
      "cell_type": "code",
      "metadata": {
        "id": "_DqUindHH6tE",
        "colab_type": "code",
        "colab": {
          "base_uri": "https://localhost:8080/",
          "height": 68
        },
        "outputId": "be518b1e-e88f-44d6-e6e7-d718d71092b6"
      },
      "source": [
        "def evaluate_knn(k):\n",
        "  knn = neighbors.KNeighborsClassifier(n_neighbors=k)\n",
        "  cv = model_selection.cross_val_score(knn, X, y, cv=10, scoring='precision')\n",
        "  print(round(cv.mean(), 2))\n",
        "evaluate_knn(k=7)\n",
        "evaluate_knn(k=3)\n",
        "evaluate_knn(k=1)"
      ],
      "execution_count": 46,
      "outputs": [
        {
          "output_type": "stream",
          "text": [
            "0.93\n",
            "0.93\n",
            "0.92\n"
          ],
          "name": "stdout"
        }
      ]
    },
    {
      "cell_type": "code",
      "metadata": {
        "id": "u-c-VzFrIBBJ",
        "colab_type": "code",
        "colab": {
          "base_uri": "https://localhost:8080/",
          "height": 34
        },
        "outputId": "4993f4a8-656d-4a45-d036-29640a757245"
      },
      "source": [
        "# k =5, weights evaluated using distance\n",
        "knn = neighbors.KNeighborsClassifier(n_neighbors=5, weights='distance')\n",
        "\n",
        "cv = model_selection.cross_val_score(knn, X, y, cv=10, scoring='precision')\n",
        "print(round(cv.mean(), 2))"
      ],
      "execution_count": 47,
      "outputs": [
        {
          "output_type": "stream",
          "text": [
            "0.93\n"
          ],
          "name": "stdout"
        }
      ]
    },
    {
      "cell_type": "markdown",
      "metadata": {
        "id": "e_uV63fTJGm0",
        "colab_type": "text"
      },
      "source": [
        "We therefore conclude that the default hyperparameterization is the optimal one in this case."
      ]
    },
    {
      "cell_type": "code",
      "metadata": {
        "id": "_2jm59dGLlTj",
        "colab_type": "code",
        "colab": {}
      },
      "source": [
        "# hyperparameter grid\n",
        "grid = {\n",
        "    'k': [1, 3, 5, 7]\n",
        "}"
      ],
      "execution_count": 0,
      "outputs": []
    },
    {
      "cell_type": "markdown",
      "metadata": {
        "id": "yc2j3U1dLzaY",
        "colab_type": "text"
      },
      "source": [
        "n the code snippet, we have used a dictionary {} and set the k values in a Python dictionary.\n",
        "\n",
        "In the next part of the code snippet, to conduct the search, we iterate through the grid, fitting a model for each value of k, each time evaluating the model through 10-fold cross-validation.\n",
        "\n",
        "At the end of each iteration, we extract, format, and report back the mean precision score after cross-validation via the print method:"
      ]
    },
    {
      "cell_type": "code",
      "metadata": {
        "id": "zZkvn3a5LsmC",
        "colab_type": "code",
        "colab": {
          "base_uri": "https://localhost:8080/",
          "height": 85
        },
        "outputId": "10c19cfd-fc88-42f9-c44e-3c92084bff71"
      },
      "source": [
        "# for every value of k in the grid\n",
        "for k in grid['k']:\n",
        "\n",
        "    # initialize the knn estimator\n",
        "    knn = neighbors.KNeighborsClassifier(n_neighbors=k)\n",
        "\t\n",
        "    # conduct a 10-fold cross-validation\n",
        "    cv = model_selection.cross_val_score(knn, X, y, cv=10, scoring='precision')\n",
        "\n",
        "    # calculate the average precision value over all folds\n",
        "    cv_mean = round(cv.mean(), 3)\n",
        "\n",
        "    # report the result\n",
        "    print('With k = {}, mean precision = {}'.format(k, cv_mean))"
      ],
      "execution_count": 49,
      "outputs": [
        {
          "output_type": "stream",
          "text": [
            "With k = 1, mean precision = 0.919\n",
            "With k = 3, mean precision = 0.928\n",
            "With k = 5, mean precision = 0.936\n",
            "With k = 7, mean precision = 0.931\n"
          ],
          "name": "stdout"
        }
      ]
    },
    {
      "cell_type": "markdown",
      "metadata": {
        "id": "ssoocyEKMEm-",
        "colab_type": "text"
      },
      "source": [
        "We can see from the output that k = 5 is the best hyperparameterization found, with a mean precision score of roughly 94%. Increasing k to 7 didn't significantly improve performance. It is important to note that the only parameter we are changing here is k and that each time the k-NN estimator is initialized, it is done with the remaining hyperparameters set to their default values."
      ]
    },
    {
      "cell_type": "markdown",
      "metadata": {
        "id": "7xWnI-U4MPRz",
        "colab_type": "text"
      },
      "source": [
        "To make this point clear, we can run the same loop, this time just printing the hyperparameterization that will be tried:"
      ]
    },
    {
      "cell_type": "code",
      "metadata": {
        "id": "9ziBMzYTMQVH",
        "colab_type": "code",
        "colab": {
          "base_uri": "https://localhost:8080/",
          "height": 85
        },
        "outputId": "274dcdc4-d761-452b-aca1-bb06dd14d310"
      },
      "source": [
        "# for every value of k in the grid\n",
        "for k in grid['k']:\n",
        "\n",
        "    # initialize the knn estimator\n",
        "    knn = neighbors.KNeighborsClassifier(n_neighbors=k)\n",
        "\n",
        "    # print the hyperparameterization\n",
        "    print(knn.get_params())"
      ],
      "execution_count": 50,
      "outputs": [
        {
          "output_type": "stream",
          "text": [
            "{'algorithm': 'auto', 'leaf_size': 30, 'metric': 'minkowski', 'metric_params': None, 'n_jobs': None, 'n_neighbors': 1, 'p': 2, 'weights': 'uniform'}\n",
            "{'algorithm': 'auto', 'leaf_size': 30, 'metric': 'minkowski', 'metric_params': None, 'n_jobs': None, 'n_neighbors': 3, 'p': 2, 'weights': 'uniform'}\n",
            "{'algorithm': 'auto', 'leaf_size': 30, 'metric': 'minkowski', 'metric_params': None, 'n_jobs': None, 'n_neighbors': 5, 'p': 2, 'weights': 'uniform'}\n",
            "{'algorithm': 'auto', 'leaf_size': 30, 'metric': 'minkowski', 'metric_params': None, 'n_jobs': None, 'n_neighbors': 7, 'p': 2, 'weights': 'uniform'}\n"
          ],
          "name": "stdout"
        }
      ]
    },
    {
      "cell_type": "markdown",
      "metadata": {
        "id": "GhYSdMJhMczH",
        "colab_type": "text"
      },
      "source": [
        "You can see from the output that the only parameter we are changing is k; everything else remains the same in each iteration."
      ]
    },
    {
      "cell_type": "code",
      "metadata": {
        "id": "M-7rTff6NS8v",
        "colab_type": "code",
        "colab": {
          "base_uri": "https://localhost:8080/",
          "height": 153
        },
        "outputId": "2769bf1f-a94e-4642-a1aa-b7b5cd1faaa6"
      },
      "source": [
        "# hyperparameter grid\n",
        "grid = {\n",
        "    'k': [1, 3, 5, 7],\n",
        "    'weight_function': ['uniform', 'distance']\n",
        "}\n",
        "\n",
        "# for every value of k in the grid\n",
        "for k in grid['k']:\n",
        "\n",
        "    # and every possible weight_function in the grid\n",
        "    for weight_function in grid['weight_function']:\n",
        "\n",
        "      # initialize the knn estimator\n",
        "      knn = neighbors.KNeighborsClassifier(n_neighbors=k, weights=weight_function)\n",
        "\n",
        "      # conduct a 10-fold cross-validation\n",
        "      cv = model_selection.cross_val_score(knn, X, y, cv=10, scoring='precision')\n",
        "\n",
        "      # calculate the average precision value over all folds\n",
        "      cv_mean = round(cv.mean(), 3)\n",
        "\n",
        "      # report the result\n",
        "      print('With k = {} and weight function = {}, mean precision = {}'.format(k, weight_function, cv_mean))"
      ],
      "execution_count": 53,
      "outputs": [
        {
          "output_type": "stream",
          "text": [
            "With k = 1 and weight function = uniform, mean precision = 0.919\n",
            "With k = 1 and weight function = distance, mean precision = 0.919\n",
            "With k = 3 and weight function = uniform, mean precision = 0.928\n",
            "With k = 3 and weight function = distance, mean precision = 0.929\n",
            "With k = 5 and weight function = uniform, mean precision = 0.936\n",
            "With k = 5 and weight function = distance, mean precision = 0.93\n",
            "With k = 7 and weight function = uniform, mean precision = 0.931\n",
            "With k = 7 and weight function = distance, mean precision = 0.926\n"
          ],
          "name": "stdout"
        }
      ]
    },
    {
      "cell_type": "code",
      "metadata": {
        "id": "DdtUg2aANXKS",
        "colab_type": "code",
        "colab": {
          "base_uri": "https://localhost:8080/",
          "height": 153
        },
        "outputId": "1d655ed2-d38d-4fe7-c615-10d755e758b3"
      },
      "source": [
        "# for every value of k in the grid\n",
        "for k in grid['k']:\n",
        "\n",
        "    # and every possible weight_function in the grid\n",
        "    for weight_function in grid['weight_function']:\n",
        "  \t\n",
        "      # initialize the knn estimator\n",
        "      knn = neighbors.KNeighborsClassifier(n_neighbors=k, weights=weight_function)\n",
        "      \n",
        "      # print the hyperparameterizations\n",
        "      print(knn.get_params())"
      ],
      "execution_count": 54,
      "outputs": [
        {
          "output_type": "stream",
          "text": [
            "{'algorithm': 'auto', 'leaf_size': 30, 'metric': 'minkowski', 'metric_params': None, 'n_jobs': None, 'n_neighbors': 1, 'p': 2, 'weights': 'uniform'}\n",
            "{'algorithm': 'auto', 'leaf_size': 30, 'metric': 'minkowski', 'metric_params': None, 'n_jobs': None, 'n_neighbors': 1, 'p': 2, 'weights': 'distance'}\n",
            "{'algorithm': 'auto', 'leaf_size': 30, 'metric': 'minkowski', 'metric_params': None, 'n_jobs': None, 'n_neighbors': 3, 'p': 2, 'weights': 'uniform'}\n",
            "{'algorithm': 'auto', 'leaf_size': 30, 'metric': 'minkowski', 'metric_params': None, 'n_jobs': None, 'n_neighbors': 3, 'p': 2, 'weights': 'distance'}\n",
            "{'algorithm': 'auto', 'leaf_size': 30, 'metric': 'minkowski', 'metric_params': None, 'n_jobs': None, 'n_neighbors': 5, 'p': 2, 'weights': 'uniform'}\n",
            "{'algorithm': 'auto', 'leaf_size': 30, 'metric': 'minkowski', 'metric_params': None, 'n_jobs': None, 'n_neighbors': 5, 'p': 2, 'weights': 'distance'}\n",
            "{'algorithm': 'auto', 'leaf_size': 30, 'metric': 'minkowski', 'metric_params': None, 'n_jobs': None, 'n_neighbors': 7, 'p': 2, 'weights': 'uniform'}\n",
            "{'algorithm': 'auto', 'leaf_size': 30, 'metric': 'minkowski', 'metric_params': None, 'n_jobs': None, 'n_neighbors': 7, 'p': 2, 'weights': 'distance'}\n"
          ],
          "name": "stdout"
        }
      ]
    },
    {
      "cell_type": "markdown",
      "metadata": {
        "id": "uVtLpWDONoRd",
        "colab_type": "text"
      },
      "source": [
        "This implementation, while great for demonstrating how the grid search process works, may not practical when trying to evaluate estimators that have 3, 4, or even 10 different types of hyperparameters, each with a multitude of possible settings."
      ]
    },
    {
      "cell_type": "code",
      "metadata": {
        "id": "WQZ-QADUNi77",
        "colab_type": "code",
        "colab": {}
      },
      "source": [
        ""
      ],
      "execution_count": 0,
      "outputs": []
    }
  ]
}